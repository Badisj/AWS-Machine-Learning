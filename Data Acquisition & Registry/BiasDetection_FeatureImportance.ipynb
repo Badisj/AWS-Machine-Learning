{
 "cells": [
  {
   "cell_type": "markdown",
   "id": "3ee91460-17d1-4b67-9af2-06f3f326a2c4",
   "metadata": {
    "tags": []
   },
   "source": [
    "# Bias Detection & Data Explainability with Amazon SageMaker Clarify\n",
    "\n",
    "## Introduction\n",
    "Bias can be present in a large number of datasets and needs to subject to inspection prior to model training. As an example, insights on biased data may lead to data balancing to avoid having biased models.\n",
    "\n",
    "Note that bias detection can be run at pre-training or at post-training stage. The latter needs a model configuration, in order to detect bias in the model's predictions. Data Explainability \n",
    "\n",
    "In addition to bias detection, data may contain uninformative features, which will definitely be useless when fed to a model. The objective being to clean the data for Machine Learning, it is critical to detect unnecessary features. **Data Explainability** can be run prior to training in order to detect such features. It involves techniques like *Partial Dependence* and *SHAP*, which also need a model configuration, as they are computed on top of predictions."
   ]
  },
  {
   "cell_type": "markdown",
   "id": "143f749a-59c5-4358-8cd5-c202ef3390ce",
   "metadata": {
    "tags": []
   },
   "source": [
    "### Table of Contents\n",
    "\n",
    "- [1. Analyze the dataset](#c1w2-1.)\n",
    "  - [1.1. Create a pandas data frame from the CSV file](#c1w2-1.1.)\n",
    "  - [1.2. Upload the dataset to S3 bucket](#c1w2-1.2.)\n",
    "- [2. Analyze class imbalance on the dataset with Amazon SageMaker Clarify](#c1w2-2.)\n",
    "  - [2.1. Configure a `DataConfig`](#c1w2-2.1.)\n",
    "    - [Exercise 1](#c1w2-ex-1)\n",
    "  - [2.2. Configure `BiasConfig`](#c1w2-2.2.)\n",
    "  - [2.3. Configure Amazon SageMaker Clarify as a processing job](#c1w2-2.3.)\n",
    "  - [2.4. Run the Amazon SageMaker Clarify processing job](#c1w2-2.4.)\n",
    "    - [Exercise 2](#c1w2-ex-2)\n",
    "  - [2.5. Run and review the Amazon SageMaker Clarify processing job on the unbalanced dataset](#c1w2-2.5.)\n",
    "  - [2.6. Analyze unbalanced bias report](#c1w2-2.6.)\n",
    "- [3. Balance the dataset by `product_category` and `sentiment`](#c1w2-3.)\n",
    "- [4. Analyze bias on balanced dataset with Amazon SageMaker Clarify](#c1w2-4.)\n",
    "  - [4.1. Configure a `DataConfig`](#c1w2-4.1.)\n",
    "    - [Exercise 3](#c1w2-ex-3)\n",
    "  - [4.2. Configure `BiasConfig`](#c1w2-4.2.)\n",
    "  - [4.3. Configure SageMaker Clarify as a processing job](#c1w2-4.3.)\n",
    "  - [4.4. Run the Amazon SageMaker Clarify processing job](#c1w2-4.4.)\n",
    "    - [Exercise 4](#c1w2-ex-4)\n",
    "  - [4.5. Run and review the Clarify processing job on the balanced dataset](#c1w2-4.5.)\n",
    "  - [4.6. Analyze balanced bias report](#c1w2-4.6.)"
   ]
  },
  {
   "cell_type": "code",
   "execution_count": null,
   "id": "f932aac8-9326-4e04-9678-d7a48dedc28f",
   "metadata": {},
   "outputs": [],
   "source": [
    "import os\n",
    "import sagemaker\n",
    "import logging\n",
    "import boto3\n",
    "import time\n",
    "import pandas as pd\n",
    "import json\n",
    "import botocore\n",
    "from botocore.exceptions import ClientError\n",
    "\n",
    "\n",
    "# ========================== low-level service client of the boto3 session ==========================\n",
    "config = botocore.config.Config(user_agent_extra='bedissj-1699438736259')\n",
    "\n",
    "\n",
    "sm = boto3.client(service_name='sagemaker', \n",
    "                  config=config)\n",
    "\n",
    "sm_runtime = boto3.client('sagemaker-runtime',\n",
    "                          config=config)\n",
    "\n",
    "sess = sagemaker.Session(sagemaker_client=sm,\n",
    "                         sagemaker_runtime_client=sm_runtime)\n",
    "\n",
    "bucket = sess.default_bucket()\n",
    "role = sagemaker.get_execution_role()\n",
    "region = sess.boto_region_name\n"
   ]
  },
  {
   "cell_type": "markdown",
   "id": "73aa317b-717f-4b45-902e-2132cab230fd",
   "metadata": {},
   "source": [
    "# 1. Import & Analyze the dataset\n",
    "The problem to solve is about detecting bank customers who are more likely to churn, over two months. \n",
    "\n",
    "## 1.1 Import & reshape data\n",
    "First import the dataset and perform data visualization to identify potential bias in the data. \n",
    "\n"
   ]
  },
  {
   "cell_type": "code",
   "execution_count": null,
   "id": "8c745f40-3c70-4633-b698-1c97a610d5d5",
   "metadata": {},
   "outputs": [],
   "source": [
    "!aws s3 cp s3://$bucket/data/raw/BankChurners.csv ./Data Acquisition & Registry/data/BankChurners.csv\n"
   ]
  },
  {
   "cell_type": "code",
   "execution_count": null,
   "id": "7f4d6742-5cc7-4c6c-9a24-73f311bbd435",
   "metadata": {},
   "outputs": [],
   "source": [
    "local_data_path = './Data Acquisition & Registry/data/BankChurners.csv'\n",
    "\n",
    "# Import data\n",
    "data = pd.read_csv(local_data_path)\n",
    "cols = list(data.columns)\n",
    "data.rename(\n",
    "    columns ={'Naive_Bayes_Classifier_Attrition_Flag_Card_Category_Contacts_Count_12_mon_Dependent_count_Education_Level_Months_Inactive_12_mon_1':'churn_mon1',\n",
    "              'Naive_Bayes_Classifier_Attrition_Flag_Card_Category_Contacts_Count_12_mon_Dependent_count_Education_Level_Months_Inactive_12_mon_2':'churn_mon2'},\n",
    "    inplace = True\n",
    ")\n",
    "\n",
    "data = pd.concat((data['churn_mon1'], data.drop(columns = ['churn_mon2'])), axis=1)\n",
    "display(data.info())\n",
    "\n",
    "# Target & values\n",
    "target = list(data.columns)[:1]\n"
   ]
  },
  {
   "cell_type": "markdown",
   "id": "0cf2c71c-e9d8-4ba8-a912-eb91ba57809c",
   "metadata": {},
   "source": [
    "## 1.2 Investigate bias with data visualiztion\n",
    "\n",
    "This section is about investigating two main imbalances in the dataset, through the following metrics\n",
    "1. **Class Imbalance (CI):** to measure the imbalance in the number of reviews between different facet values.\n",
    "2. **Difference in Proportion of Labels (DPL):** to measure the imbalance of positive/negative labels between different facet values."
   ]
  },
  {
   "cell_type": "code",
   "execution_count": null,
   "id": "6a17cad9-ceb0-4ae6-82e1-0c8f9f596df1",
   "metadata": {},
   "outputs": [],
   "source": [
    "import seaborn as sns\n",
    "import matplotlib.pyplot as plt\n",
    "%matplotlib inline\n",
    "%config InlineBackend.figure_format='retina'\n",
    "\n",
    "\n",
    "# Investigate Class Imbalance\n",
    "for cat in data.drop(columns = ['churn_mon1']).select_dtypes(['string', 'object']).columns.to_list():\n",
    "    plt.figure(figsize = (12,5))\n",
    "    data.plot.bar(x = cat, title='CI - Feature: {}'.format(cat))\n",
    "\n",
    "    \n",
    "# Investigate Difference in Proportion of Labels\n",
    "for cat in data.drop(columns = ['churn_mon1']).select_dtypes(['string', 'object']).columns.to_list():\n",
    "    plt.figure(figsize = (12,5))\n",
    "    sns.countplot(data= data, x='churn_mon1', hue=cat)\n",
    "    "
   ]
  },
  {
   "cell_type": "markdown",
   "id": "4fde2b69-42d8-4fda-98d4-439050a0e9ee",
   "metadata": {},
   "source": [
    "# 2. Analyze data bias & explainability with Amazon Sagemaker Clarify\n",
    "In this section, we analyze bias in `churn_mon1` with respect to the categorical variables, that we take as facets on the dataset.\n",
    "\n",
    "## 2.1 Configure a `DataConfig`\n",
    "To run Sagemaker Clarify processing job, we need to have a `DataConfig` that basically tells where to find the raw data, and where to upload the generated report. The label needs to be specified as well. In this notebook we are interested in customers churn, given by `churn_mon1` feature."
   ]
  },
  {
   "cell_type": "code",
   "execution_count": null,
   "id": "e3804f7a-6ba6-45ba-93bd-85eece900d44",
   "metadata": {},
   "outputs": [],
   "source": [
    "from sagemaker.clarify import DataConfig\n",
    "\n",
    "\n",
    "# Configure data for pre-training bias detection & explainability\n",
    "raw_data_s3_uri = 's3://{}/data/raw/BankChurners.csv'.format(bucket)\n",
    "clarify_report_s3_uri = 's3://{}/data/sagemaker-clarify-report'.format(bucket)\n",
    "churn_mon1 = target\n",
    "\n",
    "\n",
    "data_config = DataConfig(\n",
    "        s3_data_input_path=raw_data_s3_uri,\n",
    "        s3_output_path=clarify_report_s3_uri,\n",
    "        label=churn_mon1,\n",
    "        headers=data.columns.to_list(),\n",
    "        dataset_type='text/csv', \n",
    ")\n"
   ]
  },
  {
   "cell_type": "markdown",
   "id": "5c2f8e6d-a927-425d-a3cf-638ce8786d39",
   "metadata": {},
   "source": [
    "## 2.2 Configure the BiasConfig\n",
    "Bias is measured across the categories of interest. These categoies are configured as `facets`.  \n",
    "\n",
    "To run bias detection, on ore more facets can be included in the analysis along with the positive outcome for the target variable,or a threshold for positive outcome in regression problems. This is configured as `label_values_or_threshold`.\n",
    "\n",
    "As an additional input, it is possible to limit the bias metrics to one facet value (or to a subset). This approach is not considered in this notebook.  "
   ]
  },
  {
   "cell_type": "code",
   "execution_count": null,
   "id": "97ab686a-b43a-4757-9e87-1b75963d1a99",
   "metadata": {},
   "outputs": [],
   "source": [
    "from sagemaker.clarify import BiasConfig\n",
    "\n",
    "\n",
    "# Configure pre-training bias detection\n",
    "label_values = [1]\n",
    "facets = data.drop(columns=target).select_dtypes('object').columns.to_list()\n",
    "\n",
    "\n",
    "bias_config = BiasConfig(\n",
    "        label_values_or_threshold=label_values, \n",
    "        facet_name=facets, \n",
    "        facet_values_or_threshold=None, \n",
    "        group_name=None\n",
    ")\n"
   ]
  },
  {
   "cell_type": "markdown",
   "id": "18495f23-049d-4e88-920c-b3e0d21c1bad",
   "metadata": {},
   "source": [
    "## 2.3 Configure Data Explainability\n",
    "In addition to bias detection, computing feature importance is equally important. It is a key step for data preparation as it reveals the most useful and -on the contrary- uninformative features. \n",
    "\n",
    "Explainability with **Amazon Sagemaker Clarify** involves two main techniques that require a model training: `Partial Dependence` and `SHAP`.\n",
    "\n",
    "In this section, we perform the following steps: \n",
    "- Train and deploy a Model to a Sagemaker Endpoint, then use it to configure a `ModelConfig`\n",
    "- Configure explainability through `Partial Dependence` and `SHAP`\n",
    "\n",
    "### 2.3.1 Configure the `ModelConfig`\n",
    "As a first step, we instanciate an `Xgboost` classifier with fixed set of hyperparameters, and then deploy it to a Sagemaker Endpoint. We use the built-in algorithm to keep things simple."
   ]
  },
  {
   "cell_type": "code",
   "execution_count": null,
   "id": "d57c52e7-34a3-4a5d-aed0-1b57256b7cae",
   "metadata": {},
   "outputs": [],
   "source": [
    "from sagemaker.inputs import TrainingInput\n",
    "from sagemaker.estimator import Estimator\n",
    "\n",
    "\n",
    "# Configure instance type and distributed processing \n",
    "instance_count = 1\n",
    "instance_type = 'ml.t3.medium'\n",
    "\n",
    "\n",
    "# Configure model training for data explainability\n",
    "xgboost_image_uri = sagemaker.image_uris.retrieve(\"xgboost\", region, \"1.7-1\")\n",
    "xgboost_output_path = 's3://{}/model/estimator-training-job'.format(bucket)\n",
    "\n",
    "\n",
    "# Configure hyperparameters\n",
    "xgboost_hyperparameters = {\n",
    "        'max_depth': 7,\n",
    "        'num_round': 300,\n",
    "        'alpha': 0,\n",
    "        'gamma': 0,\n",
    "        'num_class': 2,\n",
    "        'booster': 'gbtree',\n",
    "        'early_stopping_rounds': 20,\n",
    "        'seed': 2023,\n",
    "        'verbosity': 1\n",
    "}\n",
    "\n",
    "\n",
    "# Instanciate Xgboost estimator\n",
    "xgboost_estimator = Estimator(\n",
    "        image_uri=xgboost_image_uri,\n",
    "        role=role,\n",
    "        instance_count=instance_count,\n",
    "        instance_type=instance_type,\n",
    "        output_path=xgboost_output_path,\n",
    "        sagemaker_session=sess,\n",
    "        hyperparameters=xgboost_hyperparameters\n",
    ")\n",
    "\n",
    "\n",
    "# Configure data channels & train model\n",
    "data_channels = {\n",
    "        'train': TrainingInput(s3_data=raw_data_s3_uri, content_type='text/csv')\n",
    "}\n",
    "xgboost_estimator.fit(inputs=data_channels, wait=False)\n",
    "\n",
    "\n",
    "# Deploy model to sagemaker endpoint\n",
    "model_name = \"clarify-model-{}\".format(datetime.now().strftime(\"%d-%m-%Y-%H-%M-%S\"))\n",
    "model = xgboost_estimator.create_model(name=model_name)\n",
    "container_def = model.prepare_container_def()\n",
    "sagemaker_session.create_model(model_name, role, container_def)\n"
   ]
  },
  {
   "cell_type": "markdown",
   "id": "114b6e32-d9aa-4847-9734-7b3fc300f05f",
   "metadata": {},
   "source": [
    "Once the model is deployed, we setup a `ModelConfig`, that involves the deployed model, in addition to the compute resources.\n",
    "\n",
    "The model's input and output formats are given by `content_type`, and `accept_type`, respectively. "
   ]
  },
  {
   "cell_type": "code",
   "execution_count": null,
   "id": "515e4cee-dbcd-4ced-b5b6-6482441b75d8",
   "metadata": {},
   "outputs": [],
   "source": [
    "from sagemaker.clarify import ModelConfig\n",
    "\n",
    "\n",
    "# Configure model for data explainability\n",
    "model_config = ModelConfig(\n",
    "        model_name=model_name,\n",
    "        instance_count=instance_count,\n",
    "        instance_type=instance_type,\n",
    "        accept_type='text/csv',\n",
    "        content_type='text/csv'\n",
    ")\n"
   ]
  },
  {
   "cell_type": "markdown",
   "id": "2aae1ed4-d674-411f-8a1f-5d19ab0aa279",
   "metadata": {},
   "source": [
    "### 2.3.2 Configure the desired post-training analysis\n",
    "Data explainability is the second step. We are interested in `PartialDependence` and `SHAP` reports. Both rely on the model trained in the previous section, and  generate reports based on the model's predictions.\n",
    "\n",
    "We run a simple `SHAPConfig`, in addition to a `PDPConfig`, where we limit the number of desired fetures to `top_k_features=7`."
   ]
  },
  {
   "cell_type": "code",
   "execution_count": null,
   "id": "fd53364c-96f5-4d32-a03d-bd9b1442c522",
   "metadata": {},
   "outputs": [],
   "source": [
    "from sagemaker.clarify import PDPConfig, SHAPConfig\n",
    "\n",
    "\n",
    "# Configure partial dependence & SHAP analysis\n",
    "shap_config = SHAPConfig()\n",
    "\n",
    "partial_dependence_config = PDPConfig(\n",
    "        features=data.drop(columns = ['churn_mon1']).columns.to_list(),\n",
    "        top_k_features=7   \n",
    ")\n"
   ]
  },
  {
   "cell_type": "markdown",
   "id": "0790dbb4-7730-492f-81a4-a8adb98c5949",
   "metadata": {},
   "source": [
    "## 2.4 Configure Amazon SageMaker Clarify as a processing job"
   ]
  },
  {
   "cell_type": "code",
   "execution_count": null,
   "id": "26c0fa5b-f9f8-4585-847d-fb644f783abb",
   "metadata": {},
   "outputs": [],
   "source": [
    "from sagemaker import clarify\n",
    "\n",
    "\n",
    "# Configure Sagemaker Clarify Processor\n",
    "clarify_processor = clarify.SagemakerClarifyProcessor(\n",
    "        role=role,\n",
    "        instance_count=instance_count,\n",
    "        instance_type=instance_type,\n",
    "        sagemaker_session=sess\n",
    ")\n",
    "\n",
    "\n",
    "clarify_processor.run_bias_and_explainability(\n",
    "        data_config=data_config,\n",
    "        model_config=model_config,\n",
    "        bias_config=bias_config,\n",
    "        explainability_config=[shap_config, \n",
    "                               partial_dependence_config],\n",
    "        pre_training_methods='all',\n",
    "        post_training_methods='all',\n",
    "        wait=False,\n",
    "        logs=False\n",
    ")\n"
   ]
  },
  {
   "cell_type": "markdown",
   "id": "894c096f-33b4-4c47-9012-a57578eea06c",
   "metadata": {},
   "source": [
    "## 2.5 Run and review the Amazon SageMaker Clarify processing job on the dataset"
   ]
  },
  {
   "cell_type": "code",
   "execution_count": null,
   "id": "278b4076-bc6b-4598-aaa9-7ad7fabe6a87",
   "metadata": {},
   "outputs": [],
   "source": [
    "# Describe & access reports\n",
    "run_bias_and_explainability_job_name = clarify_processor.latest_job.job_name\n",
    "print(run_bias_and_explainability_job_name)\n"
   ]
  },
  {
   "cell_type": "code",
   "execution_count": null,
   "id": "e8f500db-adce-4973-bda4-bfec56031cfc",
   "metadata": {},
   "outputs": [],
   "source": [
    "# Retrieve running processor\n",
    "running_processor = sagemaker.processing.ProcessingJob.from_processing_name(\n",
    "                                        processing_job_name=run_bias_and_explainability_job_name,\n",
    "                                        sagemaker_session=sess)\n",
    "\n",
    "running_processor.wait(logs=False)\n"
   ]
  },
  {
   "cell_type": "markdown",
   "id": "60b111dd-94f7-44c0-87b0-90510a859b88",
   "metadata": {},
   "source": [
    "## 2.6 Analyze the bias report"
   ]
  },
  {
   "cell_type": "code",
   "execution_count": null,
   "id": "bd3eed70-8d67-4a5f-956d-90711334a819",
   "metadata": {},
   "outputs": [],
   "source": [
    "!aws s3 ls $clarify_report_s3_uri\n"
   ]
  }
 ],
 "metadata": {
  "availableInstances": [
   {
    "_defaultOrder": 0,
    "_isFastLaunch": true,
    "category": "General purpose",
    "gpuNum": 0,
    "hideHardwareSpecs": false,
    "memoryGiB": 4,
    "name": "ml.t3.medium",
    "vcpuNum": 2
   },
   {
    "_defaultOrder": 1,
    "_isFastLaunch": false,
    "category": "General purpose",
    "gpuNum": 0,
    "hideHardwareSpecs": false,
    "memoryGiB": 8,
    "name": "ml.t3.large",
    "vcpuNum": 2
   },
   {
    "_defaultOrder": 2,
    "_isFastLaunch": false,
    "category": "General purpose",
    "gpuNum": 0,
    "hideHardwareSpecs": false,
    "memoryGiB": 16,
    "name": "ml.t3.xlarge",
    "vcpuNum": 4
   },
   {
    "_defaultOrder": 3,
    "_isFastLaunch": false,
    "category": "General purpose",
    "gpuNum": 0,
    "hideHardwareSpecs": false,
    "memoryGiB": 32,
    "name": "ml.t3.2xlarge",
    "vcpuNum": 8
   },
   {
    "_defaultOrder": 4,
    "_isFastLaunch": true,
    "category": "General purpose",
    "gpuNum": 0,
    "hideHardwareSpecs": false,
    "memoryGiB": 8,
    "name": "ml.m5.large",
    "vcpuNum": 2
   },
   {
    "_defaultOrder": 5,
    "_isFastLaunch": false,
    "category": "General purpose",
    "gpuNum": 0,
    "hideHardwareSpecs": false,
    "memoryGiB": 16,
    "name": "ml.m5.xlarge",
    "vcpuNum": 4
   },
   {
    "_defaultOrder": 6,
    "_isFastLaunch": false,
    "category": "General purpose",
    "gpuNum": 0,
    "hideHardwareSpecs": false,
    "memoryGiB": 32,
    "name": "ml.m5.2xlarge",
    "vcpuNum": 8
   },
   {
    "_defaultOrder": 7,
    "_isFastLaunch": false,
    "category": "General purpose",
    "gpuNum": 0,
    "hideHardwareSpecs": false,
    "memoryGiB": 64,
    "name": "ml.m5.4xlarge",
    "vcpuNum": 16
   },
   {
    "_defaultOrder": 8,
    "_isFastLaunch": false,
    "category": "General purpose",
    "gpuNum": 0,
    "hideHardwareSpecs": false,
    "memoryGiB": 128,
    "name": "ml.m5.8xlarge",
    "vcpuNum": 32
   },
   {
    "_defaultOrder": 9,
    "_isFastLaunch": false,
    "category": "General purpose",
    "gpuNum": 0,
    "hideHardwareSpecs": false,
    "memoryGiB": 192,
    "name": "ml.m5.12xlarge",
    "vcpuNum": 48
   },
   {
    "_defaultOrder": 10,
    "_isFastLaunch": false,
    "category": "General purpose",
    "gpuNum": 0,
    "hideHardwareSpecs": false,
    "memoryGiB": 256,
    "name": "ml.m5.16xlarge",
    "vcpuNum": 64
   },
   {
    "_defaultOrder": 11,
    "_isFastLaunch": false,
    "category": "General purpose",
    "gpuNum": 0,
    "hideHardwareSpecs": false,
    "memoryGiB": 384,
    "name": "ml.m5.24xlarge",
    "vcpuNum": 96
   },
   {
    "_defaultOrder": 12,
    "_isFastLaunch": false,
    "category": "General purpose",
    "gpuNum": 0,
    "hideHardwareSpecs": false,
    "memoryGiB": 8,
    "name": "ml.m5d.large",
    "vcpuNum": 2
   },
   {
    "_defaultOrder": 13,
    "_isFastLaunch": false,
    "category": "General purpose",
    "gpuNum": 0,
    "hideHardwareSpecs": false,
    "memoryGiB": 16,
    "name": "ml.m5d.xlarge",
    "vcpuNum": 4
   },
   {
    "_defaultOrder": 14,
    "_isFastLaunch": false,
    "category": "General purpose",
    "gpuNum": 0,
    "hideHardwareSpecs": false,
    "memoryGiB": 32,
    "name": "ml.m5d.2xlarge",
    "vcpuNum": 8
   },
   {
    "_defaultOrder": 15,
    "_isFastLaunch": false,
    "category": "General purpose",
    "gpuNum": 0,
    "hideHardwareSpecs": false,
    "memoryGiB": 64,
    "name": "ml.m5d.4xlarge",
    "vcpuNum": 16
   },
   {
    "_defaultOrder": 16,
    "_isFastLaunch": false,
    "category": "General purpose",
    "gpuNum": 0,
    "hideHardwareSpecs": false,
    "memoryGiB": 128,
    "name": "ml.m5d.8xlarge",
    "vcpuNum": 32
   },
   {
    "_defaultOrder": 17,
    "_isFastLaunch": false,
    "category": "General purpose",
    "gpuNum": 0,
    "hideHardwareSpecs": false,
    "memoryGiB": 192,
    "name": "ml.m5d.12xlarge",
    "vcpuNum": 48
   },
   {
    "_defaultOrder": 18,
    "_isFastLaunch": false,
    "category": "General purpose",
    "gpuNum": 0,
    "hideHardwareSpecs": false,
    "memoryGiB": 256,
    "name": "ml.m5d.16xlarge",
    "vcpuNum": 64
   },
   {
    "_defaultOrder": 19,
    "_isFastLaunch": false,
    "category": "General purpose",
    "gpuNum": 0,
    "hideHardwareSpecs": false,
    "memoryGiB": 384,
    "name": "ml.m5d.24xlarge",
    "vcpuNum": 96
   },
   {
    "_defaultOrder": 20,
    "_isFastLaunch": false,
    "category": "General purpose",
    "gpuNum": 0,
    "hideHardwareSpecs": true,
    "memoryGiB": 0,
    "name": "ml.geospatial.interactive",
    "supportedImageNames": [
     "sagemaker-geospatial-v1-0"
    ],
    "vcpuNum": 0
   },
   {
    "_defaultOrder": 21,
    "_isFastLaunch": true,
    "category": "Compute optimized",
    "gpuNum": 0,
    "hideHardwareSpecs": false,
    "memoryGiB": 4,
    "name": "ml.c5.large",
    "vcpuNum": 2
   },
   {
    "_defaultOrder": 22,
    "_isFastLaunch": false,
    "category": "Compute optimized",
    "gpuNum": 0,
    "hideHardwareSpecs": false,
    "memoryGiB": 8,
    "name": "ml.c5.xlarge",
    "vcpuNum": 4
   },
   {
    "_defaultOrder": 23,
    "_isFastLaunch": false,
    "category": "Compute optimized",
    "gpuNum": 0,
    "hideHardwareSpecs": false,
    "memoryGiB": 16,
    "name": "ml.c5.2xlarge",
    "vcpuNum": 8
   },
   {
    "_defaultOrder": 24,
    "_isFastLaunch": false,
    "category": "Compute optimized",
    "gpuNum": 0,
    "hideHardwareSpecs": false,
    "memoryGiB": 32,
    "name": "ml.c5.4xlarge",
    "vcpuNum": 16
   },
   {
    "_defaultOrder": 25,
    "_isFastLaunch": false,
    "category": "Compute optimized",
    "gpuNum": 0,
    "hideHardwareSpecs": false,
    "memoryGiB": 72,
    "name": "ml.c5.9xlarge",
    "vcpuNum": 36
   },
   {
    "_defaultOrder": 26,
    "_isFastLaunch": false,
    "category": "Compute optimized",
    "gpuNum": 0,
    "hideHardwareSpecs": false,
    "memoryGiB": 96,
    "name": "ml.c5.12xlarge",
    "vcpuNum": 48
   },
   {
    "_defaultOrder": 27,
    "_isFastLaunch": false,
    "category": "Compute optimized",
    "gpuNum": 0,
    "hideHardwareSpecs": false,
    "memoryGiB": 144,
    "name": "ml.c5.18xlarge",
    "vcpuNum": 72
   },
   {
    "_defaultOrder": 28,
    "_isFastLaunch": false,
    "category": "Compute optimized",
    "gpuNum": 0,
    "hideHardwareSpecs": false,
    "memoryGiB": 192,
    "name": "ml.c5.24xlarge",
    "vcpuNum": 96
   },
   {
    "_defaultOrder": 29,
    "_isFastLaunch": true,
    "category": "Accelerated computing",
    "gpuNum": 1,
    "hideHardwareSpecs": false,
    "memoryGiB": 16,
    "name": "ml.g4dn.xlarge",
    "vcpuNum": 4
   },
   {
    "_defaultOrder": 30,
    "_isFastLaunch": false,
    "category": "Accelerated computing",
    "gpuNum": 1,
    "hideHardwareSpecs": false,
    "memoryGiB": 32,
    "name": "ml.g4dn.2xlarge",
    "vcpuNum": 8
   },
   {
    "_defaultOrder": 31,
    "_isFastLaunch": false,
    "category": "Accelerated computing",
    "gpuNum": 1,
    "hideHardwareSpecs": false,
    "memoryGiB": 64,
    "name": "ml.g4dn.4xlarge",
    "vcpuNum": 16
   },
   {
    "_defaultOrder": 32,
    "_isFastLaunch": false,
    "category": "Accelerated computing",
    "gpuNum": 1,
    "hideHardwareSpecs": false,
    "memoryGiB": 128,
    "name": "ml.g4dn.8xlarge",
    "vcpuNum": 32
   },
   {
    "_defaultOrder": 33,
    "_isFastLaunch": false,
    "category": "Accelerated computing",
    "gpuNum": 4,
    "hideHardwareSpecs": false,
    "memoryGiB": 192,
    "name": "ml.g4dn.12xlarge",
    "vcpuNum": 48
   },
   {
    "_defaultOrder": 34,
    "_isFastLaunch": false,
    "category": "Accelerated computing",
    "gpuNum": 1,
    "hideHardwareSpecs": false,
    "memoryGiB": 256,
    "name": "ml.g4dn.16xlarge",
    "vcpuNum": 64
   },
   {
    "_defaultOrder": 35,
    "_isFastLaunch": false,
    "category": "Accelerated computing",
    "gpuNum": 1,
    "hideHardwareSpecs": false,
    "memoryGiB": 61,
    "name": "ml.p3.2xlarge",
    "vcpuNum": 8
   },
   {
    "_defaultOrder": 36,
    "_isFastLaunch": false,
    "category": "Accelerated computing",
    "gpuNum": 4,
    "hideHardwareSpecs": false,
    "memoryGiB": 244,
    "name": "ml.p3.8xlarge",
    "vcpuNum": 32
   },
   {
    "_defaultOrder": 37,
    "_isFastLaunch": false,
    "category": "Accelerated computing",
    "gpuNum": 8,
    "hideHardwareSpecs": false,
    "memoryGiB": 488,
    "name": "ml.p3.16xlarge",
    "vcpuNum": 64
   },
   {
    "_defaultOrder": 38,
    "_isFastLaunch": false,
    "category": "Accelerated computing",
    "gpuNum": 8,
    "hideHardwareSpecs": false,
    "memoryGiB": 768,
    "name": "ml.p3dn.24xlarge",
    "vcpuNum": 96
   },
   {
    "_defaultOrder": 39,
    "_isFastLaunch": false,
    "category": "Memory Optimized",
    "gpuNum": 0,
    "hideHardwareSpecs": false,
    "memoryGiB": 16,
    "name": "ml.r5.large",
    "vcpuNum": 2
   },
   {
    "_defaultOrder": 40,
    "_isFastLaunch": false,
    "category": "Memory Optimized",
    "gpuNum": 0,
    "hideHardwareSpecs": false,
    "memoryGiB": 32,
    "name": "ml.r5.xlarge",
    "vcpuNum": 4
   },
   {
    "_defaultOrder": 41,
    "_isFastLaunch": false,
    "category": "Memory Optimized",
    "gpuNum": 0,
    "hideHardwareSpecs": false,
    "memoryGiB": 64,
    "name": "ml.r5.2xlarge",
    "vcpuNum": 8
   },
   {
    "_defaultOrder": 42,
    "_isFastLaunch": false,
    "category": "Memory Optimized",
    "gpuNum": 0,
    "hideHardwareSpecs": false,
    "memoryGiB": 128,
    "name": "ml.r5.4xlarge",
    "vcpuNum": 16
   },
   {
    "_defaultOrder": 43,
    "_isFastLaunch": false,
    "category": "Memory Optimized",
    "gpuNum": 0,
    "hideHardwareSpecs": false,
    "memoryGiB": 256,
    "name": "ml.r5.8xlarge",
    "vcpuNum": 32
   },
   {
    "_defaultOrder": 44,
    "_isFastLaunch": false,
    "category": "Memory Optimized",
    "gpuNum": 0,
    "hideHardwareSpecs": false,
    "memoryGiB": 384,
    "name": "ml.r5.12xlarge",
    "vcpuNum": 48
   },
   {
    "_defaultOrder": 45,
    "_isFastLaunch": false,
    "category": "Memory Optimized",
    "gpuNum": 0,
    "hideHardwareSpecs": false,
    "memoryGiB": 512,
    "name": "ml.r5.16xlarge",
    "vcpuNum": 64
   },
   {
    "_defaultOrder": 46,
    "_isFastLaunch": false,
    "category": "Memory Optimized",
    "gpuNum": 0,
    "hideHardwareSpecs": false,
    "memoryGiB": 768,
    "name": "ml.r5.24xlarge",
    "vcpuNum": 96
   },
   {
    "_defaultOrder": 47,
    "_isFastLaunch": false,
    "category": "Accelerated computing",
    "gpuNum": 1,
    "hideHardwareSpecs": false,
    "memoryGiB": 16,
    "name": "ml.g5.xlarge",
    "vcpuNum": 4
   },
   {
    "_defaultOrder": 48,
    "_isFastLaunch": false,
    "category": "Accelerated computing",
    "gpuNum": 1,
    "hideHardwareSpecs": false,
    "memoryGiB": 32,
    "name": "ml.g5.2xlarge",
    "vcpuNum": 8
   },
   {
    "_defaultOrder": 49,
    "_isFastLaunch": false,
    "category": "Accelerated computing",
    "gpuNum": 1,
    "hideHardwareSpecs": false,
    "memoryGiB": 64,
    "name": "ml.g5.4xlarge",
    "vcpuNum": 16
   },
   {
    "_defaultOrder": 50,
    "_isFastLaunch": false,
    "category": "Accelerated computing",
    "gpuNum": 1,
    "hideHardwareSpecs": false,
    "memoryGiB": 128,
    "name": "ml.g5.8xlarge",
    "vcpuNum": 32
   },
   {
    "_defaultOrder": 51,
    "_isFastLaunch": false,
    "category": "Accelerated computing",
    "gpuNum": 1,
    "hideHardwareSpecs": false,
    "memoryGiB": 256,
    "name": "ml.g5.16xlarge",
    "vcpuNum": 64
   },
   {
    "_defaultOrder": 52,
    "_isFastLaunch": false,
    "category": "Accelerated computing",
    "gpuNum": 4,
    "hideHardwareSpecs": false,
    "memoryGiB": 192,
    "name": "ml.g5.12xlarge",
    "vcpuNum": 48
   },
   {
    "_defaultOrder": 53,
    "_isFastLaunch": false,
    "category": "Accelerated computing",
    "gpuNum": 4,
    "hideHardwareSpecs": false,
    "memoryGiB": 384,
    "name": "ml.g5.24xlarge",
    "vcpuNum": 96
   },
   {
    "_defaultOrder": 54,
    "_isFastLaunch": false,
    "category": "Accelerated computing",
    "gpuNum": 8,
    "hideHardwareSpecs": false,
    "memoryGiB": 768,
    "name": "ml.g5.48xlarge",
    "vcpuNum": 192
   },
   {
    "_defaultOrder": 55,
    "_isFastLaunch": false,
    "category": "Accelerated computing",
    "gpuNum": 8,
    "hideHardwareSpecs": false,
    "memoryGiB": 1152,
    "name": "ml.p4d.24xlarge",
    "vcpuNum": 96
   },
   {
    "_defaultOrder": 56,
    "_isFastLaunch": false,
    "category": "Accelerated computing",
    "gpuNum": 8,
    "hideHardwareSpecs": false,
    "memoryGiB": 1152,
    "name": "ml.p4de.24xlarge",
    "vcpuNum": 96
   }
  ],
  "kernelspec": {
   "display_name": "Python 3 (Data Science 3.0)",
   "language": "python",
   "name": "python3__SAGEMAKER_INTERNAL__arn:aws:sagemaker:eu-west-3:615547856133:image/sagemaker-data-science-310-v1"
  },
  "language_info": {
   "codemirror_mode": {
    "name": "ipython",
    "version": 3
   },
   "file_extension": ".py",
   "mimetype": "text/x-python",
   "name": "python",
   "nbconvert_exporter": "python",
   "pygments_lexer": "ipython3",
   "version": "3.10.6"
  }
 },
 "nbformat": 4,
 "nbformat_minor": 5
}
