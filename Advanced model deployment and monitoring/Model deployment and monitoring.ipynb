{
 "cells": [
  {
   "cell_type": "code",
   "execution_count": 1,
   "metadata": {},
   "outputs": [],
   "source": [
    "# # please ignore warning messages during the installation\n",
    "# !pip install --upgrade sagemaker\n",
    "# !pip install --disable-pip-version-check -q \n",
    "# !conda install -q -y pytorch==1.6.0 -c pytorch\n",
    "# !pip install --disable-pip-version-check -q transformers==3.5.1\n",
    "# !pip install -q protobuf==3.20.*"
   ]
  },
  {
   "cell_type": "code",
   "execution_count": 1,
   "metadata": {},
   "outputs": [],
   "source": [
    "import matplotlib.pyplot as plt\n",
    "%matplotlib inline\n",
    "%config InlineBackend.figure_format='retina'"
   ]
  },
  {
   "cell_type": "code",
   "execution_count": 2,
   "metadata": {},
   "outputs": [
    {
     "name": "stdout",
     "output_type": "stream",
     "text": [
      "sagemaker.config INFO - Not applying SDK defaults from location: /etc/xdg/sagemaker/config.yaml\n",
      "sagemaker.config INFO - Not applying SDK defaults from location: /home/sagemaker-user/.config/sagemaker/config.yaml\n"
     ]
    }
   ],
   "source": [
    "import boto3\n",
    "import sagemaker\n",
    "import pandas as pd\n",
    "import botocore"
   ]
  },
  {
   "cell_type": "code",
   "execution_count": 3,
   "metadata": {},
   "outputs": [
    {
     "data": {
      "text/plain": [
       "'2.227.0'"
      ]
     },
     "execution_count": 3,
     "metadata": {},
     "output_type": "execute_result"
    }
   ],
   "source": [
    "sagemaker.__version__"
   ]
  },
  {
   "cell_type": "code",
   "execution_count": 4,
   "metadata": {},
   "outputs": [],
   "source": [
    "# ========================== low-level service client of the boto3 session ==========================\n",
    "config = botocore.config.Config(user_agent_extra='bedissj-1699438736259')\n",
    "\n",
    "\n",
    "sm = boto3.client(service_name='sagemaker', \n",
    "                  config=config)\n",
    "\n",
    "sm_runtime = boto3.client('sagemaker-runtime',\n",
    "                          config=config)\n",
    "\n",
    "sess = sagemaker.Session(sagemaker_client=sm,\n",
    "                         sagemaker_runtime_client=sm_runtime)\n",
    "\n",
    "bucket = sess.default_bucket()\n",
    "role = sagemaker.get_execution_role()\n",
    "region = sess.boto_region_name\n",
    "\n",
    "cw = boto3.client(service_name='cloudwatch', \n",
    "                  config=config)\n",
    "\n",
    "autoscale = boto3.client(service_name=\"application-autoscaling\", \n",
    "                         config=config)"
   ]
  },
  {
   "cell_type": "markdown",
   "metadata": {},
   "source": [
    "## 1. Create an endpoint with multiple variants "
   ]
  },
  {
   "cell_type": "code",
   "execution_count": 5,
   "metadata": {},
   "outputs": [],
   "source": [
    "model_a_s3_uri = \"s3://{}/y8a6c91lumhh-ModelTra-GTH766MIe3-002-1a2991b7/output/model.tar.gz\".format(bucket)\n",
    "model_b_s3_uri = \"s3://{}/y8a6c91lumhh-ModelTra-GTH766MIe3-010-b1656de1/output/model.tar.gz\".format(bucket)"
   ]
  },
  {
   "cell_type": "markdown",
   "metadata": {},
   "source": [
    "### 1.1 Construct Docker Image URI"
   ]
  },
  {
   "cell_type": "code",
   "execution_count": 6,
   "metadata": {},
   "outputs": [],
   "source": [
    "FRAMEWORK_VERSION = '1.0-1'\n",
    "deploy_instance_type = \"ml.m5.large\""
   ]
  },
  {
   "cell_type": "code",
   "execution_count": 7,
   "metadata": {},
   "outputs": [
    {
     "name": "stdout",
     "output_type": "stream",
     "text": [
      "659782779980.dkr.ecr.eu-west-3.amazonaws.com/sagemaker-scikit-learn:1.0-1-cpu-py3\n"
     ]
    }
   ],
   "source": [
    "churn_inference_image_uri = sagemaker.image_uris.retrieve(\n",
    "    framework='sklearn',\n",
    "    version=FRAMEWORK_VERSION,\n",
    "    instance_type=deploy_instance_type,\n",
    "    image_scope=\"inference\",\n",
    "    region=region\n",
    ")\n",
    "\n",
    "print(churn_inference_image_uri)"
   ]
  },
  {
   "cell_type": "code",
   "execution_count": 19,
   "metadata": {},
   "outputs": [],
   "source": [
    "import time\n",
    "\n",
    "timestamp = int(time.time())\n",
    "\n",
    "model_name_a = \"churn-prediction-mon1-model-a-{}\".format(timestamp)\n",
    "model_name_b = \"churn-prediction-mon1-model-b-{}\".format(timestamp)\n"
   ]
  },
  {
   "cell_type": "markdown",
   "metadata": {},
   "source": [
    "Check if models already exist."
   ]
  },
  {
   "cell_type": "code",
   "execution_count": 20,
   "metadata": {},
   "outputs": [],
   "source": [
    "def check_model_existence(model_name):\n",
    "    for model in sm.list_models()['Models']:\n",
    "        if model_name == model['ModelName']:\n",
    "            return True\n",
    "    return False"
   ]
  },
  {
   "cell_type": "markdown",
   "metadata": {},
   "source": [
    "### 1.2 Create models"
   ]
  },
  {
   "cell_type": "code",
   "execution_count": 21,
   "metadata": {},
   "outputs": [
    {
     "name": "stdout",
     "output_type": "stream",
     "text": [
      "<sagemaker.model.Model object at 0x7f825ba2d110>\n"
     ]
    }
   ],
   "source": [
    "from sagemaker.model import Model\n",
    "from pprint import pprint\n",
    "\n",
    "\n",
    "if not check_model_existence(model_name=model_name_a):\n",
    "    model_a = Model(\n",
    "        name=model_name_a,\n",
    "        model_data=model_a_s3_uri,\n",
    "        image_uri=churn_inference_image_uri,\n",
    "        entry_point='./src/inference.py',\n",
    "        sagemaker_session=sess,\n",
    "        role=role\n",
    "    )\n",
    "    model_a.create()\n",
    "    pprint(model_a)\n",
    "    \n",
    "else:\n",
    "    print(\"Model {} already exists\".format(model_name_a))"
   ]
  },
  {
   "cell_type": "code",
   "execution_count": 22,
   "metadata": {},
   "outputs": [
    {
     "name": "stdout",
     "output_type": "stream",
     "text": [
      "<sagemaker.model.Model object at 0x7f825be61cd0>\n"
     ]
    }
   ],
   "source": [
    "if not check_model_existence(model_name=model_name_b):\n",
    "    # model_b = sm.create_model(\n",
    "    #     ModelName=model_name_b,\n",
    "    #     ExecutionRoleArn=role,\n",
    "    #     PrimaryContainer={\n",
    "    #         \"ModelDataUrl\": model_b_s3_uri,\n",
    "    #         \"Image\":churn_inference_image_uri,\n",
    "    #     }\n",
    "    # )\n",
    "    # pprint(model_b)\n",
    "\n",
    "    model_b = Model(\n",
    "        name=model_name_b,\n",
    "        model_data=model_b_s3_uri,\n",
    "        image_uri=churn_inference_image_uri,\n",
    "        entry_point='./src/inference.py',\n",
    "        sagemaker_session=sess,\n",
    "        role=role\n",
    "    )\n",
    "    model_b.create()\n",
    "    pprint(model_b)\n",
    "\n",
    "else:\n",
    "    print(\"Model {} already exists\".format(model_name_b))"
   ]
  },
  {
   "cell_type": "markdown",
   "metadata": {},
   "source": [
    "### 1.3 Create production variants"
   ]
  },
  {
   "cell_type": "code",
   "execution_count": 23,
   "metadata": {},
   "outputs": [
    {
     "name": "stdout",
     "output_type": "stream",
     "text": [
      "{'VariantName': 'VariantA', 'ModelName': 'churn-prediction-mon1-model-a-1728652261', 'InitialVariantWeight': 50, 'InitialInstanceCount': 1, 'InstanceType': 'ml.m5.large'}\n"
     ]
    }
   ],
   "source": [
    "from sagemaker.session import production_variant\n",
    "\n",
    "variantA = production_variant(\n",
    "    model_name=model_name_a,\n",
    "    instance_type=deploy_instance_type,\n",
    "    initial_instance_count=1,\n",
    "    initial_weight=50,\n",
    "    variant_name='VariantA'\n",
    ")\n",
    "print(variantA)"
   ]
  },
  {
   "cell_type": "code",
   "execution_count": 24,
   "metadata": {},
   "outputs": [
    {
     "name": "stdout",
     "output_type": "stream",
     "text": [
      "{'VariantName': 'VariantA', 'ModelName': 'churn-prediction-mon1-model-a-1728652261', 'InitialVariantWeight': 50, 'InitialInstanceCount': 1, 'InstanceType': 'ml.m5.large'}\n"
     ]
    }
   ],
   "source": [
    "variantB = production_variant(\n",
    "    model_name=model_name_b,\n",
    "    instance_type=deploy_instance_type,\n",
    "    initial_instance_count=1,\n",
    "    initial_weight=50,\n",
    "    variant_name='VariantB'\n",
    ")\n",
    "print(variantA)"
   ]
  },
  {
   "cell_type": "markdown",
   "metadata": {},
   "source": [
    "### 1.4 Configure and create the endpoint"
   ]
  },
  {
   "cell_type": "markdown",
   "metadata": {},
   "source": [
    "Check endpoint configuration existence."
   ]
  },
  {
   "cell_type": "code",
   "execution_count": 25,
   "metadata": {},
   "outputs": [],
   "source": [
    "def check_endpoint_config_existence(endpoint_config_name):\n",
    "    for endpoint_config in sm.list_endpoint_configs()['EndpointConfigs']:\n",
    "        if endpoint_config_name == endpoint_config['EndpointConfigName']:\n",
    "            return True\n",
    "    return False\n",
    "\n",
    "\n",
    "def check_endpoint_existence(endpoint_name):\n",
    "    for endpoint in sm.list_endpoints()['Endpoints']:\n",
    "        if endpoint_name == endpoint['EndpointName']:\n",
    "            return True\n",
    "    return False"
   ]
  },
  {
   "cell_type": "markdown",
   "metadata": {},
   "source": [
    "Create endpoint configuration for  A/B testing."
   ]
  },
  {
   "cell_type": "code",
   "execution_count": 26,
   "metadata": {},
   "outputs": [
    {
     "name": "stdout",
     "output_type": "stream",
     "text": [
      "{'EndpointConfigArn': 'arn:aws:sagemaker:eu-west-3:668303144976:endpoint-config/churn-prediction-ab-epc-1728652261',\n",
      " 'ResponseMetadata': {'HTTPHeaders': {'content-length': '115',\n",
      "                                      'content-type': 'application/x-amz-json-1.1',\n",
      "                                      'date': 'Fri, 11 Oct 2024 13:11:07 GMT',\n",
      "                                      'x-amzn-requestid': '8f9e7eab-8667-4e26-8d19-bc9a45c9c1a1'},\n",
      "                      'HTTPStatusCode': 200,\n",
      "                      'RequestId': '8f9e7eab-8667-4e26-8d19-bc9a45c9c1a1',\n",
      "                      'RetryAttempts': 0}}\n"
     ]
    }
   ],
   "source": [
    "endpoint_config_name = \"churn-prediction-ab-epc-{}\".format(timestamp)\n",
    "\n",
    "if not check_endpoint_config_existence(endpoint_config_name):\n",
    "    endpoint_config = sm.create_endpoint_config(\n",
    "        EndpointConfigName=endpoint_config_name,\n",
    "        ProductionVariants=[variantA, variantB]\n",
    "    )\n",
    "    pprint(endpoint_config)\n",
    "else: \n",
    "     print(\"Endpoint configuration {} already exists\".format(endpoint_config_name))"
   ]
  },
  {
   "cell_type": "code",
   "execution_count": 27,
   "metadata": {},
   "outputs": [
    {
     "name": "stdout",
     "output_type": "stream",
     "text": [
      "Endpoint name: churn-prediction-ab-ep-1728652261\n"
     ]
    }
   ],
   "source": [
    "model_ab_endpoint_name = 'churn-prediction-ab-ep-{}'.format(timestamp)\n",
    "print('Endpoint name: {}'.format(model_ab_endpoint_name))"
   ]
  },
  {
   "cell_type": "code",
   "execution_count": 28,
   "metadata": {},
   "outputs": [
    {
     "name": "stdout",
     "output_type": "stream",
     "text": [
      "Creating endpoint churn-prediction-ab-ep-1728652261\n",
      "{'EndpointArn': 'arn:aws:sagemaker:eu-west-3:668303144976:endpoint/churn-prediction-ab-ep-1728652261',\n",
      " 'ResponseMetadata': {'HTTPHeaders': {'content-length': '101',\n",
      "                                      'content-type': 'application/x-amz-json-1.1',\n",
      "                                      'date': 'Fri, 11 Oct 2024 13:11:09 GMT',\n",
      "                                      'x-amzn-requestid': 'd522e65d-0761-4d73-ab9a-962482f45f82'},\n",
      "                      'HTTPStatusCode': 200,\n",
      "                      'RequestId': 'd522e65d-0761-4d73-ab9a-962482f45f82',\n",
      "                      'RetryAttempts': 0}}\n"
     ]
    }
   ],
   "source": [
    "if not check_endpoint_existence(model_ab_endpoint_name):\n",
    "    endpoint_response = sm.create_endpoint(\n",
    "        EndpointName=model_ab_endpoint_name,\n",
    "        EndpointConfigName=endpoint_config_name\n",
    "    )\n",
    "    print('Creating endpoint {}'.format(model_ab_endpoint_name))\n",
    "    pprint(endpoint_response)\n",
    "else:\n",
    "    print(\"Endpoint {} already exists\".format(model_ab_endpoint_name))"
   ]
  },
  {
   "cell_type": "code",
   "execution_count": 29,
   "metadata": {},
   "outputs": [
    {
     "name": "stderr",
     "output_type": "stream",
     "text": [
      "/tmp/ipykernel_241/24894441.py:1: DeprecationWarning: Importing display from IPython.core.display is deprecated since IPython 7.14, please import from IPython display\n",
      "  from IPython.core.display import display, HTML\n"
     ]
    },
    {
     "data": {
      "text/html": [
       "<b>Review <a target=\"blank\" href=\"https://console.aws.amazon.com/sagemaker/home?region=eu-west-3#/endpoints/churn-prediction-ab-ep-1728652261\">SageMaker REST endpoint</a></b>"
      ],
      "text/plain": [
       "<IPython.core.display.HTML object>"
      ]
     },
     "metadata": {},
     "output_type": "display_data"
    }
   ],
   "source": [
    "from IPython.core.display import display, HTML\n",
    "\n",
    "display(\n",
    "    HTML('<b>Review <a target=\"blank\" href=\"https://console.aws.amazon.com/sagemaker/home?region={}#/endpoints/{}\">SageMaker REST endpoint</a></b>'.format(\n",
    "        region, \n",
    "        model_ab_endpoint_name)\n",
    "        )\n",
    ")"
   ]
  },
  {
   "cell_type": "code",
   "execution_count": 30,
   "metadata": {},
   "outputs": [
    {
     "name": "stdout",
     "output_type": "stream",
     "text": [
      "CPU times: user 33.8 ms, sys: 6.84 ms, total: 40.7 ms\n",
      "Wall time: 162 ms\n"
     ]
    }
   ],
   "source": [
    "%%time\n",
    "\n",
    "waiter = sm.get_waiter('endpoint_in_service')\n",
    "waiter.wait(EndpointName=model_ab_endpoint_name)"
   ]
  },
  {
   "cell_type": "code",
   "execution_count": 65,
   "metadata": {},
   "outputs": [
    {
     "data": {
      "text/html": [
       "<div>\n",
       "<style scoped>\n",
       "    .dataframe tbody tr th:only-of-type {\n",
       "        vertical-align: middle;\n",
       "    }\n",
       "\n",
       "    .dataframe tbody tr th {\n",
       "        vertical-align: top;\n",
       "    }\n",
       "\n",
       "    .dataframe thead th {\n",
       "        text-align: right;\n",
       "    }\n",
       "</style>\n",
       "<table border=\"1\" class=\"dataframe\">\n",
       "  <thead>\n",
       "    <tr style=\"text-align: right;\">\n",
       "      <th></th>\n",
       "      <th>1</th>\n",
       "      <th>56</th>\n",
       "      <th>1.1</th>\n",
       "      <th>2</th>\n",
       "      <th>6</th>\n",
       "      <th>1.2</th>\n",
       "      <th>2.1</th>\n",
       "      <th>0.1</th>\n",
       "      <th>49</th>\n",
       "      <th>3</th>\n",
       "      <th>3.1</th>\n",
       "      <th>3.2</th>\n",
       "      <th>4058.0</th>\n",
       "      <th>793</th>\n",
       "      <th>3265.0</th>\n",
       "      <th>0.758</th>\n",
       "      <th>15865</th>\n",
       "      <th>105</th>\n",
       "      <th>0.667</th>\n",
       "      <th>0.195</th>\n",
       "    </tr>\n",
       "  </thead>\n",
       "  <tbody>\n",
       "    <tr>\n",
       "      <th>0</th>\n",
       "      <td>1</td>\n",
       "      <td>47</td>\n",
       "      <td>1</td>\n",
       "      <td>2</td>\n",
       "      <td>0</td>\n",
       "      <td>1</td>\n",
       "      <td>0</td>\n",
       "      <td>0</td>\n",
       "      <td>35</td>\n",
       "      <td>4</td>\n",
       "      <td>3</td>\n",
       "      <td>2</td>\n",
       "      <td>3636.0</td>\n",
       "      <td>1010</td>\n",
       "      <td>2626.0</td>\n",
       "      <td>0.596</td>\n",
       "      <td>1564</td>\n",
       "      <td>59</td>\n",
       "      <td>0.686</td>\n",
       "      <td>0.278</td>\n",
       "    </tr>\n",
       "    <tr>\n",
       "      <th>1</th>\n",
       "      <td>0</td>\n",
       "      <td>61</td>\n",
       "      <td>1</td>\n",
       "      <td>0</td>\n",
       "      <td>2</td>\n",
       "      <td>1</td>\n",
       "      <td>2</td>\n",
       "      <td>0</td>\n",
       "      <td>56</td>\n",
       "      <td>6</td>\n",
       "      <td>2</td>\n",
       "      <td>3</td>\n",
       "      <td>9918.0</td>\n",
       "      <td>850</td>\n",
       "      <td>9068.0</td>\n",
       "      <td>0.688</td>\n",
       "      <td>2485</td>\n",
       "      <td>40</td>\n",
       "      <td>0.290</td>\n",
       "      <td>0.086</td>\n",
       "    </tr>\n",
       "    <tr>\n",
       "      <th>2</th>\n",
       "      <td>1</td>\n",
       "      <td>40</td>\n",
       "      <td>1</td>\n",
       "      <td>3</td>\n",
       "      <td>3</td>\n",
       "      <td>1</td>\n",
       "      <td>1</td>\n",
       "      <td>0</td>\n",
       "      <td>33</td>\n",
       "      <td>4</td>\n",
       "      <td>3</td>\n",
       "      <td>3</td>\n",
       "      <td>6884.0</td>\n",
       "      <td>1001</td>\n",
       "      <td>5883.0</td>\n",
       "      <td>0.786</td>\n",
       "      <td>975</td>\n",
       "      <td>11</td>\n",
       "      <td>0.833</td>\n",
       "      <td>0.145</td>\n",
       "    </tr>\n",
       "    <tr>\n",
       "      <th>3</th>\n",
       "      <td>1</td>\n",
       "      <td>46</td>\n",
       "      <td>1</td>\n",
       "      <td>4</td>\n",
       "      <td>2</td>\n",
       "      <td>2</td>\n",
       "      <td>3</td>\n",
       "      <td>0</td>\n",
       "      <td>26</td>\n",
       "      <td>4</td>\n",
       "      <td>3</td>\n",
       "      <td>0</td>\n",
       "      <td>1791.0</td>\n",
       "      <td>1337</td>\n",
       "      <td>454.0</td>\n",
       "      <td>0.763</td>\n",
       "      <td>3592</td>\n",
       "      <td>46</td>\n",
       "      <td>0.917</td>\n",
       "      <td>0.747</td>\n",
       "    </tr>\n",
       "    <tr>\n",
       "      <th>4</th>\n",
       "      <td>1</td>\n",
       "      <td>33</td>\n",
       "      <td>0</td>\n",
       "      <td>2</td>\n",
       "      <td>2</td>\n",
       "      <td>2</td>\n",
       "      <td>4</td>\n",
       "      <td>0</td>\n",
       "      <td>19</td>\n",
       "      <td>3</td>\n",
       "      <td>2</td>\n",
       "      <td>3</td>\n",
       "      <td>5141.0</td>\n",
       "      <td>1737</td>\n",
       "      <td>3404.0</td>\n",
       "      <td>0.985</td>\n",
       "      <td>5859</td>\n",
       "      <td>82</td>\n",
       "      <td>0.783</td>\n",
       "      <td>0.338</td>\n",
       "    </tr>\n",
       "    <tr>\n",
       "      <th>...</th>\n",
       "      <td>...</td>\n",
       "      <td>...</td>\n",
       "      <td>...</td>\n",
       "      <td>...</td>\n",
       "      <td>...</td>\n",
       "      <td>...</td>\n",
       "      <td>...</td>\n",
       "      <td>...</td>\n",
       "      <td>...</td>\n",
       "      <td>...</td>\n",
       "      <td>...</td>\n",
       "      <td>...</td>\n",
       "      <td>...</td>\n",
       "      <td>...</td>\n",
       "      <td>...</td>\n",
       "      <td>...</td>\n",
       "      <td>...</td>\n",
       "      <td>...</td>\n",
       "      <td>...</td>\n",
       "      <td>...</td>\n",
       "    </tr>\n",
       "    <tr>\n",
       "      <th>2020</th>\n",
       "      <td>1</td>\n",
       "      <td>43</td>\n",
       "      <td>1</td>\n",
       "      <td>1</td>\n",
       "      <td>6</td>\n",
       "      <td>2</td>\n",
       "      <td>2</td>\n",
       "      <td>0</td>\n",
       "      <td>31</td>\n",
       "      <td>4</td>\n",
       "      <td>3</td>\n",
       "      <td>1</td>\n",
       "      <td>2283.0</td>\n",
       "      <td>1470</td>\n",
       "      <td>813.0</td>\n",
       "      <td>0.935</td>\n",
       "      <td>5100</td>\n",
       "      <td>76</td>\n",
       "      <td>0.689</td>\n",
       "      <td>0.644</td>\n",
       "    </tr>\n",
       "    <tr>\n",
       "      <th>2021</th>\n",
       "      <td>1</td>\n",
       "      <td>38</td>\n",
       "      <td>1</td>\n",
       "      <td>2</td>\n",
       "      <td>3</td>\n",
       "      <td>2</td>\n",
       "      <td>2</td>\n",
       "      <td>3</td>\n",
       "      <td>36</td>\n",
       "      <td>5</td>\n",
       "      <td>3</td>\n",
       "      <td>2</td>\n",
       "      <td>31546.0</td>\n",
       "      <td>2057</td>\n",
       "      <td>29489.0</td>\n",
       "      <td>0.625</td>\n",
       "      <td>15311</td>\n",
       "      <td>108</td>\n",
       "      <td>0.714</td>\n",
       "      <td>0.065</td>\n",
       "    </tr>\n",
       "    <tr>\n",
       "      <th>2022</th>\n",
       "      <td>1</td>\n",
       "      <td>52</td>\n",
       "      <td>1</td>\n",
       "      <td>2</td>\n",
       "      <td>3</td>\n",
       "      <td>2</td>\n",
       "      <td>0</td>\n",
       "      <td>0</td>\n",
       "      <td>46</td>\n",
       "      <td>4</td>\n",
       "      <td>2</td>\n",
       "      <td>4</td>\n",
       "      <td>34516.0</td>\n",
       "      <td>0</td>\n",
       "      <td>34516.0</td>\n",
       "      <td>0.775</td>\n",
       "      <td>4037</td>\n",
       "      <td>87</td>\n",
       "      <td>0.706</td>\n",
       "      <td>0.000</td>\n",
       "    </tr>\n",
       "    <tr>\n",
       "      <th>2023</th>\n",
       "      <td>1</td>\n",
       "      <td>45</td>\n",
       "      <td>1</td>\n",
       "      <td>3</td>\n",
       "      <td>2</td>\n",
       "      <td>1</td>\n",
       "      <td>3</td>\n",
       "      <td>0</td>\n",
       "      <td>36</td>\n",
       "      <td>6</td>\n",
       "      <td>3</td>\n",
       "      <td>2</td>\n",
       "      <td>21630.0</td>\n",
       "      <td>0</td>\n",
       "      <td>21630.0</td>\n",
       "      <td>0.804</td>\n",
       "      <td>4584</td>\n",
       "      <td>84</td>\n",
       "      <td>0.750</td>\n",
       "      <td>0.000</td>\n",
       "    </tr>\n",
       "    <tr>\n",
       "      <th>2024</th>\n",
       "      <td>0</td>\n",
       "      <td>40</td>\n",
       "      <td>1</td>\n",
       "      <td>4</td>\n",
       "      <td>6</td>\n",
       "      <td>2</td>\n",
       "      <td>2</td>\n",
       "      <td>0</td>\n",
       "      <td>30</td>\n",
       "      <td>4</td>\n",
       "      <td>3</td>\n",
       "      <td>6</td>\n",
       "      <td>18975.0</td>\n",
       "      <td>0</td>\n",
       "      <td>18975.0</td>\n",
       "      <td>1.028</td>\n",
       "      <td>4803</td>\n",
       "      <td>65</td>\n",
       "      <td>0.548</td>\n",
       "      <td>0.000</td>\n",
       "    </tr>\n",
       "  </tbody>\n",
       "</table>\n",
       "<p>2025 rows × 20 columns</p>\n",
       "</div>"
      ],
      "text/plain": [
       "      1  56  1.1  2  6  1.2  2.1  0.1  49  3  3.1  3.2   4058.0   793  \\\n",
       "0     1  47    1  2  0    1    0    0  35  4    3    2   3636.0  1010   \n",
       "1     0  61    1  0  2    1    2    0  56  6    2    3   9918.0   850   \n",
       "2     1  40    1  3  3    1    1    0  33  4    3    3   6884.0  1001   \n",
       "3     1  46    1  4  2    2    3    0  26  4    3    0   1791.0  1337   \n",
       "4     1  33    0  2  2    2    4    0  19  3    2    3   5141.0  1737   \n",
       "...  ..  ..  ... .. ..  ...  ...  ...  .. ..  ...  ...      ...   ...   \n",
       "2020  1  43    1  1  6    2    2    0  31  4    3    1   2283.0  1470   \n",
       "2021  1  38    1  2  3    2    2    3  36  5    3    2  31546.0  2057   \n",
       "2022  1  52    1  2  3    2    0    0  46  4    2    4  34516.0     0   \n",
       "2023  1  45    1  3  2    1    3    0  36  6    3    2  21630.0     0   \n",
       "2024  0  40    1  4  6    2    2    0  30  4    3    6  18975.0     0   \n",
       "\n",
       "       3265.0  0.758  15865  105  0.667  0.195  \n",
       "0      2626.0  0.596   1564   59  0.686  0.278  \n",
       "1      9068.0  0.688   2485   40  0.290  0.086  \n",
       "2      5883.0  0.786    975   11  0.833  0.145  \n",
       "3       454.0  0.763   3592   46  0.917  0.747  \n",
       "4      3404.0  0.985   5859   82  0.783  0.338  \n",
       "...       ...    ...    ...  ...    ...    ...  \n",
       "2020    813.0  0.935   5100   76  0.689  0.644  \n",
       "2021  29489.0  0.625  15311  108  0.714  0.065  \n",
       "2022  34516.0  0.775   4037   87  0.706  0.000  \n",
       "2023  21630.0  0.804   4584   84  0.750  0.000  \n",
       "2024  18975.0  1.028   4803   65  0.548  0.000  \n",
       "\n",
       "[2025 rows x 20 columns]"
      ]
     },
     "metadata": {},
     "output_type": "display_data"
    }
   ],
   "source": [
    "tst = pd.read_csv(\"./src/BankChurners_mon1 (4).csv\")\n",
    "tst.drop(columns=list(tst.columns[0]), inplace=True)\n",
    "\n",
    "display(tst)"
   ]
  },
  {
   "cell_type": "code",
   "execution_count": 62,
   "metadata": {},
   "outputs": [],
   "source": [
    "from sagemaker.predictor import Predictor\n",
    "from sagemaker.base_serializers import CSVSerializer\n",
    "\n",
    "predictor = Predictor(\n",
    "    endpoint_name=model_ab_endpoint_name, # Replace None\n",
    "    sagemaker_session=sess\n",
    ")\n"
   ]
  },
  {
   "cell_type": "markdown",
   "metadata": {},
   "source": [
    "Complete prediction script."
   ]
  }
 ],
 "metadata": {
  "kernelspec": {
   "display_name": "base",
   "language": "python",
   "name": "python3"
  },
  "language_info": {
   "codemirror_mode": {
    "name": "ipython",
    "version": 3
   },
   "file_extension": ".py",
   "mimetype": "text/x-python",
   "name": "python",
   "nbconvert_exporter": "python",
   "pygments_lexer": "ipython3",
   "version": "3.11.9"
  }
 },
 "nbformat": 4,
 "nbformat_minor": 2
}
