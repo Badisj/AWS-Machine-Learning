{
 "cells": [
  {
   "cell_type": "code",
   "execution_count": 1,
   "metadata": {},
   "outputs": [],
   "source": [
    "# # please ignore warning messages during the installation\n",
    "# !pip install --upgrade sagemaker\n",
    "# !pip install --disable-pip-version-check -q \n",
    "# !conda install -q -y pytorch==1.6.0 -c pytorch\n",
    "# !pip install --disable-pip-version-check -q transformers==3.5.1\n",
    "# !pip install -q protobuf==3.20.*"
   ]
  },
  {
   "cell_type": "code",
   "execution_count": 2,
   "metadata": {},
   "outputs": [],
   "source": [
    "import matplotlib.pyplot as plt\n",
    "%matplotlib inline\n",
    "%config InlineBackend.figure_format='retina'"
   ]
  },
  {
   "cell_type": "code",
   "execution_count": 3,
   "metadata": {},
   "outputs": [
    {
     "name": "stdout",
     "output_type": "stream",
     "text": [
      "sagemaker.config INFO - Not applying SDK defaults from location: /etc/xdg/sagemaker/config.yaml\n",
      "sagemaker.config INFO - Not applying SDK defaults from location: /home/sagemaker-user/.config/sagemaker/config.yaml\n"
     ]
    }
   ],
   "source": [
    "import boto3\n",
    "import sagemaker\n",
    "import pandas as pd\n",
    "import botocore"
   ]
  },
  {
   "cell_type": "code",
   "execution_count": 4,
   "metadata": {},
   "outputs": [
    {
     "data": {
      "text/plain": [
       "'2.227.0'"
      ]
     },
     "execution_count": 4,
     "metadata": {},
     "output_type": "execute_result"
    }
   ],
   "source": [
    "sagemaker.__version__"
   ]
  },
  {
   "cell_type": "code",
   "execution_count": 5,
   "metadata": {},
   "outputs": [],
   "source": [
    "# ========================== low-level service client of the boto3 session ==========================\n",
    "config = botocore.config.Config(user_agent_extra='bedissj-1699438736259')\n",
    "\n",
    "\n",
    "sm = boto3.client(service_name='sagemaker', \n",
    "                  config=config)\n",
    "\n",
    "sm_runtime = boto3.client('sagemaker-runtime',\n",
    "                          config=config)\n",
    "\n",
    "sess = sagemaker.Session(sagemaker_client=sm,\n",
    "                         sagemaker_runtime_client=sm_runtime)\n",
    "\n",
    "bucket = sess.default_bucket()\n",
    "role = sagemaker.get_execution_role()\n",
    "region = sess.boto_region_name\n",
    "\n",
    "cw = boto3.client(service_name='cloudwatch', \n",
    "                  config=config)\n",
    "\n",
    "autoscale = boto3.client(service_name=\"application-autoscaling\", \n",
    "                         config=config)"
   ]
  },
  {
   "cell_type": "markdown",
   "metadata": {},
   "source": [
    "## 1. Create an endpoint with multiple variants "
   ]
  },
  {
   "cell_type": "code",
   "execution_count": 6,
   "metadata": {},
   "outputs": [],
   "source": [
    "model_a_s3_uri = \"s3://{}/y8a6c91lumhh-ModelTra-GTH766MIe3-002-1a2991b7/output/model.tar.gz\".format(bucket)\n",
    "model_b_s3_uri = \"s3://{}/y8a6c91lumhh-ModelTra-GTH766MIe3-010-b1656de1/output/model.tar.gz\".format(bucket)"
   ]
  },
  {
   "cell_type": "markdown",
   "metadata": {},
   "source": [
    "### 1.1 Construct Docker Image URI"
   ]
  },
  {
   "cell_type": "code",
   "execution_count": 7,
   "metadata": {},
   "outputs": [],
   "source": [
    "FRAMEWORK_VERSION = '1.0-1'\n",
    "deploy_instance_type = \"ml.m5.large\""
   ]
  },
  {
   "cell_type": "code",
   "execution_count": 8,
   "metadata": {},
   "outputs": [
    {
     "name": "stdout",
     "output_type": "stream",
     "text": [
      "659782779980.dkr.ecr.eu-west-3.amazonaws.com/sagemaker-scikit-learn:1.0-1-cpu-py3\n"
     ]
    }
   ],
   "source": [
    "churn_inference_image_uri = sagemaker.image_uris.retrieve(\n",
    "    framework='sklearn',\n",
    "    version=FRAMEWORK_VERSION,\n",
    "    instance_type=deploy_instance_type,\n",
    "    image_scope=\"inference\",\n",
    "    region=region\n",
    ")\n",
    "\n",
    "print(churn_inference_image_uri)"
   ]
  },
  {
   "cell_type": "code",
   "execution_count": 9,
   "metadata": {},
   "outputs": [],
   "source": [
    "import time\n",
    "\n",
    "timestamp = int(time.time())\n",
    "\n",
    "model_name_a = \"churn-prediction-mon1-model-a-{}\".format(timestamp)\n",
    "model_name_b = \"churn-prediction-mon1-model-b-{}\".format(timestamp)\n"
   ]
  },
  {
   "cell_type": "markdown",
   "metadata": {},
   "source": [
    "Check if models already exist."
   ]
  },
  {
   "cell_type": "code",
   "execution_count": 10,
   "metadata": {},
   "outputs": [],
   "source": [
    "def check_model_existence(model_name):\n",
    "    for model in sm.list_models()['Models']:\n",
    "        if model_name == model['ModelName']:\n",
    "            return True\n",
    "    return False"
   ]
  },
  {
   "cell_type": "markdown",
   "metadata": {},
   "source": [
    "### 1.2 Create models"
   ]
  },
  {
   "cell_type": "code",
   "execution_count": 11,
   "metadata": {},
   "outputs": [
    {
     "name": "stdout",
     "output_type": "stream",
     "text": [
      "<sagemaker.sklearn.model.SKLearnModel object at 0x7f69fd051150>\n"
     ]
    }
   ],
   "source": [
    "from sagemaker.sklearn.model import SKLearnModel\n",
    "from pprint import pprint\n",
    "\n",
    "\n",
    "if not check_model_existence(model_name=model_name_a):\n",
    "    model_a = SKLearnModel(\n",
    "        name=model_name_a,\n",
    "        model_data=model_a_s3_uri,\n",
    "        image_uri=churn_inference_image_uri,\n",
    "        entry_point='./src/inference.py',\n",
    "        sagemaker_session=sess,\n",
    "        role=role\n",
    "    )\n",
    "    model_a.create()\n",
    "    pprint(model_a)\n",
    "    \n",
    "else:\n",
    "    print(\"Model {} already exists\".format(model_name_a))"
   ]
  },
  {
   "cell_type": "code",
   "execution_count": 12,
   "metadata": {},
   "outputs": [
    {
     "name": "stdout",
     "output_type": "stream",
     "text": [
      "<sagemaker.sklearn.model.SKLearnModel object at 0x7f69fca0a290>\n"
     ]
    }
   ],
   "source": [
    "if not check_model_existence(model_name=model_name_b):\n",
    "    # model_b = sm.create_model(\n",
    "    #     ModelName=model_name_b,\n",
    "    #     ExecutionRoleArn=role,\n",
    "    #     PrimaryContainer={\n",
    "    #         \"ModelDataUrl\": model_b_s3_uri,\n",
    "    #         \"Image\":churn_inference_image_uri,\n",
    "    #     }\n",
    "    # )\n",
    "    # pprint(model_b)\n",
    "\n",
    "    model_b = SKLearnModel(\n",
    "        name=model_name_b,\n",
    "        model_data=model_b_s3_uri,\n",
    "        image_uri=churn_inference_image_uri,\n",
    "        entry_point='./src/inference.py',\n",
    "        sagemaker_session=sess,\n",
    "        role=role\n",
    "    )\n",
    "    model_b.create()\n",
    "    pprint(model_b)\n",
    "\n",
    "else:\n",
    "    print(\"Model {} already exists\".format(model_name_b))"
   ]
  },
  {
   "cell_type": "markdown",
   "metadata": {},
   "source": [
    "### 1.3 Create production variants"
   ]
  },
  {
   "cell_type": "code",
   "execution_count": 13,
   "metadata": {},
   "outputs": [
    {
     "name": "stdout",
     "output_type": "stream",
     "text": [
      "{'VariantName': 'VariantA', 'ModelName': 'churn-prediction-mon1-model-a-1730389131', 'InitialVariantWeight': 50, 'InitialInstanceCount': 1, 'InstanceType': 'ml.m5.large'}\n"
     ]
    }
   ],
   "source": [
    "from sagemaker.session import production_variant\n",
    "\n",
    "variantA = production_variant(\n",
    "    model_name=model_name_a,\n",
    "    instance_type=deploy_instance_type,\n",
    "    initial_instance_count=1,\n",
    "    initial_weight=50,\n",
    "    variant_name='VariantA'\n",
    ")\n",
    "print(variantA)"
   ]
  },
  {
   "cell_type": "code",
   "execution_count": 14,
   "metadata": {},
   "outputs": [
    {
     "name": "stdout",
     "output_type": "stream",
     "text": [
      "{'VariantName': 'VariantA', 'ModelName': 'churn-prediction-mon1-model-a-1730389131', 'InitialVariantWeight': 50, 'InitialInstanceCount': 1, 'InstanceType': 'ml.m5.large'}\n"
     ]
    }
   ],
   "source": [
    "variantB = production_variant(\n",
    "    model_name=model_name_b,\n",
    "    instance_type=deploy_instance_type,\n",
    "    initial_instance_count=1,\n",
    "    initial_weight=50,\n",
    "    variant_name='VariantB'\n",
    ")\n",
    "print(variantA)"
   ]
  },
  {
   "cell_type": "markdown",
   "metadata": {},
   "source": [
    "### 1.4 Configure and create the endpoint"
   ]
  },
  {
   "cell_type": "markdown",
   "metadata": {},
   "source": [
    "Check endpoint configuration existence."
   ]
  },
  {
   "cell_type": "code",
   "execution_count": 15,
   "metadata": {},
   "outputs": [],
   "source": [
    "def check_endpoint_config_existence(endpoint_config_name):\n",
    "    for endpoint_config in sm.list_endpoint_configs()['EndpointConfigs']:\n",
    "        if endpoint_config_name == endpoint_config['EndpointConfigName']:\n",
    "            return True\n",
    "    return False\n",
    "\n",
    "\n",
    "def check_endpoint_existence(endpoint_name):\n",
    "    for endpoint in sm.list_endpoints()['Endpoints']:\n",
    "        if endpoint_name == endpoint['EndpointName']:\n",
    "            return True\n",
    "    return False"
   ]
  },
  {
   "cell_type": "markdown",
   "metadata": {},
   "source": [
    "Create endpoint configuration for  A/B testing."
   ]
  },
  {
   "cell_type": "code",
   "execution_count": 16,
   "metadata": {},
   "outputs": [
    {
     "name": "stdout",
     "output_type": "stream",
     "text": [
      "{'EndpointConfigArn': 'arn:aws:sagemaker:eu-west-3:668303144976:endpoint-config/churn-prediction-ab-epc-1730389131',\n",
      " 'ResponseMetadata': {'HTTPHeaders': {'content-length': '115',\n",
      "                                      'content-type': 'application/x-amz-json-1.1',\n",
      "                                      'date': 'Thu, 31 Oct 2024 15:38:55 GMT',\n",
      "                                      'x-amzn-requestid': 'dba847b5-8317-4784-8fbd-272cd2cdec12'},\n",
      "                      'HTTPStatusCode': 200,\n",
      "                      'RequestId': 'dba847b5-8317-4784-8fbd-272cd2cdec12',\n",
      "                      'RetryAttempts': 0}}\n"
     ]
    }
   ],
   "source": [
    "endpoint_config_name = \"churn-prediction-ab-epc-{}\".format(timestamp)\n",
    "\n",
    "if not check_endpoint_config_existence(endpoint_config_name):\n",
    "    endpoint_config = sm.create_endpoint_config(\n",
    "        EndpointConfigName=endpoint_config_name,\n",
    "        ProductionVariants=[variantA, variantB]\n",
    "    )\n",
    "    pprint(endpoint_config)\n",
    "else: \n",
    "     print(\"Endpoint configuration {} already exists\".format(endpoint_config_name))"
   ]
  },
  {
   "cell_type": "code",
   "execution_count": 17,
   "metadata": {},
   "outputs": [
    {
     "name": "stdout",
     "output_type": "stream",
     "text": [
      "Endpoint name: churn-prediction-ab-ep-1730389131\n"
     ]
    }
   ],
   "source": [
    "model_ab_endpoint_name = 'churn-prediction-ab-ep-{}'.format(timestamp)\n",
    "print('Endpoint name: {}'.format(model_ab_endpoint_name))"
   ]
  },
  {
   "cell_type": "code",
   "execution_count": 18,
   "metadata": {},
   "outputs": [
    {
     "name": "stdout",
     "output_type": "stream",
     "text": [
      "Creating endpoint churn-prediction-ab-ep-1730389131\n",
      "{'EndpointArn': 'arn:aws:sagemaker:eu-west-3:668303144976:endpoint/churn-prediction-ab-ep-1730389131',\n",
      " 'ResponseMetadata': {'HTTPHeaders': {'content-length': '101',\n",
      "                                      'content-type': 'application/x-amz-json-1.1',\n",
      "                                      'date': 'Thu, 31 Oct 2024 15:38:55 GMT',\n",
      "                                      'x-amzn-requestid': '858dfb14-c09a-4899-a7f6-69235c4b710c'},\n",
      "                      'HTTPStatusCode': 200,\n",
      "                      'RequestId': '858dfb14-c09a-4899-a7f6-69235c4b710c',\n",
      "                      'RetryAttempts': 0}}\n"
     ]
    }
   ],
   "source": [
    "if not check_endpoint_existence(model_ab_endpoint_name):\n",
    "    endpoint_response = sm.create_endpoint(\n",
    "        EndpointName=model_ab_endpoint_name,\n",
    "        EndpointConfigName=endpoint_config_name\n",
    "    )\n",
    "    print('Creating endpoint {}'.format(model_ab_endpoint_name))\n",
    "    pprint(endpoint_response)\n",
    "else:\n",
    "    print(\"Endpoint {} already exists\".format(model_ab_endpoint_name))"
   ]
  },
  {
   "cell_type": "code",
   "execution_count": 19,
   "metadata": {},
   "outputs": [
    {
     "name": "stderr",
     "output_type": "stream",
     "text": [
      "/tmp/ipykernel_23682/24894441.py:1: DeprecationWarning: Importing display from IPython.core.display is deprecated since IPython 7.14, please import from IPython display\n",
      "  from IPython.core.display import display, HTML\n"
     ]
    },
    {
     "data": {
      "text/html": [
       "<b>Review <a target=\"blank\" href=\"https://console.aws.amazon.com/sagemaker/home?region=eu-west-3#/endpoints/churn-prediction-ab-ep-1730389131\">SageMaker REST endpoint</a></b>"
      ],
      "text/plain": [
       "<IPython.core.display.HTML object>"
      ]
     },
     "metadata": {},
     "output_type": "display_data"
    }
   ],
   "source": [
    "from IPython.core.display import display, HTML\n",
    "\n",
    "display(\n",
    "    HTML('<b>Review <a target=\"blank\" href=\"https://console.aws.amazon.com/sagemaker/home?region={}#/endpoints/{}\">SageMaker REST endpoint</a></b>'.format(\n",
    "        region, \n",
    "        model_ab_endpoint_name)\n",
    "        )\n",
    ")"
   ]
  },
  {
   "cell_type": "code",
   "execution_count": 20,
   "metadata": {},
   "outputs": [
    {
     "name": "stdout",
     "output_type": "stream",
     "text": [
      "CPU times: user 28.6 ms, sys: 10.9 ms, total: 39.5 ms\n",
      "Wall time: 3min 30s\n"
     ]
    }
   ],
   "source": [
    "%%time\n",
    "\n",
    "waiter = sm.get_waiter('endpoint_in_service')\n",
    "waiter.wait(EndpointName=model_ab_endpoint_name)"
   ]
  },
  {
   "cell_type": "code",
   "execution_count": 21,
   "metadata": {},
   "outputs": [
    {
     "data": {
      "text/html": [
       "<div>\n",
       "<style scoped>\n",
       "    .dataframe tbody tr th:only-of-type {\n",
       "        vertical-align: middle;\n",
       "    }\n",
       "\n",
       "    .dataframe tbody tr th {\n",
       "        vertical-align: top;\n",
       "    }\n",
       "\n",
       "    .dataframe thead th {\n",
       "        text-align: right;\n",
       "    }\n",
       "</style>\n",
       "<table border=\"1\" class=\"dataframe\">\n",
       "  <thead>\n",
       "    <tr style=\"text-align: right;\">\n",
       "      <th></th>\n",
       "      <th>56</th>\n",
       "      <th>1.1</th>\n",
       "      <th>2</th>\n",
       "      <th>6</th>\n",
       "      <th>1.2</th>\n",
       "      <th>2.1</th>\n",
       "      <th>0.1</th>\n",
       "      <th>49</th>\n",
       "      <th>3</th>\n",
       "      <th>3.1</th>\n",
       "      <th>3.2</th>\n",
       "      <th>4058.0</th>\n",
       "      <th>793</th>\n",
       "      <th>3265.0</th>\n",
       "      <th>0.758</th>\n",
       "      <th>15865</th>\n",
       "      <th>105</th>\n",
       "      <th>0.667</th>\n",
       "      <th>0.195</th>\n",
       "    </tr>\n",
       "  </thead>\n",
       "  <tbody>\n",
       "    <tr>\n",
       "      <th>0</th>\n",
       "      <td>47</td>\n",
       "      <td>1</td>\n",
       "      <td>2</td>\n",
       "      <td>0</td>\n",
       "      <td>1</td>\n",
       "      <td>0</td>\n",
       "      <td>0</td>\n",
       "      <td>35</td>\n",
       "      <td>4</td>\n",
       "      <td>3</td>\n",
       "      <td>2</td>\n",
       "      <td>3636.0</td>\n",
       "      <td>1010</td>\n",
       "      <td>2626.0</td>\n",
       "      <td>0.596</td>\n",
       "      <td>1564</td>\n",
       "      <td>59</td>\n",
       "      <td>0.686</td>\n",
       "      <td>0.278</td>\n",
       "    </tr>\n",
       "    <tr>\n",
       "      <th>1</th>\n",
       "      <td>61</td>\n",
       "      <td>1</td>\n",
       "      <td>0</td>\n",
       "      <td>2</td>\n",
       "      <td>1</td>\n",
       "      <td>2</td>\n",
       "      <td>0</td>\n",
       "      <td>56</td>\n",
       "      <td>6</td>\n",
       "      <td>2</td>\n",
       "      <td>3</td>\n",
       "      <td>9918.0</td>\n",
       "      <td>850</td>\n",
       "      <td>9068.0</td>\n",
       "      <td>0.688</td>\n",
       "      <td>2485</td>\n",
       "      <td>40</td>\n",
       "      <td>0.290</td>\n",
       "      <td>0.086</td>\n",
       "    </tr>\n",
       "    <tr>\n",
       "      <th>2</th>\n",
       "      <td>40</td>\n",
       "      <td>1</td>\n",
       "      <td>3</td>\n",
       "      <td>3</td>\n",
       "      <td>1</td>\n",
       "      <td>1</td>\n",
       "      <td>0</td>\n",
       "      <td>33</td>\n",
       "      <td>4</td>\n",
       "      <td>3</td>\n",
       "      <td>3</td>\n",
       "      <td>6884.0</td>\n",
       "      <td>1001</td>\n",
       "      <td>5883.0</td>\n",
       "      <td>0.786</td>\n",
       "      <td>975</td>\n",
       "      <td>11</td>\n",
       "      <td>0.833</td>\n",
       "      <td>0.145</td>\n",
       "    </tr>\n",
       "  </tbody>\n",
       "</table>\n",
       "</div>"
      ],
      "text/plain": [
       "   56  1.1  2  6  1.2  2.1  0.1  49  3  3.1  3.2  4058.0   793  3265.0  0.758  \\\n",
       "0  47    1  2  0    1    0    0  35  4    3    2  3636.0  1010  2626.0  0.596   \n",
       "1  61    1  0  2    1    2    0  56  6    2    3  9918.0   850  9068.0  0.688   \n",
       "2  40    1  3  3    1    1    0  33  4    3    3  6884.0  1001  5883.0  0.786   \n",
       "\n",
       "   15865  105  0.667  0.195  \n",
       "0   1564   59  0.686  0.278  \n",
       "1   2485   40  0.290  0.086  \n",
       "2    975   11  0.833  0.145  "
      ]
     },
     "metadata": {},
     "output_type": "display_data"
    }
   ],
   "source": [
    "n_preds = 3\n",
    "\n",
    "tst = pd.read_csv(\"./src/BankChurners_mon1 (4).csv\")\n",
    "tst.drop(columns=[tst.columns[0], tst.columns[1]], inplace=True)\n",
    "\n",
    "display(tst.head(n_preds))"
   ]
  },
  {
   "cell_type": "code",
   "execution_count": 22,
   "metadata": {},
   "outputs": [],
   "source": [
    "from sagemaker.predictor import Predictor\n",
    "from sagemaker.serializers import CSVSerializer, JSONLinesSerializer, JSONSerializer\n",
    "from sagemaker.deserializers import JSONDeserializer, CSVDeserializer\n",
    "\n",
    "predictor = Predictor(\n",
    "    endpoint_name=model_ab_endpoint_name,\n",
    "    serializer=JSONSerializer(),\n",
    "    deserializer=JSONDeserializer(),\n",
    "    sagemaker_session=sess\n",
    ")\n"
   ]
  },
  {
   "cell_type": "markdown",
   "metadata": {},
   "source": [
    "Complete prediction script."
   ]
  },
  {
   "cell_type": "code",
   "execution_count": 23,
   "metadata": {},
   "outputs": [
    {
     "name": "stdout",
     "output_type": "stream",
     "text": [
      "array([[4.700e+01, 1.000e+00, 2.000e+00, 0.000e+00, 1.000e+00, 0.000e+00,\n",
      "        0.000e+00, 3.500e+01, 4.000e+00, 3.000e+00, 2.000e+00, 3.636e+03,\n",
      "        1.010e+03, 2.626e+03, 5.960e-01, 1.564e+03, 5.900e+01, 6.860e-01,\n",
      "        2.780e-01],\n",
      "       [6.100e+01, 1.000e+00, 0.000e+00, 2.000e+00, 1.000e+00, 2.000e+00,\n",
      "        0.000e+00, 5.600e+01, 6.000e+00, 2.000e+00, 3.000e+00, 9.918e+03,\n",
      "        8.500e+02, 9.068e+03, 6.880e-01, 2.485e+03, 4.000e+01, 2.900e-01,\n",
      "        8.600e-02],\n",
      "       [4.000e+01, 1.000e+00, 3.000e+00, 3.000e+00, 1.000e+00, 1.000e+00,\n",
      "        0.000e+00, 3.300e+01, 4.000e+00, 3.000e+00, 3.000e+00, 6.884e+03,\n",
      "        1.001e+03, 5.883e+03, 7.860e-01, 9.750e+02, 1.100e+01, 8.330e-01,\n",
      "        1.450e-01]])\n"
     ]
    }
   ],
   "source": [
    "import json\n",
    "from pprint import pprint\n",
    "\n",
    "\n",
    "payload = tst.head(n_preds).values\n",
    "pprint(payload)"
   ]
  },
  {
   "cell_type": "code",
   "execution_count": 24,
   "metadata": {},
   "outputs": [
    {
     "ename": "ModelError",
     "evalue": "An error occurred (ModelError) when calling the InvokeEndpoint operation: Received server error (500) from primary with message \"<!DOCTYPE HTML PUBLIC \"-//W3C//DTD HTML 3.2 Final//EN\">\n<title>500 Internal Server Error</title>\n<h1>Internal Server Error</h1>\n<p>The server encountered an internal error and was unable to complete your request. Either the server is overloaded or there is an error in the application.</p>\n\". See https://eu-west-3.console.aws.amazon.com/cloudwatch/home?region=eu-west-3#logEventViewer:group=/aws/sagemaker/Endpoints/churn-prediction-ab-ep-1730389131 in account 668303144976 for more information.",
     "output_type": "error",
     "traceback": [
      "\u001b[0;31m---------------------------------------------------------------------------\u001b[0m",
      "\u001b[0;31mModelError\u001b[0m                                Traceback (most recent call last)",
      "Cell \u001b[0;32mIn[24], line 1\u001b[0m\n\u001b[0;32m----> 1\u001b[0m \u001b[43mpredictor\u001b[49m\u001b[38;5;241;43m.\u001b[39;49m\u001b[43mpredict\u001b[49m\u001b[43m(\u001b[49m\u001b[43mpayload\u001b[49m\u001b[43m,\u001b[49m\u001b[43m \u001b[49m\u001b[43mtarget_variant\u001b[49m\u001b[38;5;241;43m=\u001b[39;49m\u001b[38;5;124;43m'\u001b[39;49m\u001b[38;5;124;43mVariantB\u001b[39;49m\u001b[38;5;124;43m'\u001b[39;49m\u001b[43m)\u001b[49m\n",
      "File \u001b[0;32m/opt/conda/lib/python3.11/site-packages/sagemaker/base_predictor.py:212\u001b[0m, in \u001b[0;36mPredictor.predict\u001b[0;34m(self, data, initial_args, target_model, target_variant, inference_id, custom_attributes, component_name)\u001b[0m\n\u001b[1;32m    209\u001b[0m \u001b[38;5;28;01mif\u001b[39;00m inference_component_name:\n\u001b[1;32m    210\u001b[0m     request_args[\u001b[38;5;124m\"\u001b[39m\u001b[38;5;124mInferenceComponentName\u001b[39m\u001b[38;5;124m\"\u001b[39m] \u001b[38;5;241m=\u001b[39m inference_component_name\n\u001b[0;32m--> 212\u001b[0m response \u001b[38;5;241m=\u001b[39m \u001b[38;5;28;43mself\u001b[39;49m\u001b[38;5;241;43m.\u001b[39;49m\u001b[43msagemaker_session\u001b[49m\u001b[38;5;241;43m.\u001b[39;49m\u001b[43msagemaker_runtime_client\u001b[49m\u001b[38;5;241;43m.\u001b[39;49m\u001b[43minvoke_endpoint\u001b[49m\u001b[43m(\u001b[49m\u001b[38;5;241;43m*\u001b[39;49m\u001b[38;5;241;43m*\u001b[39;49m\u001b[43mrequest_args\u001b[49m\u001b[43m)\u001b[49m\n\u001b[1;32m    213\u001b[0m \u001b[38;5;28;01mreturn\u001b[39;00m \u001b[38;5;28mself\u001b[39m\u001b[38;5;241m.\u001b[39m_handle_response(response)\n",
      "File \u001b[0;32m/opt/conda/lib/python3.11/site-packages/botocore/client.py:565\u001b[0m, in \u001b[0;36mClientCreator._create_api_method.<locals>._api_call\u001b[0;34m(self, *args, **kwargs)\u001b[0m\n\u001b[1;32m    561\u001b[0m     \u001b[38;5;28;01mraise\u001b[39;00m \u001b[38;5;167;01mTypeError\u001b[39;00m(\n\u001b[1;32m    562\u001b[0m         \u001b[38;5;124mf\u001b[39m\u001b[38;5;124m\"\u001b[39m\u001b[38;5;132;01m{\u001b[39;00mpy_operation_name\u001b[38;5;132;01m}\u001b[39;00m\u001b[38;5;124m() only accepts keyword arguments.\u001b[39m\u001b[38;5;124m\"\u001b[39m\n\u001b[1;32m    563\u001b[0m     )\n\u001b[1;32m    564\u001b[0m \u001b[38;5;66;03m# The \"self\" in this scope is referring to the BaseClient.\u001b[39;00m\n\u001b[0;32m--> 565\u001b[0m \u001b[38;5;28;01mreturn\u001b[39;00m \u001b[38;5;28;43mself\u001b[39;49m\u001b[38;5;241;43m.\u001b[39;49m\u001b[43m_make_api_call\u001b[49m\u001b[43m(\u001b[49m\u001b[43moperation_name\u001b[49m\u001b[43m,\u001b[49m\u001b[43m \u001b[49m\u001b[43mkwargs\u001b[49m\u001b[43m)\u001b[49m\n",
      "File \u001b[0;32m/opt/conda/lib/python3.11/site-packages/botocore/client.py:1021\u001b[0m, in \u001b[0;36mBaseClient._make_api_call\u001b[0;34m(self, operation_name, api_params)\u001b[0m\n\u001b[1;32m   1017\u001b[0m     error_code \u001b[38;5;241m=\u001b[39m error_info\u001b[38;5;241m.\u001b[39mget(\u001b[38;5;124m\"\u001b[39m\u001b[38;5;124mQueryErrorCode\u001b[39m\u001b[38;5;124m\"\u001b[39m) \u001b[38;5;129;01mor\u001b[39;00m error_info\u001b[38;5;241m.\u001b[39mget(\n\u001b[1;32m   1018\u001b[0m         \u001b[38;5;124m\"\u001b[39m\u001b[38;5;124mCode\u001b[39m\u001b[38;5;124m\"\u001b[39m\n\u001b[1;32m   1019\u001b[0m     )\n\u001b[1;32m   1020\u001b[0m     error_class \u001b[38;5;241m=\u001b[39m \u001b[38;5;28mself\u001b[39m\u001b[38;5;241m.\u001b[39mexceptions\u001b[38;5;241m.\u001b[39mfrom_code(error_code)\n\u001b[0;32m-> 1021\u001b[0m     \u001b[38;5;28;01mraise\u001b[39;00m error_class(parsed_response, operation_name)\n\u001b[1;32m   1022\u001b[0m \u001b[38;5;28;01melse\u001b[39;00m:\n\u001b[1;32m   1023\u001b[0m     \u001b[38;5;28;01mreturn\u001b[39;00m parsed_response\n",
      "\u001b[0;31mModelError\u001b[0m: An error occurred (ModelError) when calling the InvokeEndpoint operation: Received server error (500) from primary with message \"<!DOCTYPE HTML PUBLIC \"-//W3C//DTD HTML 3.2 Final//EN\">\n<title>500 Internal Server Error</title>\n<h1>Internal Server Error</h1>\n<p>The server encountered an internal error and was unable to complete your request. Either the server is overloaded or there is an error in the application.</p>\n\". See https://eu-west-3.console.aws.amazon.com/cloudwatch/home?region=eu-west-3#logEventViewer:group=/aws/sagemaker/Endpoints/churn-prediction-ab-ep-1730389131 in account 668303144976 for more information."
     ]
    }
   ],
   "source": [
    "predictor.predict(payload, target_variant='VariantB')"
   ]
  },
  {
   "cell_type": "markdown",
   "metadata": {},
   "source": [
    "Cleanup resources"
   ]
  },
  {
   "cell_type": "code",
   "execution_count": 25,
   "metadata": {},
   "outputs": [],
   "source": [
    "predictor.delete_model()\n",
    "predictor.delete_endpoint()"
   ]
  }
 ],
 "metadata": {
  "kernelspec": {
   "display_name": "base",
   "language": "python",
   "name": "python3"
  },
  "language_info": {
   "codemirror_mode": {
    "name": "ipython",
    "version": 3
   },
   "file_extension": ".py",
   "mimetype": "text/x-python",
   "name": "python",
   "nbconvert_exporter": "python",
   "pygments_lexer": "ipython3",
   "version": "3.11.9"
  }
 },
 "nbformat": 4,
 "nbformat_minor": 2
}
