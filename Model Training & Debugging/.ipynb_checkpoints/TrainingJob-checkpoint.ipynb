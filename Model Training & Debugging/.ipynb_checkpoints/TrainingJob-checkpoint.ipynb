{
 "cells": [
  {
   "cell_type": "markdown",
   "id": "4e76b30f-f3ec-4955-b4a0-251debb95c49",
   "metadata": {},
   "source": [
    "# Train, debug & profile Machine Learning Models\n",
    "In this notebook, we use sagemaker to train models\n",
    "\n",
    "## Table of contents\n",
    "___\n",
    "1. sob\n",
    "2. al3ab\n",
    "3. fadlek"
   ]
  },
  {
   "cell_type": "code",
   "execution_count": 2,
   "id": "210114bb-aa46-48a2-b09d-29f018cc5858",
   "metadata": {},
   "outputs": [
    {
     "name": "stdout",
     "output_type": "stream",
     "text": [
      "sagemaker.config INFO - Not applying SDK defaults from location: /etc/xdg/sagemaker/config.yaml\n",
      "sagemaker.config INFO - Not applying SDK defaults from location: /root/.config/sagemaker/config.yaml\n",
      "sagemaker.config INFO - Not applying SDK defaults from location: /etc/xdg/sagemaker/config.yaml\n",
      "sagemaker.config INFO - Not applying SDK defaults from location: /root/.config/sagemaker/config.yaml\n",
      "sagemaker.config INFO - Not applying SDK defaults from location: /etc/xdg/sagemaker/config.yaml\n",
      "sagemaker.config INFO - Not applying SDK defaults from location: /root/.config/sagemaker/config.yaml\n"
     ]
    }
   ],
   "source": [
    "import os\n",
    "import sagemaker\n",
    "import logging\n",
    "import boto3\n",
    "import time\n",
    "import pandas as pd\n",
    "import json\n",
    "import botocore\n",
    "from botocore.exceptions import ClientError\n",
    "\n",
    "\n",
    "# ========================== low-level service client of the boto3 session ==========================\n",
    "config = botocore.config.Config(user_agent_extra='bedissj-1699438736259')\n",
    "\n",
    "\n",
    "sm = boto3.client(service_name='sagemaker', \n",
    "                  config=config)\n",
    "\n",
    "sm_runtime = boto3.client('sagemaker-runtime',\n",
    "                          config=config)\n",
    "\n",
    "sess = sagemaker.Session(sagemaker_client=sm,\n",
    "                         sagemaker_runtime_client=sm_runtime)\n",
    "\n",
    "bucket = sess.default_bucket()\n",
    "role = sagemaker.get_execution_role()\n",
    "region = sess.boto_region_name"
   ]
  },
  {
   "cell_type": "markdown",
   "id": "f70ec276-f532-40dd-877f-49a121232ce9",
   "metadata": {},
   "source": [
    "# 1. Training a custom SKLearn estimator\n",
    "___"
   ]
  },
  {
   "cell_type": "code",
   "execution_count": 3,
   "id": "050e1d48-c830-4581-a386-67ff3ae25231",
   "metadata": {},
   "outputs": [],
   "source": [
    "churn_mon1 = 1\n",
    "churn_mon2 = 2\n",
    "\n",
    "n_estimators = 7\n",
    "max_depth = 3\n",
    "criterion = 'gini'\n",
    "random_state = 2023\n",
    "\n",
    "train_data_s3_uri = 's3://{}/sagemaker-scikit-learn-2023-11-13-11-46-50-760/output/bank-churn-train/'.format(bucket)\n",
    "validation_data_s3_uri = 's3://{}/sagemaker-scikit-learn-2023-11-13-11-46-50-760/output/bank-churn-validation/'.format(bucket)\n",
    "FRAMEWORK_VERSION = '1.0-1'\n",
    "instance_type = 'ml.m5.large'\n",
    "instance_count = 1"
   ]
  },
  {
   "cell_type": "code",
   "execution_count": 4,
   "id": "67b38763-add9-4ed7-8aca-262046f70caf",
   "metadata": {},
   "outputs": [
    {
     "name": "stdout",
     "output_type": "stream",
     "text": [
      "2023-11-13 12:55:11    1187284 BankChurners.csv\n"
     ]
    }
   ],
   "source": [
    "!aws s3 ls $train_data_s3_uri"
   ]
  },
  {
   "cell_type": "code",
   "execution_count": 5,
   "id": "5a18f642-7c19-4adb-9682-a6c304b5f34d",
   "metadata": {},
   "outputs": [
    {
     "name": "stdout",
     "output_type": "stream",
     "text": [
      "2023-11-13 12:55:11     136670 BankChurners.csv\n"
     ]
    }
   ],
   "source": [
    "!aws s3 ls $validation_data_s3_uri"
   ]
  },
  {
   "cell_type": "code",
   "execution_count": 6,
   "id": "31db588a-9a76-4eb8-937a-b7d9016368d2",
   "metadata": {},
   "outputs": [],
   "source": [
    "hyperparameters_mon1 = {\n",
    "    'churn_month': churn_mon1,\n",
    "    'n_estimators': n_estimators,\n",
    "    'max_depth': max_depth,\n",
    "    'criterion': criterion,\n",
    "    'random_state': random_state\n",
    "}"
   ]
  },
  {
   "cell_type": "code",
   "execution_count": 7,
   "id": "6a71bc0c-aa32-4c70-bbc0-59b0f164f08b",
   "metadata": {},
   "outputs": [],
   "source": [
    "hyperparameters_mon2 = {\n",
    "    'churn_month': churn_mon2,\n",
    "    'n_estimators': n_estimators,\n",
    "    'max_depth': max_depth,\n",
    "    'criterion': criterion,\n",
    "    'random_state': random_state\n",
    "}"
   ]
  },
  {
   "cell_type": "code",
   "execution_count": 8,
   "id": "93e7b6f4-e0ed-48a0-b4ad-191c1ef47395",
   "metadata": {},
   "outputs": [],
   "source": [
    "metric_definitions = [\n",
    "    {'Name': 'validation:precision', 'Regex': 'val_precision: ([0-9.]+)'},\n",
    "    {'Name': 'validation:recall', 'Regex': 'val_recall: ([0-9.]+)'},\n",
    "    {'Name': 'validation:f1Score', 'Regex': 'val_f1score: ([0-9.]+)'},\n",
    "    {'Name': 'validation:ROCAUC', 'Regex': 'val_roc_auc: ([0-9.]+)'},\n",
    "    {'Name': 'validation:accuracy', 'Regex': 'val_accuracy: ([0-9.]+)'}\n",
    "]"
   ]
  },
  {
   "cell_type": "code",
   "execution_count": 9,
   "id": "f858f594-df6e-4887-87c7-c7cee69c1e7c",
   "metadata": {},
   "outputs": [],
   "source": [
    "from sagemaker.inputs import TrainingInput\n",
    "\n",
    "\n",
    "data_channels = {\n",
    "    'train': TrainingInput(s3_data=train_data_s3_uri),\n",
    "    'validation': TrainingInput(s3_data=validation_data_s3_uri)\n",
    "}"
   ]
  },
  {
   "cell_type": "code",
   "execution_count": 46,
   "id": "fbc234d4-bbee-43c4-81a2-c2182c849012",
   "metadata": {},
   "outputs": [
    {
     "name": "stdout",
     "output_type": "stream",
     "text": [
      "sagemaker.config INFO - Not applying SDK defaults from location: /etc/xdg/sagemaker/config.yaml\n",
      "sagemaker.config INFO - Not applying SDK defaults from location: /root/.config/sagemaker/config.yaml\n",
      "sagemaker.config INFO - Not applying SDK defaults from location: /etc/xdg/sagemaker/config.yaml\n",
      "sagemaker.config INFO - Not applying SDK defaults from location: /root/.config/sagemaker/config.yaml\n"
     ]
    }
   ],
   "source": [
    "from sagemaker.sklearn.estimator import SKLearn\n",
    "\n",
    "\n",
    "sklearn_estimator_mon1 = SKLearn(\n",
    "    entry_point='train.py',\n",
    "    framework_version=FRAMEWORK_VERSION,\n",
    "    instance_count=instance_count,\n",
    "    instance_type=instance_type,\n",
    "    role=role,\n",
    "    metric_definitions=metric_definitions,\n",
    "    hyperparameters=hyperparameters_mon1,\n",
    ")\n",
    "\n",
    "\n",
    "sklearn_estimator_mon2 = SKLearn(\n",
    "    entry_point='train.py',\n",
    "    framework_version=FRAMEWORK_VERSION,\n",
    "    instance_count=instance_count,\n",
    "    instance_type=instance_type,\n",
    "    role=role,\n",
    "    metric_definitions=metric_definitions,\n",
    "    hyperparameters=hyperparameters_mon2,\n",
    ")"
   ]
  },
  {
   "cell_type": "code",
   "execution_count": 47,
   "id": "32653c6e-d8a9-4d83-9d19-328ff770521f",
   "metadata": {},
   "outputs": [
    {
     "name": "stderr",
     "output_type": "stream",
     "text": [
      "INFO:sagemaker:Creating training-job with name: sagemaker-scikit-learn-2023-11-17-06-55-37-105\n"
     ]
    },
    {
     "name": "stdout",
     "output_type": "stream",
     "text": [
      "Using provided s3_resource\n"
     ]
    },
    {
     "name": "stderr",
     "output_type": "stream",
     "text": [
      "INFO:sagemaker:Creating training-job with name: sagemaker-scikit-learn-2023-11-17-06-55-37-897\n"
     ]
    },
    {
     "name": "stdout",
     "output_type": "stream",
     "text": [
      "Using provided s3_resource\n"
     ]
    }
   ],
   "source": [
    "sklearn_estimator_mon1.fit(\n",
    "    inputs=data_channels,\n",
    "    wait=False,\n",
    "    logs='All'\n",
    ")\n",
    "\n",
    "sklearn_estimator_mon2.fit(\n",
    "    inputs=data_channels,\n",
    "    wait=False,\n",
    "    logs='All'\n",
    ")"
   ]
  },
  {
   "cell_type": "code",
   "execution_count": 32,
   "id": "cb689bfd-7f23-4f87-8556-6f5fd4c5ff6e",
   "metadata": {
    "tags": []
   },
   "outputs": [],
   "source": [
    "# sklearn_estimator_mon1.latest_training_job.describe().keys()"
   ]
  },
  {
   "cell_type": "code",
   "execution_count": 49,
   "id": "b49b70eb-34f6-4a1c-87ae-8fb9d9d1a547",
   "metadata": {
    "tags": []
   },
   "outputs": [
    {
     "name": "stdout",
     "output_type": "stream",
     "text": [
      "sagemaker-scikit-learn-2023-11-17-06-55-37-105\n",
      "Completed\n",
      "Completed\n",
      "{'churn_month': '1',\n",
      " 'criterion': '\"gini\"',\n",
      " 'max_depth': '3',\n",
      " 'n_estimators': '7',\n",
      " 'random_state': '2023',\n",
      " 'sagemaker_container_log_level': '20',\n",
      " 'sagemaker_job_name': '\"sagemaker-scikit-learn-2023-11-17-06-55-37-105\"',\n",
      " 'sagemaker_program': '\"train.py\"',\n",
      " 'sagemaker_region': '\"eu-west-3\"',\n",
      " 'sagemaker_submit_directory': '\"s3://sagemaker-eu-west-3-668303144976/sagemaker-scikit-learn-2023-11-17-06-55-37-105/source/sourcedir.tar.gz\"'}\n",
      "{'EnableSageMakerMetricsTimeSeries': False,\n",
      " 'MetricDefinitions': [{'Name': 'validation:precision',\n",
      "                        'Regex': 'val_precision: ([0-9.]+)'},\n",
      "                       {'Name': 'validation:recall',\n",
      "                        'Regex': 'val_recall: ([0-9.]+)'},\n",
      "                       {'Name': 'validation:f1Score',\n",
      "                        'Regex': 'val_f1score: ([0-9.]+)'},\n",
      "                       {'Name': 'validation:ROCAUC',\n",
      "                        'Regex': 'val_roc_auc: ([0-9.]+)'},\n",
      "                       {'Name': 'validation:accuracy',\n",
      "                        'Regex': 'val_accuracy: ([0-9.]+)'}],\n",
      " 'TrainingImage': '659782779980.dkr.ecr.eu-west-3.amazonaws.com/sagemaker-scikit-learn:1.0-1-cpu-py3',\n",
      " 'TrainingInputMode': 'File'}\n",
      "----------------------------------------------\n",
      "\n",
      "sagemaker-scikit-learn-2023-11-17-06-55-37-897\n",
      "Completed\n",
      "Completed\n",
      "{'churn_month': '2',\n",
      " 'criterion': '\"gini\"',\n",
      " 'max_depth': '3',\n",
      " 'n_estimators': '7',\n",
      " 'random_state': '2023',\n",
      " 'sagemaker_container_log_level': '20',\n",
      " 'sagemaker_job_name': '\"sagemaker-scikit-learn-2023-11-17-06-55-37-897\"',\n",
      " 'sagemaker_program': '\"train.py\"',\n",
      " 'sagemaker_region': '\"eu-west-3\"',\n",
      " 'sagemaker_submit_directory': '\"s3://sagemaker-eu-west-3-668303144976/sagemaker-scikit-learn-2023-11-17-06-55-37-897/source/sourcedir.tar.gz\"'}\n",
      "{'EnableSageMakerMetricsTimeSeries': False,\n",
      " 'MetricDefinitions': [{'Name': 'validation:precision',\n",
      "                        'Regex': 'val_precision: ([0-9.]+)'},\n",
      "                       {'Name': 'validation:recall',\n",
      "                        'Regex': 'val_recall: ([0-9.]+)'},\n",
      "                       {'Name': 'validation:f1Score',\n",
      "                        'Regex': 'val_f1score: ([0-9.]+)'},\n",
      "                       {'Name': 'validation:ROCAUC',\n",
      "                        'Regex': 'val_roc_auc: ([0-9.]+)'},\n",
      "                       {'Name': 'validation:accuracy',\n",
      "                        'Regex': 'val_accuracy: ([0-9.]+)'}],\n",
      " 'TrainingImage': '659782779980.dkr.ecr.eu-west-3.amazonaws.com/sagemaker-scikit-learn:1.0-1-cpu-py3',\n",
      " 'TrainingInputMode': 'File'}\n",
      "----------------------------------------------\n",
      "\n"
     ]
    }
   ],
   "source": [
    "from pprint import pprint\n",
    "\n",
    "\n",
    "for estimator in [sklearn_estimator_mon1, sklearn_estimator_mon2]:\n",
    "    training_job = estimator.latest_training_job\n",
    "\n",
    "    print(training_job.describe()['TrainingJobName'])\n",
    "    print(training_job.describe()['TrainingJobStatus'])\n",
    "    print(training_job.describe()['SecondaryStatus'])\n",
    "    pprint(training_job.describe()['HyperParameters'])\n",
    "    pprint(training_job.describe()['AlgorithmSpecification'])\n",
    "    print('----------------------------------------------\\n')"
   ]
  },
  {
   "cell_type": "code",
   "execution_count": 50,
   "id": "c3c7f59a-cb84-4654-932c-41b4354a02db",
   "metadata": {},
   "outputs": [
    {
     "name": "stdout",
     "output_type": "stream",
     "text": [
      "sagemaker-scikit-learn-2023-11-17-06-55-37-105\n",
      "[{'ChannelName': 'train',\n",
      "  'CompressionType': 'None',\n",
      "  'DataSource': {'S3DataSource': {'S3DataDistributionType': 'FullyReplicated',\n",
      "                                  'S3DataType': 'S3Prefix',\n",
      "                                  'S3Uri': 's3://sagemaker-eu-west-3-668303144976/sagemaker-scikit-learn-2023-11-13-11-46-50-760/output/bank-churn-train/'}},\n",
      "  'RecordWrapperType': 'None'},\n",
      " {'ChannelName': 'validation',\n",
      "  'CompressionType': 'None',\n",
      "  'DataSource': {'S3DataSource': {'S3DataDistributionType': 'FullyReplicated',\n",
      "                                  'S3DataType': 'S3Prefix',\n",
      "                                  'S3Uri': 's3://sagemaker-eu-west-3-668303144976/sagemaker-scikit-learn-2023-11-13-11-46-50-760/output/bank-churn-validation/'}},\n",
      "  'RecordWrapperType': 'None'}]\n",
      "{'CompressionType': 'GZIP',\n",
      " 'KmsKeyId': '',\n",
      " 'S3OutputPath': 's3://sagemaker-eu-west-3-668303144976/'}\n",
      "----------------------------------------\n",
      "\n",
      "sagemaker-scikit-learn-2023-11-17-06-55-37-897\n",
      "[{'ChannelName': 'train',\n",
      "  'CompressionType': 'None',\n",
      "  'DataSource': {'S3DataSource': {'S3DataDistributionType': 'FullyReplicated',\n",
      "                                  'S3DataType': 'S3Prefix',\n",
      "                                  'S3Uri': 's3://sagemaker-eu-west-3-668303144976/sagemaker-scikit-learn-2023-11-13-11-46-50-760/output/bank-churn-train/'}},\n",
      "  'RecordWrapperType': 'None'},\n",
      " {'ChannelName': 'validation',\n",
      "  'CompressionType': 'None',\n",
      "  'DataSource': {'S3DataSource': {'S3DataDistributionType': 'FullyReplicated',\n",
      "                                  'S3DataType': 'S3Prefix',\n",
      "                                  'S3Uri': 's3://sagemaker-eu-west-3-668303144976/sagemaker-scikit-learn-2023-11-13-11-46-50-760/output/bank-churn-validation/'}},\n",
      "  'RecordWrapperType': 'None'}]\n",
      "{'CompressionType': 'GZIP',\n",
      " 'KmsKeyId': '',\n",
      " 'S3OutputPath': 's3://sagemaker-eu-west-3-668303144976/'}\n",
      "----------------------------------------\n",
      "\n"
     ]
    }
   ],
   "source": [
    "for estimator in [sklearn_estimator_mon1, sklearn_estimator_mon2]:\n",
    "    training_job = estimator.latest_training_job\n",
    "    \n",
    "    print(training_job.describe()['TrainingJobName'])\n",
    "    pprint(training_job.describe()['InputDataConfig'])\n",
    "    pprint(training_job.describe()['OutputDataConfig'])\n",
    "    print('----------------------------------------\\n')"
   ]
  },
  {
   "cell_type": "code",
   "execution_count": 54,
   "id": "abcc1f28-0989-401a-b657-70f76f27639d",
   "metadata": {
    "tags": []
   },
   "outputs": [
    {
     "name": "stdout",
     "output_type": "stream",
     "text": [
      "sagemaker-scikit-learn-2023-11-17-06-55-37-105\n"
     ]
    },
    {
     "data": {
      "text/html": [
       "<div>\n",
       "<style scoped>\n",
       "    .dataframe tbody tr th:only-of-type {\n",
       "        vertical-align: middle;\n",
       "    }\n",
       "\n",
       "    .dataframe tbody tr th {\n",
       "        vertical-align: top;\n",
       "    }\n",
       "\n",
       "    .dataframe thead th {\n",
       "        text-align: right;\n",
       "    }\n",
       "</style>\n",
       "<table border=\"1\" class=\"dataframe\">\n",
       "  <thead>\n",
       "    <tr style=\"text-align: right;\">\n",
       "      <th></th>\n",
       "      <th>timestamp</th>\n",
       "      <th>metric_name</th>\n",
       "      <th>value</th>\n",
       "    </tr>\n",
       "  </thead>\n",
       "  <tbody>\n",
       "    <tr>\n",
       "      <th>0</th>\n",
       "      <td>0.0</td>\n",
       "      <td>validation:precision</td>\n",
       "      <td>0.9000</td>\n",
       "    </tr>\n",
       "    <tr>\n",
       "      <th>1</th>\n",
       "      <td>0.0</td>\n",
       "      <td>validation:recall</td>\n",
       "      <td>0.3200</td>\n",
       "    </tr>\n",
       "    <tr>\n",
       "      <th>2</th>\n",
       "      <td>0.0</td>\n",
       "      <td>validation:f1Score</td>\n",
       "      <td>0.4700</td>\n",
       "    </tr>\n",
       "    <tr>\n",
       "      <th>3</th>\n",
       "      <td>0.0</td>\n",
       "      <td>validation:ROCAUC</td>\n",
       "      <td>0.9200</td>\n",
       "    </tr>\n",
       "    <tr>\n",
       "      <th>4</th>\n",
       "      <td>0.0</td>\n",
       "      <td>validation:accuracy</td>\n",
       "      <td>0.8705</td>\n",
       "    </tr>\n",
       "  </tbody>\n",
       "</table>\n",
       "</div>"
      ],
      "text/plain": [
       "   timestamp           metric_name   value\n",
       "0        0.0  validation:precision  0.9000\n",
       "1        0.0     validation:recall  0.3200\n",
       "2        0.0    validation:f1Score  0.4700\n",
       "3        0.0     validation:ROCAUC  0.9200\n",
       "4        0.0   validation:accuracy  0.8705"
      ]
     },
     "metadata": {},
     "output_type": "display_data"
    },
    {
     "name": "stdout",
     "output_type": "stream",
     "text": [
      "sagemaker-scikit-learn-2023-11-17-06-55-37-897\n"
     ]
    },
    {
     "data": {
      "text/html": [
       "<div>\n",
       "<style scoped>\n",
       "    .dataframe tbody tr th:only-of-type {\n",
       "        vertical-align: middle;\n",
       "    }\n",
       "\n",
       "    .dataframe tbody tr th {\n",
       "        vertical-align: top;\n",
       "    }\n",
       "\n",
       "    .dataframe thead th {\n",
       "        text-align: right;\n",
       "    }\n",
       "</style>\n",
       "<table border=\"1\" class=\"dataframe\">\n",
       "  <thead>\n",
       "    <tr style=\"text-align: right;\">\n",
       "      <th></th>\n",
       "      <th>timestamp</th>\n",
       "      <th>metric_name</th>\n",
       "      <th>value</th>\n",
       "    </tr>\n",
       "  </thead>\n",
       "  <tbody>\n",
       "    <tr>\n",
       "      <th>0</th>\n",
       "      <td>0.0</td>\n",
       "      <td>validation:precision</td>\n",
       "      <td>0.8700</td>\n",
       "    </tr>\n",
       "    <tr>\n",
       "      <th>1</th>\n",
       "      <td>0.0</td>\n",
       "      <td>validation:recall</td>\n",
       "      <td>0.9900</td>\n",
       "    </tr>\n",
       "    <tr>\n",
       "      <th>2</th>\n",
       "      <td>0.0</td>\n",
       "      <td>validation:f1Score</td>\n",
       "      <td>0.9300</td>\n",
       "    </tr>\n",
       "    <tr>\n",
       "      <th>3</th>\n",
       "      <td>0.0</td>\n",
       "      <td>validation:ROCAUC</td>\n",
       "      <td>0.9200</td>\n",
       "    </tr>\n",
       "    <tr>\n",
       "      <th>4</th>\n",
       "      <td>0.0</td>\n",
       "      <td>validation:accuracy</td>\n",
       "      <td>0.8705</td>\n",
       "    </tr>\n",
       "  </tbody>\n",
       "</table>\n",
       "</div>"
      ],
      "text/plain": [
       "   timestamp           metric_name   value\n",
       "0        0.0  validation:precision  0.8700\n",
       "1        0.0     validation:recall  0.9900\n",
       "2        0.0    validation:f1Score  0.9300\n",
       "3        0.0     validation:ROCAUC  0.9200\n",
       "4        0.0   validation:accuracy  0.8705"
      ]
     },
     "metadata": {},
     "output_type": "display_data"
    },
    {
     "data": {
      "image/png": "[encoded data removed]",
      "text/plain": [
       "<Figure size 640x480 with 1 Axes>"
      ]
     },
     "metadata": {
      "image/png": {
       "height": 470,
       "width": 629
      }
     },
     "output_type": "display_data"
    },
    {
     "data": {
      "image/png": "[encoded data removed]",
      "text/plain": [
       "<Figure size 640x480 with 1 Axes>"
      ]
     },
     "metadata": {
      "image/png": {
       "height": 470,
       "width": 629
      }
     },
     "output_type": "display_data"
    }
   ],
   "source": [
    "import matplotlib.pyplot as plt\n",
    "%matplotlib inline\n",
    "%config InlineBackend.figure_format='retina'\n",
    "\n",
    "\n",
    "for estimator in [sklearn_estimator_mon1, sklearn_estimator_mon2]:\n",
    "    \n",
    "    training_job = estimator.latest_training_job.describe()\n",
    "    churn_mon = training_job['HyperParameters'].get('churn_month')\n",
    "    print(training_job['TrainingJobName'])\n",
    "    \n",
    "    df_metrics = estimator.training_job_analytics.dataframe()\n",
    "    df_metrics.loc[df_metrics.metric_name=='validation:accuracy', 'value'] /= 100\n",
    "\n",
    "    \n",
    "    display(df_metrics)\n",
    "    df_metrics.plot.bar(x='metric_name', y='value', \n",
    "                        title='Validation metrics - Churn prediction month {}'.format(churn_mon), \n",
    "                        ylabel='Value')\n",
    "    \n",
    "    plt.tight_layout();"
   ]
  },
  {
   "cell_type": "code",
   "execution_count": 55,
   "id": "3d0b46e3-5362-4203-8346-6819806c6bb4",
   "metadata": {
    "tags": []
   },
   "outputs": [
    {
     "name": "stdout",
     "output_type": "stream",
     "text": [
      "upload: ./TrainingJob.ipynb to s3://sagemaker-eu-west-3-668303144976/Training-Job-without-debugger/TrainingJob.ipynb\n",
      "upload: ./train.py to s3://sagemaker-eu-west-3-668303144976/Training-Job-without-debugger/train.py\n"
     ]
    }
   ],
   "source": [
    "!aws s3 cp ./TrainingJob.ipynb s3://$bucket/Training-Job-without-debugger/TrainingJob.ipynb\n",
    "!aws s3 cp ./train.py s3://$bucket/Training-Job-without-debugger/train.py"
   ]
  },
  {
   "cell_type": "markdown",
   "id": "0feb5ef2-9b7b-4342-8c5e-d96d4d333117",
   "metadata": {
    "tags": []
   },
   "source": [
    "# 2. Hyperparameters Tuning Job \n",
    "___\n",
    "## 2.1 Setup hyperparameters"
   ]
  },
  {
   "cell_type": "code",
   "execution_count": 89,
   "id": "288df359-a81a-4496-a9a1-a416b95981a1",
   "metadata": {
    "tags": []
   },
   "outputs": [],
   "source": [
    "hyperparameters_static_mon1 = {\n",
    "    'churn_month': churn_mon1,\n",
    "    'random_state': random_state\n",
    "}\n",
    "\n",
    "hyperparameters_static_mon2 = {\n",
    "    'churn_month': churn_mon2,\n",
    "    'random_state': random_state\n",
    "}"
   ]
  },
  {
   "cell_type": "code",
   "execution_count": 90,
   "id": "4a768cfd-efce-4778-b1c1-7071c957af3c",
   "metadata": {
    "tags": []
   },
   "outputs": [],
   "source": [
    "from sagemaker.parameter import CategoricalParameter, ContinuousParameter, IntegerParameter\n",
    "\n",
    "\n",
    "hyperparameter_ranges = {\n",
    "    'n_estimators': IntegerParameter(min_value=100, \n",
    "                                     max_value=200, \n",
    "                                     scaling_type='Logarithmic'),\n",
    "    \n",
    "    'max_depth': IntegerParameter(min_value=3, \n",
    "                                  max_value=10, \n",
    "                                  scaling_type='Auto'),\n",
    "    \n",
    "    'criterion': CategoricalParameter(values=['gini', 'entropy'])\n",
    "}"
   ]
  },
  {
   "cell_type": "code",
   "execution_count": 91,
   "id": "2067336e-ee38-4663-aafe-85c8c05ea0f7",
   "metadata": {
    "tags": []
   },
   "outputs": [],
   "source": [
    "metric_definitions = [\n",
    "    {'Name': 'validation:precision', 'Regex': 'val_precision: ([0-9.]+)'},\n",
    "    {'Name': 'validation:recall', 'Regex': 'val_recall: ([0-9.]+)'},\n",
    "    {'Name': 'validation:f1Score', 'Regex': 'val_f1score: ([0-9.]+)'},\n",
    "    {'Name': 'validation:ROCAUC', 'Regex': 'val_roc_auc: ([0-9.]+)'},\n",
    "    {'Name': 'validation:accuracy', 'Regex': 'val_accuracy: ([0-9.]+)'}\n",
    "]"
   ]
  },
  {
   "cell_type": "markdown",
   "id": "b490e27f-e5cc-44bb-bcba-a5dcfa8073d7",
   "metadata": {},
   "source": [
    "## 2.2 Instanciate & fit estimators"
   ]
  },
  {
   "cell_type": "code",
   "execution_count": 92,
   "id": "82e6b1f2-2765-469a-b1f3-06eac2c6a82e",
   "metadata": {
    "tags": []
   },
   "outputs": [
    {
     "name": "stdout",
     "output_type": "stream",
     "text": [
      "sagemaker.config INFO - Not applying SDK defaults from location: /etc/xdg/sagemaker/config.yaml\n",
      "sagemaker.config INFO - Not applying SDK defaults from location: /root/.config/sagemaker/config.yaml\n",
      "sagemaker.config INFO - Not applying SDK defaults from location: /etc/xdg/sagemaker/config.yaml\n",
      "sagemaker.config INFO - Not applying SDK defaults from location: /root/.config/sagemaker/config.yaml\n"
     ]
    }
   ],
   "source": [
    "from sagemaker.sklearn.estimator import SKLearn\n",
    "\n",
    "\n",
    "sklearn_estimator_mon1 = SKLearn(\n",
    "    entry_point='train.py',\n",
    "    framework_version=FRAMEWORK_VERSION,\n",
    "    instance_count=instance_count,\n",
    "    instance_type=instance_type,\n",
    "    role=role,\n",
    "    metric_definitions=metric_definitions,\n",
    "    hyperparameters=hyperparameters_static_mon1,\n",
    ")\n",
    "\n",
    "\n",
    "sklearn_estimator_mon2 = SKLearn(\n",
    "    entry_point='train.py',\n",
    "    framework_version=FRAMEWORK_VERSION,\n",
    "    instance_count=instance_count,\n",
    "    instance_type=instance_type,\n",
    "    role=role,\n",
    "    metric_definitions=metric_definitions,\n",
    "    hyperparameters=hyperparameters_static_mon2,\n",
    ")"
   ]
  },
  {
   "cell_type": "code",
   "execution_count": 93,
   "id": "355711be-80b7-44d9-a395-2be246ac39ca",
   "metadata": {
    "tags": []
   },
   "outputs": [],
   "source": [
    "from sagemaker.tuner import HyperparameterTuner\n",
    "\n",
    "\n",
    "objective_metric = 'validation:accuracy'\n",
    "tuning_strategy = 'Bayesian'\n",
    "\n",
    "tuner_mon1 = HyperparameterTuner(\n",
    "    estimator=sklearn_estimator_mon1,\n",
    "    objective_metric_name=objective_metric,\n",
    "    hyperparameter_ranges=hyperparameter_ranges,\n",
    "    metric_definitions=metric_definitions,\n",
    "    strategy=tuning_strategy,\n",
    "    objective_type='Maximize',\n",
    "    max_jobs=12,                # maximum number of jobs to run\n",
    "    max_parallel_jobs=2,        # maximum number of jobs to run in parallel\n",
    "    early_stopping_type='Auto'  # early stopping criteria\n",
    ")\n",
    "\n",
    "\n",
    "tuner_mon2 = HyperparameterTuner(\n",
    "    estimator=sklearn_estimator_mon2,\n",
    "    objective_metric_name=objective_metric,\n",
    "    hyperparameter_ranges=hyperparameter_ranges,\n",
    "    metric_definitions=metric_definitions,\n",
    "    strategy=tuning_strategy,\n",
    "    objective_type='Maximize',\n",
    "    max_jobs=12,                # maximum number of jobs to run\n",
    "    max_parallel_jobs=2,        # maximum number of jobs to run in parallel\n",
    "    early_stopping_type='Auto'  # early stopping criteria\n",
    ")"
   ]
  },
  {
   "cell_type": "code",
   "execution_count": 95,
   "id": "9a3048d0-6a0d-4454-b09c-d3bf795354b2",
   "metadata": {
    "tags": []
   },
   "outputs": [],
   "source": [
    "print('Running hyperparameters tuning for {} metric'.format(objective_metric))\n",
    "print('-----------------------------\\n')\n",
    "\n",
    "\n",
    "tuner_mon1.fit(\n",
    "    inputs=data_channels,\n",
    "    include_cls_metadata=False,\n",
    "    wait=False\n",
    ")\n",
    "\n",
    "\n",
    "tuner_mon2.fit(\n",
    "    inputs=data_channels,\n",
    "    include_cls_metadata=False,\n",
    "    wait=False\n",
    ")"
   ]
  },
  {
   "cell_type": "markdown",
   "id": "9f796ad2-6f7c-4f0e-b7b1-108b58bca9d0",
   "metadata": {},
   "source": [
    "## 2.3 Tuning job analytics"
   ]
  },
  {
   "cell_type": "code",
   "execution_count": 100,
   "id": "9eee2fb1-41fc-4912-8368-c27aa97e5309",
   "metadata": {
    "tags": []
   },
   "outputs": [
    {
     "name": "stdout",
     "output_type": "stream",
     "text": [
      "Displaying hyperparameters tuning results for M churn prediction\n",
      "-----------------------------\n",
      "\n"
     ]
    },
    {
     "data": {
      "text/html": [
       "<div>\n",
       "<style scoped>\n",
       "    .dataframe tbody tr th:only-of-type {\n",
       "        vertical-align: middle;\n",
       "    }\n",
       "\n",
       "    .dataframe tbody tr th {\n",
       "        vertical-align: top;\n",
       "    }\n",
       "\n",
       "    .dataframe thead th {\n",
       "        text-align: right;\n",
       "    }\n",
       "</style>\n",
       "<table border=\"1\" class=\"dataframe\">\n",
       "  <thead>\n",
       "    <tr style=\"text-align: right;\">\n",
       "      <th></th>\n",
       "      <th>criterion</th>\n",
       "      <th>max_depth</th>\n",
       "      <th>n_estimators</th>\n",
       "      <th>TrainingJobName</th>\n",
       "      <th>TrainingJobStatus</th>\n",
       "      <th>FinalObjectiveValue</th>\n",
       "      <th>TrainingStartTime</th>\n",
       "      <th>TrainingEndTime</th>\n",
       "      <th>TrainingElapsedTimeSeconds</th>\n",
       "    </tr>\n",
       "  </thead>\n",
       "  <tbody>\n",
       "    <tr>\n",
       "      <th>0</th>\n",
       "      <td>\"entropy\"</td>\n",
       "      <td>10.0</td>\n",
       "      <td>100.0</td>\n",
       "      <td>sagemaker-scikit-lea-231118-1806-012-e54c14dd</td>\n",
       "      <td>Completed</td>\n",
       "      <td>93.709999</td>\n",
       "      <td>2023-11-18 18:15:12+00:00</td>\n",
       "      <td>2023-11-18 18:15:49+00:00</td>\n",
       "      <td>37.0</td>\n",
       "    </tr>\n",
       "    <tr>\n",
       "      <th>1</th>\n",
       "      <td>\"entropy\"</td>\n",
       "      <td>9.0</td>\n",
       "      <td>100.0</td>\n",
       "      <td>sagemaker-scikit-lea-231118-1806-011-0a41095c</td>\n",
       "      <td>Completed</td>\n",
       "      <td>93.459999</td>\n",
       "      <td>2023-11-18 18:14:26+00:00</td>\n",
       "      <td>2023-11-18 18:15:03+00:00</td>\n",
       "      <td>37.0</td>\n",
       "    </tr>\n",
       "    <tr>\n",
       "      <th>2</th>\n",
       "      <td>\"entropy\"</td>\n",
       "      <td>10.0</td>\n",
       "      <td>200.0</td>\n",
       "      <td>sagemaker-scikit-lea-231118-1806-010-251a5e47</td>\n",
       "      <td>Completed</td>\n",
       "      <td>93.459999</td>\n",
       "      <td>2023-11-18 18:14:17+00:00</td>\n",
       "      <td>2023-11-18 18:14:59+00:00</td>\n",
       "      <td>42.0</td>\n",
       "    </tr>\n",
       "    <tr>\n",
       "      <th>5</th>\n",
       "      <td>\"entropy\"</td>\n",
       "      <td>10.0</td>\n",
       "      <td>104.0</td>\n",
       "      <td>sagemaker-scikit-lea-231118-1806-007-716828bb</td>\n",
       "      <td>Completed</td>\n",
       "      <td>93.459999</td>\n",
       "      <td>2023-11-18 18:12:12+00:00</td>\n",
       "      <td>2023-11-18 18:12:53+00:00</td>\n",
       "      <td>41.0</td>\n",
       "    </tr>\n",
       "    <tr>\n",
       "      <th>11</th>\n",
       "      <td>\"entropy\"</td>\n",
       "      <td>10.0</td>\n",
       "      <td>191.0</td>\n",
       "      <td>sagemaker-scikit-lea-231118-1806-001-53361d4c</td>\n",
       "      <td>Completed</td>\n",
       "      <td>93.459999</td>\n",
       "      <td>2023-11-18 18:08:17+00:00</td>\n",
       "      <td>2023-11-18 18:09:59+00:00</td>\n",
       "      <td>102.0</td>\n",
       "    </tr>\n",
       "    <tr>\n",
       "      <th>6</th>\n",
       "      <td>\"gini\"</td>\n",
       "      <td>10.0</td>\n",
       "      <td>100.0</td>\n",
       "      <td>sagemaker-scikit-lea-231118-1806-006-f04d8bc6</td>\n",
       "      <td>Completed</td>\n",
       "      <td>93.459999</td>\n",
       "      <td>2023-11-18 18:11:50+00:00</td>\n",
       "      <td>2023-11-18 18:12:27+00:00</td>\n",
       "      <td>37.0</td>\n",
       "    </tr>\n",
       "    <tr>\n",
       "      <th>4</th>\n",
       "      <td>\"gini\"</td>\n",
       "      <td>10.0</td>\n",
       "      <td>193.0</td>\n",
       "      <td>sagemaker-scikit-lea-231118-1806-008-2d0b8fac</td>\n",
       "      <td>Completed</td>\n",
       "      <td>93.339996</td>\n",
       "      <td>2023-11-18 18:13:27+00:00</td>\n",
       "      <td>2023-11-18 18:14:08+00:00</td>\n",
       "      <td>41.0</td>\n",
       "    </tr>\n",
       "    <tr>\n",
       "      <th>3</th>\n",
       "      <td>\"gini\"</td>\n",
       "      <td>10.0</td>\n",
       "      <td>136.0</td>\n",
       "      <td>sagemaker-scikit-lea-231118-1806-009-26f9e4a2</td>\n",
       "      <td>Completed</td>\n",
       "      <td>93.089996</td>\n",
       "      <td>2023-11-18 18:13:16+00:00</td>\n",
       "      <td>2023-11-18 18:13:58+00:00</td>\n",
       "      <td>42.0</td>\n",
       "    </tr>\n",
       "    <tr>\n",
       "      <th>10</th>\n",
       "      <td>\"entropy\"</td>\n",
       "      <td>6.0</td>\n",
       "      <td>162.0</td>\n",
       "      <td>sagemaker-scikit-lea-231118-1806-002-548c0fa6</td>\n",
       "      <td>Completed</td>\n",
       "      <td>91.000000</td>\n",
       "      <td>2023-11-18 18:08:12+00:00</td>\n",
       "      <td>2023-11-18 18:09:49+00:00</td>\n",
       "      <td>97.0</td>\n",
       "    </tr>\n",
       "    <tr>\n",
       "      <th>7</th>\n",
       "      <td>\"gini\"</td>\n",
       "      <td>5.0</td>\n",
       "      <td>172.0</td>\n",
       "      <td>sagemaker-scikit-lea-231118-1806-005-10fd83b6</td>\n",
       "      <td>Completed</td>\n",
       "      <td>90.510002</td>\n",
       "      <td>2023-11-18 18:11:00+00:00</td>\n",
       "      <td>2023-11-18 18:11:42+00:00</td>\n",
       "      <td>42.0</td>\n",
       "    </tr>\n",
       "    <tr>\n",
       "      <th>8</th>\n",
       "      <td>\"gini\"</td>\n",
       "      <td>4.0</td>\n",
       "      <td>175.0</td>\n",
       "      <td>sagemaker-scikit-lea-231118-1806-004-1c0afe86</td>\n",
       "      <td>Completed</td>\n",
       "      <td>89.400002</td>\n",
       "      <td>2023-11-18 18:10:10+00:00</td>\n",
       "      <td>2023-11-18 18:10:46+00:00</td>\n",
       "      <td>36.0</td>\n",
       "    </tr>\n",
       "    <tr>\n",
       "      <th>9</th>\n",
       "      <td>\"gini\"</td>\n",
       "      <td>3.0</td>\n",
       "      <td>109.0</td>\n",
       "      <td>sagemaker-scikit-lea-231118-1806-003-77a579d7</td>\n",
       "      <td>Completed</td>\n",
       "      <td>88.160004</td>\n",
       "      <td>2023-11-18 18:10:53+00:00</td>\n",
       "      <td>2023-11-18 18:11:30+00:00</td>\n",
       "      <td>37.0</td>\n",
       "    </tr>\n",
       "  </tbody>\n",
       "</table>\n",
       "</div>"
      ],
      "text/plain": [
       "    criterion  max_depth  n_estimators  \\\n",
       "0   \"entropy\"       10.0         100.0   \n",
       "1   \"entropy\"        9.0         100.0   \n",
       "2   \"entropy\"       10.0         200.0   \n",
       "5   \"entropy\"       10.0         104.0   \n",
       "11  \"entropy\"       10.0         191.0   \n",
       "6      \"gini\"       10.0         100.0   \n",
       "4      \"gini\"       10.0         193.0   \n",
       "3      \"gini\"       10.0         136.0   \n",
       "10  \"entropy\"        6.0         162.0   \n",
       "7      \"gini\"        5.0         172.0   \n",
       "8      \"gini\"        4.0         175.0   \n",
       "9      \"gini\"        3.0         109.0   \n",
       "\n",
       "                                  TrainingJobName TrainingJobStatus  \\\n",
       "0   sagemaker-scikit-lea-231118-1806-012-e54c14dd         Completed   \n",
       "1   sagemaker-scikit-lea-231118-1806-011-0a41095c         Completed   \n",
       "2   sagemaker-scikit-lea-231118-1806-010-251a5e47         Completed   \n",
       "5   sagemaker-scikit-lea-231118-1806-007-716828bb         Completed   \n",
       "11  sagemaker-scikit-lea-231118-1806-001-53361d4c         Completed   \n",
       "6   sagemaker-scikit-lea-231118-1806-006-f04d8bc6         Completed   \n",
       "4   sagemaker-scikit-lea-231118-1806-008-2d0b8fac         Completed   \n",
       "3   sagemaker-scikit-lea-231118-1806-009-26f9e4a2         Completed   \n",
       "10  sagemaker-scikit-lea-231118-1806-002-548c0fa6         Completed   \n",
       "7   sagemaker-scikit-lea-231118-1806-005-10fd83b6         Completed   \n",
       "8   sagemaker-scikit-lea-231118-1806-004-1c0afe86         Completed   \n",
       "9   sagemaker-scikit-lea-231118-1806-003-77a579d7         Completed   \n",
       "\n",
       "    FinalObjectiveValue         TrainingStartTime           TrainingEndTime  \\\n",
       "0             93.709999 2023-11-18 18:15:12+00:00 2023-11-18 18:15:49+00:00   \n",
       "1             93.459999 2023-11-18 18:14:26+00:00 2023-11-18 18:15:03+00:00   \n",
       "2             93.459999 2023-11-18 18:14:17+00:00 2023-11-18 18:14:59+00:00   \n",
       "5             93.459999 2023-11-18 18:12:12+00:00 2023-11-18 18:12:53+00:00   \n",
       "11            93.459999 2023-11-18 18:08:17+00:00 2023-11-18 18:09:59+00:00   \n",
       "6             93.459999 2023-11-18 18:11:50+00:00 2023-11-18 18:12:27+00:00   \n",
       "4             93.339996 2023-11-18 18:13:27+00:00 2023-11-18 18:14:08+00:00   \n",
       "3             93.089996 2023-11-18 18:13:16+00:00 2023-11-18 18:13:58+00:00   \n",
       "10            91.000000 2023-11-18 18:08:12+00:00 2023-11-18 18:09:49+00:00   \n",
       "7             90.510002 2023-11-18 18:11:00+00:00 2023-11-18 18:11:42+00:00   \n",
       "8             89.400002 2023-11-18 18:10:10+00:00 2023-11-18 18:10:46+00:00   \n",
       "9             88.160004 2023-11-18 18:10:53+00:00 2023-11-18 18:11:30+00:00   \n",
       "\n",
       "    TrainingElapsedTimeSeconds  \n",
       "0                         37.0  \n",
       "1                         37.0  \n",
       "2                         42.0  \n",
       "5                         41.0  \n",
       "11                       102.0  \n",
       "6                         37.0  \n",
       "4                         41.0  \n",
       "3                         42.0  \n",
       "10                        97.0  \n",
       "7                         42.0  \n",
       "8                         36.0  \n",
       "9                         37.0  "
      ]
     },
     "metadata": {},
     "output_type": "display_data"
    }
   ],
   "source": [
    "months = ('Month1')\n",
    "tuners = (tuner_mon1,)\n",
    "tuning_results = {}\n",
    "\n",
    "for month, tuner in zip(months, tuners):\n",
    "    print('Displaying hyperparameters tuning results for {} churn prediction'.format(month))\n",
    "    print('-----------------------------\\n')\n",
    "    \n",
    "    df_results = tuner.analytics().dataframe()\n",
    "    display(df_results.sort_values('FinalObjectiveValue', ascending =False))\n",
    "\n",
    "    tuning_results[month] = df_results"
   ]
  },
  {
   "cell_type": "markdown",
   "id": "aebba62f-3090-465d-b286-df51b5a7fca8",
   "metadata": {},
   "source": [
    "## 2.4 Best candidate"
   ]
  },
  {
   "cell_type": "code",
   "execution_count": 101,
   "id": "44603692-cf65-46c5-a6d5-64dbb58a54e4",
   "metadata": {
    "tags": []
   },
   "outputs": [
    {
     "name": "stdout",
     "output_type": "stream",
     "text": [
      "Displaying hyperparameters tuning results for M churn prediction\n",
      "-----------------------------\n",
      "\n",
      "{'M': {'FinalObjectiveValue': 93.70999908447266,\n",
      "       'Hyperparameters': {'criterion': '\"entropy\"',\n",
      "                           'max_depth': 10.0,\n",
      "                           'n_estimators': 100.0},\n",
      "       'TrainingJobName': 'sagemaker-scikit-lea-231118-1806-012-e54c14dd'}}\n"
     ]
    }
   ],
   "source": [
    "from pprint import pprint\n",
    "\n",
    "\n",
    "tuning_description = {}\n",
    "\n",
    "for month, tuner in zip(months, tuners):\n",
    "    print('Displaying hyperparameters tuning results for {} churn prediction'.format(month))\n",
    "    print('-----------------------------\\n')\n",
    "    \n",
    "    df_results = tuner.analytics().dataframe()\n",
    "    best_candidate = df_results.sort_values('FinalObjectiveValue', ascending =False).iloc[0]\n",
    "    \n",
    "    tuning_description[month] = {\n",
    "        'TrainingJobName': best_candidate['TrainingJobName'],\n",
    "        'FinalObjectiveValue': best_candidate['FinalObjectiveValue'],\n",
    "        'Hyperparameters': best_candidate[list(hyperparameter_ranges.keys())].to_dict()\n",
    "    }\n",
    "\n",
    "pprint(tuning_description)"
   ]
  },
  {
   "cell_type": "code",
   "execution_count": 104,
   "id": "e554a9fe-4371-435c-a30f-f4740c7465fd",
   "metadata": {
    "tags": []
   },
   "outputs": [
    {
     "name": "stdout",
     "output_type": "stream",
     "text": [
      "Displaying hyperparameters tuning results for M churn prediction\n",
      "-----------------------------\n",
      "\n",
      "{'CreationTime': datetime.datetime(2023, 11, 18, 18, 15, 8, tzinfo=tzlocal()),\n",
      " 'FinalHyperParameterTuningJobObjectiveMetric': {'MetricName': 'validation:accuracy',\n",
      "                                                 'Value': 93.70999908447266},\n",
      " 'ObjectiveStatus': 'Succeeded',\n",
      " 'TrainingEndTime': datetime.datetime(2023, 11, 18, 18, 15, 49, tzinfo=tzlocal()),\n",
      " 'TrainingJobArn': 'arn:aws:sagemaker:eu-west-3:668303144976:training-job/sagemaker-scikit-lea-231118-1806-012-e54c14dd',\n",
      " 'TrainingJobName': 'sagemaker-scikit-lea-231118-1806-012-e54c14dd',\n",
      " 'TrainingJobStatus': 'Completed',\n",
      " 'TrainingStartTime': datetime.datetime(2023, 11, 18, 18, 15, 12, tzinfo=tzlocal()),\n",
      " 'TunedHyperParameters': {'criterion': '\"entropy\"',\n",
      "                          'max_depth': '10',\n",
      "                          'n_estimators': '100'}}\n"
     ]
    }
   ],
   "source": [
    "# ========================== Second Method =========================\n",
    "tuning_description2 = {}\n",
    "\n",
    "for month, tuner in zip(months, tuners):\n",
    "    print('Displaying hyperparameters tuning results for {} churn prediction'.format(month))\n",
    "    print('-----------------------------\\n')\n",
    "    \n",
    "    tuning_description2[month] = tuner.describe().get('BestTrainingJob')\n",
    "    pprint(tuning_description2[month])"
   ]
  },
  {
   "cell_type": "markdown",
   "id": "0b8579d0-cefd-4045-900b-d6e7a96b9b2b",
   "metadata": {},
   "source": [
    "# 3. Tuning & debugging Sagemaker built-in algorithm - Xgboost\n",
    "___"
   ]
  },
  {
   "cell_type": "code",
   "execution_count": null,
   "id": "90c3883d-12da-4aab-8fdd-daad8d51b979",
   "metadata": {},
   "outputs": [],
   "source": [
    "# Next steps:\n",
    "#     - Debugger and Profiler\n",
    "#     - Using Sagemaker Xgboost built-in algorithm\n",
    "#     - Model evaluation\n",
    "#     - Pipelines"
   ]
  },
  {
   "cell_type": "markdown",
   "id": "8bb59392-773b-464d-a975-3b0ccecf3d97",
   "metadata": {},
   "source": [
    "## 3.1 Configure data channels"
   ]
  },
  {
   "cell_type": "code",
   "execution_count": 3,
   "id": "4e0288fd-b581-42ca-8583-a3b2a00e4bf1",
   "metadata": {
    "tags": []
   },
   "outputs": [],
   "source": [
    "from sagemaker.inputs import TrainingInput\n",
    "\n",
    "\n",
    "train_data_s3_uri = 's3://{}/sagemaker-scikit-learn-2023-11-13-11-46-50-760/output/bank-churn-train/'.format(bucket)\n",
    "validation_data_s3_uri = 's3://{}/sagemaker-scikit-learn-2023-11-13-11-46-50-760/output/bank-churn-validation/'.format(bucket)\n",
    "\n",
    "\n",
    "data_channels = {\n",
    "    'train': TrainingInput(s3_data=train_data_s3_uri, content_type='text/csv'),\n",
    "    'validation': TrainingInput(s3_data=validation_data_s3_uri, content_type='text/csv')\n",
    "}"
   ]
  },
  {
   "cell_type": "markdown",
   "id": "6c2b1cae-a648-4030-9877-448e2f95d9b7",
   "metadata": {},
   "source": [
    "## 3.2 Configure Estimator parameters"
   ]
  },
  {
   "cell_type": "code",
   "execution_count": 11,
   "id": "929f0b2f-b2f9-42cc-bed9-cd18b428e252",
   "metadata": {
    "tags": []
   },
   "outputs": [],
   "source": [
    "instance_count = 1\n",
    "instance_type = 'ml.m5.large'\n",
    "\n",
    "prefix = 'xgboost-churn'\n",
    "xgboost_output_path = 's3://{}/{}/xgboost-estimator-training-job'.format(bucket, prefix)\n",
    "\n",
    "xgboost_static_hyperparameters = {\n",
    "    'num_class': 2,\n",
    "    'booster': 'gbtree',\n",
    "    'early_stopping_rounds': 20,\n",
    "    'seed': 2023,\n",
    "    'verbosity': 1\n",
    "}"
   ]
  },
  {
   "cell_type": "markdown",
   "id": "91ad0958-04e2-4189-9676-a1d214254994",
   "metadata": {},
   "source": [
    "## 3.3 Configure tunable hyperparameters"
   ]
  },
  {
   "cell_type": "code",
   "execution_count": 5,
   "id": "9814a06e-c775-4cc9-bb7c-4ee80862f685",
   "metadata": {
    "tags": []
   },
   "outputs": [],
   "source": [
    "metric_definitions = [\n",
    "    {'Name': 'validation:precision', 'Regex': 'val_precision: ([0-9.]+)'},\n",
    "    {'Name': 'validation:recall', 'Regex': 'val_recall: ([0-9.]+)'},\n",
    "    {'Name': 'validation:f1Score', 'Regex': 'val_f1score: ([0-9.]+)'},\n",
    "    {'Name': 'validation:ROCAUC', 'Regex': 'val_roc_auc: ([0-9.]+)'},\n",
    "    {'Name': 'validation:accuracy', 'Regex': 'val_accuracy: ([0-9.]+)'}\n",
    "]"
   ]
  },
  {
   "cell_type": "code",
   "execution_count": 6,
   "id": "57d8f0d7-4a83-49ff-899e-50a11b1aaea5",
   "metadata": {
    "tags": []
   },
   "outputs": [],
   "source": [
    "# ======================= Configure hyperparameters tuning =======================\n",
    "from sagemaker.parameter import CategoricalParameter, ContinuousParameter, IntegerParameter\n",
    "\n",
    "\n",
    "hyperparameter_ranges = {\n",
    "    # Tree depth\n",
    "    'max_depth': IntegerParameter(min_value=1, \n",
    "                                 max_value=5, \n",
    "                                 scaling_type='Auto'),\n",
    "    \n",
    "    # Number of boosting rounds\n",
    "    'num_round': IntegerParameter(min_value=500, \n",
    "                                 max_value=2000, \n",
    "                                 scaling_type='Auto'),\n",
    "    \n",
    "    \n",
    "    # L1 Regularization\n",
    "    'alpha': ContinuousParameter(min_value=0, \n",
    "                                 max_value=10, \n",
    "                                 scaling_type='Auto'),\n",
    "    \n",
    "    # L2 Regularization\n",
    "    'gamma': ContinuousParameter(min_value=0, \n",
    "                                 max_value=100, \n",
    "                                 scaling_type='Auto')\n",
    "}"
   ]
  },
  {
   "cell_type": "markdown",
   "id": "a88c555b-3f33-49ed-ad91-9c60060f509c",
   "metadata": {},
   "source": [
    "## 3.4 Configure Sagemaker Debugger & Profiler"
   ]
  },
  {
   "cell_type": "code",
   "execution_count": 8,
   "id": "7beb6fa7-fe94-4e1b-81e6-c95888b7d11a",
   "metadata": {
    "tags": []
   },
   "outputs": [
    {
     "name": "stderr",
     "output_type": "stream",
     "text": [
      "Framework profiling will be deprecated from tensorflow 2.12 and pytorch 2.0 in sagemaker>=2.\n",
      "See: https://sagemaker.readthedocs.io/en/stable/v2.html for details.\n"
     ]
    }
   ],
   "source": [
    "from sagemaker.debugger import Rule, ProfilerRule, rule_configs\n",
    "from sagemaker.debugger import DebuggerHookConfig\n",
    "from sagemaker.debugger import ProfilerConfig, FrameworkProfile\n",
    "\n",
    "\n",
    "# ========================== Debugger configuration =========================\n",
    "debugger_hook_config = DebuggerHookConfig(\n",
    "    s3_output_path='s3://{}/{}/xgboost-estimator-training-job/debugger-report'.format(bucket, prefix)\n",
    ")\n",
    "\n",
    "\n",
    "# ========================== Profiler configuration =========================\n",
    "profiler_config = ProfilerConfig(\n",
    "    system_monitor_interval_millis=500,\n",
    "    framework_profile_params=FrameworkProfile(local_path=\"/opt/ml/output/profiler/\", start_step=5, num_steps=10)\n",
    ")\n",
    "\n",
    "\n",
    "# ============================ Rules configuration ==========================\n",
    "rules = [\n",
    "    # Debugger\n",
    "    Rule.sagemaker(rule_configs.confusion()),\n",
    "    Rule.sagemaker(rule_configs.feature_importance_overweight()),\n",
    "    Rule.sagemaker(rule_configs.tree_depth()),\n",
    "    Rule.sagemaker(rule_configs.create_xgboost_report()),\n",
    "    \n",
    "    # Profiler\n",
    "    ProfilerRule.sagemaker(rule_configs.ProfilerReport())\n",
    "]"
   ]
  },
  {
   "cell_type": "markdown",
   "id": "ac6bf5b2-6470-4fb9-a84a-81da3e740dbb",
   "metadata": {},
   "source": [
    "## 3.4 Retrieve Xgboost image & instanciate estimator"
   ]
  },
  {
   "cell_type": "code",
   "execution_count": 12,
   "id": "12a89626-9dc0-4ff6-9a89-542d44885c6d",
   "metadata": {},
   "outputs": [
    {
     "name": "stderr",
     "output_type": "stream",
     "text": [
      "INFO:sagemaker.image_uris:Ignoring unnecessary instance type: None.\n"
     ]
    }
   ],
   "source": [
    "from sagemaker.estimator import Estimator\n",
    "\n",
    "\n",
    "# ========================= Instanciate Xgboost estimator ========================\n",
    "xgboost_image_uri = sagemaker.image_uris.retrieve(\"xgboost\", region, \"1.7-1\")\n",
    "\n",
    "xgboost_estimator = Estimator(image_uri=xgboost_image_uri,\n",
    "                              role=role,\n",
    "                              instance_count=instance_count,\n",
    "                              instance_type=instance_type,\n",
    "                              output_path=xgboost_output_path,\n",
    "                              sagemaker_session=sess,\n",
    "                              hyperparameters=xgboost_static_hyperparameters,\n",
    "                              rules=rules,\n",
    "                              debugger_hook_config=debugger_hook_config ,\n",
    "                              profiler_config=profiler_config)\n",
    "\n",
    "\n",
    "# ====================== Fit without hyperparameters tuning ======================\n",
    "# xgboost_estimator.fit(inputs=data_channels,\n",
    "#                      wait=False,\n",
    "#                      logs='All')"
   ]
  },
  {
   "cell_type": "code",
   "execution_count": 15,
   "id": "798eff11-c469-4e34-bc57-406f85352320",
   "metadata": {
    "tags": []
   },
   "outputs": [],
   "source": [
    "from sagemaker.tuner import HyperparameterTuner\n",
    "\n",
    "objective_metric = 'validation:f1'\n",
    "tuning_strategy = 'Bayesian'\n",
    "\n",
    "tuner_xgboost = HyperparameterTuner(\n",
    "    estimator=xgboost_estimator,\n",
    "    objective_metric_name=objective_metric,\n",
    "    hyperparameter_ranges=hyperparameter_ranges,\n",
    "    metric_definitions=metric_definitions,\n",
    "    strategy=tuning_strategy,\n",
    "    objective_type='Maximize',\n",
    "    max_jobs=12,                # maximum number of jobs to run\n",
    "    max_parallel_jobs=1,        # maximum number of jobs to run in parallel\n",
    "    early_stopping_type='Auto'  # early stopping criteria\n",
    ")"
   ]
  },
  {
   "cell_type": "code",
   "execution_count": 17,
   "id": "f3f28051-968a-4c1a-8a48-763b5fdbe7de",
   "metadata": {
    "tags": []
   },
   "outputs": [],
   "source": [
    "tuner_xgboost.fit(inputs=data_channels,\n",
    "                  wait=False)"
   ]
  },
  {
   "cell_type": "code",
   "execution_count": 24,
   "id": "3b0a9c99-4183-4c0c-b226-f1d5ea83f829",
   "metadata": {
    "tags": []
   },
   "outputs": [
    {
     "data": {
      "text/plain": [
       "dict_keys(['HyperParameterTuningJobName', 'HyperParameterTuningJobArn', 'HyperParameterTuningJobConfig', 'TrainingJobDefinition', 'HyperParameterTuningJobStatus', 'CreationTime', 'LastModifiedTime', 'TrainingJobStatusCounters', 'ObjectiveStatusCounters', 'TuningJobCompletionDetails', 'ConsumedResources', 'ResponseMetadata'])"
      ]
     },
     "execution_count": 24,
     "metadata": {},
     "output_type": "execute_result"
    }
   ],
   "source": [
    "from pprint import pprint\n",
    "\n",
    "tuner_xgboost.describe().keys()"
   ]
  },
  {
   "cell_type": "code",
   "execution_count": null,
   "id": "0733fb56-affa-468f-a77c-60c073bd2fb5",
   "metadata": {
    "tags": []
   },
   "outputs": [],
   "source": [
    "tuner_xgboost.describe().get('HyperParameterTuningJobStatus')"
   ]
  }
 ],
 "metadata": {
  "availableInstances": [
   {
    "_defaultOrder": 0,
    "_isFastLaunch": true,
    "category": "General purpose",
    "gpuNum": 0,
    "hideHardwareSpecs": false,
    "memoryGiB": 4,
    "name": "ml.t3.medium",
    "vcpuNum": 2
   },
   {
    "_defaultOrder": 1,
    "_isFastLaunch": false,
    "category": "General purpose",
    "gpuNum": 0,
    "hideHardwareSpecs": false,
    "memoryGiB": 8,
    "name": "ml.t3.large",
    "vcpuNum": 2
   },
   {
    "_defaultOrder": 2,
    "_isFastLaunch": false,
    "category": "General purpose",
    "gpuNum": 0,
    "hideHardwareSpecs": false,
    "memoryGiB": 16,
    "name": "ml.t3.xlarge",
    "vcpuNum": 4
   },
   {
    "_defaultOrder": 3,
    "_isFastLaunch": false,
    "category": "General purpose",
    "gpuNum": 0,
    "hideHardwareSpecs": false,
    "memoryGiB": 32,
    "name": "ml.t3.2xlarge",
    "vcpuNum": 8
   },
   {
    "_defaultOrder": 4,
    "_isFastLaunch": true,
    "category": "General purpose",
    "gpuNum": 0,
    "hideHardwareSpecs": false,
    "memoryGiB": 8,
    "name": "ml.m5.large",
    "vcpuNum": 2
   },
   {
    "_defaultOrder": 5,
    "_isFastLaunch": false,
    "category": "General purpose",
    "gpuNum": 0,
    "hideHardwareSpecs": false,
    "memoryGiB": 16,
    "name": "ml.m5.xlarge",
    "vcpuNum": 4
   },
   {
    "_defaultOrder": 6,
    "_isFastLaunch": false,
    "category": "General purpose",
    "gpuNum": 0,
    "hideHardwareSpecs": false,
    "memoryGiB": 32,
    "name": "ml.m5.2xlarge",
    "vcpuNum": 8
   },
   {
    "_defaultOrder": 7,
    "_isFastLaunch": false,
    "category": "General purpose",
    "gpuNum": 0,
    "hideHardwareSpecs": false,
    "memoryGiB": 64,
    "name": "ml.m5.4xlarge",
    "vcpuNum": 16
   },
   {
    "_defaultOrder": 8,
    "_isFastLaunch": false,
    "category": "General purpose",
    "gpuNum": 0,
    "hideHardwareSpecs": false,
    "memoryGiB": 128,
    "name": "ml.m5.8xlarge",
    "vcpuNum": 32
   },
   {
    "_defaultOrder": 9,
    "_isFastLaunch": false,
    "category": "General purpose",
    "gpuNum": 0,
    "hideHardwareSpecs": false,
    "memoryGiB": 192,
    "name": "ml.m5.12xlarge",
    "vcpuNum": 48
   },
   {
    "_defaultOrder": 10,
    "_isFastLaunch": false,
    "category": "General purpose",
    "gpuNum": 0,
    "hideHardwareSpecs": false,
    "memoryGiB": 256,
    "name": "ml.m5.16xlarge",
    "vcpuNum": 64
   },
   {
    "_defaultOrder": 11,
    "_isFastLaunch": false,
    "category": "General purpose",
    "gpuNum": 0,
    "hideHardwareSpecs": false,
    "memoryGiB": 384,
    "name": "ml.m5.24xlarge",
    "vcpuNum": 96
   },
   {
    "_defaultOrder": 12,
    "_isFastLaunch": false,
    "category": "General purpose",
    "gpuNum": 0,
    "hideHardwareSpecs": false,
    "memoryGiB": 8,
    "name": "ml.m5d.large",
    "vcpuNum": 2
   },
   {
    "_defaultOrder": 13,
    "_isFastLaunch": false,
    "category": "General purpose",
    "gpuNum": 0,
    "hideHardwareSpecs": false,
    "memoryGiB": 16,
    "name": "ml.m5d.xlarge",
    "vcpuNum": 4
   },
   {
    "_defaultOrder": 14,
    "_isFastLaunch": false,
    "category": "General purpose",
    "gpuNum": 0,
    "hideHardwareSpecs": false,
    "memoryGiB": 32,
    "name": "ml.m5d.2xlarge",
    "vcpuNum": 8
   },
   {
    "_defaultOrder": 15,
    "_isFastLaunch": false,
    "category": "General purpose",
    "gpuNum": 0,
    "hideHardwareSpecs": false,
    "memoryGiB": 64,
    "name": "ml.m5d.4xlarge",
    "vcpuNum": 16
   },
   {
    "_defaultOrder": 16,
    "_isFastLaunch": false,
    "category": "General purpose",
    "gpuNum": 0,
    "hideHardwareSpecs": false,
    "memoryGiB": 128,
    "name": "ml.m5d.8xlarge",
    "vcpuNum": 32
   },
   {
    "_defaultOrder": 17,
    "_isFastLaunch": false,
    "category": "General purpose",
    "gpuNum": 0,
    "hideHardwareSpecs": false,
    "memoryGiB": 192,
    "name": "ml.m5d.12xlarge",
    "vcpuNum": 48
   },
   {
    "_defaultOrder": 18,
    "_isFastLaunch": false,
    "category": "General purpose",
    "gpuNum": 0,
    "hideHardwareSpecs": false,
    "memoryGiB": 256,
    "name": "ml.m5d.16xlarge",
    "vcpuNum": 64
   },
   {
    "_defaultOrder": 19,
    "_isFastLaunch": false,
    "category": "General purpose",
    "gpuNum": 0,
    "hideHardwareSpecs": false,
    "memoryGiB": 384,
    "name": "ml.m5d.24xlarge",
    "vcpuNum": 96
   },
   {
    "_defaultOrder": 20,
    "_isFastLaunch": false,
    "category": "General purpose",
    "gpuNum": 0,
    "hideHardwareSpecs": true,
    "memoryGiB": 0,
    "name": "ml.geospatial.interactive",
    "supportedImageNames": [
     "sagemaker-geospatial-v1-0"
    ],
    "vcpuNum": 0
   },
   {
    "_defaultOrder": 21,
    "_isFastLaunch": true,
    "category": "Compute optimized",
    "gpuNum": 0,
    "hideHardwareSpecs": false,
    "memoryGiB": 4,
    "name": "ml.c5.large",
    "vcpuNum": 2
   },
   {
    "_defaultOrder": 22,
    "_isFastLaunch": false,
    "category": "Compute optimized",
    "gpuNum": 0,
    "hideHardwareSpecs": false,
    "memoryGiB": 8,
    "name": "ml.c5.xlarge",
    "vcpuNum": 4
   },
   {
    "_defaultOrder": 23,
    "_isFastLaunch": false,
    "category": "Compute optimized",
    "gpuNum": 0,
    "hideHardwareSpecs": false,
    "memoryGiB": 16,
    "name": "ml.c5.2xlarge",
    "vcpuNum": 8
   },
   {
    "_defaultOrder": 24,
    "_isFastLaunch": false,
    "category": "Compute optimized",
    "gpuNum": 0,
    "hideHardwareSpecs": false,
    "memoryGiB": 32,
    "name": "ml.c5.4xlarge",
    "vcpuNum": 16
   },
   {
    "_defaultOrder": 25,
    "_isFastLaunch": false,
    "category": "Compute optimized",
    "gpuNum": 0,
    "hideHardwareSpecs": false,
    "memoryGiB": 72,
    "name": "ml.c5.9xlarge",
    "vcpuNum": 36
   },
   {
    "_defaultOrder": 26,
    "_isFastLaunch": false,
    "category": "Compute optimized",
    "gpuNum": 0,
    "hideHardwareSpecs": false,
    "memoryGiB": 96,
    "name": "ml.c5.12xlarge",
    "vcpuNum": 48
   },
   {
    "_defaultOrder": 27,
    "_isFastLaunch": false,
    "category": "Compute optimized",
    "gpuNum": 0,
    "hideHardwareSpecs": false,
    "memoryGiB": 144,
    "name": "ml.c5.18xlarge",
    "vcpuNum": 72
   },
   {
    "_defaultOrder": 28,
    "_isFastLaunch": false,
    "category": "Compute optimized",
    "gpuNum": 0,
    "hideHardwareSpecs": false,
    "memoryGiB": 192,
    "name": "ml.c5.24xlarge",
    "vcpuNum": 96
   },
   {
    "_defaultOrder": 29,
    "_isFastLaunch": true,
    "category": "Accelerated computing",
    "gpuNum": 1,
    "hideHardwareSpecs": false,
    "memoryGiB": 16,
    "name": "ml.g4dn.xlarge",
    "vcpuNum": 4
   },
   {
    "_defaultOrder": 30,
    "_isFastLaunch": false,
    "category": "Accelerated computing",
    "gpuNum": 1,
    "hideHardwareSpecs": false,
    "memoryGiB": 32,
    "name": "ml.g4dn.2xlarge",
    "vcpuNum": 8
   },
   {
    "_defaultOrder": 31,
    "_isFastLaunch": false,
    "category": "Accelerated computing",
    "gpuNum": 1,
    "hideHardwareSpecs": false,
    "memoryGiB": 64,
    "name": "ml.g4dn.4xlarge",
    "vcpuNum": 16
   },
   {
    "_defaultOrder": 32,
    "_isFastLaunch": false,
    "category": "Accelerated computing",
    "gpuNum": 1,
    "hideHardwareSpecs": false,
    "memoryGiB": 128,
    "name": "ml.g4dn.8xlarge",
    "vcpuNum": 32
   },
   {
    "_defaultOrder": 33,
    "_isFastLaunch": false,
    "category": "Accelerated computing",
    "gpuNum": 4,
    "hideHardwareSpecs": false,
    "memoryGiB": 192,
    "name": "ml.g4dn.12xlarge",
    "vcpuNum": 48
   },
   {
    "_defaultOrder": 34,
    "_isFastLaunch": false,
    "category": "Accelerated computing",
    "gpuNum": 1,
    "hideHardwareSpecs": false,
    "memoryGiB": 256,
    "name": "ml.g4dn.16xlarge",
    "vcpuNum": 64
   },
   {
    "_defaultOrder": 35,
    "_isFastLaunch": false,
    "category": "Accelerated computing",
    "gpuNum": 1,
    "hideHardwareSpecs": false,
    "memoryGiB": 61,
    "name": "ml.p3.2xlarge",
    "vcpuNum": 8
   },
   {
    "_defaultOrder": 36,
    "_isFastLaunch": false,
    "category": "Accelerated computing",
    "gpuNum": 4,
    "hideHardwareSpecs": false,
    "memoryGiB": 244,
    "name": "ml.p3.8xlarge",
    "vcpuNum": 32
   },
   {
    "_defaultOrder": 37,
    "_isFastLaunch": false,
    "category": "Accelerated computing",
    "gpuNum": 8,
    "hideHardwareSpecs": false,
    "memoryGiB": 488,
    "name": "ml.p3.16xlarge",
    "vcpuNum": 64
   },
   {
    "_defaultOrder": 38,
    "_isFastLaunch": false,
    "category": "Accelerated computing",
    "gpuNum": 8,
    "hideHardwareSpecs": false,
    "memoryGiB": 768,
    "name": "ml.p3dn.24xlarge",
    "vcpuNum": 96
   },
   {
    "_defaultOrder": 39,
    "_isFastLaunch": false,
    "category": "Memory Optimized",
    "gpuNum": 0,
    "hideHardwareSpecs": false,
    "memoryGiB": 16,
    "name": "ml.r5.large",
    "vcpuNum": 2
   },
   {
    "_defaultOrder": 40,
    "_isFastLaunch": false,
    "category": "Memory Optimized",
    "gpuNum": 0,
    "hideHardwareSpecs": false,
    "memoryGiB": 32,
    "name": "ml.r5.xlarge",
    "vcpuNum": 4
   },
   {
    "_defaultOrder": 41,
    "_isFastLaunch": false,
    "category": "Memory Optimized",
    "gpuNum": 0,
    "hideHardwareSpecs": false,
    "memoryGiB": 64,
    "name": "ml.r5.2xlarge",
    "vcpuNum": 8
   },
   {
    "_defaultOrder": 42,
    "_isFastLaunch": false,
    "category": "Memory Optimized",
    "gpuNum": 0,
    "hideHardwareSpecs": false,
    "memoryGiB": 128,
    "name": "ml.r5.4xlarge",
    "vcpuNum": 16
   },
   {
    "_defaultOrder": 43,
    "_isFastLaunch": false,
    "category": "Memory Optimized",
    "gpuNum": 0,
    "hideHardwareSpecs": false,
    "memoryGiB": 256,
    "name": "ml.r5.8xlarge",
    "vcpuNum": 32
   },
   {
    "_defaultOrder": 44,
    "_isFastLaunch": false,
    "category": "Memory Optimized",
    "gpuNum": 0,
    "hideHardwareSpecs": false,
    "memoryGiB": 384,
    "name": "ml.r5.12xlarge",
    "vcpuNum": 48
   },
   {
    "_defaultOrder": 45,
    "_isFastLaunch": false,
    "category": "Memory Optimized",
    "gpuNum": 0,
    "hideHardwareSpecs": false,
    "memoryGiB": 512,
    "name": "ml.r5.16xlarge",
    "vcpuNum": 64
   },
   {
    "_defaultOrder": 46,
    "_isFastLaunch": false,
    "category": "Memory Optimized",
    "gpuNum": 0,
    "hideHardwareSpecs": false,
    "memoryGiB": 768,
    "name": "ml.r5.24xlarge",
    "vcpuNum": 96
   },
   {
    "_defaultOrder": 47,
    "_isFastLaunch": false,
    "category": "Accelerated computing",
    "gpuNum": 1,
    "hideHardwareSpecs": false,
    "memoryGiB": 16,
    "name": "ml.g5.xlarge",
    "vcpuNum": 4
   },
   {
    "_defaultOrder": 48,
    "_isFastLaunch": false,
    "category": "Accelerated computing",
    "gpuNum": 1,
    "hideHardwareSpecs": false,
    "memoryGiB": 32,
    "name": "ml.g5.2xlarge",
    "vcpuNum": 8
   },
   {
    "_defaultOrder": 49,
    "_isFastLaunch": false,
    "category": "Accelerated computing",
    "gpuNum": 1,
    "hideHardwareSpecs": false,
    "memoryGiB": 64,
    "name": "ml.g5.4xlarge",
    "vcpuNum": 16
   },
   {
    "_defaultOrder": 50,
    "_isFastLaunch": false,
    "category": "Accelerated computing",
    "gpuNum": 1,
    "hideHardwareSpecs": false,
    "memoryGiB": 128,
    "name": "ml.g5.8xlarge",
    "vcpuNum": 32
   },
   {
    "_defaultOrder": 51,
    "_isFastLaunch": false,
    "category": "Accelerated computing",
    "gpuNum": 1,
    "hideHardwareSpecs": false,
    "memoryGiB": 256,
    "name": "ml.g5.16xlarge",
    "vcpuNum": 64
   },
   {
    "_defaultOrder": 52,
    "_isFastLaunch": false,
    "category": "Accelerated computing",
    "gpuNum": 4,
    "hideHardwareSpecs": false,
    "memoryGiB": 192,
    "name": "ml.g5.12xlarge",
    "vcpuNum": 48
   },
   {
    "_defaultOrder": 53,
    "_isFastLaunch": false,
    "category": "Accelerated computing",
    "gpuNum": 4,
    "hideHardwareSpecs": false,
    "memoryGiB": 384,
    "name": "ml.g5.24xlarge",
    "vcpuNum": 96
   },
   {
    "_defaultOrder": 54,
    "_isFastLaunch": false,
    "category": "Accelerated computing",
    "gpuNum": 8,
    "hideHardwareSpecs": false,
    "memoryGiB": 768,
    "name": "ml.g5.48xlarge",
    "vcpuNum": 192
   },
   {
    "_defaultOrder": 55,
    "_isFastLaunch": false,
    "category": "Accelerated computing",
    "gpuNum": 8,
    "hideHardwareSpecs": false,
    "memoryGiB": 1152,
    "name": "ml.p4d.24xlarge",
    "vcpuNum": 96
   },
   {
    "_defaultOrder": 56,
    "_isFastLaunch": false,
    "category": "Accelerated computing",
    "gpuNum": 8,
    "hideHardwareSpecs": false,
    "memoryGiB": 1152,
    "name": "ml.p4de.24xlarge",
    "vcpuNum": 96
   }
  ],
  "instance_type": "ml.t3.medium",
  "kernelspec": {
   "display_name": "Python 3 (Data Science 3.0)",
   "language": "python",
   "name": "python3__SAGEMAKER_INTERNAL__arn:aws:sagemaker:eu-west-3:615547856133:image/sagemaker-data-science-310-v1"
  },
  "language_info": {
   "codemirror_mode": {
    "name": "ipython",
    "version": 3
   },
   "file_extension": ".py",
   "mimetype": "text/x-python",
   "name": "python",
   "nbconvert_exporter": "python",
   "pygments_lexer": "ipython3",
   "version": "3.10.6"
  }
 },
 "nbformat": 4,
 "nbformat_minor": 5
}
