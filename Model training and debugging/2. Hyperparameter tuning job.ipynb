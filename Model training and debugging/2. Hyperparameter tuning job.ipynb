{
 "cells": [
  {
   "cell_type": "markdown",
   "id": "bbd30372-bee9-45b8-a867-9a18aff61a58",
   "metadata": {},
   "source": [
    "# Train, debug & profile Machine Learning Models\n",
    "## 1. Training with Hyperparameter Tuning Jobs\n",
    "\n",
    "In this notebook, we train the same **SKLearn** `RandomForestClassifier` to predict bank customers' churn, with the additional step of hyperparameters tuning. \n",
    "Hyperparameter tuning jobs launch parralelt Training Jobs and select the best generated model according to the objective metric set by the user.\n",
    "\n",
    "Several options for tuning strategies are available, such as `RandomSearch` or `Bayesian` optimization."
   ]
  },
  {
   "cell_type": "markdown",
   "id": "cd42431d-e3d7-4fd8-9e67-98f5128a7011",
   "metadata": {},
   "source": [
    "![hpt.png](https://d-mqesdqdqrfmi.studio.eu-west-3.sagemaker.aws/jupyter/default/files/AWS-machine-learning-orchestration/Model%20Training%20%26%20Debugging/hpt.png?_xsrf=2%7C40a831f4%7Cf82e4b60f64d762f763ec120b9025b39%7C1716535824)"
   ]
  },
  {
   "cell_type": "code",
   "execution_count": 2,
   "id": "7f231a17-63c3-4476-8f5e-51af405e3089",
   "metadata": {},
   "outputs": [
    {
     "name": "stdout",
     "output_type": "stream",
     "text": [
      "sagemaker.config INFO - Not applying SDK defaults from location: /etc/xdg/sagemaker/config.yaml\n",
      "sagemaker.config INFO - Not applying SDK defaults from location: /root/.config/sagemaker/config.yaml\n"
     ]
    }
   ],
   "source": [
    "import os\n",
    "import sagemaker\n",
    "import logging\n",
    "import boto3\n",
    "import time\n",
    "import pandas as pd\n",
    "import json\n",
    "import botocore\n",
    "from botocore.exceptions import ClientError\n",
    "\n",
    "\n",
    "# ========================== low-level service client of the boto3 session ==========================\n",
    "config = botocore.config.Config(user_agent_extra='bedissj-1699438736259')\n",
    "\n",
    "\n",
    "sm = boto3.client(service_name='sagemaker', \n",
    "                  config=config)\n",
    "\n",
    "sm_runtime = boto3.client('sagemaker-runtime',\n",
    "                          config=config)\n",
    "\n",
    "sess = sagemaker.Session(sagemaker_client=sm,\n",
    "                         sagemaker_runtime_client=sm_runtime)\n",
    "\n",
    "bucket = sess.default_bucket()\n",
    "role = sagemaker.get_execution_role()\n",
    "region = sess.boto_region_name\n"
   ]
  },
  {
   "cell_type": "markdown",
   "id": "30c5d278-b331-4d49-b61c-16a209ab8fce",
   "metadata": {},
   "source": [
    "### 1.1 Provide environment, S3 data configuration and metric definitions\n",
    "\n",
    "Similarly as for Training jobs, theses configurations are required to run the hyperparameter tuner. The objective metric is also configured to be the validation accuracy, and will serve as the function to maximize during the tuning job."
   ]
  },
  {
   "cell_type": "code",
   "execution_count": 60,
   "id": "dae0f4ce-f2ab-4a3d-8e28-d9d320a89d04",
   "metadata": {
    "tags": []
   },
   "outputs": [],
   "source": [
    "####### Training & Validation Datasets #######\n",
    "train_data_s3_uri = 's3://{}/sagemaker-scikit-learn-2024-03-06-21-05-51-569/output/bank-churn-train/'.format(bucket)\n",
    "validation_data_s3_uri = 's3://{}/sagemaker-scikit-learn-2024-03-06-21-05-51-569/output/bank-churn-validation/'.format(bucket)\n",
    "\n",
    "\n",
    "\n",
    "####### Job parameters #######\n",
    "FRAMEWORK_VERSION = '1.0-1'\n",
    "instance_type = 'ml.m5.large'\n",
    "instance_count = 1\n",
    "\n",
    "\n",
    "\n",
    "####### Metric definitions #######\n",
    "metric_definitions = [\n",
    "    {'Name': 'validation:precision', 'Regex': 'val_precision: ([0-9.]+)'},\n",
    "    {'Name': 'validation:recall', 'Regex': 'val_recall: ([0-9.]+)'},\n",
    "    {'Name': 'validation:f1Score', 'Regex': 'val_f1score: ([0-9.]+)'},\n",
    "    {'Name': 'validation:ROCAUC', 'Regex': 'val_roc_auc: ([0-9.]+)'},\n",
    "    {'Name': 'validation:accuracy', 'Regex': 'val_accuracy: ([0-9.]+)'}\n",
    "]\n",
    "\n",
    "objective = 'validation:accuracy'\n"
   ]
  },
  {
   "cell_type": "markdown",
   "id": "5e71f39a-2def-48db-bc20-1bffe65f3e27",
   "metadata": {},
   "source": [
    "### 1.2 Configure Hyperparameters\n",
    "\n",
    "Some of the hyperparameters are static, and some are configured as the **Search Space** available for the Hyperparameter Tuning Job."
   ]
  },
  {
   "cell_type": "code",
   "execution_count": 61,
   "id": "c8bed339-5a59-44b9-93d6-f418577cdb9b",
   "metadata": {
    "tags": []
   },
   "outputs": [],
   "source": [
    "from sagemaker.parameter import CategoricalParameter, ContinuousParameter, IntegerParameter\n",
    "\n",
    "\n",
    "####### Static hyperparameters #######\n",
    "static_hyperparameters = {\n",
    "    'random_state': 2024\n",
    "}\n",
    "\n",
    "####### Hyperparameter ranges #######\n",
    "hyperparameter_ranges = {\n",
    "    'n_estimators': IntegerParameter(min_value=10, \n",
    "                                     max_value=200, \n",
    "                                     scaling_type='Logarithmic'),\n",
    "    \n",
    "    'max_depth': IntegerParameter(min_value=3, \n",
    "                                  max_value=10, \n",
    "                                  scaling_type='Linear'),\n",
    "    \n",
    "    'criterion': CategoricalParameter(values=['gini', 'entropy'])\n",
    "}\n"
   ]
  },
  {
   "cell_type": "markdown",
   "id": "2d5eea9d-5c58-4aa4-9485-e30973528777",
   "metadata": {},
   "source": [
    "### 1.3 Instanciate the `SKLearn` Estimator\n",
    "\n",
    "Static hyperparameters are configured at this level."
   ]
  },
  {
   "cell_type": "code",
   "execution_count": 84,
   "id": "e057c53d-5ce6-4e16-8f3a-9ba3f23aecac",
   "metadata": {
    "tags": []
   },
   "outputs": [],
   "source": [
    "from sagemaker.sklearn.estimator import SKLearn\n",
    "\n",
    "\n",
    "estimator = SKLearn(\n",
    "        entry_point='src/training.py',\n",
    "        framework_version=FRAMEWORK_VERSION,\n",
    "        instance_count=instance_count,\n",
    "        instance_type=instance_type,\n",
    "        role=role,\n",
    "        hyperparameters=static_hyperparameters,\n",
    "        metric_definitions= metric_definitions\n",
    ")\n"
   ]
  },
  {
   "cell_type": "markdown",
   "id": "cbf6b6ab-14f9-4473-b5cf-4be7f7a98cda",
   "metadata": {},
   "source": [
    "### 1.4 Instanciate the Hyperparameter Tuner\n",
    "\n",
    "The search space for hyperparameters are configured at this level, along with the `strategy` and the `objective_type`.\n",
    "\n",
    "The number of training jobs and parallel training jobs can also be limited, this is done through setting\n",
    "- `max_jobs = 12`\n",
    "- `max_parallel jobs = 1`"
   ]
  },
  {
   "cell_type": "code",
   "execution_count": 85,
   "id": "4ff3f53d-28b6-4873-b8b9-363f4476c871",
   "metadata": {
    "tags": []
   },
   "outputs": [],
   "source": [
    "from sagemaker.tuner import HyperparameterTuner\n",
    "\n",
    "\n",
    "tuner = HyperparameterTuner(\n",
    "        estimator=estimator,\n",
    "        objective_metric_name=objective,\n",
    "        hyperparameter_ranges=hyperparameter_ranges,\n",
    "        metric_definitions=metric_definitions,\n",
    "        strategy='Bayesian',\n",
    "        objective_type='Maximize',\n",
    "        max_jobs=12,                # maximum number of jobs to run\n",
    "        max_parallel_jobs=1,        # maximum number of jobs to run in parallel\n",
    "        early_stopping_type='Auto'\n",
    ")\n"
   ]
  },
  {
   "cell_type": "markdown",
   "id": "703dcf38-98f4-40f0-98b4-756471235b9a",
   "metadata": {},
   "source": [
    "### 1.5 Configure the data channels\n",
    "\n",
    "The training inputs will be copied to the local training image for each Training Job."
   ]
  },
  {
   "cell_type": "code",
   "execution_count": 86,
   "id": "9303a6fd-bdd6-44b0-b762-c4f6d36a15ea",
   "metadata": {
    "tags": []
   },
   "outputs": [],
   "source": [
    "from sagemaker.inputs import TrainingInput\n",
    "\n",
    "data_channels = {\n",
    "    'train': TrainingInput(s3_data=train_data_s3_uri),\n",
    "    'validation': TrainingInput(s3_data=validation_data_s3_uri)\n",
    "}\n"
   ]
  },
  {
   "cell_type": "markdown",
   "id": "d69549e8-c044-4310-ba06-2d861c73c45c",
   "metadata": {},
   "source": [
    "### 1.6 Fit the Hyperparameter Tuner\n",
    "The above `data channels` are used as the inputs for this job."
   ]
  },
  {
   "cell_type": "code",
   "execution_count": 87,
   "id": "31b8f251-8276-4cbf-a2cd-6876ce7a65a6",
   "metadata": {
    "tags": []
   },
   "outputs": [
    {
     "name": "stderr",
     "output_type": "stream",
     "text": [
      "No finished training job found associated with this estimator. Please make sure this estimator is only used for building workflow config\n",
      "No finished training job found associated with this estimator. Please make sure this estimator is only used for building workflow config\n"
     ]
    }
   ],
   "source": [
    "tuner.fit(\n",
    "    inputs=data_channels,\n",
    "    include_cls_metadata=False,\n",
    "    wait=False,\n",
    ")\n"
   ]
  },
  {
   "cell_type": "markdown",
   "id": "78e11f29-633b-4e04-bf17-b8e22f1d895a",
   "metadata": {},
   "source": [
    "## 2. Review Tuning Job Analytics\n",
    "Once the tuning job is completed, information can be retrieved on the status of the training jobs. More general infomation like the Tuning Job Name can also be displayed."
   ]
  },
  {
   "cell_type": "code",
   "execution_count": 156,
   "id": "c2c166e7-a2b0-4b5b-b72e-9d605b609a0a",
   "metadata": {
    "tags": []
   },
   "outputs": [],
   "source": [
    "tuning_job_name = tuner.describe().get('HyperParameterTuningJobName')\n"
   ]
  },
  {
   "cell_type": "code",
   "execution_count": 159,
   "id": "503f9ca1-0606-40d8-ba54-6d46d52be898",
   "metadata": {
    "tags": []
   },
   "outputs": [
    {
     "data": {
      "text/html": [
       "<b>Review <a target=\"blank\" href=\"https://console.aws.amazon.com/sagemaker/home?region=eu-west-3#/hyper-tuning-jobs/sagemaker-scikit-lea-240604-1642\">Hyper-Parameter Tuning Job</a></b>"
      ],
      "text/plain": [
       "<IPython.core.display.HTML object>"
      ]
     },
     "metadata": {},
     "output_type": "display_data"
    }
   ],
   "source": [
    "from IPython.display import display, HTML\n",
    "\n",
    "display(HTML('<b>Review <a target=\"blank\" href=\"https://console.aws.amazon.com/sagemaker/home?region={}#/hyper-tuning-jobs/{}\">Hyper-Parameter Tuning Job</a></b>'.format(region, tuning_job_name)))"
   ]
  },
  {
   "cell_type": "code",
   "execution_count": 155,
   "id": "9a80f8a0-b713-4c88-90a0-ce18eec4b013",
   "metadata": {
    "tags": []
   },
   "outputs": [
    {
     "name": "stdout",
     "output_type": "stream",
     "text": [
      "'sagemaker-scikit-lea-240604-1642'\n",
      "{'HyperParameterTuningJobObjective': {'MetricName': 'validation:accuracy',\n",
      "                                      'Type': 'Maximize'},\n",
      " 'ParameterRanges': {'CategoricalParameterRanges': [{'Name': 'criterion',\n",
      "                                                     'Values': ['\"gini\"',\n",
      "                                                                '\"entropy\"']}],\n",
      "                     'ContinuousParameterRanges': [],\n",
      "                     'IntegerParameterRanges': [{'MaxValue': '200',\n",
      "                                                 'MinValue': '10',\n",
      "                                                 'Name': 'n_estimators',\n",
      "                                                 'ScalingType': 'Logarithmic'},\n",
      "                                                {'MaxValue': '10',\n",
      "                                                 'MinValue': '3',\n",
      "                                                 'Name': 'max_depth',\n",
      "                                                 'ScalingType': 'Linear'}]},\n",
      " 'ResourceLimits': {'MaxNumberOfTrainingJobs': 12,\n",
      "                    'MaxParallelTrainingJobs': 1},\n",
      " 'Strategy': 'Bayesian',\n",
      " 'TrainingJobEarlyStoppingType': 'Auto'}\n",
      "{'Completed': 11,\n",
      " 'InProgress': 0,\n",
      " 'NonRetryableError': 0,\n",
      " 'RetryableError': 0,\n",
      " 'Stopped': 1}\n",
      "{'Failed': 0, 'Pending': 0, 'Succeeded': 12}\n"
     ]
    }
   ],
   "source": [
    "# tuner.describe()\n",
    "\n",
    "pprint(tuner.describe().get('HyperParameterTuningJobName'))\n",
    "pprint(tuner.describe().get('HyperParameterTuningJobConfig'))\n",
    "pprint(tuner.describe().get('TrainingJobStatusCounters'))\n",
    "pprint(tuner.describe().get('ObjectiveStatusCounters'))\n"
   ]
  },
  {
   "cell_type": "markdown",
   "id": "47809d77-5885-403f-8e3e-916685c23bbc",
   "metadata": {},
   "source": [
    "### 2.1 Display the respective"
   ]
  },
  {
   "cell_type": "code",
   "execution_count": 121,
   "id": "5f847d64-edc3-40dc-bbf1-22ad9f108806",
   "metadata": {
    "tags": []
   },
   "outputs": [
    {
     "data": {
      "text/html": [
       "<div>\n",
       "<style scoped>\n",
       "    .dataframe tbody tr th:only-of-type {\n",
       "        vertical-align: middle;\n",
       "    }\n",
       "\n",
       "    .dataframe tbody tr th {\n",
       "        vertical-align: top;\n",
       "    }\n",
       "\n",
       "    .dataframe thead th {\n",
       "        text-align: right;\n",
       "    }\n",
       "</style>\n",
       "<table border=\"1\" class=\"dataframe\">\n",
       "  <thead>\n",
       "    <tr style=\"text-align: right;\">\n",
       "      <th></th>\n",
       "      <th>criterion</th>\n",
       "      <th>max_depth</th>\n",
       "      <th>n_estimators</th>\n",
       "      <th>TrainingJobName</th>\n",
       "      <th>TrainingJobStatus</th>\n",
       "      <th>FinalObjectiveValue</th>\n",
       "      <th>TrainingStartTime</th>\n",
       "      <th>TrainingEndTime</th>\n",
       "      <th>TrainingElapsedTimeSeconds</th>\n",
       "    </tr>\n",
       "  </thead>\n",
       "  <tbody>\n",
       "    <tr>\n",
       "      <th>0</th>\n",
       "      <td>\"gini\"</td>\n",
       "      <td>7.0</td>\n",
       "      <td>200.0</td>\n",
       "      <td>sagemaker-scikit-lea-240604-1642-012-e4daeadc</td>\n",
       "      <td>Completed</td>\n",
       "      <td>1.000000</td>\n",
       "      <td>2024-06-04 16:56:30+00:00</td>\n",
       "      <td>2024-06-04 16:57:19+00:00</td>\n",
       "      <td>49.0</td>\n",
       "    </tr>\n",
       "    <tr>\n",
       "      <th>1</th>\n",
       "      <td>\"gini\"</td>\n",
       "      <td>10.0</td>\n",
       "      <td>29.0</td>\n",
       "      <td>sagemaker-scikit-lea-240604-1642-011-7ef0280a</td>\n",
       "      <td>Completed</td>\n",
       "      <td>1.000000</td>\n",
       "      <td>2024-06-04 16:55:12+00:00</td>\n",
       "      <td>2024-06-04 16:55:55+00:00</td>\n",
       "      <td>43.0</td>\n",
       "    </tr>\n",
       "    <tr>\n",
       "      <th>3</th>\n",
       "      <td>\"entropy\"</td>\n",
       "      <td>6.0</td>\n",
       "      <td>136.0</td>\n",
       "      <td>sagemaker-scikit-lea-240604-1642-009-eabbca5b</td>\n",
       "      <td>Completed</td>\n",
       "      <td>1.000000</td>\n",
       "      <td>2024-06-04 16:53:03+00:00</td>\n",
       "      <td>2024-06-04 16:53:46+00:00</td>\n",
       "      <td>43.0</td>\n",
       "    </tr>\n",
       "    <tr>\n",
       "      <th>5</th>\n",
       "      <td>\"gini\"</td>\n",
       "      <td>6.0</td>\n",
       "      <td>15.0</td>\n",
       "      <td>sagemaker-scikit-lea-240604-1642-007-1e477b31</td>\n",
       "      <td>Completed</td>\n",
       "      <td>1.000000</td>\n",
       "      <td>2024-06-04 16:50:48+00:00</td>\n",
       "      <td>2024-06-04 16:51:31+00:00</td>\n",
       "      <td>43.0</td>\n",
       "    </tr>\n",
       "    <tr>\n",
       "      <th>10</th>\n",
       "      <td>\"entropy\"</td>\n",
       "      <td>9.0</td>\n",
       "      <td>101.0</td>\n",
       "      <td>sagemaker-scikit-lea-240604-1642-002-59cbda6b</td>\n",
       "      <td>Completed</td>\n",
       "      <td>1.000000</td>\n",
       "      <td>2024-06-04 16:45:46+00:00</td>\n",
       "      <td>2024-06-04 16:46:29+00:00</td>\n",
       "      <td>43.0</td>\n",
       "    </tr>\n",
       "    <tr>\n",
       "      <th>7</th>\n",
       "      <td>\"gini\"</td>\n",
       "      <td>9.0</td>\n",
       "      <td>20.0</td>\n",
       "      <td>sagemaker-scikit-lea-240604-1642-005-f8db7f6b</td>\n",
       "      <td>Completed</td>\n",
       "      <td>1.000000</td>\n",
       "      <td>2024-06-04 16:48:50+00:00</td>\n",
       "      <td>2024-06-04 16:49:39+00:00</td>\n",
       "      <td>49.0</td>\n",
       "    </tr>\n",
       "    <tr>\n",
       "      <th>9</th>\n",
       "      <td>\"gini\"</td>\n",
       "      <td>8.0</td>\n",
       "      <td>87.0</td>\n",
       "      <td>sagemaker-scikit-lea-240604-1642-003-ee62c3e0</td>\n",
       "      <td>Completed</td>\n",
       "      <td>1.000000</td>\n",
       "      <td>2024-06-04 16:46:49+00:00</td>\n",
       "      <td>2024-06-04 16:47:38+00:00</td>\n",
       "      <td>49.0</td>\n",
       "    </tr>\n",
       "    <tr>\n",
       "      <th>11</th>\n",
       "      <td>\"gini\"</td>\n",
       "      <td>7.0</td>\n",
       "      <td>21.0</td>\n",
       "      <td>sagemaker-scikit-lea-240604-1642-001-9735a17f</td>\n",
       "      <td>Completed</td>\n",
       "      <td>0.998765</td>\n",
       "      <td>2024-06-04 16:43:37+00:00</td>\n",
       "      <td>2024-06-04 16:45:36+00:00</td>\n",
       "      <td>119.0</td>\n",
       "    </tr>\n",
       "    <tr>\n",
       "      <th>6</th>\n",
       "      <td>\"entropy\"</td>\n",
       "      <td>10.0</td>\n",
       "      <td>12.0</td>\n",
       "      <td>sagemaker-scikit-lea-240604-1642-006-d77c42a6</td>\n",
       "      <td>Stopped</td>\n",
       "      <td>0.950617</td>\n",
       "      <td>2024-06-04 16:49:58+00:00</td>\n",
       "      <td>2024-06-04 16:50:36+00:00</td>\n",
       "      <td>38.0</td>\n",
       "    </tr>\n",
       "    <tr>\n",
       "      <th>2</th>\n",
       "      <td>\"entropy\"</td>\n",
       "      <td>8.0</td>\n",
       "      <td>16.0</td>\n",
       "      <td>sagemaker-scikit-lea-240604-1642-010-63f91fef</td>\n",
       "      <td>Completed</td>\n",
       "      <td>0.919753</td>\n",
       "      <td>2024-06-04 16:54:12+00:00</td>\n",
       "      <td>2024-06-04 16:54:56+00:00</td>\n",
       "      <td>44.0</td>\n",
       "    </tr>\n",
       "    <tr>\n",
       "      <th>4</th>\n",
       "      <td>\"gini\"</td>\n",
       "      <td>5.0</td>\n",
       "      <td>15.0</td>\n",
       "      <td>sagemaker-scikit-lea-240604-1642-008-25ef539e</td>\n",
       "      <td>Completed</td>\n",
       "      <td>0.758025</td>\n",
       "      <td>2024-06-04 16:51:59+00:00</td>\n",
       "      <td>2024-06-04 16:52:43+00:00</td>\n",
       "      <td>44.0</td>\n",
       "    </tr>\n",
       "    <tr>\n",
       "      <th>8</th>\n",
       "      <td>\"entropy\"</td>\n",
       "      <td>3.0</td>\n",
       "      <td>179.0</td>\n",
       "      <td>sagemaker-scikit-lea-240604-1642-004-95bf3360</td>\n",
       "      <td>Completed</td>\n",
       "      <td>0.492593</td>\n",
       "      <td>2024-06-04 16:47:56+00:00</td>\n",
       "      <td>2024-06-04 16:48:40+00:00</td>\n",
       "      <td>44.0</td>\n",
       "    </tr>\n",
       "  </tbody>\n",
       "</table>\n",
       "</div>"
      ],
      "text/plain": [
       "    criterion  max_depth  n_estimators  \\\n",
       "0      \"gini\"        7.0         200.0   \n",
       "1      \"gini\"       10.0          29.0   \n",
       "3   \"entropy\"        6.0         136.0   \n",
       "5      \"gini\"        6.0          15.0   \n",
       "10  \"entropy\"        9.0         101.0   \n",
       "7      \"gini\"        9.0          20.0   \n",
       "9      \"gini\"        8.0          87.0   \n",
       "11     \"gini\"        7.0          21.0   \n",
       "6   \"entropy\"       10.0          12.0   \n",
       "2   \"entropy\"        8.0          16.0   \n",
       "4      \"gini\"        5.0          15.0   \n",
       "8   \"entropy\"        3.0         179.0   \n",
       "\n",
       "                                  TrainingJobName TrainingJobStatus  \\\n",
       "0   sagemaker-scikit-lea-240604-1642-012-e4daeadc         Completed   \n",
       "1   sagemaker-scikit-lea-240604-1642-011-7ef0280a         Completed   \n",
       "3   sagemaker-scikit-lea-240604-1642-009-eabbca5b         Completed   \n",
       "5   sagemaker-scikit-lea-240604-1642-007-1e477b31         Completed   \n",
       "10  sagemaker-scikit-lea-240604-1642-002-59cbda6b         Completed   \n",
       "7   sagemaker-scikit-lea-240604-1642-005-f8db7f6b         Completed   \n",
       "9   sagemaker-scikit-lea-240604-1642-003-ee62c3e0         Completed   \n",
       "11  sagemaker-scikit-lea-240604-1642-001-9735a17f         Completed   \n",
       "6   sagemaker-scikit-lea-240604-1642-006-d77c42a6           Stopped   \n",
       "2   sagemaker-scikit-lea-240604-1642-010-63f91fef         Completed   \n",
       "4   sagemaker-scikit-lea-240604-1642-008-25ef539e         Completed   \n",
       "8   sagemaker-scikit-lea-240604-1642-004-95bf3360         Completed   \n",
       "\n",
       "    FinalObjectiveValue         TrainingStartTime           TrainingEndTime  \\\n",
       "0              1.000000 2024-06-04 16:56:30+00:00 2024-06-04 16:57:19+00:00   \n",
       "1              1.000000 2024-06-04 16:55:12+00:00 2024-06-04 16:55:55+00:00   \n",
       "3              1.000000 2024-06-04 16:53:03+00:00 2024-06-04 16:53:46+00:00   \n",
       "5              1.000000 2024-06-04 16:50:48+00:00 2024-06-04 16:51:31+00:00   \n",
       "10             1.000000 2024-06-04 16:45:46+00:00 2024-06-04 16:46:29+00:00   \n",
       "7              1.000000 2024-06-04 16:48:50+00:00 2024-06-04 16:49:39+00:00   \n",
       "9              1.000000 2024-06-04 16:46:49+00:00 2024-06-04 16:47:38+00:00   \n",
       "11             0.998765 2024-06-04 16:43:37+00:00 2024-06-04 16:45:36+00:00   \n",
       "6              0.950617 2024-06-04 16:49:58+00:00 2024-06-04 16:50:36+00:00   \n",
       "2              0.919753 2024-06-04 16:54:12+00:00 2024-06-04 16:54:56+00:00   \n",
       "4              0.758025 2024-06-04 16:51:59+00:00 2024-06-04 16:52:43+00:00   \n",
       "8              0.492593 2024-06-04 16:47:56+00:00 2024-06-04 16:48:40+00:00   \n",
       "\n",
       "    TrainingElapsedTimeSeconds  \n",
       "0                         49.0  \n",
       "1                         43.0  \n",
       "3                         43.0  \n",
       "5                         43.0  \n",
       "10                        43.0  \n",
       "7                         49.0  \n",
       "9                         49.0  \n",
       "11                       119.0  \n",
       "6                         38.0  \n",
       "2                         44.0  \n",
       "4                         44.0  \n",
       "8                         44.0  "
      ]
     },
     "execution_count": 121,
     "metadata": {},
     "output_type": "execute_result"
    }
   ],
   "source": [
    "tuner.analytics().dataframe().sort_values(by='FinalObjectiveValue', ascending=False)\n"
   ]
  },
  {
   "cell_type": "code",
   "execution_count": 140,
   "id": "8c2953c0-4857-4cf7-937f-7d3114ca97f2",
   "metadata": {
    "tags": []
   },
   "outputs": [
    {
     "data": {
      "image/png": "[encoded data removed]",
      "text/plain": [
       "<Figure size 1200x500 with 1 Axes>"
      ]
     },
     "metadata": {},
     "output_type": "display_data"
    }
   ],
   "source": [
    "import matplotlib.pyplot as plt\n",
    "\n",
    "\n",
    "tuner.analytics().dataframe().plot.bar(x='TrainingJobName', \n",
    "                                       y='FinalObjectiveValue',\n",
    "                                       title='Validation Accuracies',\n",
    "                                       xlabel='Training Job',\n",
    "                                      ylabel='val:accuracy',\n",
    "                                      figsize=(12,5));\n"
   ]
  },
  {
   "cell_type": "markdown",
   "id": "91db646a-8cbc-4d01-8409-46cb02488269",
   "metadata": {},
   "source": [
    "### 2.2 Display best Training Job"
   ]
  },
  {
   "cell_type": "code",
   "execution_count": 161,
   "id": "fb50c07c-9fe6-4087-9723-e117e8777cc2",
   "metadata": {},
   "outputs": [
    {
     "name": "stdout",
     "output_type": "stream",
     "text": [
      "{'CreationTime': datetime.datetime(2024, 6, 4, 16, 45, 42, tzinfo=tzlocal()),\n",
      " 'FinalHyperParameterTuningJobObjectiveMetric': {'MetricName': 'validation:accuracy',\n",
      "                                                 'Value': 1.0},\n",
      " 'ObjectiveStatus': 'Succeeded',\n",
      " 'TrainingEndTime': datetime.datetime(2024, 6, 4, 16, 46, 29, tzinfo=tzlocal()),\n",
      " 'TrainingJobArn': 'arn:aws:sagemaker:eu-west-3:668303144976:training-job/sagemaker-scikit-lea-240604-1642-002-59cbda6b',\n",
      " 'TrainingJobName': 'sagemaker-scikit-lea-240604-1642-002-59cbda6b',\n",
      " 'TrainingJobStatus': 'Completed',\n",
      " 'TrainingStartTime': datetime.datetime(2024, 6, 4, 16, 45, 46, tzinfo=tzlocal()),\n",
      " 'TunedHyperParameters': {'criterion': '\"entropy\"',\n",
      "                          'max_depth': '9',\n",
      "                          'n_estimators': '101'}}\n"
     ]
    }
   ],
   "source": [
    "best_training_job = tuner.describe().get('BestTrainingJob')\n",
    "best_training_job_name = best_training_job.get('TrainingJobName')\n",
    "\n",
    "pprint(best_training_job)"
   ]
  },
  {
   "cell_type": "code",
   "execution_count": 162,
   "id": "5850a4aa-1342-4a80-80cb-ad0a319d9a57",
   "metadata": {
    "tags": []
   },
   "outputs": [
    {
     "data": {
      "text/html": [
       "<b>Review <a target=\"blank\" href=\"https://console.aws.amazon.com/sagemaker/home?region=eu-west-3#/jobs/sagemaker-scikit-lea-240604-1642-002-59cbda6b\">Best Training Job</a></b>"
      ],
      "text/plain": [
       "<IPython.core.display.HTML object>"
      ]
     },
     "metadata": {},
     "output_type": "display_data"
    }
   ],
   "source": [
    "display(HTML('<b>Review <a target=\"blank\" href=\"https://console.aws.amazon.com/sagemaker/home?region={}#/jobs/{}\">Best Training Job</a></b>'.format(region, best_training_job_name)))\n"
   ]
  },
  {
   "cell_type": "code",
   "execution_count": null,
   "id": "3422307c-a497-406e-97d6-527efcbcc50a",
   "metadata": {},
   "outputs": [],
   "source": []
  }
 ],
 "metadata": {
  "availableInstances": [
   {
    "_defaultOrder": 0,
    "_isFastLaunch": true,
    "category": "General purpose",
    "gpuNum": 0,
    "hideHardwareSpecs": false,
    "memoryGiB": 4,
    "name": "ml.t3.medium",
    "vcpuNum": 2
   },
   {
    "_defaultOrder": 1,
    "_isFastLaunch": false,
    "category": "General purpose",
    "gpuNum": 0,
    "hideHardwareSpecs": false,
    "memoryGiB": 8,
    "name": "ml.t3.large",
    "vcpuNum": 2
   },
   {
    "_defaultOrder": 2,
    "_isFastLaunch": false,
    "category": "General purpose",
    "gpuNum": 0,
    "hideHardwareSpecs": false,
    "memoryGiB": 16,
    "name": "ml.t3.xlarge",
    "vcpuNum": 4
   },
   {
    "_defaultOrder": 3,
    "_isFastLaunch": false,
    "category": "General purpose",
    "gpuNum": 0,
    "hideHardwareSpecs": false,
    "memoryGiB": 32,
    "name": "ml.t3.2xlarge",
    "vcpuNum": 8
   },
   {
    "_defaultOrder": 4,
    "_isFastLaunch": true,
    "category": "General purpose",
    "gpuNum": 0,
    "hideHardwareSpecs": false,
    "memoryGiB": 8,
    "name": "ml.m5.large",
    "vcpuNum": 2
   },
   {
    "_defaultOrder": 5,
    "_isFastLaunch": false,
    "category": "General purpose",
    "gpuNum": 0,
    "hideHardwareSpecs": false,
    "memoryGiB": 16,
    "name": "ml.m5.xlarge",
    "vcpuNum": 4
   },
   {
    "_defaultOrder": 6,
    "_isFastLaunch": false,
    "category": "General purpose",
    "gpuNum": 0,
    "hideHardwareSpecs": false,
    "memoryGiB": 32,
    "name": "ml.m5.2xlarge",
    "vcpuNum": 8
   },
   {
    "_defaultOrder": 7,
    "_isFastLaunch": false,
    "category": "General purpose",
    "gpuNum": 0,
    "hideHardwareSpecs": false,
    "memoryGiB": 64,
    "name": "ml.m5.4xlarge",
    "vcpuNum": 16
   },
   {
    "_defaultOrder": 8,
    "_isFastLaunch": false,
    "category": "General purpose",
    "gpuNum": 0,
    "hideHardwareSpecs": false,
    "memoryGiB": 128,
    "name": "ml.m5.8xlarge",
    "vcpuNum": 32
   },
   {
    "_defaultOrder": 9,
    "_isFastLaunch": false,
    "category": "General purpose",
    "gpuNum": 0,
    "hideHardwareSpecs": false,
    "memoryGiB": 192,
    "name": "ml.m5.12xlarge",
    "vcpuNum": 48
   },
   {
    "_defaultOrder": 10,
    "_isFastLaunch": false,
    "category": "General purpose",
    "gpuNum": 0,
    "hideHardwareSpecs": false,
    "memoryGiB": 256,
    "name": "ml.m5.16xlarge",
    "vcpuNum": 64
   },
   {
    "_defaultOrder": 11,
    "_isFastLaunch": false,
    "category": "General purpose",
    "gpuNum": 0,
    "hideHardwareSpecs": false,
    "memoryGiB": 384,
    "name": "ml.m5.24xlarge",
    "vcpuNum": 96
   },
   {
    "_defaultOrder": 12,
    "_isFastLaunch": false,
    "category": "General purpose",
    "gpuNum": 0,
    "hideHardwareSpecs": false,
    "memoryGiB": 8,
    "name": "ml.m5d.large",
    "vcpuNum": 2
   },
   {
    "_defaultOrder": 13,
    "_isFastLaunch": false,
    "category": "General purpose",
    "gpuNum": 0,
    "hideHardwareSpecs": false,
    "memoryGiB": 16,
    "name": "ml.m5d.xlarge",
    "vcpuNum": 4
   },
   {
    "_defaultOrder": 14,
    "_isFastLaunch": false,
    "category": "General purpose",
    "gpuNum": 0,
    "hideHardwareSpecs": false,
    "memoryGiB": 32,
    "name": "ml.m5d.2xlarge",
    "vcpuNum": 8
   },
   {
    "_defaultOrder": 15,
    "_isFastLaunch": false,
    "category": "General purpose",
    "gpuNum": 0,
    "hideHardwareSpecs": false,
    "memoryGiB": 64,
    "name": "ml.m5d.4xlarge",
    "vcpuNum": 16
   },
   {
    "_defaultOrder": 16,
    "_isFastLaunch": false,
    "category": "General purpose",
    "gpuNum": 0,
    "hideHardwareSpecs": false,
    "memoryGiB": 128,
    "name": "ml.m5d.8xlarge",
    "vcpuNum": 32
   },
   {
    "_defaultOrder": 17,
    "_isFastLaunch": false,
    "category": "General purpose",
    "gpuNum": 0,
    "hideHardwareSpecs": false,
    "memoryGiB": 192,
    "name": "ml.m5d.12xlarge",
    "vcpuNum": 48
   },
   {
    "_defaultOrder": 18,
    "_isFastLaunch": false,
    "category": "General purpose",
    "gpuNum": 0,
    "hideHardwareSpecs": false,
    "memoryGiB": 256,
    "name": "ml.m5d.16xlarge",
    "vcpuNum": 64
   },
   {
    "_defaultOrder": 19,
    "_isFastLaunch": false,
    "category": "General purpose",
    "gpuNum": 0,
    "hideHardwareSpecs": false,
    "memoryGiB": 384,
    "name": "ml.m5d.24xlarge",
    "vcpuNum": 96
   },
   {
    "_defaultOrder": 20,
    "_isFastLaunch": false,
    "category": "General purpose",
    "gpuNum": 0,
    "hideHardwareSpecs": true,
    "memoryGiB": 0,
    "name": "ml.geospatial.interactive",
    "supportedImageNames": [
     "sagemaker-geospatial-v1-0"
    ],
    "vcpuNum": 0
   },
   {
    "_defaultOrder": 21,
    "_isFastLaunch": true,
    "category": "Compute optimized",
    "gpuNum": 0,
    "hideHardwareSpecs": false,
    "memoryGiB": 4,
    "name": "ml.c5.large",
    "vcpuNum": 2
   },
   {
    "_defaultOrder": 22,
    "_isFastLaunch": false,
    "category": "Compute optimized",
    "gpuNum": 0,
    "hideHardwareSpecs": false,
    "memoryGiB": 8,
    "name": "ml.c5.xlarge",
    "vcpuNum": 4
   },
   {
    "_defaultOrder": 23,
    "_isFastLaunch": false,
    "category": "Compute optimized",
    "gpuNum": 0,
    "hideHardwareSpecs": false,
    "memoryGiB": 16,
    "name": "ml.c5.2xlarge",
    "vcpuNum": 8
   },
   {
    "_defaultOrder": 24,
    "_isFastLaunch": false,
    "category": "Compute optimized",
    "gpuNum": 0,
    "hideHardwareSpecs": false,
    "memoryGiB": 32,
    "name": "ml.c5.4xlarge",
    "vcpuNum": 16
   },
   {
    "_defaultOrder": 25,
    "_isFastLaunch": false,
    "category": "Compute optimized",
    "gpuNum": 0,
    "hideHardwareSpecs": false,
    "memoryGiB": 72,
    "name": "ml.c5.9xlarge",
    "vcpuNum": 36
   },
   {
    "_defaultOrder": 26,
    "_isFastLaunch": false,
    "category": "Compute optimized",
    "gpuNum": 0,
    "hideHardwareSpecs": false,
    "memoryGiB": 96,
    "name": "ml.c5.12xlarge",
    "vcpuNum": 48
   },
   {
    "_defaultOrder": 27,
    "_isFastLaunch": false,
    "category": "Compute optimized",
    "gpuNum": 0,
    "hideHardwareSpecs": false,
    "memoryGiB": 144,
    "name": "ml.c5.18xlarge",
    "vcpuNum": 72
   },
   {
    "_defaultOrder": 28,
    "_isFastLaunch": false,
    "category": "Compute optimized",
    "gpuNum": 0,
    "hideHardwareSpecs": false,
    "memoryGiB": 192,
    "name": "ml.c5.24xlarge",
    "vcpuNum": 96
   },
   {
    "_defaultOrder": 29,
    "_isFastLaunch": true,
    "category": "Accelerated computing",
    "gpuNum": 1,
    "hideHardwareSpecs": false,
    "memoryGiB": 16,
    "name": "ml.g4dn.xlarge",
    "vcpuNum": 4
   },
   {
    "_defaultOrder": 30,
    "_isFastLaunch": false,
    "category": "Accelerated computing",
    "gpuNum": 1,
    "hideHardwareSpecs": false,
    "memoryGiB": 32,
    "name": "ml.g4dn.2xlarge",
    "vcpuNum": 8
   },
   {
    "_defaultOrder": 31,
    "_isFastLaunch": false,
    "category": "Accelerated computing",
    "gpuNum": 1,
    "hideHardwareSpecs": false,
    "memoryGiB": 64,
    "name": "ml.g4dn.4xlarge",
    "vcpuNum": 16
   },
   {
    "_defaultOrder": 32,
    "_isFastLaunch": false,
    "category": "Accelerated computing",
    "gpuNum": 1,
    "hideHardwareSpecs": false,
    "memoryGiB": 128,
    "name": "ml.g4dn.8xlarge",
    "vcpuNum": 32
   },
   {
    "_defaultOrder": 33,
    "_isFastLaunch": false,
    "category": "Accelerated computing",
    "gpuNum": 4,
    "hideHardwareSpecs": false,
    "memoryGiB": 192,
    "name": "ml.g4dn.12xlarge",
    "vcpuNum": 48
   },
   {
    "_defaultOrder": 34,
    "_isFastLaunch": false,
    "category": "Accelerated computing",
    "gpuNum": 1,
    "hideHardwareSpecs": false,
    "memoryGiB": 256,
    "name": "ml.g4dn.16xlarge",
    "vcpuNum": 64
   },
   {
    "_defaultOrder": 35,
    "_isFastLaunch": false,
    "category": "Accelerated computing",
    "gpuNum": 1,
    "hideHardwareSpecs": false,
    "memoryGiB": 61,
    "name": "ml.p3.2xlarge",
    "vcpuNum": 8
   },
   {
    "_defaultOrder": 36,
    "_isFastLaunch": false,
    "category": "Accelerated computing",
    "gpuNum": 4,
    "hideHardwareSpecs": false,
    "memoryGiB": 244,
    "name": "ml.p3.8xlarge",
    "vcpuNum": 32
   },
   {
    "_defaultOrder": 37,
    "_isFastLaunch": false,
    "category": "Accelerated computing",
    "gpuNum": 8,
    "hideHardwareSpecs": false,
    "memoryGiB": 488,
    "name": "ml.p3.16xlarge",
    "vcpuNum": 64
   },
   {
    "_defaultOrder": 38,
    "_isFastLaunch": false,
    "category": "Accelerated computing",
    "gpuNum": 8,
    "hideHardwareSpecs": false,
    "memoryGiB": 768,
    "name": "ml.p3dn.24xlarge",
    "vcpuNum": 96
   },
   {
    "_defaultOrder": 39,
    "_isFastLaunch": false,
    "category": "Memory Optimized",
    "gpuNum": 0,
    "hideHardwareSpecs": false,
    "memoryGiB": 16,
    "name": "ml.r5.large",
    "vcpuNum": 2
   },
   {
    "_defaultOrder": 40,
    "_isFastLaunch": false,
    "category": "Memory Optimized",
    "gpuNum": 0,
    "hideHardwareSpecs": false,
    "memoryGiB": 32,
    "name": "ml.r5.xlarge",
    "vcpuNum": 4
   },
   {
    "_defaultOrder": 41,
    "_isFastLaunch": false,
    "category": "Memory Optimized",
    "gpuNum": 0,
    "hideHardwareSpecs": false,
    "memoryGiB": 64,
    "name": "ml.r5.2xlarge",
    "vcpuNum": 8
   },
   {
    "_defaultOrder": 42,
    "_isFastLaunch": false,
    "category": "Memory Optimized",
    "gpuNum": 0,
    "hideHardwareSpecs": false,
    "memoryGiB": 128,
    "name": "ml.r5.4xlarge",
    "vcpuNum": 16
   },
   {
    "_defaultOrder": 43,
    "_isFastLaunch": false,
    "category": "Memory Optimized",
    "gpuNum": 0,
    "hideHardwareSpecs": false,
    "memoryGiB": 256,
    "name": "ml.r5.8xlarge",
    "vcpuNum": 32
   },
   {
    "_defaultOrder": 44,
    "_isFastLaunch": false,
    "category": "Memory Optimized",
    "gpuNum": 0,
    "hideHardwareSpecs": false,
    "memoryGiB": 384,
    "name": "ml.r5.12xlarge",
    "vcpuNum": 48
   },
   {
    "_defaultOrder": 45,
    "_isFastLaunch": false,
    "category": "Memory Optimized",
    "gpuNum": 0,
    "hideHardwareSpecs": false,
    "memoryGiB": 512,
    "name": "ml.r5.16xlarge",
    "vcpuNum": 64
   },
   {
    "_defaultOrder": 46,
    "_isFastLaunch": false,
    "category": "Memory Optimized",
    "gpuNum": 0,
    "hideHardwareSpecs": false,
    "memoryGiB": 768,
    "name": "ml.r5.24xlarge",
    "vcpuNum": 96
   },
   {
    "_defaultOrder": 47,
    "_isFastLaunch": false,
    "category": "Accelerated computing",
    "gpuNum": 1,
    "hideHardwareSpecs": false,
    "memoryGiB": 16,
    "name": "ml.g5.xlarge",
    "vcpuNum": 4
   },
   {
    "_defaultOrder": 48,
    "_isFastLaunch": false,
    "category": "Accelerated computing",
    "gpuNum": 1,
    "hideHardwareSpecs": false,
    "memoryGiB": 32,
    "name": "ml.g5.2xlarge",
    "vcpuNum": 8
   },
   {
    "_defaultOrder": 49,
    "_isFastLaunch": false,
    "category": "Accelerated computing",
    "gpuNum": 1,
    "hideHardwareSpecs": false,
    "memoryGiB": 64,
    "name": "ml.g5.4xlarge",
    "vcpuNum": 16
   },
   {
    "_defaultOrder": 50,
    "_isFastLaunch": false,
    "category": "Accelerated computing",
    "gpuNum": 1,
    "hideHardwareSpecs": false,
    "memoryGiB": 128,
    "name": "ml.g5.8xlarge",
    "vcpuNum": 32
   },
   {
    "_defaultOrder": 51,
    "_isFastLaunch": false,
    "category": "Accelerated computing",
    "gpuNum": 1,
    "hideHardwareSpecs": false,
    "memoryGiB": 256,
    "name": "ml.g5.16xlarge",
    "vcpuNum": 64
   },
   {
    "_defaultOrder": 52,
    "_isFastLaunch": false,
    "category": "Accelerated computing",
    "gpuNum": 4,
    "hideHardwareSpecs": false,
    "memoryGiB": 192,
    "name": "ml.g5.12xlarge",
    "vcpuNum": 48
   },
   {
    "_defaultOrder": 53,
    "_isFastLaunch": false,
    "category": "Accelerated computing",
    "gpuNum": 4,
    "hideHardwareSpecs": false,
    "memoryGiB": 384,
    "name": "ml.g5.24xlarge",
    "vcpuNum": 96
   },
   {
    "_defaultOrder": 54,
    "_isFastLaunch": false,
    "category": "Accelerated computing",
    "gpuNum": 8,
    "hideHardwareSpecs": false,
    "memoryGiB": 768,
    "name": "ml.g5.48xlarge",
    "vcpuNum": 192
   },
   {
    "_defaultOrder": 55,
    "_isFastLaunch": false,
    "category": "Accelerated computing",
    "gpuNum": 8,
    "hideHardwareSpecs": false,
    "memoryGiB": 1152,
    "name": "ml.p4d.24xlarge",
    "vcpuNum": 96
   },
   {
    "_defaultOrder": 56,
    "_isFastLaunch": false,
    "category": "Accelerated computing",
    "gpuNum": 8,
    "hideHardwareSpecs": false,
    "memoryGiB": 1152,
    "name": "ml.p4de.24xlarge",
    "vcpuNum": 96
   },
   {
    "_defaultOrder": 57,
    "_isFastLaunch": false,
    "category": "Accelerated computing",
    "gpuNum": 0,
    "hideHardwareSpecs": false,
    "memoryGiB": 32,
    "name": "ml.trn1.2xlarge",
    "vcpuNum": 8
   },
   {
    "_defaultOrder": 58,
    "_isFastLaunch": false,
    "category": "Accelerated computing",
    "gpuNum": 0,
    "hideHardwareSpecs": false,
    "memoryGiB": 512,
    "name": "ml.trn1.32xlarge",
    "vcpuNum": 128
   },
   {
    "_defaultOrder": 59,
    "_isFastLaunch": false,
    "category": "Accelerated computing",
    "gpuNum": 0,
    "hideHardwareSpecs": false,
    "memoryGiB": 512,
    "name": "ml.trn1n.32xlarge",
    "vcpuNum": 128
   }
  ],
  "instance_type": "ml.t3.medium",
  "kernelspec": {
   "display_name": "Python 3 (Data Science 3.0)",
   "language": "python",
   "name": "python3__SAGEMAKER_INTERNAL__arn:aws:sagemaker:eu-west-3:615547856133:image/sagemaker-data-science-310-v1"
  },
  "language_info": {
   "codemirror_mode": {
    "name": "ipython",
    "version": 3
   },
   "file_extension": ".py",
   "mimetype": "text/x-python",
   "name": "python",
   "nbconvert_exporter": "python",
   "pygments_lexer": "ipython3",
   "version": "3.10.6"
  }
 },
 "nbformat": 4,
 "nbformat_minor": 5
}
