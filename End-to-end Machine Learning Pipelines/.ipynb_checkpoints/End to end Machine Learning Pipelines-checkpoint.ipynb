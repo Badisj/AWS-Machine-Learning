{
 "cells": [
  {
   "cell_type": "markdown",
   "id": "739a6640-13e3-4fe1-b36c-835aa0ec83b7",
   "metadata": {},
   "source": [
    "# Machine Learning Pipelines\n",
    "\n",
    "## Machine Learning Orchestration with Amazon SageMaker Pipelines"
   ]
  },
  {
   "cell_type": "code",
   "execution_count": 286,
   "id": "16a88d5d-3e87-42e0-bac9-f534a07b685a",
   "metadata": {},
   "outputs": [],
   "source": [
    "import os\n",
    "import sagemaker\n",
    "import logging\n",
    "import boto3\n",
    "import time\n",
    "import pandas as pd\n",
    "import json\n",
    "import botocore\n",
    "from botocore.exceptions import ClientError\n",
    "\n",
    "\n",
    "# ========================== low-level service client of the boto3 session ==========================\n",
    "config = botocore.config.Config(user_agent_extra='bedissj-1699438736259')\n",
    "\n",
    "\n",
    "sm = boto3.client(service_name='sagemaker', \n",
    "                  config=config)\n",
    "\n",
    "sm_runtime = boto3.client('sagemaker-runtime',\n",
    "                          config=config)\n",
    "\n",
    "sess = sagemaker.Session(sagemaker_client=sm,\n",
    "                         sagemaker_runtime_client=sm_runtime)\n",
    "\n",
    "bucket = sess.default_bucket()\n",
    "role = sagemaker.get_execution_role()\n",
    "region = sess.boto_region_name\n"
   ]
  },
  {
   "cell_type": "markdown",
   "id": "eaf262ef-319f-4368-906c-e306f4939f6d",
   "metadata": {},
   "source": [
    "## 1. Configure Data Processing Step"
   ]
  },
  {
   "cell_type": "code",
   "execution_count": 287,
   "id": "5143530c-1fa3-47e0-9e1f-8c4091707e68",
   "metadata": {},
   "outputs": [],
   "source": [
    "raw_data_s3_uri = f's3://{bucket}/data/transformed_querying/month1'\n"
   ]
  },
  {
   "cell_type": "code",
   "execution_count": 288,
   "id": "3c138c6d-b318-4fef-8184-25aaccb45686",
   "metadata": {
    "tags": []
   },
   "outputs": [],
   "source": [
    "from sagemaker.workflow.parameters import ParameterFloat, ParameterInteger, ParameterString\n",
    "\n",
    "\n",
    "# ========================== Processing parameters ==========================\n",
    "input_data = ParameterString(\n",
    "    name='input-data',\n",
    "    default_value='/opt/ml/processing/input/data'\n",
    ")\n",
    "\n",
    "\n",
    "output_data = ParameterString(\n",
    "    name='output-data',\n",
    "    default_value='/opt/ml/processing/output'\n",
    ")\n",
    "\n",
    "\n",
    "validation_split_percentage = ParameterFloat(\n",
    "    name='validation-split-percentage',\n",
    "    default_value=0.1\n",
    ")\n",
    "\n",
    "\n",
    "test_split_percentage = ParameterFloat(\n",
    "    name='test-split-percentage',\n",
    "    default_value=0.2\n",
    ")\n",
    "\n",
    "\n",
    "feature_group_name = ParameterString(\n",
    "    name='feature-group-name',\n",
    "    default_value='bank-churn-mon1-feature-group'\n",
    ")\n",
    "\n",
    "\n",
    "feature_store_offline_prefix = ParameterString(\n",
    "    name='feature-store-offline-prefix',\n",
    "    default_value=None\n",
    ")\n"
   ]
  },
  {
   "cell_type": "code",
   "execution_count": 289,
   "id": "92f32c64-d3d8-4932-a3fa-a818298bea65",
   "metadata": {},
   "outputs": [],
   "source": [
    "from sagemaker.processing import ProcessingInput, ProcessingOutput\n",
    "\n",
    "\n",
    "# ========================== Processing Inputs ==========================\n",
    "processing_inputs = [ProcessingInput(input_name='bank-churn-mon1-raw-data',\n",
    "                                     source=raw_data_s3_uri, \n",
    "                                     destination=input_data.default_value,\n",
    "                                     s3_data_distribution_type='ShardedByS3Key')]\n",
    "\n",
    "\n",
    "\n",
    "# ========================== Processing Outputs ==========================\n",
    "output_data_train = output_data.default_value + '/train'\n",
    "output_data_validation = output_data.default_value + '/validation'\n",
    "output_data_test = output_data.default_value + '/test'\n",
    "\n",
    "\n",
    "\n",
    "processing_outputs = [\n",
    "    ProcessingOutput(output_name='bank-churn-mon1-train',\n",
    "                     source=output_data_train,\n",
    "                     s3_upload_mode='EndOfJob'),\n",
    "    \n",
    "    ProcessingOutput(source=output_data_validation,\n",
    "                    output_name='bank-churn-mon1-validation',\n",
    "                    s3_upload_mode='EndOfJob'),\n",
    "    \n",
    "    ProcessingOutput(source=output_data_test,\n",
    "                    output_name='bank-churn-mon1-test',\n",
    "                    s3_upload_mode='EndOfJob'),\n",
    "]\n"
   ]
  },
  {
   "cell_type": "code",
   "execution_count": 290,
   "id": "b8723bdd-f417-428a-8c7c-8f3c1976a94c",
   "metadata": {},
   "outputs": [
    {
     "name": "stderr",
     "output_type": "stream",
     "text": [
      "INFO:sagemaker.image_uris:Defaulting to only available Python version: py3\n"
     ]
    }
   ],
   "source": [
    "from sagemaker.sklearn.processing import SKLearnProcessor\n",
    "\n",
    "\n",
    "# ========================== Processing Parameters ==========================\n",
    "FRAMEWORK_VERSION = '1.0-1'\n",
    "processing_instance_type = 'ml.t3.medium'\n",
    "processing_instance_count = 1\n",
    "\n",
    "\n",
    "\n",
    "# ========================== Instanciate SKLearn Processor ==========================\n",
    "\n",
    "sklearn_processor = SKLearnProcessor(\n",
    "    framework_version=FRAMEWORK_VERSION,\n",
    "    role=role,\n",
    "    instance_type=processing_instance_type,\n",
    "    instance_count = processing_instance_count,\n",
    "    env={'AWS_DEFAULT_REGION': region}\n",
    ")\n"
   ]
  },
  {
   "cell_type": "code",
   "execution_count": 291,
   "id": "d4ebee8c-538f-4b67-b2fc-a6285bbcc8b8",
   "metadata": {
    "tags": []
   },
   "outputs": [],
   "source": [
    "from sagemaker.workflow.steps import ProcessingStep\n",
    "\n",
    "\n",
    "processing_step = ProcessingStep(\n",
    "    name='DataProcessing',\n",
    "    code='./src/processing.py',\n",
    "    processor=sklearn_processor,\n",
    "    inputs=processing_inputs,\n",
    "    outputs=processing_outputs,\n",
    "    job_arguments=[\n",
    "        '--input-data', str(input_data.default_value),\n",
    "        '--output-data', str(output_data.default_value),\n",
    "        '--validation-split-percentage', str(validation_split_percentage.default_value),\n",
    "        '--test-split-percentage', str(test_split_percentage.default_value),\n",
    "        '--feature-store-offline-prefix', str(feature_store_offline_prefix.default_value),\n",
    "        '--feature-group-name', str(feature_group_name.default_value)\n",
    "    ]\n",
    ")\n"
   ]
  },
  {
   "cell_type": "code",
   "execution_count": 292,
   "id": "3b434261-fddf-4b75-a821-bd4f6fde6d4b",
   "metadata": {
    "tags": []
   },
   "outputs": [
    {
     "name": "stderr",
     "output_type": "stream",
     "text": [
      "WARNING:sagemaker.workflow.utilities:Popping out 'ProcessingJobName' from the pipeline definition by default since it will be overridden at pipeline execution time. Please utilize the PipelineDefinitionConfig to persist this field in the pipeline definition if desired.\n"
     ]
    },
    {
     "name": "stdout",
     "output_type": "stream",
     "text": [
      "['ProcessingResources',\n",
      " 'AppSpecification',\n",
      " 'RoleArn',\n",
      " 'ProcessingInputs',\n",
      " 'ProcessingOutputConfig',\n",
      " 'Environment']\n"
     ]
    }
   ],
   "source": [
    "from pprint import pprint\n",
    "\n",
    "pprint(list(processing_step.arguments.keys()))"
   ]
  },
  {
   "cell_type": "code",
   "execution_count": 293,
   "id": "904d2095-b79b-4a0c-8658-5baa6ef6b5c6",
   "metadata": {
    "tags": []
   },
   "outputs": [
    {
     "name": "stderr",
     "output_type": "stream",
     "text": [
      "WARNING:sagemaker.workflow.utilities:Popping out 'ProcessingJobName' from the pipeline definition by default since it will be overridden at pipeline execution time. Please utilize the PipelineDefinitionConfig to persist this field in the pipeline definition if desired.\n"
     ]
    },
    {
     "name": "stdout",
     "output_type": "stream",
     "text": [
      "[{'AppManaged': False,\n",
      "  'InputName': 'bank-churn-mon1-raw-data',\n",
      "  'S3Input': {'LocalPath': '/opt/ml/processing/input/data',\n",
      "              'S3CompressionType': 'None',\n",
      "              'S3DataDistributionType': 'ShardedByS3Key',\n",
      "              'S3DataType': 'S3Prefix',\n",
      "              'S3InputMode': 'File',\n",
      "              'S3Uri': 's3://sagemaker-eu-west-3-668303144976/data/transformed_querying/month1'}},\n",
      " {'AppManaged': False,\n",
      "  'InputName': 'code',\n",
      "  'S3Input': {'LocalPath': '/opt/ml/processing/input/code',\n",
      "              'S3CompressionType': 'None',\n",
      "              'S3DataDistributionType': 'FullyReplicated',\n",
      "              'S3DataType': 'S3Prefix',\n",
      "              'S3InputMode': 'File',\n",
      "              'S3Uri': 's3://sagemaker-eu-west-3-668303144976/DataProcessing-fadeac1e1c3f09d53b332e0d3a5ccde0/input/code/processing.py'}}]\n"
     ]
    }
   ],
   "source": [
    "pprint(processing_step.arguments['ProcessingInputs'])"
   ]
  },
  {
   "cell_type": "code",
   "execution_count": 294,
   "id": "f2cd153c-5eaf-4098-9e62-316d71331a3e",
   "metadata": {
    "tags": []
   },
   "outputs": [
    {
     "name": "stderr",
     "output_type": "stream",
     "text": [
      "WARNING:sagemaker.workflow.utilities:Popping out 'ProcessingJobName' from the pipeline definition by default since it will be overridden at pipeline execution time. Please utilize the PipelineDefinitionConfig to persist this field in the pipeline definition if desired.\n"
     ]
    },
    {
     "name": "stdout",
     "output_type": "stream",
     "text": [
      "{'Outputs': [{'AppManaged': False,\n",
      "              'OutputName': 'bank-churn-mon1-train',\n",
      "              'S3Output': {'LocalPath': '/opt/ml/processing/output/train',\n",
      "                           'S3UploadMode': 'EndOfJob',\n",
      "                           'S3Uri': 's3://sagemaker-eu-west-3-668303144976/DataProcessing-fadeac1e1c3f09d53b332e0d3a5ccde0/output/bank-churn-mon1-train'}},\n",
      "             {'AppManaged': False,\n",
      "              'OutputName': 'bank-churn-mon1-validation',\n",
      "              'S3Output': {'LocalPath': '/opt/ml/processing/output/validation',\n",
      "                           'S3UploadMode': 'EndOfJob',\n",
      "                           'S3Uri': 's3://sagemaker-eu-west-3-668303144976/DataProcessing-fadeac1e1c3f09d53b332e0d3a5ccde0/output/bank-churn-mon1-validation'}},\n",
      "             {'AppManaged': False,\n",
      "              'OutputName': 'bank-churn-mon1-test',\n",
      "              'S3Output': {'LocalPath': '/opt/ml/processing/output/test',\n",
      "                           'S3UploadMode': 'EndOfJob',\n",
      "                           'S3Uri': 's3://sagemaker-eu-west-3-668303144976/DataProcessing-fadeac1e1c3f09d53b332e0d3a5ccde0/output/bank-churn-mon1-test'}}]}\n"
     ]
    }
   ],
   "source": [
    "pprint(processing_step.arguments['ProcessingOutputConfig'])"
   ]
  },
  {
   "cell_type": "code",
   "execution_count": 295,
   "id": "dcb94018-8ca0-42e4-be3a-9976620dcf6d",
   "metadata": {
    "tags": []
   },
   "outputs": [
    {
     "name": "stderr",
     "output_type": "stream",
     "text": [
      "WARNING:sagemaker.workflow.utilities:Popping out 'ProcessingJobName' from the pipeline definition by default since it will be overridden at pipeline execution time. Please utilize the PipelineDefinitionConfig to persist this field in the pipeline definition if desired.\n"
     ]
    },
    {
     "name": "stdout",
     "output_type": "stream",
     "text": [
      "{'ClusterConfig': {'InstanceCount': 1,\n",
      "                   'InstanceType': 'ml.t3.medium',\n",
      "                   'VolumeSizeInGB': 30}}\n"
     ]
    }
   ],
   "source": [
    "pprint(processing_step.arguments['ProcessingResources'])"
   ]
  },
  {
   "cell_type": "markdown",
   "id": "7f4fb005-bb9a-4108-bb8b-b94f09f61591",
   "metadata": {},
   "source": [
    "## 2. Configure Training Step"
   ]
  },
  {
   "cell_type": "code",
   "execution_count": 296,
   "id": "45701a7a-ec10-4931-bc67-66c258197471",
   "metadata": {
    "tags": []
   },
   "outputs": [],
   "source": [
    "# ========================= Training resources =========================\n",
    "training_instance_type = 'ml.m5.large'\n",
    "training_instance_count = 1\n",
    "\n",
    "\n",
    "# ========================== training inputs ==========================\n",
    "objective = 'validation:accuracy'\n",
    "metric_definitions = [\n",
    "    {'Name': 'validation:precision', 'Regex': 'val_precision: ([0-9.]+)'},\n",
    "    {'Name': 'validation:recall', 'Regex': 'val_recall: ([0-9.]+)'},\n",
    "    {'Name': 'validation:f1Score', 'Regex': 'val_f1score: ([0-9.]+)'},\n",
    "    {'Name': 'validation:ROCAUC', 'Regex': 'val_roc_auc: ([0-9.]+)'},\n",
    "    {'Name': 'validation:accuracy', 'Regex': 'val_accuracy: ([0-9.]+)'}\n",
    "]\n"
   ]
  },
  {
   "cell_type": "code",
   "execution_count": 297,
   "id": "aa2d4a55-e2f0-4179-ae39-d50f145b5575",
   "metadata": {
    "tags": []
   },
   "outputs": [],
   "source": [
    "from sagemaker.parameter import IntegerParameter, CategoricalParameter, ContinuousParameter\n",
    "\n",
    "\n",
    "# =========================  Static hyperparameters =========================\n",
    "random_state = ParameterInteger(\n",
    "    name='random-state',\n",
    "    default_value=2024\n",
    ")\n",
    "\n",
    "static_hyperparameters = {\n",
    "    'random_state': random_state\n",
    "}\n",
    "\n",
    "# ==========================  Hyperparameter ranges ==========================\n",
    "\n",
    "hyperparameter_ranges = {\n",
    "    'n_estimators': IntegerParameter(min_value=10, \n",
    "                                     max_value=200, \n",
    "                                     scaling_type='Logarithmic'),\n",
    "    \n",
    "    'max_depth': IntegerParameter(min_value=3, \n",
    "                                  max_value=10, \n",
    "                                  scaling_type='Linear'),\n",
    "    \n",
    "    'criterion': CategoricalParameter(values=['gini', 'entropy'])\n",
    "}\n"
   ]
  },
  {
   "cell_type": "code",
   "execution_count": 298,
   "id": "a34f31f9-f2c5-4776-8eda-48424a72be2e",
   "metadata": {
    "tags": []
   },
   "outputs": [],
   "source": [
    "from sagemaker.sklearn.estimator import SKLearn\n",
    "\n",
    "\n",
    "# =========================  Instanciate estimator  =========================\n",
    "sklearn_estimator = SKLearn(\n",
    "    entry_point='./src/training.py',\n",
    "    framework_version=FRAMEWORK_VERSION,\n",
    "    instance_type=training_instance_type,\n",
    "    instance_count=training_instance_count,\n",
    "    role=role,\n",
    "    hyperparameters=static_hyperparameters,\n",
    "    metric_definitions=metric_definitions\n",
    ")\n"
   ]
  },
  {
   "cell_type": "code",
   "execution_count": 299,
   "id": "c9bdc5e9-a300-4dfa-8c0e-b1a3bedf6587",
   "metadata": {
    "tags": []
   },
   "outputs": [],
   "source": [
    "from sagemaker.tuner import HyperparameterTuner\n",
    "\n",
    "\n",
    "# =========================  Instanciate hyperparameter tuner  =========================\n",
    "tuner = HyperparameterTuner(\n",
    "        estimator=sklearn_estimator,\n",
    "        hyperparameter_ranges=hyperparameter_ranges,\n",
    "        objective_metric_name=objective,\n",
    "        metric_definitions=metric_definitions,\n",
    "        strategy='Bayesian',\n",
    "        objective_type='Maximize',\n",
    "        max_jobs=10,\n",
    "        max_parallel_jobs=2,\n",
    "        # autotune=True\n",
    ")\n"
   ]
  },
  {
   "cell_type": "code",
   "execution_count": 300,
   "id": "d011f51d-fd96-4763-890d-47887fd21099",
   "metadata": {
    "tags": []
   },
   "outputs": [],
   "source": [
    "from sagemaker.inputs import TrainingInput\n",
    "\n",
    "\n",
    "# ====================== Configure training/tuning inputs ======================\n",
    "tuning_inputs = {\n",
    "    'train': TrainingInput(\n",
    "        s3_data=processing_step.properties.ProcessingOutputConfig.Outputs[\n",
    "            'bank-churn-mon1-train'\n",
    "        ].S3Output.S3Uri,\n",
    "        content_type='text/csv'),\n",
    "    \n",
    "    \n",
    "    'validation': TrainingInput(\n",
    "        s3_data=processing_step.properties.ProcessingOutputConfig.Outputs[\n",
    "            'bank-churn-mon1-validation'\n",
    "        ].S3Output.S3Uri,\n",
    "        content_type='text/csv'\n",
    "    )\n",
    "}"
   ]
  },
  {
   "cell_type": "code",
   "execution_count": 301,
   "id": "f2ee747a-31c6-4109-a115-2ab8383414ca",
   "metadata": {
    "tags": []
   },
   "outputs": [],
   "source": [
    "from sagemaker.workflow.steps import CacheConfig\n",
    "\n",
    "cache_config = CacheConfig(enable_caching=True, expire_after=\"PT1H\") # PT1H represents `one hour`"
   ]
  },
  {
   "cell_type": "code",
   "execution_count": 302,
   "id": "144ad7eb-4675-4029-a147-0d8c0d6c4842",
   "metadata": {},
   "outputs": [],
   "source": [
    "from sagemaker.workflow.steps import TuningStep, TrainingStep\n",
    "\n",
    "# Hyperparameter tuning\n",
    "tuning_step =TuningStep(\n",
    "    name='ModelTraining',\n",
    "    tuner=tuner,\n",
    "    inputs=tuning_inputs,\n",
    "    cache_config=cache_config\n",
    ")\n",
    "\n",
    "\n",
    "# # Simple training\n",
    "# tuning_step =TrainingStep(\n",
    "#     name='SimpleTraining',\n",
    "#     estimator=sklearn_estimator,\n",
    "#     inputs=tuning_inputs,\n",
    "#     cache_config=cache_config\n",
    "# )\n"
   ]
  },
  {
   "cell_type": "code",
   "execution_count": 303,
   "id": "65c0edd5-85d0-4110-aebc-c665db904d7c",
   "metadata": {
    "tags": []
   },
   "outputs": [
    {
     "data": {
      "text/plain": [
       "dict_keys(['_step', 'step_name', 'path', '_shape_names', 'HyperParameterTuningJobName', 'HyperParameterTuningJobArn', 'HyperParameterTuningJobConfig', 'TrainingJobDefinition', 'TrainingJobDefinitions', 'HyperParameterTuningJobStatus', 'CreationTime', 'HyperParameterTuningEndTime', 'LastModifiedTime', 'TrainingJobStatusCounters', 'ObjectiveStatusCounters', 'BestTrainingJob', 'OverallBestTrainingJob', 'WarmStartConfig', 'Autotune', 'FailureReason', 'TuningJobCompletionDetails', 'ConsumedResources', 'TrainingJobSummaries', 'NextToken'])"
      ]
     },
     "execution_count": 303,
     "metadata": {},
     "output_type": "execute_result"
    }
   ],
   "source": [
    "tuning_step.properties.__dict__.keys()"
   ]
  },
  {
   "cell_type": "code",
   "execution_count": 304,
   "id": "fb92ee67-ac8b-491e-9407-c7a499a055d0",
   "metadata": {
    "tags": []
   },
   "outputs": [
    {
     "data": {
      "text/plain": [
       "dict_keys(['_step', 'step_name', 'path', '_shape_names', 'DefinitionName', 'TuningObjective', 'HyperParameterRanges', 'StaticHyperParameters', 'AlgorithmSpecification', 'RoleArn', 'InputDataConfig', 'VpcConfig', 'OutputDataConfig', 'ResourceConfig', 'HyperParameterTuningResourceConfig', 'StoppingCondition', 'EnableNetworkIsolation', 'EnableInterContainerTrafficEncryption', 'EnableManagedSpotTraining', 'CheckpointConfig', 'RetryStrategy', 'Environment'])"
      ]
     },
     "execution_count": 304,
     "metadata": {},
     "output_type": "execute_result"
    }
   ],
   "source": [
    "tuning_step.properties.TrainingJobDefinition.__dict__.keys()"
   ]
  },
  {
   "cell_type": "code",
   "execution_count": 305,
   "id": "2894c6f8-e5f5-4269-abdb-cb032b56b534",
   "metadata": {
    "tags": []
   },
   "outputs": [],
   "source": [
    "# tuning_step.properties.properties.ModelArtifacts.S3ModelArtifacts"
   ]
  },
  {
   "cell_type": "markdown",
   "id": "9ec52b72-3a29-4299-8c84-0dc6ab79a11d",
   "metadata": {},
   "source": [
    "## 3. Configure model evaluation step"
   ]
  },
  {
   "cell_type": "code",
   "execution_count": 306,
   "id": "200d4b08-efb3-4b5a-847c-1d2489794156",
   "metadata": {
    "tags": []
   },
   "outputs": [
    {
     "name": "stderr",
     "output_type": "stream",
     "text": [
      "INFO:sagemaker.image_uris:Defaulting to only available Python version: py3\n"
     ]
    }
   ],
   "source": [
    "evaluation_processor = SKLearnProcessor(\n",
    "    framework_version=FRAMEWORK_VERSION,\n",
    "    role=role,\n",
    "    instance_type=processing_instance_type,\n",
    "    instance_count = processing_instance_count,\n",
    "    env={'AWS_DEFAULT_REGION': region}  \n",
    ")\n"
   ]
  },
  {
   "cell_type": "code",
   "execution_count": 307,
   "id": "6dec1b58-6bea-438f-a56b-e5e0d6e33b88",
   "metadata": {
    "tags": []
   },
   "outputs": [],
   "source": [
    "from sagemaker.workflow.properties import PropertyFile\n",
    "\n",
    "\n",
    "evaluation_metrics = PropertyFile(\n",
    "    name='EvaluationReport',\n",
    "    output_name='metrics',\n",
    "    path='evaluation.json'\n",
    ")\n"
   ]
  },
  {
   "cell_type": "code",
   "execution_count": 308,
   "id": "b434b276-9c1b-4d06-b990-0d2ff72c0674",
   "metadata": {
    "tags": []
   },
   "outputs": [],
   "source": [
    "evaluation_step = ProcessingStep(\n",
    "    name='EvaluateMetrics',\n",
    "    code='./src/evaluate_metrics.py',\n",
    "    processor=evaluation_processor,\n",
    "    inputs=[\n",
    "        ProcessingInput(\n",
    "            source=tuning_step.get_top_model_s3_uri(top_k=0, s3_bucket=bucket),\n",
    "            # source=tuning_step.properties.ModelArtifacts.S3ModelArtifacts,\n",
    "            destination='/opt/ml/processing/input/model'\n",
    "        ),\n",
    "        ProcessingInput(\n",
    "            source=processing_step.properties.ProcessingOutputConfig.Outputs[\n",
    "                'bank-churn-mon1-test'\n",
    "            ].S3Output.S3Uri,\n",
    "            destination='/opt/ml/processing/input/data'\n",
    "        )\n",
    "    ],\n",
    "    outputs = [\n",
    "        ProcessingOutput(\n",
    "            output_name='metrics',\n",
    "            s3_upload_mode='EndOfJob',\n",
    "            source='/opt/ml/processing/output/metrics/'\n",
    "        )\n",
    "    ],\n",
    "    property_files=[evaluation_metrics]\n",
    "    # job_arguments=None\n",
    ")\n"
   ]
  },
  {
   "cell_type": "code",
   "execution_count": 309,
   "id": "d12eb2cf-6415-4435-951d-359aaf1868af",
   "metadata": {
    "tags": []
   },
   "outputs": [
    {
     "name": "stderr",
     "output_type": "stream",
     "text": [
      "WARNING:sagemaker.workflow.utilities:Popping out 'ProcessingJobName' from the pipeline definition by default since it will be overridden at pipeline execution time. Please utilize the PipelineDefinitionConfig to persist this field in the pipeline definition if desired.\n"
     ]
    },
    {
     "data": {
      "text/plain": [
       "'s3://sagemaker-eu-west-3-668303144976/EvaluateMetrics-558cc2049391644b997c852ef17938f9/output/metrics'"
      ]
     },
     "execution_count": 309,
     "metadata": {},
     "output_type": "execute_result"
    }
   ],
   "source": [
    "evaluation_step.arguments['ProcessingOutputConfig']['Outputs'][0]['S3Output']['S3Uri']"
   ]
  },
  {
   "cell_type": "markdown",
   "id": "f02e052c-a535-41aa-aeab-4502e7cdb936",
   "metadata": {},
   "source": [
    "## 4. Configure model registry step"
   ]
  },
  {
   "cell_type": "code",
   "execution_count": 310,
   "id": "ba4615e0-4d7f-4076-932e-69a3f73774ec",
   "metadata": {
    "tags": []
   },
   "outputs": [],
   "source": [
    "model_package_group_name = 'churn-month1-pipeline'\n",
    "\n",
    "\n",
    "model_approval_status = ParameterString(\n",
    "    name=\"ModelApprovalStatus\",\n",
    "    default_value=\"PendingManualApproval\"\n",
    ")\n",
    "\n",
    "\n",
    "deploy_instance_type = ParameterString(\n",
    "    name=\"DeployInstanceType\",\n",
    "    default_value=\"ml.m5.large\"\n",
    ")\n",
    "\n",
    "\n",
    "deploy_instance_count = ParameterInteger(\n",
    "    name=\"DeployInstanceCount\",\n",
    "    default_value=1\n",
    ")"
   ]
  },
  {
   "cell_type": "code",
   "execution_count": 311,
   "id": "4ea078ef-303c-4790-9ffe-3d7ca634bc96",
   "metadata": {
    "tags": []
   },
   "outputs": [
    {
     "name": "stderr",
     "output_type": "stream",
     "text": [
      "WARNING:sagemaker.workflow.utilities:The input argument instance_type of function (sagemaker.image_uris.retrieve) is a pipeline variable (<class 'sagemaker.workflow.parameters.ParameterString'>), which is interpreted in pipeline execution time only. As the function needs to evaluate the argument value in SDK compile time, the default_value of this Parameter object will be used to override it. Please make sure the default_value is valid.\n",
      "INFO:sagemaker.image_uris:Defaulting to only available Python version: py3\n"
     ]
    }
   ],
   "source": [
    "churn_inference_image_uri = sagemaker.image_uris.retrieve(\n",
    "    framework='sklearn',\n",
    "    version=FRAMEWORK_VERSION,\n",
    "    instance_type=deploy_instance_type,\n",
    "    image_scope=\"inference\",\n",
    "    region=region\n",
    ")"
   ]
  },
  {
   "cell_type": "code",
   "execution_count": 312,
   "id": "237ba905-f231-45fb-9076-9f869e8749a4",
   "metadata": {},
   "outputs": [
    {
     "name": "stderr",
     "output_type": "stream",
     "text": [
      "WARNING:sagemaker.workflow.utilities:Popping out 'ProcessingJobName' from the pipeline definition by default since it will be overridden at pipeline execution time. Please utilize the PipelineDefinitionConfig to persist this field in the pipeline definition if desired.\n"
     ]
    },
    {
     "data": {
      "text/plain": [
       "<sagemaker.model_metrics.MetricsSource at 0x7fdd18629de0>"
      ]
     },
     "execution_count": 312,
     "metadata": {},
     "output_type": "execute_result"
    }
   ],
   "source": [
    "from sagemaker.model_metrics import MetricsSource, ModelMetrics\n",
    "\n",
    "\n",
    "model_metrics = ModelMetrics(\n",
    "    model_statistics=MetricsSource(\n",
    "        s3_uri='{}/evaluation.json'.format(\n",
    "            evaluation_step.arguments['ProcessingOutputConfig']['Outputs'][0]['S3Output']['S3Uri']\n",
    "        ),\n",
    "        content_type='application/json'\n",
    "    )\n",
    ")\n",
    "\n",
    "model_metrics.model_statistics"
   ]
  },
  {
   "cell_type": "code",
   "execution_count": 313,
   "id": "609d9fe1-6d74-4224-a104-b6a3951fb64f",
   "metadata": {},
   "outputs": [],
   "source": [
    "from sagemaker.workflow.step_collections import RegisterModel\n",
    "\n",
    "\n",
    "register_step = RegisterModel(\n",
    "    name='RegisterModel',\n",
    "    estimator=sklearn_estimator,\n",
    "    image_uri=churn_inference_image_uri,\n",
    "    inference_instances=[deploy_instance_type],\n",
    "    transform_instances=[deploy_instance_type],\n",
    "    model_data=tuning_step.get_top_model_s3_uri(top_k=0, s3_bucket=bucket),\n",
    "    # model_data=tuning_step.properties.ModelArtifacts.S3ModelArtifacts,\n",
    "    model_package_group_name=model_package_group_name,\n",
    "    model_metrics=model_metrics,\n",
    "    approval_status=model_approval_status,\n",
    "    content_types=['text/csv'],\n",
    "    response_types=['text/csv'],\n",
    ")"
   ]
  },
  {
   "cell_type": "markdown",
   "id": "31740932-5567-4f29-8681-cc09bdeb4fd8",
   "metadata": {},
   "source": [
    "## 5. Create model for model deployment step"
   ]
  },
  {
   "cell_type": "code",
   "execution_count": 314,
   "id": "2d16e91d-ea20-4e79-ab94-095a68407dcc",
   "metadata": {
    "tags": []
   },
   "outputs": [],
   "source": [
    "import time\n",
    "from sagemaker.model import Model\n",
    "\n",
    "\n",
    "timestamp = int(time.time())\n",
    "model_name = 'churn-month1-{}'.format(timestamp)\n",
    "\n",
    "\n",
    "model = Model(\n",
    "    name=model_name,\n",
    "    image_uri=churn_inference_image_uri,\n",
    "    model_data=tuning_step.get_top_model_s3_uri(top_k=0, s3_bucket=bucket),\n",
    "    # model_data=tuning_step.properties.ModelArtifacts.S3ModelArtifacts,\n",
    "    sagemaker_session=sess,\n",
    "    role=role,\n",
    ")"
   ]
  },
  {
   "cell_type": "code",
   "execution_count": 315,
   "id": "04026c25-c97c-4d84-8098-9223a010370e",
   "metadata": {
    "tags": []
   },
   "outputs": [],
   "source": [
    "from sagemaker.inputs import CreateModelInput\n",
    "\n",
    "model_inputs = CreateModelInput(\n",
    "    instance_type=deploy_instance_type\n",
    ")"
   ]
  },
  {
   "cell_type": "code",
   "execution_count": 316,
   "id": "e6e8c25b-3c55-44d4-b9d9-ce8fde9f0337",
   "metadata": {
    "tags": []
   },
   "outputs": [],
   "source": [
    "from sagemaker.workflow.steps import CreateModelStep\n",
    "\n",
    "\n",
    "create_model_step = CreateModelStep(\n",
    "    name='CreateModel',\n",
    "    model=model,\n",
    "    inputs=model_inputs\n",
    ")"
   ]
  },
  {
   "cell_type": "markdown",
   "id": "8728d46a-9fa0-49ae-90c4-322e5d91e28f",
   "metadata": {},
   "source": [
    "## 6. Check model accuracy condition step"
   ]
  },
  {
   "cell_type": "code",
   "execution_count": 335,
   "id": "8d0c0906-cbae-439b-a294-cda707f334ae",
   "metadata": {
    "tags": []
   },
   "outputs": [],
   "source": [
    "from sagemaker.workflow.conditions import ConditionGreaterThanOrEqualTo\n",
    "from sagemaker.workflow.functions import JsonGet\n",
    "\n",
    "\n",
    "minimum_accuracy_value = ParameterFloat(\n",
    "    name='MinimumAccuracy',\n",
    "    default_value=0.70\n",
    ")\n",
    "\n",
    "\n",
    "minimum_accuracy_condition = ConditionGreaterThanOrEqualTo(\n",
    "    left=JsonGet(\n",
    "        step_name=evaluation_step.name,\n",
    "        step=evaluation_step,\n",
    "        property_file=evaluation_metrics,\n",
    "        json_path=\"metrics.accuracy.value\"\n",
    "    ),\n",
    "    \n",
    "    right=minimum_accuracy_value\n",
    ")"
   ]
  },
  {
   "cell_type": "code",
   "execution_count": 336,
   "id": "84c97654-0d2b-46ca-ad33-636873ea5b71",
   "metadata": {
    "tags": []
   },
   "outputs": [],
   "source": [
    "from sagemaker.workflow.condition_step import ConditionStep\n",
    "\n",
    "\n",
    "condition_step = ConditionStep(\n",
    "    name='MinimumAccuracyCondition',\n",
    "    conditions=[minimum_accuracy_condition],\n",
    "    if_steps=[register_step, create_model_step],\n",
    "    else_steps = []\n",
    ")\n"
   ]
  },
  {
   "cell_type": "markdown",
   "id": "c6c578cd-7a90-490c-a4a9-03f01ad62d9c",
   "metadata": {},
   "source": [
    "## 7. Create pipeline"
   ]
  },
  {
   "cell_type": "code",
   "execution_count": 337,
   "id": "110c8052-ee90-44c7-9aac-d5ad9a28bcc4",
   "metadata": {
    "tags": []
   },
   "outputs": [],
   "source": [
    "timestamp = int(time.time())\n",
    "pipeline_name = 'churn-month1-pipeline-{}'.format(timestamp)\n",
    "\n",
    "pipeline_parameters = [\n",
    "    input_data,\n",
    "    output_data,\n",
    "    random_state,\n",
    "    processing_instance_type,\n",
    "    processing_instance_count,\n",
    "    training_instance_type,\n",
    "    training_instance_count,\n",
    "    validation_split_percentage,\n",
    "    test_split_percentage,\n",
    "    feature_group_name,\n",
    "    feature_store_offline_prefix,\n",
    "    model_approval_status,\n",
    "    deploy_instance_count,\n",
    "    deploy_instance_type,\n",
    "    model_inputs,\n",
    "    minimum_accuracy_value\n",
    "]"
   ]
  },
  {
   "cell_type": "code",
   "execution_count": 338,
   "id": "0c33d19b-c030-42d5-8380-86472209f8ca",
   "metadata": {
    "tags": []
   },
   "outputs": [],
   "source": [
    "from sagemaker.workflow.pipeline import Pipeline \n",
    "\n",
    "pipeline = Pipeline(\n",
    "    name=pipeline_name,\n",
    "    sagemaker_session=sess,\n",
    "    parameters=pipeline_parameters,\n",
    "    steps=[\n",
    "        processing_step, \n",
    "        tuning_step, \n",
    "        evaluation_step,\n",
    "        condition_step,\n",
    "        # register_step, create_model_step\n",
    "    ]\n",
    ")"
   ]
  },
  {
   "cell_type": "code",
   "execution_count": 339,
   "id": "0b1acee1-0ad3-4a5a-8784-aa41054409bf",
   "metadata": {
    "tags": []
   },
   "outputs": [
    {
     "name": "stderr",
     "output_type": "stream",
     "text": [
      "WARNING:sagemaker.workflow.utilities:Popping out 'ProcessingJobName' from the pipeline definition by default since it will be overridden at pipeline execution time. Please utilize the PipelineDefinitionConfig to persist this field in the pipeline definition if desired.\n",
      "WARNING:sagemaker.estimator:No finished training job found associated with this estimator. Please make sure this estimator is only used for building workflow config\n",
      "WARNING:sagemaker.estimator:No finished training job found associated with this estimator. Please make sure this estimator is only used for building workflow config\n",
      "WARNING:sagemaker.workflow.utilities:Popping out 'HyperParameterTuningJobName' from the pipeline definition by default since it will be overridden at pipeline execution time. Please utilize the PipelineDefinitionConfig to persist this field in the pipeline definition if desired.\n",
      "WARNING:sagemaker.workflow.utilities:Popping out 'ProcessingJobName' from the pipeline definition by default since it will be overridden at pipeline execution time. Please utilize the PipelineDefinitionConfig to persist this field in the pipeline definition if desired.\n",
      "WARNING:sagemaker.estimator:No finished training job found associated with this estimator. Please make sure this estimator is only used for building workflow config\n",
      "WARNING:sagemaker.workflow._utils:Popping out 'CertifyForMarketplace' from the pipeline definition since it will be overridden in pipeline execution time.\n",
      "WARNING:sagemaker.workflow.utilities:Popping out 'ModelPackageName' from the pipeline definition by default since it will be overridden at pipeline execution time. Please utilize the PipelineDefinitionConfig to persist this field in the pipeline definition if desired.\n",
      "WARNING:sagemaker.workflow.utilities:Popping out 'ModelName' from the pipeline definition by default since it will be overridden at pipeline execution time. Please utilize the PipelineDefinitionConfig to persist this field in the pipeline definition if desired.\n"
     ]
    },
    {
     "name": "stdout",
     "output_type": "stream",
     "text": [
      "arn:aws:sagemaker:eu-west-3:668303144976:pipeline/churn-month1-pipeline-1727369546\n"
     ]
    }
   ],
   "source": [
    "response = pipeline.create(role_arn=role)\n",
    "\n",
    "pipeline_arn = response[\"PipelineArn\"]\n",
    "print(pipeline_arn)"
   ]
  },
  {
   "cell_type": "code",
   "execution_count": 340,
   "id": "69e8cb7f-8825-4464-bdcf-7867e7e8ce5e",
   "metadata": {
    "tags": []
   },
   "outputs": [
    {
     "name": "stderr",
     "output_type": "stream",
     "text": [
      "WARNING:sagemaker.workflow.utilities:Popping out 'ProcessingJobName' from the pipeline definition by default since it will be overridden at pipeline execution time. Please utilize the PipelineDefinitionConfig to persist this field in the pipeline definition if desired.\n",
      "WARNING:sagemaker.estimator:No finished training job found associated with this estimator. Please make sure this estimator is only used for building workflow config\n",
      "WARNING:sagemaker.estimator:No finished training job found associated with this estimator. Please make sure this estimator is only used for building workflow config\n",
      "WARNING:sagemaker.workflow.utilities:Popping out 'HyperParameterTuningJobName' from the pipeline definition by default since it will be overridden at pipeline execution time. Please utilize the PipelineDefinitionConfig to persist this field in the pipeline definition if desired.\n",
      "WARNING:sagemaker.workflow.utilities:Popping out 'ProcessingJobName' from the pipeline definition by default since it will be overridden at pipeline execution time. Please utilize the PipelineDefinitionConfig to persist this field in the pipeline definition if desired.\n",
      "WARNING:sagemaker.estimator:No finished training job found associated with this estimator. Please make sure this estimator is only used for building workflow config\n",
      "WARNING:sagemaker.workflow._utils:Popping out 'CertifyForMarketplace' from the pipeline definition since it will be overridden in pipeline execution time.\n",
      "WARNING:sagemaker.workflow.utilities:Popping out 'ModelPackageName' from the pipeline definition by default since it will be overridden at pipeline execution time. Please utilize the PipelineDefinitionConfig to persist this field in the pipeline definition if desired.\n",
      "WARNING:sagemaker.workflow.utilities:Popping out 'ModelName' from the pipeline definition by default since it will be overridden at pipeline execution time. Please utilize the PipelineDefinitionConfig to persist this field in the pipeline definition if desired.\n"
     ]
    },
    {
     "name": "stdout",
     "output_type": "stream",
     "text": [
      "{'Metadata': {},\n",
      " 'Parameters': [{'DefaultValue': '/opt/ml/processing/input/data',\n",
      "                 'Name': 'input-data',\n",
      "                 'Type': 'String'},\n",
      "                {'DefaultValue': '/opt/ml/processing/output',\n",
      "                 'Name': 'output-data',\n",
      "                 'Type': 'String'},\n",
      "                {'DefaultValue': 2024,\n",
      "                 'Name': 'random-state',\n",
      "                 'Type': 'Integer'},\n",
      "                {'DefaultValue': 0.1,\n",
      "                 'Name': 'validation-split-percentage',\n",
      "                 'Type': 'Float'},\n",
      "                {'DefaultValue': 0.2,\n",
      "                 'Name': 'test-split-percentage',\n",
      "                 'Type': 'Float'},\n",
      "                {'DefaultValue': 'bank-churn-mon1-feature-group',\n",
      "                 'Name': 'feature-group-name',\n",
      "                 'Type': 'String'},\n",
      "                {'Name': 'feature-store-offline-prefix', 'Type': 'String'},\n",
      "                {'DefaultValue': 'PendingManualApproval',\n",
      "                 'Name': 'ModelApprovalStatus',\n",
      "                 'Type': 'String'},\n",
      "                {'DefaultValue': 1,\n",
      "                 'Name': 'DeployInstanceCount',\n",
      "                 'Type': 'Integer'},\n",
      "                {'DefaultValue': 'ml.m5.large',\n",
      "                 'Name': 'DeployInstanceType',\n",
      "                 'Type': 'String'},\n",
      "                {'DefaultValue': 0.7,\n",
      "                 'Name': 'MinimumAccuracy',\n",
      "                 'Type': 'Float'}],\n",
      " 'PipelineExperimentConfig': {'ExperimentName': {'Get': 'Execution.PipelineName'},\n",
      "                              'TrialName': {'Get': 'Execution.PipelineExecutionId'}},\n",
      " 'Steps': [{'Arguments': {'AppSpecification': {'ContainerArguments': ['--input-data',\n",
      "                                                                      '/opt/ml/processing/input/data',\n",
      "                                                                      '--output-data',\n",
      "                                                                      '/opt/ml/processing/output',\n",
      "                                                                      '--validation-split-percentage',\n",
      "                                                                      '0.1',\n",
      "                                                                      '--test-split-percentage',\n",
      "                                                                      '0.2',\n",
      "                                                                      '--feature-store-offline-prefix',\n",
      "                                                                      'None',\n",
      "                                                                      '--feature-group-name',\n",
      "                                                                      'bank-churn-mon1-feature-group'],\n",
      "                                               'ContainerEntrypoint': ['python3',\n",
      "                                                                       '/opt/ml/processing/input/code/processing.py'],\n",
      "                                               'ImageUri': '659782779980.dkr.ecr.eu-west-3.amazonaws.com/sagemaker-scikit-learn:1.0-1-cpu-py3'},\n",
      "                          'Environment': {'AWS_DEFAULT_REGION': 'eu-west-3'},\n",
      "                          'ProcessingInputs': [{'AppManaged': False,\n",
      "                                                'InputName': 'bank-churn-mon1-raw-data',\n",
      "                                                'S3Input': {'LocalPath': '/opt/ml/processing/input/data',\n",
      "                                                            'S3CompressionType': 'None',\n",
      "                                                            'S3DataDistributionType': 'ShardedByS3Key',\n",
      "                                                            'S3DataType': 'S3Prefix',\n",
      "                                                            'S3InputMode': 'File',\n",
      "                                                            'S3Uri': 's3://sagemaker-eu-west-3-668303144976/data/transformed_querying/month1'}},\n",
      "                                               {'AppManaged': False,\n",
      "                                                'InputName': 'code',\n",
      "                                                'S3Input': {'LocalPath': '/opt/ml/processing/input/code',\n",
      "                                                            'S3CompressionType': 'None',\n",
      "                                                            'S3DataDistributionType': 'FullyReplicated',\n",
      "                                                            'S3DataType': 'S3Prefix',\n",
      "                                                            'S3InputMode': 'File',\n",
      "                                                            'S3Uri': 's3://sagemaker-eu-west-3-668303144976/DataProcessing-fadeac1e1c3f09d53b332e0d3a5ccde0/input/code/processing.py'}}],\n",
      "                          'ProcessingOutputConfig': {'Outputs': [{'AppManaged': False,\n",
      "                                                                  'OutputName': 'bank-churn-mon1-train',\n",
      "                                                                  'S3Output': {'LocalPath': '/opt/ml/processing/output/train',\n",
      "                                                                               'S3UploadMode': 'EndOfJob',\n",
      "                                                                               'S3Uri': 's3://sagemaker-eu-west-3-668303144976/DataProcessing-fadeac1e1c3f09d53b332e0d3a5ccde0/output/bank-churn-mon1-train'}},\n",
      "                                                                 {'AppManaged': False,\n",
      "                                                                  'OutputName': 'bank-churn-mon1-validation',\n",
      "                                                                  'S3Output': {'LocalPath': '/opt/ml/processing/output/validation',\n",
      "                                                                               'S3UploadMode': 'EndOfJob',\n",
      "                                                                               'S3Uri': 's3://sagemaker-eu-west-3-668303144976/DataProcessing-fadeac1e1c3f09d53b332e0d3a5ccde0/output/bank-churn-mon1-validation'}},\n",
      "                                                                 {'AppManaged': False,\n",
      "                                                                  'OutputName': 'bank-churn-mon1-test',\n",
      "                                                                  'S3Output': {'LocalPath': '/opt/ml/processing/output/test',\n",
      "                                                                               'S3UploadMode': 'EndOfJob',\n",
      "                                                                               'S3Uri': 's3://sagemaker-eu-west-3-668303144976/DataProcessing-fadeac1e1c3f09d53b332e0d3a5ccde0/output/bank-churn-mon1-test'}}]},\n",
      "                          'ProcessingResources': {'ClusterConfig': {'InstanceCount': 1,\n",
      "                                                                    'InstanceType': 'ml.t3.medium',\n",
      "                                                                    'VolumeSizeInGB': 30}},\n",
      "                          'RoleArn': 'arn:aws:iam::668303144976:role/service-role/AmazonSageMaker-ExecutionRole-20231108T110667'},\n",
      "            'Name': 'DataProcessing',\n",
      "            'Type': 'Processing'},\n",
      "           {'Arguments': {'HyperParameterTuningJobConfig': {'HyperParameterTuningJobObjective': {'MetricName': 'validation:accuracy',\n",
      "                                                                                                 'Type': 'Maximize'},\n",
      "                                                            'ParameterRanges': {'CategoricalParameterRanges': [{'Name': 'criterion',\n",
      "                                                                                                                'Values': ['\"gini\"',\n",
      "                                                                                                                           '\"entropy\"']}],\n",
      "                                                                                'ContinuousParameterRanges': [],\n",
      "                                                                                'IntegerParameterRanges': [{'MaxValue': '200',\n",
      "                                                                                                            'MinValue': '10',\n",
      "                                                                                                            'Name': 'n_estimators',\n",
      "                                                                                                            'ScalingType': 'Logarithmic'},\n",
      "                                                                                                           {'MaxValue': '10',\n",
      "                                                                                                            'MinValue': '3',\n",
      "                                                                                                            'Name': 'max_depth',\n",
      "                                                                                                            'ScalingType': 'Linear'}]},\n",
      "                                                            'ResourceLimits': {'MaxNumberOfTrainingJobs': 10,\n",
      "                                                                               'MaxParallelTrainingJobs': 2},\n",
      "                                                            'Strategy': 'Bayesian',\n",
      "                                                            'TrainingJobEarlyStoppingType': 'Off'},\n",
      "                          'TrainingJobDefinition': {'AlgorithmSpecification': {'MetricDefinitions': [{'Name': 'validation:precision',\n",
      "                                                                                                      'Regex': 'val_precision: '\n",
      "                                                                                                               '([0-9.]+)'},\n",
      "                                                                                                     {'Name': 'validation:recall',\n",
      "                                                                                                      'Regex': 'val_recall: '\n",
      "                                                                                                               '([0-9.]+)'},\n",
      "                                                                                                     {'Name': 'validation:f1Score',\n",
      "                                                                                                      'Regex': 'val_f1score: '\n",
      "                                                                                                               '([0-9.]+)'},\n",
      "                                                                                                     {'Name': 'validation:ROCAUC',\n",
      "                                                                                                      'Regex': 'val_roc_auc: '\n",
      "                                                                                                               '([0-9.]+)'},\n",
      "                                                                                                     {'Name': 'validation:accuracy',\n",
      "                                                                                                      'Regex': 'val_accuracy: '\n",
      "                                                                                                               '([0-9.]+)'}],\n",
      "                                                                               'TrainingImage': '659782779980.dkr.ecr.eu-west-3.amazonaws.com/sagemaker-scikit-learn:1.0-1-cpu-py3',\n",
      "                                                                               'TrainingInputMode': 'File'},\n",
      "                                                    'HyperParameterTuningResourceConfig': {'InstanceCount': 1,\n",
      "                                                                                           'InstanceType': 'ml.m5.large',\n",
      "                                                                                           'VolumeSizeInGB': 30},\n",
      "                                                    'InputDataConfig': [{'ChannelName': 'train',\n",
      "                                                                         'ContentType': 'text/csv',\n",
      "                                                                         'DataSource': {'S3DataSource': {'S3DataDistributionType': 'FullyReplicated',\n",
      "                                                                                                         'S3DataType': 'S3Prefix',\n",
      "                                                                                                         'S3Uri': {'Get': \"Steps.DataProcessing.ProcessingOutputConfig.Outputs['bank-churn-mon1-train'].S3Output.S3Uri\"}}}},\n",
      "                                                                        {'ChannelName': 'validation',\n",
      "                                                                         'ContentType': 'text/csv',\n",
      "                                                                         'DataSource': {'S3DataSource': {'S3DataDistributionType': 'FullyReplicated',\n",
      "                                                                                                         'S3DataType': 'S3Prefix',\n",
      "                                                                                                         'S3Uri': {'Get': \"Steps.DataProcessing.ProcessingOutputConfig.Outputs['bank-churn-mon1-validation'].S3Output.S3Uri\"}}}}],\n",
      "                                                    'OutputDataConfig': {'S3OutputPath': 's3://sagemaker-eu-west-3-668303144976/'},\n",
      "                                                    'RoleArn': 'arn:aws:iam::668303144976:role/service-role/AmazonSageMaker-ExecutionRole-20231108T110667',\n",
      "                                                    'StaticHyperParameters': {'random_state': {'Std:Join': {'On': '',\n",
      "                                                                                                            'Values': [{'Get': 'Parameters.random-state'}]}},\n",
      "                                                                              'sagemaker_container_log_level': '20',\n",
      "                                                                              'sagemaker_estimator_class_name': '\"SKLearn\"',\n",
      "                                                                              'sagemaker_estimator_module': '\"sagemaker.sklearn.estimator\"',\n",
      "                                                                              'sagemaker_job_name': '\"sagemaker-scikit-learn-2024-09-26-16-52-42-460\"',\n",
      "                                                                              'sagemaker_program': '\"training.py\"',\n",
      "                                                                              'sagemaker_region': '\"eu-west-3\"',\n",
      "                                                                              'sagemaker_submit_directory': '\"s3://sagemaker-eu-west-3-668303144976/sagemaker-scikit-learn-2024-09-26-16-52-42-460/source/sourcedir.tar.gz\"'},\n",
      "                                                    'StoppingCondition': {'MaxRuntimeInSeconds': 86400}}},\n",
      "            'CacheConfig': {'Enabled': True, 'ExpireAfter': 'PT1H'},\n",
      "            'Name': 'ModelTraining',\n",
      "            'Type': 'Tuning'},\n",
      "           {'Arguments': {'AppSpecification': {'ContainerEntrypoint': ['python3',\n",
      "                                                                       '/opt/ml/processing/input/code/evaluate_metrics.py'],\n",
      "                                               'ImageUri': '659782779980.dkr.ecr.eu-west-3.amazonaws.com/sagemaker-scikit-learn:1.0-1-cpu-py3'},\n",
      "                          'Environment': {'AWS_DEFAULT_REGION': 'eu-west-3'},\n",
      "                          'ProcessingInputs': [{'AppManaged': False,\n",
      "                                                'InputName': 'input-1',\n",
      "                                                'S3Input': {'LocalPath': '/opt/ml/processing/input/model',\n",
      "                                                            'S3CompressionType': 'None',\n",
      "                                                            'S3DataDistributionType': 'FullyReplicated',\n",
      "                                                            'S3DataType': 'S3Prefix',\n",
      "                                                            'S3InputMode': 'File',\n",
      "                                                            'S3Uri': {'Std:Join': {'On': '/',\n",
      "                                                                                   'Values': ['s3:/',\n",
      "                                                                                              'sagemaker-eu-west-3-668303144976',\n",
      "                                                                                              {'Get': 'Steps.ModelTraining.TrainingJobSummaries[0].TrainingJobName'},\n",
      "                                                                                              'output/model.tar.gz']}}}},\n",
      "                                               {'AppManaged': False,\n",
      "                                                'InputName': 'input-2',\n",
      "                                                'S3Input': {'LocalPath': '/opt/ml/processing/input/data',\n",
      "                                                            'S3CompressionType': 'None',\n",
      "                                                            'S3DataDistributionType': 'FullyReplicated',\n",
      "                                                            'S3DataType': 'S3Prefix',\n",
      "                                                            'S3InputMode': 'File',\n",
      "                                                            'S3Uri': {'Get': \"Steps.DataProcessing.ProcessingOutputConfig.Outputs['bank-churn-mon1-test'].S3Output.S3Uri\"}}},\n",
      "                                               {'AppManaged': False,\n",
      "                                                'InputName': 'code',\n",
      "                                                'S3Input': {'LocalPath': '/opt/ml/processing/input/code',\n",
      "                                                            'S3CompressionType': 'None',\n",
      "                                                            'S3DataDistributionType': 'FullyReplicated',\n",
      "                                                            'S3DataType': 'S3Prefix',\n",
      "                                                            'S3InputMode': 'File',\n",
      "                                                            'S3Uri': 's3://sagemaker-eu-west-3-668303144976/EvaluateMetrics-558cc2049391644b997c852ef17938f9/input/code/evaluate_metrics.py'}}],\n",
      "                          'ProcessingOutputConfig': {'Outputs': [{'AppManaged': False,\n",
      "                                                                  'OutputName': 'metrics',\n",
      "                                                                  'S3Output': {'LocalPath': '/opt/ml/processing/output/metrics/',\n",
      "                                                                               'S3UploadMode': 'EndOfJob',\n",
      "                                                                               'S3Uri': 's3://sagemaker-eu-west-3-668303144976/EvaluateMetrics-558cc2049391644b997c852ef17938f9/output/metrics'}}]},\n",
      "                          'ProcessingResources': {'ClusterConfig': {'InstanceCount': 1,\n",
      "                                                                    'InstanceType': 'ml.t3.medium',\n",
      "                                                                    'VolumeSizeInGB': 30}},\n",
      "                          'RoleArn': 'arn:aws:iam::668303144976:role/service-role/AmazonSageMaker-ExecutionRole-20231108T110667'},\n",
      "            'Name': 'EvaluateMetrics',\n",
      "            'PropertyFiles': [{'FilePath': 'evaluation.json',\n",
      "                               'OutputName': 'metrics',\n",
      "                               'PropertyFileName': 'EvaluationReport'}],\n",
      "            'Type': 'Processing'},\n",
      "           {'Arguments': {'Conditions': [{'LeftValue': {'Std:JsonGet': {'Path': 'metrics.accuracy.value',\n",
      "                                                                        'PropertyFile': {'Get': 'Steps.EvaluateMetrics.PropertyFiles.EvaluationReport'}}},\n",
      "                                          'RightValue': {'Get': 'Parameters.MinimumAccuracy'},\n",
      "                                          'Type': 'GreaterThanOrEqualTo'}],\n",
      "                          'ElseSteps': [],\n",
      "                          'IfSteps': [{'Arguments': {'InferenceSpecification': {'Containers': [{'Image': '659782779980.dkr.ecr.eu-west-3.amazonaws.com/sagemaker-scikit-learn:1.0-1-cpu-py3',\n",
      "                                                                                                'ModelDataUrl': {'Std:Join': {'On': '/',\n",
      "                                                                                                                              'Values': ['s3:/',\n",
      "                                                                                                                                         'sagemaker-eu-west-3-668303144976',\n",
      "                                                                                                                                         {'Get': 'Steps.ModelTraining.TrainingJobSummaries[0].TrainingJobName'},\n",
      "                                                                                                                                         'output/model.tar.gz']}}}],\n",
      "                                                                                'SupportedContentTypes': ['text/csv'],\n",
      "                                                                                'SupportedRealtimeInferenceInstanceTypes': [{'Get': 'Parameters.DeployInstanceType'}],\n",
      "                                                                                'SupportedResponseMIMETypes': ['text/csv'],\n",
      "                                                                                'SupportedTransformInstanceTypes': [{'Get': 'Parameters.DeployInstanceType'}]},\n",
      "                                                     'ModelApprovalStatus': {'Get': 'Parameters.ModelApprovalStatus'},\n",
      "                                                     'ModelMetrics': {'Bias': {},\n",
      "                                                                      'Explainability': {},\n",
      "                                                                      'ModelQuality': {'Statistics': {'ContentType': 'application/json',\n",
      "                                                                                                      'S3Uri': 's3://sagemaker-eu-west-3-668303144976/EvaluateMetrics-558cc2049391644b997c852ef17938f9/output/metrics/evaluation.json'}}},\n",
      "                                                     'ModelPackageGroupName': 'churn-month1-pipeline',\n",
      "                                                     'SkipModelValidation': 'None'},\n",
      "                                       'Name': 'RegisterModel-RegisterModel',\n",
      "                                       'Type': 'RegisterModel'},\n",
      "                                      {'Arguments': {'ExecutionRoleArn': 'arn:aws:iam::668303144976:role/service-role/AmazonSageMaker-ExecutionRole-20231108T110667',\n",
      "                                                     'PrimaryContainer': {'Environment': {},\n",
      "                                                                          'Image': '659782779980.dkr.ecr.eu-west-3.amazonaws.com/sagemaker-scikit-learn:1.0-1-cpu-py3',\n",
      "                                                                          'ModelDataUrl': {'Std:Join': {'On': '/',\n",
      "                                                                                                        'Values': ['s3:/',\n",
      "                                                                                                                   'sagemaker-eu-west-3-668303144976',\n",
      "                                                                                                                   {'Get': 'Steps.ModelTraining.TrainingJobSummaries[0].TrainingJobName'},\n",
      "                                                                                                                   'output/model.tar.gz']}}}},\n",
      "                                       'Name': 'CreateModel',\n",
      "                                       'Type': 'Model'}]},\n",
      "            'Name': 'MinimumAccuracyCondition',\n",
      "            'Type': 'Condition'}],\n",
      " 'Version': '2020-12-01'}\n"
     ]
    }
   ],
   "source": [
    "import json\n",
    "from pprint import pprint\n",
    "\n",
    "definition = json.loads(pipeline.definition())\n",
    "\n",
    "pprint(definition)"
   ]
  },
  {
   "cell_type": "code",
   "execution_count": null,
   "id": "af326c38-0981-46a6-a819-0e9551424b79",
   "metadata": {},
   "outputs": [],
   "source": []
  },
  {
   "cell_type": "code",
   "execution_count": null,
   "id": "4e54ac75-6710-484f-a8b4-01684e9214cf",
   "metadata": {},
   "outputs": [],
   "source": []
  },
  {
   "cell_type": "code",
   "execution_count": null,
   "id": "e1bab377-c384-4301-b90f-f9e851be6b47",
   "metadata": {},
   "outputs": [],
   "source": [
    "pipeline.create(\n",
    "    role_arn=role,\n",
    "    \n",
    ")"
   ]
  },
  {
   "cell_type": "code",
   "execution_count": 44,
   "id": "d4bc34b9-f18a-49d9-b6f5-5c8f467f5b90",
   "metadata": {},
   "outputs": [],
   "source": [
    "# inference_processor = SKLearnProcessor(\n",
    "#     framework_version=FRAMEWORK_VERSION,\n",
    "#     role=role,\n",
    "#     instance_type=processing_instance_type,\n",
    "#     instance_count = processing_instance_count,\n",
    "#     env={'AWS_DEFAULT_REGION': region}\n",
    "# )"
   ]
  },
  {
   "cell_type": "code",
   "execution_count": null,
   "id": "a7ee4d1d-90ee-4729-a31e-7c77e8225cfc",
   "metadata": {},
   "outputs": [],
   "source": []
  }
 ],
 "metadata": {
  "availableInstances": [
   {
    "_defaultOrder": 0,
    "_isFastLaunch": true,
    "category": "General purpose",
    "gpuNum": 0,
    "hideHardwareSpecs": false,
    "memoryGiB": 4,
    "name": "ml.t3.medium",
    "vcpuNum": 2
   },
   {
    "_defaultOrder": 1,
    "_isFastLaunch": false,
    "category": "General purpose",
    "gpuNum": 0,
    "hideHardwareSpecs": false,
    "memoryGiB": 8,
    "name": "ml.t3.large",
    "vcpuNum": 2
   },
   {
    "_defaultOrder": 2,
    "_isFastLaunch": false,
    "category": "General purpose",
    "gpuNum": 0,
    "hideHardwareSpecs": false,
    "memoryGiB": 16,
    "name": "ml.t3.xlarge",
    "vcpuNum": 4
   },
   {
    "_defaultOrder": 3,
    "_isFastLaunch": false,
    "category": "General purpose",
    "gpuNum": 0,
    "hideHardwareSpecs": false,
    "memoryGiB": 32,
    "name": "ml.t3.2xlarge",
    "vcpuNum": 8
   },
   {
    "_defaultOrder": 4,
    "_isFastLaunch": true,
    "category": "General purpose",
    "gpuNum": 0,
    "hideHardwareSpecs": false,
    "memoryGiB": 8,
    "name": "ml.m5.large",
    "vcpuNum": 2
   },
   {
    "_defaultOrder": 5,
    "_isFastLaunch": false,
    "category": "General purpose",
    "gpuNum": 0,
    "hideHardwareSpecs": false,
    "memoryGiB": 16,
    "name": "ml.m5.xlarge",
    "vcpuNum": 4
   },
   {
    "_defaultOrder": 6,
    "_isFastLaunch": false,
    "category": "General purpose",
    "gpuNum": 0,
    "hideHardwareSpecs": false,
    "memoryGiB": 32,
    "name": "ml.m5.2xlarge",
    "vcpuNum": 8
   },
   {
    "_defaultOrder": 7,
    "_isFastLaunch": false,
    "category": "General purpose",
    "gpuNum": 0,
    "hideHardwareSpecs": false,
    "memoryGiB": 64,
    "name": "ml.m5.4xlarge",
    "vcpuNum": 16
   },
   {
    "_defaultOrder": 8,
    "_isFastLaunch": false,
    "category": "General purpose",
    "gpuNum": 0,
    "hideHardwareSpecs": false,
    "memoryGiB": 128,
    "name": "ml.m5.8xlarge",
    "vcpuNum": 32
   },
   {
    "_defaultOrder": 9,
    "_isFastLaunch": false,
    "category": "General purpose",
    "gpuNum": 0,
    "hideHardwareSpecs": false,
    "memoryGiB": 192,
    "name": "ml.m5.12xlarge",
    "vcpuNum": 48
   },
   {
    "_defaultOrder": 10,
    "_isFastLaunch": false,
    "category": "General purpose",
    "gpuNum": 0,
    "hideHardwareSpecs": false,
    "memoryGiB": 256,
    "name": "ml.m5.16xlarge",
    "vcpuNum": 64
   },
   {
    "_defaultOrder": 11,
    "_isFastLaunch": false,
    "category": "General purpose",
    "gpuNum": 0,
    "hideHardwareSpecs": false,
    "memoryGiB": 384,
    "name": "ml.m5.24xlarge",
    "vcpuNum": 96
   },
   {
    "_defaultOrder": 12,
    "_isFastLaunch": false,
    "category": "General purpose",
    "gpuNum": 0,
    "hideHardwareSpecs": false,
    "memoryGiB": 8,
    "name": "ml.m5d.large",
    "vcpuNum": 2
   },
   {
    "_defaultOrder": 13,
    "_isFastLaunch": false,
    "category": "General purpose",
    "gpuNum": 0,
    "hideHardwareSpecs": false,
    "memoryGiB": 16,
    "name": "ml.m5d.xlarge",
    "vcpuNum": 4
   },
   {
    "_defaultOrder": 14,
    "_isFastLaunch": false,
    "category": "General purpose",
    "gpuNum": 0,
    "hideHardwareSpecs": false,
    "memoryGiB": 32,
    "name": "ml.m5d.2xlarge",
    "vcpuNum": 8
   },
   {
    "_defaultOrder": 15,
    "_isFastLaunch": false,
    "category": "General purpose",
    "gpuNum": 0,
    "hideHardwareSpecs": false,
    "memoryGiB": 64,
    "name": "ml.m5d.4xlarge",
    "vcpuNum": 16
   },
   {
    "_defaultOrder": 16,
    "_isFastLaunch": false,
    "category": "General purpose",
    "gpuNum": 0,
    "hideHardwareSpecs": false,
    "memoryGiB": 128,
    "name": "ml.m5d.8xlarge",
    "vcpuNum": 32
   },
   {
    "_defaultOrder": 17,
    "_isFastLaunch": false,
    "category": "General purpose",
    "gpuNum": 0,
    "hideHardwareSpecs": false,
    "memoryGiB": 192,
    "name": "ml.m5d.12xlarge",
    "vcpuNum": 48
   },
   {
    "_defaultOrder": 18,
    "_isFastLaunch": false,
    "category": "General purpose",
    "gpuNum": 0,
    "hideHardwareSpecs": false,
    "memoryGiB": 256,
    "name": "ml.m5d.16xlarge",
    "vcpuNum": 64
   },
   {
    "_defaultOrder": 19,
    "_isFastLaunch": false,
    "category": "General purpose",
    "gpuNum": 0,
    "hideHardwareSpecs": false,
    "memoryGiB": 384,
    "name": "ml.m5d.24xlarge",
    "vcpuNum": 96
   },
   {
    "_defaultOrder": 20,
    "_isFastLaunch": false,
    "category": "General purpose",
    "gpuNum": 0,
    "hideHardwareSpecs": true,
    "memoryGiB": 0,
    "name": "ml.geospatial.interactive",
    "supportedImageNames": [
     "sagemaker-geospatial-v1-0"
    ],
    "vcpuNum": 0
   },
   {
    "_defaultOrder": 21,
    "_isFastLaunch": true,
    "category": "Compute optimized",
    "gpuNum": 0,
    "hideHardwareSpecs": false,
    "memoryGiB": 4,
    "name": "ml.c5.large",
    "vcpuNum": 2
   },
   {
    "_defaultOrder": 22,
    "_isFastLaunch": false,
    "category": "Compute optimized",
    "gpuNum": 0,
    "hideHardwareSpecs": false,
    "memoryGiB": 8,
    "name": "ml.c5.xlarge",
    "vcpuNum": 4
   },
   {
    "_defaultOrder": 23,
    "_isFastLaunch": false,
    "category": "Compute optimized",
    "gpuNum": 0,
    "hideHardwareSpecs": false,
    "memoryGiB": 16,
    "name": "ml.c5.2xlarge",
    "vcpuNum": 8
   },
   {
    "_defaultOrder": 24,
    "_isFastLaunch": false,
    "category": "Compute optimized",
    "gpuNum": 0,
    "hideHardwareSpecs": false,
    "memoryGiB": 32,
    "name": "ml.c5.4xlarge",
    "vcpuNum": 16
   },
   {
    "_defaultOrder": 25,
    "_isFastLaunch": false,
    "category": "Compute optimized",
    "gpuNum": 0,
    "hideHardwareSpecs": false,
    "memoryGiB": 72,
    "name": "ml.c5.9xlarge",
    "vcpuNum": 36
   },
   {
    "_defaultOrder": 26,
    "_isFastLaunch": false,
    "category": "Compute optimized",
    "gpuNum": 0,
    "hideHardwareSpecs": false,
    "memoryGiB": 96,
    "name": "ml.c5.12xlarge",
    "vcpuNum": 48
   },
   {
    "_defaultOrder": 27,
    "_isFastLaunch": false,
    "category": "Compute optimized",
    "gpuNum": 0,
    "hideHardwareSpecs": false,
    "memoryGiB": 144,
    "name": "ml.c5.18xlarge",
    "vcpuNum": 72
   },
   {
    "_defaultOrder": 28,
    "_isFastLaunch": false,
    "category": "Compute optimized",
    "gpuNum": 0,
    "hideHardwareSpecs": false,
    "memoryGiB": 192,
    "name": "ml.c5.24xlarge",
    "vcpuNum": 96
   },
   {
    "_defaultOrder": 29,
    "_isFastLaunch": true,
    "category": "Accelerated computing",
    "gpuNum": 1,
    "hideHardwareSpecs": false,
    "memoryGiB": 16,
    "name": "ml.g4dn.xlarge",
    "vcpuNum": 4
   },
   {
    "_defaultOrder": 30,
    "_isFastLaunch": false,
    "category": "Accelerated computing",
    "gpuNum": 1,
    "hideHardwareSpecs": false,
    "memoryGiB": 32,
    "name": "ml.g4dn.2xlarge",
    "vcpuNum": 8
   },
   {
    "_defaultOrder": 31,
    "_isFastLaunch": false,
    "category": "Accelerated computing",
    "gpuNum": 1,
    "hideHardwareSpecs": false,
    "memoryGiB": 64,
    "name": "ml.g4dn.4xlarge",
    "vcpuNum": 16
   },
   {
    "_defaultOrder": 32,
    "_isFastLaunch": false,
    "category": "Accelerated computing",
    "gpuNum": 1,
    "hideHardwareSpecs": false,
    "memoryGiB": 128,
    "name": "ml.g4dn.8xlarge",
    "vcpuNum": 32
   },
   {
    "_defaultOrder": 33,
    "_isFastLaunch": false,
    "category": "Accelerated computing",
    "gpuNum": 4,
    "hideHardwareSpecs": false,
    "memoryGiB": 192,
    "name": "ml.g4dn.12xlarge",
    "vcpuNum": 48
   },
   {
    "_defaultOrder": 34,
    "_isFastLaunch": false,
    "category": "Accelerated computing",
    "gpuNum": 1,
    "hideHardwareSpecs": false,
    "memoryGiB": 256,
    "name": "ml.g4dn.16xlarge",
    "vcpuNum": 64
   },
   {
    "_defaultOrder": 35,
    "_isFastLaunch": false,
    "category": "Accelerated computing",
    "gpuNum": 1,
    "hideHardwareSpecs": false,
    "memoryGiB": 61,
    "name": "ml.p3.2xlarge",
    "vcpuNum": 8
   },
   {
    "_defaultOrder": 36,
    "_isFastLaunch": false,
    "category": "Accelerated computing",
    "gpuNum": 4,
    "hideHardwareSpecs": false,
    "memoryGiB": 244,
    "name": "ml.p3.8xlarge",
    "vcpuNum": 32
   },
   {
    "_defaultOrder": 37,
    "_isFastLaunch": false,
    "category": "Accelerated computing",
    "gpuNum": 8,
    "hideHardwareSpecs": false,
    "memoryGiB": 488,
    "name": "ml.p3.16xlarge",
    "vcpuNum": 64
   },
   {
    "_defaultOrder": 38,
    "_isFastLaunch": false,
    "category": "Accelerated computing",
    "gpuNum": 8,
    "hideHardwareSpecs": false,
    "memoryGiB": 768,
    "name": "ml.p3dn.24xlarge",
    "vcpuNum": 96
   },
   {
    "_defaultOrder": 39,
    "_isFastLaunch": false,
    "category": "Memory Optimized",
    "gpuNum": 0,
    "hideHardwareSpecs": false,
    "memoryGiB": 16,
    "name": "ml.r5.large",
    "vcpuNum": 2
   },
   {
    "_defaultOrder": 40,
    "_isFastLaunch": false,
    "category": "Memory Optimized",
    "gpuNum": 0,
    "hideHardwareSpecs": false,
    "memoryGiB": 32,
    "name": "ml.r5.xlarge",
    "vcpuNum": 4
   },
   {
    "_defaultOrder": 41,
    "_isFastLaunch": false,
    "category": "Memory Optimized",
    "gpuNum": 0,
    "hideHardwareSpecs": false,
    "memoryGiB": 64,
    "name": "ml.r5.2xlarge",
    "vcpuNum": 8
   },
   {
    "_defaultOrder": 42,
    "_isFastLaunch": false,
    "category": "Memory Optimized",
    "gpuNum": 0,
    "hideHardwareSpecs": false,
    "memoryGiB": 128,
    "name": "ml.r5.4xlarge",
    "vcpuNum": 16
   },
   {
    "_defaultOrder": 43,
    "_isFastLaunch": false,
    "category": "Memory Optimized",
    "gpuNum": 0,
    "hideHardwareSpecs": false,
    "memoryGiB": 256,
    "name": "ml.r5.8xlarge",
    "vcpuNum": 32
   },
   {
    "_defaultOrder": 44,
    "_isFastLaunch": false,
    "category": "Memory Optimized",
    "gpuNum": 0,
    "hideHardwareSpecs": false,
    "memoryGiB": 384,
    "name": "ml.r5.12xlarge",
    "vcpuNum": 48
   },
   {
    "_defaultOrder": 45,
    "_isFastLaunch": false,
    "category": "Memory Optimized",
    "gpuNum": 0,
    "hideHardwareSpecs": false,
    "memoryGiB": 512,
    "name": "ml.r5.16xlarge",
    "vcpuNum": 64
   },
   {
    "_defaultOrder": 46,
    "_isFastLaunch": false,
    "category": "Memory Optimized",
    "gpuNum": 0,
    "hideHardwareSpecs": false,
    "memoryGiB": 768,
    "name": "ml.r5.24xlarge",
    "vcpuNum": 96
   },
   {
    "_defaultOrder": 47,
    "_isFastLaunch": false,
    "category": "Accelerated computing",
    "gpuNum": 1,
    "hideHardwareSpecs": false,
    "memoryGiB": 16,
    "name": "ml.g5.xlarge",
    "vcpuNum": 4
   },
   {
    "_defaultOrder": 48,
    "_isFastLaunch": false,
    "category": "Accelerated computing",
    "gpuNum": 1,
    "hideHardwareSpecs": false,
    "memoryGiB": 32,
    "name": "ml.g5.2xlarge",
    "vcpuNum": 8
   },
   {
    "_defaultOrder": 49,
    "_isFastLaunch": false,
    "category": "Accelerated computing",
    "gpuNum": 1,
    "hideHardwareSpecs": false,
    "memoryGiB": 64,
    "name": "ml.g5.4xlarge",
    "vcpuNum": 16
   },
   {
    "_defaultOrder": 50,
    "_isFastLaunch": false,
    "category": "Accelerated computing",
    "gpuNum": 1,
    "hideHardwareSpecs": false,
    "memoryGiB": 128,
    "name": "ml.g5.8xlarge",
    "vcpuNum": 32
   },
   {
    "_defaultOrder": 51,
    "_isFastLaunch": false,
    "category": "Accelerated computing",
    "gpuNum": 1,
    "hideHardwareSpecs": false,
    "memoryGiB": 256,
    "name": "ml.g5.16xlarge",
    "vcpuNum": 64
   },
   {
    "_defaultOrder": 52,
    "_isFastLaunch": false,
    "category": "Accelerated computing",
    "gpuNum": 4,
    "hideHardwareSpecs": false,
    "memoryGiB": 192,
    "name": "ml.g5.12xlarge",
    "vcpuNum": 48
   },
   {
    "_defaultOrder": 53,
    "_isFastLaunch": false,
    "category": "Accelerated computing",
    "gpuNum": 4,
    "hideHardwareSpecs": false,
    "memoryGiB": 384,
    "name": "ml.g5.24xlarge",
    "vcpuNum": 96
   },
   {
    "_defaultOrder": 54,
    "_isFastLaunch": false,
    "category": "Accelerated computing",
    "gpuNum": 8,
    "hideHardwareSpecs": false,
    "memoryGiB": 768,
    "name": "ml.g5.48xlarge",
    "vcpuNum": 192
   },
   {
    "_defaultOrder": 55,
    "_isFastLaunch": false,
    "category": "Accelerated computing",
    "gpuNum": 8,
    "hideHardwareSpecs": false,
    "memoryGiB": 1152,
    "name": "ml.p4d.24xlarge",
    "vcpuNum": 96
   },
   {
    "_defaultOrder": 56,
    "_isFastLaunch": false,
    "category": "Accelerated computing",
    "gpuNum": 8,
    "hideHardwareSpecs": false,
    "memoryGiB": 1152,
    "name": "ml.p4de.24xlarge",
    "vcpuNum": 96
   },
   {
    "_defaultOrder": 57,
    "_isFastLaunch": false,
    "category": "Accelerated computing",
    "gpuNum": 0,
    "hideHardwareSpecs": false,
    "memoryGiB": 32,
    "name": "ml.trn1.2xlarge",
    "vcpuNum": 8
   },
   {
    "_defaultOrder": 58,
    "_isFastLaunch": false,
    "category": "Accelerated computing",
    "gpuNum": 0,
    "hideHardwareSpecs": false,
    "memoryGiB": 512,
    "name": "ml.trn1.32xlarge",
    "vcpuNum": 128
   },
   {
    "_defaultOrder": 59,
    "_isFastLaunch": false,
    "category": "Accelerated computing",
    "gpuNum": 0,
    "hideHardwareSpecs": false,
    "memoryGiB": 512,
    "name": "ml.trn1n.32xlarge",
    "vcpuNum": 128
   }
  ],
  "kernelspec": {
   "display_name": "Python 3 (Data Science 3.0)",
   "language": "python",
   "name": "python3__SAGEMAKER_INTERNAL__arn:aws:sagemaker:eu-west-3:615547856133:image/sagemaker-data-science-310-v1"
  },
  "language_info": {
   "codemirror_mode": {
    "name": "ipython",
    "version": 3
   },
   "file_extension": ".py",
   "mimetype": "text/x-python",
   "name": "python",
   "nbconvert_exporter": "python",
   "pygments_lexer": "ipython3",
   "version": "3.10.6"
  }
 },
 "nbformat": 4,
 "nbformat_minor": 5
}
