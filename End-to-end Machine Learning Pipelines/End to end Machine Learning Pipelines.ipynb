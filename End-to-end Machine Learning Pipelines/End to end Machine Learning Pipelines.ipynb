{
 "cells": [
  {
   "cell_type": "markdown",
   "id": "739a6640-13e3-4fe1-b36c-835aa0ec83b7",
   "metadata": {},
   "source": [
    "# Machine Learning Pipelines\n",
    "\n",
    "## Machine Learning Orchestration with Amazon SageMaker Pipelines"
   ]
  },
  {
   "cell_type": "code",
   "execution_count": 3,
   "id": "16a88d5d-3e87-42e0-bac9-f534a07b685a",
   "metadata": {},
   "outputs": [],
   "source": [
    "import os\n",
    "import sagemaker\n",
    "import logging\n",
    "import boto3\n",
    "import time\n",
    "import pandas as pd\n",
    "import json\n",
    "import botocore\n",
    "from botocore.exceptions import ClientError\n",
    "\n",
    "\n",
    "# ========================== low-level service client of the boto3 session ==========================\n",
    "config = botocore.config.Config(user_agent_extra='bedissj-1699438736259')\n",
    "\n",
    "\n",
    "sm = boto3.client(service_name='sagemaker', \n",
    "                  config=config)\n",
    "\n",
    "sm_runtime = boto3.client('sagemaker-runtime',\n",
    "                          config=config)\n",
    "\n",
    "sess = sagemaker.Session(sagemaker_client=sm,\n",
    "                         sagemaker_runtime_client=sm_runtime)\n",
    "\n",
    "bucket = sess.default_bucket()\n",
    "role = sagemaker.get_execution_role()\n",
    "region = sess.boto_region_name\n"
   ]
  },
  {
   "cell_type": "markdown",
   "id": "f0bbc6e0-8507-46ee-b11b-8b9f5c447a24",
   "metadata": {},
   "source": [
    "![model_registry](./img/model_registry.png)"
   ]
  },
  {
   "cell_type": "markdown",
   "id": "eaf262ef-319f-4368-906c-e306f4939f6d",
   "metadata": {},
   "source": [
    "### 1.1 Configure Data Processing Step"
   ]
  },
  {
   "cell_type": "code",
   "execution_count": 11,
   "id": "3c138c6d-b318-4fef-8184-25aaccb45686",
   "metadata": {
    "tags": []
   },
   "outputs": [],
   "source": [
    "from sagemaker.processing import ProcessingInput, ProcessingOutput\n",
    "from sagemaker.workflow.parameters import ParameterFloat, ParameterInteger, ParameterString\n",
    "\n",
    "\n",
    "\n",
    "raw_data_s3_uri = f's3://{bucket}/data/transformed_querying/month1'\n",
    "\n",
    "input_data = ParameterString(\n",
    "    name='input-data',\n",
    "    default_value='/opt/ml/processing/input/data'\n",
    ")\n",
    "\n",
    "\n",
    "output_data = ParameterString(\n",
    "    name='input-data',\n",
    "    default_value='/opt/ml/processing/output'\n",
    ")\n",
    "\n",
    "validation_split_percentage = ParameterFloat(\n",
    "    name='validation-split-percentage',\n",
    "    default_value=0.1\n",
    ")\n",
    "\n",
    "\n",
    "test_split_percentage = ParameterFloat(\n",
    "    name='test-split-percentage',\n",
    "    default_value=0.2\n",
    ")\n",
    "\n",
    "\n",
    "feature_group_name = ParameterString(\n",
    "    name='feature-group-name',\n",
    "    default_value='bank-churn-mon1-feature-group'\n",
    ")\n",
    "\n",
    "\n",
    "\n",
    "feature_store_offline_prefix = ParameterString(\n",
    "    name='feature-store-offline-prefix',\n",
    "    default_value=None\n",
    ")\n",
    "\n",
    "\n",
    "\n",
    "# ========================== Processing Inputs ==========================\n",
    "processing_inputs = [ProcessingInput(input_name='bank-churn-mon1-raw-data',\n",
    "                                     source=raw_data_s3_uri, \n",
    "                                     destination=input_data.default_value,\n",
    "                                     s3_data_distribution_type='ShardedByS3Key')]\n",
    "\n",
    "\n",
    "\n",
    "# ========================== Processing Outputs ==========================\n",
    "output_data_train = output_data.default_value + '/train'\n",
    "output_data_validation = output_data.default_value + '/validation'\n",
    "output_data_test = output_data.default_value + '/test'\n",
    "\n",
    "\n",
    "\n",
    "processing_outputs = [\n",
    "    ProcessingOutput(output_name='bank-churn-mon1-train',\n",
    "                     source=output_data_train,\n",
    "                     s3_upload_mode='EndOfJob'),\n",
    "    \n",
    "    ProcessingOutput(source=output_data_validation,\n",
    "                    output_name='bank-churn-mon1-validation',\n",
    "                    s3_upload_mode='EndOfJob'),\n",
    "    \n",
    "    ProcessingOutput(source=output_data_test,\n",
    "                    output_name='bank-churn-mon1-test',\n",
    "                    s3_upload_mode='EndOfJob'),\n",
    "]\n"
   ]
  },
  {
   "cell_type": "code",
   "execution_count": 12,
   "id": "b8723bdd-f417-428a-8c7c-8f3c1976a94c",
   "metadata": {},
   "outputs": [],
   "source": [
    "from sagemaker.sklearn.processing import SKLearnProcessor\n",
    "\n",
    "\n",
    "# ========================== Processing Parameters ==========================\n",
    "FRAMEWORK_VERSION = '1.0-1'\n",
    "processing_instance_type = 'ml.t3.medium'\n",
    "processing_instance_count = 1\n",
    "\n",
    "\n",
    "\n",
    "# ========================== Instanciate SKLearn Processor ==========================\n",
    "\n",
    "sklearn_processor = SKLearnProcessor(\n",
    "    framework_version=FRAMEWORK_VERSION,\n",
    "    role=role,\n",
    "    instance_type=processing_instance_type,\n",
    "    instance_count = processing_instance_count,\n",
    "    env={'AWS_DEFAULT_REGION': region}\n",
    ")\n"
   ]
  },
  {
   "cell_type": "code",
   "execution_count": 13,
   "id": "d4ebee8c-538f-4b67-b2fc-a6285bbcc8b8",
   "metadata": {
    "tags": []
   },
   "outputs": [],
   "source": [
    "from sagemaker.workflow.steps import ProcessingStep\n",
    "\n",
    "\n",
    "processing_step = ProcessingStep(\n",
    "    name='data-processing',\n",
    "    code='./src/processing.py',\n",
    "    processor=sklearn_processor,\n",
    "    inputs=processing_inputs,\n",
    "    outputs=processing_outputs,\n",
    "    job_arguments=[\n",
    "        '--input-data', str(input_data.default_value),\n",
    "        '--output-data', str(output_data.default_value),\n",
    "        '--validation-split-percentage', str(validation_split_percentage.default_value),\n",
    "        '--test-split-percentage', str(test_split_percentage.default_value),\n",
    "        '--feature-store-offline-prefix', str(feature_store_offline_prefix.default_value),\n",
    "        '--feature-group-name', str(feature_group_name.default_value)\n",
    "    ]\n",
    ")"
   ]
  },
  {
   "cell_type": "code",
   "execution_count": 84,
   "id": "3b434261-fddf-4b75-a821-bd4f6fde6d4b",
   "metadata": {
    "tags": []
   },
   "outputs": [
    {
     "name": "stderr",
     "output_type": "stream",
     "text": [
      "Popping out 'ProcessingJobName' from the pipeline definition by default since it will be overridden at pipeline execution time. Please utilize the PipelineDefinitionConfig to persist this field in the pipeline definition if desired.\n"
     ]
    },
    {
     "name": "stdout",
     "output_type": "stream",
     "text": [
      "['ProcessingResources',\n",
      " 'AppSpecification',\n",
      " 'RoleArn',\n",
      " 'ProcessingInputs',\n",
      " 'ProcessingOutputConfig',\n",
      " 'Environment']\n"
     ]
    }
   ],
   "source": [
    "from pprint import pprint\n",
    "\n",
    "pprint(list(processing_step.arguments.keys()))"
   ]
  },
  {
   "cell_type": "code",
   "execution_count": 85,
   "id": "904d2095-b79b-4a0c-8658-5baa6ef6b5c6",
   "metadata": {
    "tags": []
   },
   "outputs": [
    {
     "name": "stderr",
     "output_type": "stream",
     "text": [
      "Popping out 'ProcessingJobName' from the pipeline definition by default since it will be overridden at pipeline execution time. Please utilize the PipelineDefinitionConfig to persist this field in the pipeline definition if desired.\n"
     ]
    },
    {
     "name": "stdout",
     "output_type": "stream",
     "text": [
      "[{'AppManaged': False,\n",
      "  'InputName': 'bank-churn-mon1-raw-data',\n",
      "  'S3Input': {'LocalPath': '/opt/ml/processing/input/data',\n",
      "              'S3CompressionType': 'None',\n",
      "              'S3DataDistributionType': 'ShardedByS3Key',\n",
      "              'S3DataType': 'S3Prefix',\n",
      "              'S3InputMode': 'File',\n",
      "              'S3Uri': 's3://sagemaker-eu-west-3-668303144976/data/transformed_querying/month1'}},\n",
      " {'AppManaged': False,\n",
      "  'InputName': 'code',\n",
      "  'S3Input': {'LocalPath': '/opt/ml/processing/input/code',\n",
      "              'S3CompressionType': 'None',\n",
      "              'S3DataDistributionType': 'FullyReplicated',\n",
      "              'S3DataType': 'S3Prefix',\n",
      "              'S3InputMode': 'File',\n",
      "              'S3Uri': 's3://sagemaker-eu-west-3-668303144976/data-processing-fadeac1e1c3f09d53b332e0d3a5ccde0/input/code/processing.py'}}]\n"
     ]
    }
   ],
   "source": [
    "pprint(processing_step.arguments['ProcessingInputs'])"
   ]
  },
  {
   "cell_type": "code",
   "execution_count": 86,
   "id": "f2cd153c-5eaf-4098-9e62-316d71331a3e",
   "metadata": {
    "tags": []
   },
   "outputs": [
    {
     "name": "stderr",
     "output_type": "stream",
     "text": [
      "Popping out 'ProcessingJobName' from the pipeline definition by default since it will be overridden at pipeline execution time. Please utilize the PipelineDefinitionConfig to persist this field in the pipeline definition if desired.\n"
     ]
    },
    {
     "name": "stdout",
     "output_type": "stream",
     "text": [
      "{'Outputs': [{'AppManaged': False,\n",
      "              'OutputName': 'bank-churn-mon1-train',\n",
      "              'S3Output': {'LocalPath': '/opt/ml/processing/output/train',\n",
      "                           'S3UploadMode': 'EndOfJob',\n",
      "                           'S3Uri': 's3://sagemaker-eu-west-3-668303144976/data-processing-fadeac1e1c3f09d53b332e0d3a5ccde0/output/bank-churn-mon1-train'}},\n",
      "             {'AppManaged': False,\n",
      "              'OutputName': 'bank-churn-mon1-validation',\n",
      "              'S3Output': {'LocalPath': '/opt/ml/processing/output/validation',\n",
      "                           'S3UploadMode': 'EndOfJob',\n",
      "                           'S3Uri': 's3://sagemaker-eu-west-3-668303144976/data-processing-fadeac1e1c3f09d53b332e0d3a5ccde0/output/bank-churn-mon1-validation'}},\n",
      "             {'AppManaged': False,\n",
      "              'OutputName': 'bank-churn-mon1-test',\n",
      "              'S3Output': {'LocalPath': '/opt/ml/processing/output/test',\n",
      "                           'S3UploadMode': 'EndOfJob',\n",
      "                           'S3Uri': 's3://sagemaker-eu-west-3-668303144976/data-processing-fadeac1e1c3f09d53b332e0d3a5ccde0/output/bank-churn-mon1-test'}}]}\n"
     ]
    }
   ],
   "source": [
    "pprint(processing_step.arguments['ProcessingOutputConfig'])"
   ]
  },
  {
   "cell_type": "code",
   "execution_count": 72,
   "id": "dcb94018-8ca0-42e4-be3a-9976620dcf6d",
   "metadata": {
    "tags": []
   },
   "outputs": [
    {
     "name": "stderr",
     "output_type": "stream",
     "text": [
      "Popping out 'ProcessingJobName' from the pipeline definition by default since it will be overridden at pipeline execution time. Please utilize the PipelineDefinitionConfig to persist this field in the pipeline definition if desired.\n"
     ]
    },
    {
     "name": "stdout",
     "output_type": "stream",
     "text": [
      "{'ClusterConfig': {'InstanceCount': 1,\n",
      "                   'InstanceType': 'ml.t3.medium',\n",
      "                   'VolumeSizeInGB': 30}}\n"
     ]
    }
   ],
   "source": [
    "pprint(processing_step.arguments['ProcessingResources'])"
   ]
  },
  {
   "cell_type": "markdown",
   "id": "7f4fb005-bb9a-4108-bb8b-b94f09f61591",
   "metadata": {},
   "source": [
    "### 1.2 Configure Training Step"
   ]
  },
  {
   "cell_type": "code",
   "execution_count": 119,
   "id": "45701a7a-ec10-4931-bc67-66c258197471",
   "metadata": {
    "tags": []
   },
   "outputs": [],
   "source": [
    "training_instance_type = 'ml.m5.large'\n",
    "training_instance_count = 1\n",
    "objective = 'validation:accuracy'\n",
    "\n",
    "metric_definitions = [\n",
    "    {'Name': 'validation:precision', 'Regex': 'val_precision: ([0-9.]+)'},\n",
    "    {'Name': 'validation:recall', 'Regex': 'val_recall: ([0-9.]+)'},\n",
    "    {'Name': 'validation:f1Score', 'Regex': 'val_f1score: ([0-9.]+)'},\n",
    "    {'Name': 'validation:ROCAUC', 'Regex': 'val_roc_auc: ([0-9.]+)'},\n",
    "    {'Name': 'validation:accuracy', 'Regex': 'val_accuracy: ([0-9.]+)'}\n",
    "]"
   ]
  },
  {
   "cell_type": "code",
   "execution_count": 120,
   "id": "aa2d4a55-e2f0-4179-ae39-d50f145b5575",
   "metadata": {
    "tags": []
   },
   "outputs": [],
   "source": [
    "static_hyperparameters = None\n",
    "hyperparameter_ranges = None\n",
    "# TBF\n"
   ]
  },
  {
   "cell_type": "code",
   "execution_count": 122,
   "id": "a34f31f9-f2c5-4776-8eda-48424a72be2e",
   "metadata": {
    "tags": []
   },
   "outputs": [],
   "source": [
    "from sagemaker.sklearn.estimator import SKLearn\n",
    "from sagemaker.tuner import HyperparameterTuner\n",
    "\n",
    "\n",
    "sklearn_estimator = SKLearn(\n",
    "    entry_point='./src/training.py',\n",
    "    framework_version=FRAMEWORK_VERSION,\n",
    "    instance_type=training_instance_type,\n",
    "    instance_count=training_instance_count,\n",
    "    role=role,\n",
    "    hyperparameters=static_hyperparameters,\n",
    "    metric_definitions=metric_definitions\n",
    ")\n",
    "\n",
    "\n",
    "tuner = HyperparameterTuner(\n",
    "        estimator=sklearn_estimator,\n",
    "        objective_metric_name=objective,\n",
    "        hyperparameter_ranges=hyperparameter_ranges,\n",
    "        metric_definitions=metric_definitions,\n",
    "        strategy='Bayesian',\n",
    "        objective_type='Maximize',\n",
    "        max_jobs=10,\n",
    "        max_parallel_jobs=2,\n",
    "        # autotune=True\n",
    ")\n"
   ]
  },
  {
   "cell_type": "code",
   "execution_count": 123,
   "id": "d011f51d-fd96-4763-890d-47887fd21099",
   "metadata": {
    "tags": []
   },
   "outputs": [],
   "source": [
    "from sagemaker.inputs import TrainingInput\n",
    "\n",
    "\n",
    "# ====================== Configure training/tuning inputs ======================\n",
    "tuning_inputs = [\n",
    "    TrainingInput(\n",
    "        s3_data=processing_step.properties.ProcessingOutputConfig.Outputs[\n",
    "            'bank-churn-mon1-train'\n",
    "        ].S3Output.S3Uri,\n",
    "        content_type='text/csv'\n",
    "    ),\n",
    "    \n",
    "    TrainingInput(\n",
    "        s3_data=processing_step.properties.ProcessingOutputConfig.Outputs[\n",
    "            'bank-churn-mon1-validation'\n",
    "        ].S3Output.S3Uri,\n",
    "        content_type='text/csv'\n",
    "    ),\n",
    "]\n"
   ]
  },
  {
   "cell_type": "code",
   "execution_count": 124,
   "id": "f2ee747a-31c6-4109-a115-2ab8383414ca",
   "metadata": {
    "tags": []
   },
   "outputs": [],
   "source": [
    "from sagemaker.workflow.steps import CacheConfig\n",
    "\n",
    "cache_config = CacheConfig(enable_caching=True, expire_after=\"PT1H\") # PT1H represents `one hour`"
   ]
  },
  {
   "cell_type": "code",
   "execution_count": 126,
   "id": "144ad7eb-4675-4029-a147-0d8c0d6c4842",
   "metadata": {},
   "outputs": [],
   "source": [
    "from sagemaker.workflow.steps import TuningStep\n",
    "\n",
    "\n",
    "tuning_step =TuningStep(\n",
    "    name='hyperparameter-tuninig',\n",
    "    tuner=tuner,\n",
    "    inputs=tuning_inputs,\n",
    "    cache_config=cache_config\n",
    ")\n",
    "\n",
    "# tuning_step?"
   ]
  },
  {
   "cell_type": "markdown",
   "id": "85ef38dd-2775-4a1f-9bd2-b73b968821da",
   "metadata": {},
   "source": [
    "#### To be completed:\n",
    "- `static_hyperparameters`\n",
    "- `hyperparameter_ranges`"
   ]
  }
 ],
 "metadata": {
  "availableInstances": [
   {
    "_defaultOrder": 0,
    "_isFastLaunch": true,
    "category": "General purpose",
    "gpuNum": 0,
    "hideHardwareSpecs": false,
    "memoryGiB": 4,
    "name": "ml.t3.medium",
    "vcpuNum": 2
   },
   {
    "_defaultOrder": 1,
    "_isFastLaunch": false,
    "category": "General purpose",
    "gpuNum": 0,
    "hideHardwareSpecs": false,
    "memoryGiB": 8,
    "name": "ml.t3.large",
    "vcpuNum": 2
   },
   {
    "_defaultOrder": 2,
    "_isFastLaunch": false,
    "category": "General purpose",
    "gpuNum": 0,
    "hideHardwareSpecs": false,
    "memoryGiB": 16,
    "name": "ml.t3.xlarge",
    "vcpuNum": 4
   },
   {
    "_defaultOrder": 3,
    "_isFastLaunch": false,
    "category": "General purpose",
    "gpuNum": 0,
    "hideHardwareSpecs": false,
    "memoryGiB": 32,
    "name": "ml.t3.2xlarge",
    "vcpuNum": 8
   },
   {
    "_defaultOrder": 4,
    "_isFastLaunch": true,
    "category": "General purpose",
    "gpuNum": 0,
    "hideHardwareSpecs": false,
    "memoryGiB": 8,
    "name": "ml.m5.large",
    "vcpuNum": 2
   },
   {
    "_defaultOrder": 5,
    "_isFastLaunch": false,
    "category": "General purpose",
    "gpuNum": 0,
    "hideHardwareSpecs": false,
    "memoryGiB": 16,
    "name": "ml.m5.xlarge",
    "vcpuNum": 4
   },
   {
    "_defaultOrder": 6,
    "_isFastLaunch": false,
    "category": "General purpose",
    "gpuNum": 0,
    "hideHardwareSpecs": false,
    "memoryGiB": 32,
    "name": "ml.m5.2xlarge",
    "vcpuNum": 8
   },
   {
    "_defaultOrder": 7,
    "_isFastLaunch": false,
    "category": "General purpose",
    "gpuNum": 0,
    "hideHardwareSpecs": false,
    "memoryGiB": 64,
    "name": "ml.m5.4xlarge",
    "vcpuNum": 16
   },
   {
    "_defaultOrder": 8,
    "_isFastLaunch": false,
    "category": "General purpose",
    "gpuNum": 0,
    "hideHardwareSpecs": false,
    "memoryGiB": 128,
    "name": "ml.m5.8xlarge",
    "vcpuNum": 32
   },
   {
    "_defaultOrder": 9,
    "_isFastLaunch": false,
    "category": "General purpose",
    "gpuNum": 0,
    "hideHardwareSpecs": false,
    "memoryGiB": 192,
    "name": "ml.m5.12xlarge",
    "vcpuNum": 48
   },
   {
    "_defaultOrder": 10,
    "_isFastLaunch": false,
    "category": "General purpose",
    "gpuNum": 0,
    "hideHardwareSpecs": false,
    "memoryGiB": 256,
    "name": "ml.m5.16xlarge",
    "vcpuNum": 64
   },
   {
    "_defaultOrder": 11,
    "_isFastLaunch": false,
    "category": "General purpose",
    "gpuNum": 0,
    "hideHardwareSpecs": false,
    "memoryGiB": 384,
    "name": "ml.m5.24xlarge",
    "vcpuNum": 96
   },
   {
    "_defaultOrder": 12,
    "_isFastLaunch": false,
    "category": "General purpose",
    "gpuNum": 0,
    "hideHardwareSpecs": false,
    "memoryGiB": 8,
    "name": "ml.m5d.large",
    "vcpuNum": 2
   },
   {
    "_defaultOrder": 13,
    "_isFastLaunch": false,
    "category": "General purpose",
    "gpuNum": 0,
    "hideHardwareSpecs": false,
    "memoryGiB": 16,
    "name": "ml.m5d.xlarge",
    "vcpuNum": 4
   },
   {
    "_defaultOrder": 14,
    "_isFastLaunch": false,
    "category": "General purpose",
    "gpuNum": 0,
    "hideHardwareSpecs": false,
    "memoryGiB": 32,
    "name": "ml.m5d.2xlarge",
    "vcpuNum": 8
   },
   {
    "_defaultOrder": 15,
    "_isFastLaunch": false,
    "category": "General purpose",
    "gpuNum": 0,
    "hideHardwareSpecs": false,
    "memoryGiB": 64,
    "name": "ml.m5d.4xlarge",
    "vcpuNum": 16
   },
   {
    "_defaultOrder": 16,
    "_isFastLaunch": false,
    "category": "General purpose",
    "gpuNum": 0,
    "hideHardwareSpecs": false,
    "memoryGiB": 128,
    "name": "ml.m5d.8xlarge",
    "vcpuNum": 32
   },
   {
    "_defaultOrder": 17,
    "_isFastLaunch": false,
    "category": "General purpose",
    "gpuNum": 0,
    "hideHardwareSpecs": false,
    "memoryGiB": 192,
    "name": "ml.m5d.12xlarge",
    "vcpuNum": 48
   },
   {
    "_defaultOrder": 18,
    "_isFastLaunch": false,
    "category": "General purpose",
    "gpuNum": 0,
    "hideHardwareSpecs": false,
    "memoryGiB": 256,
    "name": "ml.m5d.16xlarge",
    "vcpuNum": 64
   },
   {
    "_defaultOrder": 19,
    "_isFastLaunch": false,
    "category": "General purpose",
    "gpuNum": 0,
    "hideHardwareSpecs": false,
    "memoryGiB": 384,
    "name": "ml.m5d.24xlarge",
    "vcpuNum": 96
   },
   {
    "_defaultOrder": 20,
    "_isFastLaunch": false,
    "category": "General purpose",
    "gpuNum": 0,
    "hideHardwareSpecs": true,
    "memoryGiB": 0,
    "name": "ml.geospatial.interactive",
    "supportedImageNames": [
     "sagemaker-geospatial-v1-0"
    ],
    "vcpuNum": 0
   },
   {
    "_defaultOrder": 21,
    "_isFastLaunch": true,
    "category": "Compute optimized",
    "gpuNum": 0,
    "hideHardwareSpecs": false,
    "memoryGiB": 4,
    "name": "ml.c5.large",
    "vcpuNum": 2
   },
   {
    "_defaultOrder": 22,
    "_isFastLaunch": false,
    "category": "Compute optimized",
    "gpuNum": 0,
    "hideHardwareSpecs": false,
    "memoryGiB": 8,
    "name": "ml.c5.xlarge",
    "vcpuNum": 4
   },
   {
    "_defaultOrder": 23,
    "_isFastLaunch": false,
    "category": "Compute optimized",
    "gpuNum": 0,
    "hideHardwareSpecs": false,
    "memoryGiB": 16,
    "name": "ml.c5.2xlarge",
    "vcpuNum": 8
   },
   {
    "_defaultOrder": 24,
    "_isFastLaunch": false,
    "category": "Compute optimized",
    "gpuNum": 0,
    "hideHardwareSpecs": false,
    "memoryGiB": 32,
    "name": "ml.c5.4xlarge",
    "vcpuNum": 16
   },
   {
    "_defaultOrder": 25,
    "_isFastLaunch": false,
    "category": "Compute optimized",
    "gpuNum": 0,
    "hideHardwareSpecs": false,
    "memoryGiB": 72,
    "name": "ml.c5.9xlarge",
    "vcpuNum": 36
   },
   {
    "_defaultOrder": 26,
    "_isFastLaunch": false,
    "category": "Compute optimized",
    "gpuNum": 0,
    "hideHardwareSpecs": false,
    "memoryGiB": 96,
    "name": "ml.c5.12xlarge",
    "vcpuNum": 48
   },
   {
    "_defaultOrder": 27,
    "_isFastLaunch": false,
    "category": "Compute optimized",
    "gpuNum": 0,
    "hideHardwareSpecs": false,
    "memoryGiB": 144,
    "name": "ml.c5.18xlarge",
    "vcpuNum": 72
   },
   {
    "_defaultOrder": 28,
    "_isFastLaunch": false,
    "category": "Compute optimized",
    "gpuNum": 0,
    "hideHardwareSpecs": false,
    "memoryGiB": 192,
    "name": "ml.c5.24xlarge",
    "vcpuNum": 96
   },
   {
    "_defaultOrder": 29,
    "_isFastLaunch": true,
    "category": "Accelerated computing",
    "gpuNum": 1,
    "hideHardwareSpecs": false,
    "memoryGiB": 16,
    "name": "ml.g4dn.xlarge",
    "vcpuNum": 4
   },
   {
    "_defaultOrder": 30,
    "_isFastLaunch": false,
    "category": "Accelerated computing",
    "gpuNum": 1,
    "hideHardwareSpecs": false,
    "memoryGiB": 32,
    "name": "ml.g4dn.2xlarge",
    "vcpuNum": 8
   },
   {
    "_defaultOrder": 31,
    "_isFastLaunch": false,
    "category": "Accelerated computing",
    "gpuNum": 1,
    "hideHardwareSpecs": false,
    "memoryGiB": 64,
    "name": "ml.g4dn.4xlarge",
    "vcpuNum": 16
   },
   {
    "_defaultOrder": 32,
    "_isFastLaunch": false,
    "category": "Accelerated computing",
    "gpuNum": 1,
    "hideHardwareSpecs": false,
    "memoryGiB": 128,
    "name": "ml.g4dn.8xlarge",
    "vcpuNum": 32
   },
   {
    "_defaultOrder": 33,
    "_isFastLaunch": false,
    "category": "Accelerated computing",
    "gpuNum": 4,
    "hideHardwareSpecs": false,
    "memoryGiB": 192,
    "name": "ml.g4dn.12xlarge",
    "vcpuNum": 48
   },
   {
    "_defaultOrder": 34,
    "_isFastLaunch": false,
    "category": "Accelerated computing",
    "gpuNum": 1,
    "hideHardwareSpecs": false,
    "memoryGiB": 256,
    "name": "ml.g4dn.16xlarge",
    "vcpuNum": 64
   },
   {
    "_defaultOrder": 35,
    "_isFastLaunch": false,
    "category": "Accelerated computing",
    "gpuNum": 1,
    "hideHardwareSpecs": false,
    "memoryGiB": 61,
    "name": "ml.p3.2xlarge",
    "vcpuNum": 8
   },
   {
    "_defaultOrder": 36,
    "_isFastLaunch": false,
    "category": "Accelerated computing",
    "gpuNum": 4,
    "hideHardwareSpecs": false,
    "memoryGiB": 244,
    "name": "ml.p3.8xlarge",
    "vcpuNum": 32
   },
   {
    "_defaultOrder": 37,
    "_isFastLaunch": false,
    "category": "Accelerated computing",
    "gpuNum": 8,
    "hideHardwareSpecs": false,
    "memoryGiB": 488,
    "name": "ml.p3.16xlarge",
    "vcpuNum": 64
   },
   {
    "_defaultOrder": 38,
    "_isFastLaunch": false,
    "category": "Accelerated computing",
    "gpuNum": 8,
    "hideHardwareSpecs": false,
    "memoryGiB": 768,
    "name": "ml.p3dn.24xlarge",
    "vcpuNum": 96
   },
   {
    "_defaultOrder": 39,
    "_isFastLaunch": false,
    "category": "Memory Optimized",
    "gpuNum": 0,
    "hideHardwareSpecs": false,
    "memoryGiB": 16,
    "name": "ml.r5.large",
    "vcpuNum": 2
   },
   {
    "_defaultOrder": 40,
    "_isFastLaunch": false,
    "category": "Memory Optimized",
    "gpuNum": 0,
    "hideHardwareSpecs": false,
    "memoryGiB": 32,
    "name": "ml.r5.xlarge",
    "vcpuNum": 4
   },
   {
    "_defaultOrder": 41,
    "_isFastLaunch": false,
    "category": "Memory Optimized",
    "gpuNum": 0,
    "hideHardwareSpecs": false,
    "memoryGiB": 64,
    "name": "ml.r5.2xlarge",
    "vcpuNum": 8
   },
   {
    "_defaultOrder": 42,
    "_isFastLaunch": false,
    "category": "Memory Optimized",
    "gpuNum": 0,
    "hideHardwareSpecs": false,
    "memoryGiB": 128,
    "name": "ml.r5.4xlarge",
    "vcpuNum": 16
   },
   {
    "_defaultOrder": 43,
    "_isFastLaunch": false,
    "category": "Memory Optimized",
    "gpuNum": 0,
    "hideHardwareSpecs": false,
    "memoryGiB": 256,
    "name": "ml.r5.8xlarge",
    "vcpuNum": 32
   },
   {
    "_defaultOrder": 44,
    "_isFastLaunch": false,
    "category": "Memory Optimized",
    "gpuNum": 0,
    "hideHardwareSpecs": false,
    "memoryGiB": 384,
    "name": "ml.r5.12xlarge",
    "vcpuNum": 48
   },
   {
    "_defaultOrder": 45,
    "_isFastLaunch": false,
    "category": "Memory Optimized",
    "gpuNum": 0,
    "hideHardwareSpecs": false,
    "memoryGiB": 512,
    "name": "ml.r5.16xlarge",
    "vcpuNum": 64
   },
   {
    "_defaultOrder": 46,
    "_isFastLaunch": false,
    "category": "Memory Optimized",
    "gpuNum": 0,
    "hideHardwareSpecs": false,
    "memoryGiB": 768,
    "name": "ml.r5.24xlarge",
    "vcpuNum": 96
   },
   {
    "_defaultOrder": 47,
    "_isFastLaunch": false,
    "category": "Accelerated computing",
    "gpuNum": 1,
    "hideHardwareSpecs": false,
    "memoryGiB": 16,
    "name": "ml.g5.xlarge",
    "vcpuNum": 4
   },
   {
    "_defaultOrder": 48,
    "_isFastLaunch": false,
    "category": "Accelerated computing",
    "gpuNum": 1,
    "hideHardwareSpecs": false,
    "memoryGiB": 32,
    "name": "ml.g5.2xlarge",
    "vcpuNum": 8
   },
   {
    "_defaultOrder": 49,
    "_isFastLaunch": false,
    "category": "Accelerated computing",
    "gpuNum": 1,
    "hideHardwareSpecs": false,
    "memoryGiB": 64,
    "name": "ml.g5.4xlarge",
    "vcpuNum": 16
   },
   {
    "_defaultOrder": 50,
    "_isFastLaunch": false,
    "category": "Accelerated computing",
    "gpuNum": 1,
    "hideHardwareSpecs": false,
    "memoryGiB": 128,
    "name": "ml.g5.8xlarge",
    "vcpuNum": 32
   },
   {
    "_defaultOrder": 51,
    "_isFastLaunch": false,
    "category": "Accelerated computing",
    "gpuNum": 1,
    "hideHardwareSpecs": false,
    "memoryGiB": 256,
    "name": "ml.g5.16xlarge",
    "vcpuNum": 64
   },
   {
    "_defaultOrder": 52,
    "_isFastLaunch": false,
    "category": "Accelerated computing",
    "gpuNum": 4,
    "hideHardwareSpecs": false,
    "memoryGiB": 192,
    "name": "ml.g5.12xlarge",
    "vcpuNum": 48
   },
   {
    "_defaultOrder": 53,
    "_isFastLaunch": false,
    "category": "Accelerated computing",
    "gpuNum": 4,
    "hideHardwareSpecs": false,
    "memoryGiB": 384,
    "name": "ml.g5.24xlarge",
    "vcpuNum": 96
   },
   {
    "_defaultOrder": 54,
    "_isFastLaunch": false,
    "category": "Accelerated computing",
    "gpuNum": 8,
    "hideHardwareSpecs": false,
    "memoryGiB": 768,
    "name": "ml.g5.48xlarge",
    "vcpuNum": 192
   },
   {
    "_defaultOrder": 55,
    "_isFastLaunch": false,
    "category": "Accelerated computing",
    "gpuNum": 8,
    "hideHardwareSpecs": false,
    "memoryGiB": 1152,
    "name": "ml.p4d.24xlarge",
    "vcpuNum": 96
   },
   {
    "_defaultOrder": 56,
    "_isFastLaunch": false,
    "category": "Accelerated computing",
    "gpuNum": 8,
    "hideHardwareSpecs": false,
    "memoryGiB": 1152,
    "name": "ml.p4de.24xlarge",
    "vcpuNum": 96
   },
   {
    "_defaultOrder": 57,
    "_isFastLaunch": false,
    "category": "Accelerated computing",
    "gpuNum": 0,
    "hideHardwareSpecs": false,
    "memoryGiB": 32,
    "name": "ml.trn1.2xlarge",
    "vcpuNum": 8
   },
   {
    "_defaultOrder": 58,
    "_isFastLaunch": false,
    "category": "Accelerated computing",
    "gpuNum": 0,
    "hideHardwareSpecs": false,
    "memoryGiB": 512,
    "name": "ml.trn1.32xlarge",
    "vcpuNum": 128
   },
   {
    "_defaultOrder": 59,
    "_isFastLaunch": false,
    "category": "Accelerated computing",
    "gpuNum": 0,
    "hideHardwareSpecs": false,
    "memoryGiB": 512,
    "name": "ml.trn1n.32xlarge",
    "vcpuNum": 128
   }
  ],
  "instance_type": "ml.t3.medium",
  "kernelspec": {
   "display_name": "Python 3 (Data Science 3.0)",
   "language": "python",
   "name": "python3__SAGEMAKER_INTERNAL__arn:aws:sagemaker:eu-west-3:615547856133:image/sagemaker-data-science-310-v1"
  },
  "language_info": {
   "codemirror_mode": {
    "name": "ipython",
    "version": 3
   },
   "file_extension": ".py",
   "mimetype": "text/x-python",
   "name": "python",
   "nbconvert_exporter": "python",
   "pygments_lexer": "ipython3",
   "version": "3.10.6"
  }
 },
 "nbformat": 4,
 "nbformat_minor": 5
}
