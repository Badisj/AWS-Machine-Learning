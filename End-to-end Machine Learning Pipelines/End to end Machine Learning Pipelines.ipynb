{
 "cells": [
  {
   "cell_type": "markdown",
   "id": "739a6640-13e3-4fe1-b36c-835aa0ec83b7",
   "metadata": {},
   "source": [
    "# Machine Learning Pipelines\n",
    "\n",
    "## Machine Learning Orchestration with Amazon SageMaker Pipelines"
   ]
  },
  {
   "cell_type": "code",
   "execution_count": 2,
   "id": "16a88d5d-3e87-42e0-bac9-f534a07b685a",
   "metadata": {},
   "outputs": [
    {
     "name": "stdout",
     "output_type": "stream",
     "text": [
      "sagemaker.config INFO - Not applying SDK defaults from location: /etc/xdg/sagemaker/config.yaml\n",
      "sagemaker.config INFO - Not applying SDK defaults from location: /root/.config/sagemaker/config.yaml\n"
     ]
    }
   ],
   "source": [
    "import os\n",
    "import sagemaker\n",
    "import logging\n",
    "import boto3\n",
    "import time\n",
    "import pandas as pd\n",
    "import json\n",
    "import botocore\n",
    "from botocore.exceptions import ClientError\n",
    "\n",
    "\n",
    "# ========================== low-level service client of the boto3 session ==========================\n",
    "config = botocore.config.Config(user_agent_extra='bedissj-1699438736259')\n",
    "\n",
    "\n",
    "sm = boto3.client(service_name='sagemaker', \n",
    "                  config=config)\n",
    "\n",
    "sm_runtime = boto3.client('sagemaker-runtime',\n",
    "                          config=config)\n",
    "\n",
    "sess = sagemaker.Session(sagemaker_client=sm,\n",
    "                         sagemaker_runtime_client=sm_runtime)\n",
    "\n",
    "bucket = sess.default_bucket()\n",
    "role = sagemaker.get_execution_role()\n",
    "region = sess.boto_region_name\n"
   ]
  },
  {
   "cell_type": "markdown",
   "id": "eaf262ef-319f-4368-906c-e306f4939f6d",
   "metadata": {},
   "source": [
    "## 1. Configure Data Processing Step"
   ]
  },
  {
   "cell_type": "code",
   "execution_count": null,
   "id": "5143530c-1fa3-47e0-9e1f-8c4091707e68",
   "metadata": {},
   "outputs": [],
   "source": [
    "raw_data_s3_uri = f's3://{bucket}/data/transformed_querying/month1'\n"
   ]
  },
  {
   "cell_type": "code",
   "execution_count": 3,
   "id": "3c138c6d-b318-4fef-8184-25aaccb45686",
   "metadata": {
    "tags": []
   },
   "outputs": [],
   "source": [
    "from sagemaker.workflow.parameters import ParameterFloat, ParameterInteger, ParameterString\n",
    "\n",
    "\n",
    "# ========================== Processing parameters ==========================\n",
    "input_data = ParameterString(\n",
    "    name='input-data',\n",
    "    default_value='/opt/ml/processing/input/data'\n",
    ")\n",
    "\n",
    "\n",
    "output_data = ParameterString(\n",
    "    name='input-data',\n",
    "    default_value='/opt/ml/processing/output'\n",
    ")\n",
    "\n",
    "validation_split_percentage = ParameterFloat(\n",
    "    name='validation-split-percentage',\n",
    "    default_value=0.1\n",
    ")\n",
    "\n",
    "\n",
    "test_split_percentage = ParameterFloat(\n",
    "    name='test-split-percentage',\n",
    "    default_value=0.2\n",
    ")\n",
    "\n",
    "\n",
    "feature_group_name = ParameterString(\n",
    "    name='feature-group-name',\n",
    "    default_value='bank-churn-mon1-feature-group'\n",
    ")\n",
    "\n",
    "\n",
    "\n",
    "feature_store_offline_prefix = ParameterString(\n",
    "    name='feature-store-offline-prefix',\n",
    "    default_value=None\n",
    ")"
   ]
  },
  {
   "cell_type": "code",
   "execution_count": null,
   "id": "92f32c64-d3d8-4932-a3fa-a818298bea65",
   "metadata": {},
   "outputs": [],
   "source": [
    "from sagemaker.processing import ProcessingInput, ProcessingOutput\n",
    "\n",
    "\n",
    "# ========================== Processing Inputs ==========================\n",
    "processing_inputs = [ProcessingInput(input_name='bank-churn-mon1-raw-data',\n",
    "                                     source=raw_data_s3_uri, \n",
    "                                     destination=input_data.default_value,\n",
    "                                     s3_data_distribution_type='ShardedByS3Key')]\n",
    "\n",
    "\n",
    "\n",
    "# ========================== Processing Outputs ==========================\n",
    "output_data_train = output_data.default_value + '/train'\n",
    "output_data_validation = output_data.default_value + '/validation'\n",
    "output_data_test = output_data.default_value + '/test'\n",
    "\n",
    "\n",
    "\n",
    "processing_outputs = [\n",
    "    ProcessingOutput(output_name='bank-churn-mon1-train',\n",
    "                     source=output_data_train,\n",
    "                     s3_upload_mode='EndOfJob'),\n",
    "    \n",
    "    ProcessingOutput(source=output_data_validation,\n",
    "                    output_name='bank-churn-mon1-validation',\n",
    "                    s3_upload_mode='EndOfJob'),\n",
    "    \n",
    "    ProcessingOutput(source=output_data_test,\n",
    "                    output_name='bank-churn-mon1-test',\n",
    "                    s3_upload_mode='EndOfJob'),\n",
    "]"
   ]
  },
  {
   "cell_type": "code",
   "execution_count": 4,
   "id": "b8723bdd-f417-428a-8c7c-8f3c1976a94c",
   "metadata": {},
   "outputs": [],
   "source": [
    "from sagemaker.sklearn.processing import SKLearnProcessor\n",
    "\n",
    "\n",
    "# ========================== Processing Parameters ==========================\n",
    "FRAMEWORK_VERSION = '1.0-1'\n",
    "processing_instance_type = 'ml.t3.medium'\n",
    "processing_instance_count = 1\n",
    "\n",
    "\n",
    "\n",
    "# ========================== Instanciate SKLearn Processor ==========================\n",
    "\n",
    "sklearn_processor = SKLearnProcessor(\n",
    "    framework_version=FRAMEWORK_VERSION,\n",
    "    role=role,\n",
    "    instance_type=processing_instance_type,\n",
    "    instance_count = processing_instance_count,\n",
    "    env={'AWS_DEFAULT_REGION': region}\n",
    ")"
   ]
  },
  {
   "cell_type": "code",
   "execution_count": 5,
   "id": "d4ebee8c-538f-4b67-b2fc-a6285bbcc8b8",
   "metadata": {
    "tags": []
   },
   "outputs": [],
   "source": [
    "from sagemaker.workflow.steps import ProcessingStep\n",
    "\n",
    "\n",
    "processing_step = ProcessingStep(\n",
    "    name='data-processing',\n",
    "    code='./src/processing.py',\n",
    "    processor=sklearn_processor,\n",
    "    inputs=processing_inputs,\n",
    "    outputs=processing_outputs,\n",
    "    job_arguments=[\n",
    "        '--input-data', str(input_data.default_value),\n",
    "        '--output-data', str(output_data.default_value),\n",
    "        '--validation-split-percentage', str(validation_split_percentage.default_value),\n",
    "        '--test-split-percentage', str(test_split_percentage.default_value),\n",
    "        '--feature-store-offline-prefix', str(feature_store_offline_prefix.default_value),\n",
    "        '--feature-group-name', str(feature_group_name.default_value)\n",
    "    ]\n",
    ")"
   ]
  },
  {
   "cell_type": "code",
   "execution_count": 6,
   "id": "3b434261-fddf-4b75-a821-bd4f6fde6d4b",
   "metadata": {
    "tags": []
   },
   "outputs": [
    {
     "name": "stderr",
     "output_type": "stream",
     "text": [
      "Popping out 'ProcessingJobName' from the pipeline definition by default since it will be overridden at pipeline execution time. Please utilize the PipelineDefinitionConfig to persist this field in the pipeline definition if desired.\n"
     ]
    },
    {
     "name": "stdout",
     "output_type": "stream",
     "text": [
      "['ProcessingResources',\n",
      " 'AppSpecification',\n",
      " 'RoleArn',\n",
      " 'ProcessingInputs',\n",
      " 'ProcessingOutputConfig',\n",
      " 'Environment']\n"
     ]
    }
   ],
   "source": [
    "from pprint import pprint\n",
    "\n",
    "pprint(list(processing_step.arguments.keys()))"
   ]
  },
  {
   "cell_type": "code",
   "execution_count": 7,
   "id": "904d2095-b79b-4a0c-8658-5baa6ef6b5c6",
   "metadata": {
    "tags": []
   },
   "outputs": [
    {
     "name": "stderr",
     "output_type": "stream",
     "text": [
      "Popping out 'ProcessingJobName' from the pipeline definition by default since it will be overridden at pipeline execution time. Please utilize the PipelineDefinitionConfig to persist this field in the pipeline definition if desired.\n"
     ]
    },
    {
     "name": "stdout",
     "output_type": "stream",
     "text": [
      "[{'AppManaged': False,\n",
      "  'InputName': 'bank-churn-mon1-raw-data',\n",
      "  'S3Input': {'LocalPath': '/opt/ml/processing/input/data',\n",
      "              'S3CompressionType': 'None',\n",
      "              'S3DataDistributionType': 'ShardedByS3Key',\n",
      "              'S3DataType': 'S3Prefix',\n",
      "              'S3InputMode': 'File',\n",
      "              'S3Uri': 's3://sagemaker-eu-west-3-668303144976/data/transformed_querying/month1'}},\n",
      " {'AppManaged': False,\n",
      "  'InputName': 'code',\n",
      "  'S3Input': {'LocalPath': '/opt/ml/processing/input/code',\n",
      "              'S3CompressionType': 'None',\n",
      "              'S3DataDistributionType': 'FullyReplicated',\n",
      "              'S3DataType': 'S3Prefix',\n",
      "              'S3InputMode': 'File',\n",
      "              'S3Uri': 's3://sagemaker-eu-west-3-668303144976/data-processing-fadeac1e1c3f09d53b332e0d3a5ccde0/input/code/processing.py'}}]\n"
     ]
    }
   ],
   "source": [
    "pprint(processing_step.arguments['ProcessingInputs'])"
   ]
  },
  {
   "cell_type": "code",
   "execution_count": 8,
   "id": "f2cd153c-5eaf-4098-9e62-316d71331a3e",
   "metadata": {
    "tags": []
   },
   "outputs": [
    {
     "name": "stderr",
     "output_type": "stream",
     "text": [
      "Popping out 'ProcessingJobName' from the pipeline definition by default since it will be overridden at pipeline execution time. Please utilize the PipelineDefinitionConfig to persist this field in the pipeline definition if desired.\n"
     ]
    },
    {
     "name": "stdout",
     "output_type": "stream",
     "text": [
      "{'Outputs': [{'AppManaged': False,\n",
      "              'OutputName': 'bank-churn-mon1-train',\n",
      "              'S3Output': {'LocalPath': '/opt/ml/processing/output/train',\n",
      "                           'S3UploadMode': 'EndOfJob',\n",
      "                           'S3Uri': 's3://sagemaker-eu-west-3-668303144976/data-processing-fadeac1e1c3f09d53b332e0d3a5ccde0/output/bank-churn-mon1-train'}},\n",
      "             {'AppManaged': False,\n",
      "              'OutputName': 'bank-churn-mon1-validation',\n",
      "              'S3Output': {'LocalPath': '/opt/ml/processing/output/validation',\n",
      "                           'S3UploadMode': 'EndOfJob',\n",
      "                           'S3Uri': 's3://sagemaker-eu-west-3-668303144976/data-processing-fadeac1e1c3f09d53b332e0d3a5ccde0/output/bank-churn-mon1-validation'}},\n",
      "             {'AppManaged': False,\n",
      "              'OutputName': 'bank-churn-mon1-test',\n",
      "              'S3Output': {'LocalPath': '/opt/ml/processing/output/test',\n",
      "                           'S3UploadMode': 'EndOfJob',\n",
      "                           'S3Uri': 's3://sagemaker-eu-west-3-668303144976/data-processing-fadeac1e1c3f09d53b332e0d3a5ccde0/output/bank-churn-mon1-test'}}]}\n"
     ]
    }
   ],
   "source": [
    "pprint(processing_step.arguments['ProcessingOutputConfig'])"
   ]
  },
  {
   "cell_type": "code",
   "execution_count": 9,
   "id": "dcb94018-8ca0-42e4-be3a-9976620dcf6d",
   "metadata": {
    "tags": []
   },
   "outputs": [
    {
     "name": "stderr",
     "output_type": "stream",
     "text": [
      "Popping out 'ProcessingJobName' from the pipeline definition by default since it will be overridden at pipeline execution time. Please utilize the PipelineDefinitionConfig to persist this field in the pipeline definition if desired.\n"
     ]
    },
    {
     "name": "stdout",
     "output_type": "stream",
     "text": [
      "{'ClusterConfig': {'InstanceCount': 1,\n",
      "                   'InstanceType': 'ml.t3.medium',\n",
      "                   'VolumeSizeInGB': 30}}\n"
     ]
    }
   ],
   "source": [
    "pprint(processing_step.arguments['ProcessingResources'])"
   ]
  },
  {
   "cell_type": "markdown",
   "id": "7f4fb005-bb9a-4108-bb8b-b94f09f61591",
   "metadata": {},
   "source": [
    "## 2. Configure Training Step"
   ]
  },
  {
   "cell_type": "code",
   "execution_count": 10,
   "id": "45701a7a-ec10-4931-bc67-66c258197471",
   "metadata": {
    "tags": []
   },
   "outputs": [],
   "source": [
    "# ========================= Training resources =========================\n",
    "training_instance_type = 'ml.m5.large'\n",
    "training_instance_count = 1\n",
    "\n",
    "\n",
    "# ========================== training inputs ==========================\n",
    "objective = 'validation:accuracy'\n",
    "metric_definitions = [\n",
    "    {'Name': 'validation:precision', 'Regex': 'val_precision: ([0-9.]+)'},\n",
    "    {'Name': 'validation:recall', 'Regex': 'val_recall: ([0-9.]+)'},\n",
    "    {'Name': 'validation:f1Score', 'Regex': 'val_f1score: ([0-9.]+)'},\n",
    "    {'Name': 'validation:ROCAUC', 'Regex': 'val_roc_auc: ([0-9.]+)'},\n",
    "    {'Name': 'validation:accuracy', 'Regex': 'val_accuracy: ([0-9.]+)'}\n",
    "]"
   ]
  },
  {
   "cell_type": "code",
   "execution_count": 11,
   "id": "aa2d4a55-e2f0-4179-ae39-d50f145b5575",
   "metadata": {
    "tags": []
   },
   "outputs": [],
   "source": [
    "from sagemaker.parameter import IntegerParameter, CategoricalParameter, ContinuousParameter\n",
    "\n",
    "\n",
    "# =========================  Static hyperparameters =========================\n",
    "random_state = ParameterInteger(\n",
    "    name='random-state',\n",
    "    default_value=2024\n",
    ")\n",
    "\n",
    "static_hyperparameters = {\n",
    "    'random_state': random_state\n",
    "}\n",
    "\n",
    "\n",
    "# ==========================  Hyperparameter ranges ==========================\n",
    "\n",
    "hyperparameter_ranges = {\n",
    "    'n_estimators': IntegerParameter(min_value=10, \n",
    "                                     max_value=200, \n",
    "                                     scaling_type='Logarithmic'),\n",
    "    \n",
    "    'max_depth': IntegerParameter(min_value=3, \n",
    "                                  max_value=10, \n",
    "                                  scaling_type='Linear'),\n",
    "    \n",
    "    'criterion': CategoricalParameter(values=['gini', 'entropy'])\n",
    "}"
   ]
  },
  {
   "cell_type": "code",
   "execution_count": 12,
   "id": "a34f31f9-f2c5-4776-8eda-48424a72be2e",
   "metadata": {
    "tags": []
   },
   "outputs": [],
   "source": [
    "from sagemaker.sklearn.estimator import SKLearn\n",
    "\n",
    "\n",
    "# =========================  Instanciate estimator  =========================\n",
    "sklearn_estimator = SKLearn(\n",
    "    entry_point='./src/training.py',\n",
    "    framework_version=FRAMEWORK_VERSION,\n",
    "    instance_type=training_instance_type,\n",
    "    instance_count=training_instance_count,\n",
    "    role=role,\n",
    "    hyperparameters=static_hyperparameters,\n",
    "    metric_definitions=metric_definitions\n",
    ")"
   ]
  },
  {
   "cell_type": "code",
   "execution_count": 13,
   "id": "c9bdc5e9-a300-4dfa-8c0e-b1a3bedf6587",
   "metadata": {
    "tags": []
   },
   "outputs": [],
   "source": [
    "from sagemaker.tuner import HyperparameterTuner\n",
    "\n",
    "\n",
    "# =========================  Instanciate hyperparameter tuner  =========================\n",
    "tuner = HyperparameterTuner(\n",
    "        estimator=sklearn_estimator,\n",
    "        hyperparameter_ranges=hyperparameter_ranges,\n",
    "        objective_metric_name=objective,\n",
    "        metric_definitions=metric_definitions,\n",
    "        strategy='Bayesian',\n",
    "        objective_type='Maximize',\n",
    "        max_jobs=10,\n",
    "        max_parallel_jobs=2,\n",
    "        # autotune=True\n",
    ")"
   ]
  },
  {
   "cell_type": "code",
   "execution_count": 14,
   "id": "d011f51d-fd96-4763-890d-47887fd21099",
   "metadata": {
    "tags": []
   },
   "outputs": [],
   "source": [
    "from sagemaker.inputs import TrainingInput\n",
    "\n",
    "\n",
    "# ====================== Configure training/tuning inputs ======================\n",
    "tuning_inputs = [\n",
    "    TrainingInput(\n",
    "        s3_data=processing_step.properties.ProcessingOutputConfig.Outputs[\n",
    "            'bank-churn-mon1-train'\n",
    "        ].S3Output.S3Uri,\n",
    "        content_type='text/csv'\n",
    "    ),\n",
    "    \n",
    "    TrainingInput(\n",
    "        s3_data=processing_step.properties.ProcessingOutputConfig.Outputs[\n",
    "            'bank-churn-mon1-validation'\n",
    "        ].S3Output.S3Uri,\n",
    "        content_type='text/csv'\n",
    "    ),\n",
    "]"
   ]
  },
  {
   "cell_type": "code",
   "execution_count": 15,
   "id": "f2ee747a-31c6-4109-a115-2ab8383414ca",
   "metadata": {
    "tags": []
   },
   "outputs": [],
   "source": [
    "from sagemaker.workflow.steps import CacheConfig\n",
    "\n",
    "cache_config = CacheConfig(enable_caching=True, expire_after=\"PT1H\") # PT1H represents `one hour`"
   ]
  },
  {
   "cell_type": "code",
   "execution_count": 16,
   "id": "144ad7eb-4675-4029-a147-0d8c0d6c4842",
   "metadata": {},
   "outputs": [],
   "source": [
    "from sagemaker.workflow.steps import TuningStep\n",
    "\n",
    "\n",
    "tuning_step =TuningStep(\n",
    "    name='hyperparameter-tuninig',\n",
    "    tuner=tuner,\n",
    "    inputs=tuning_inputs,\n",
    "    cache_config=cache_config\n",
    ")\n"
   ]
  },
  {
   "cell_type": "markdown",
   "id": "85ef38dd-2775-4a1f-9bd2-b73b968821da",
   "metadata": {},
   "source": [
    "#### Completed so far:\n",
    "- `static_hyperparameters`\n",
    "- `hyperparameter_ranges`\n",
    "\n",
    "#### 1.2.5 Describe Training Step"
   ]
  },
  {
   "cell_type": "code",
   "execution_count": 69,
   "id": "980aa9f3-9f34-497c-a01b-918f7be27d68",
   "metadata": {
    "tags": []
   },
   "outputs": [
    {
     "name": "stdout",
     "output_type": "stream",
     "text": [
      "{'Autotune': {'_step': <sagemaker.workflow.steps.TuningStep object at 0x7f019e5a2140>, 'step_name': 'hyperparameter-tuninig', 'path': 'Autotune', '_shape_names': ['Autotune'], 'Mode': {'_step': <sagemaker.workflow.steps.TuningStep object at 0x7f019e5a2140>, 'step_name': 'hyperparameter-tuninig', 'path': 'Autotune.Mode', '_shape_names': ['AutotuneMode'], '__str__': 'AutotuneMode'}},\n",
      " 'BestTrainingJob': {'_step': <sagemaker.workflow.steps.TuningStep object at 0x7f019e5a2140>, 'step_name': 'hyperparameter-tuninig', 'path': 'BestTrainingJob', '_shape_names': ['HyperParameterTrainingJobSummary'], 'TrainingJobDefinitionName': {'_step': <sagemaker.workflow.steps.TuningStep object at 0x7f019e5a2140>, 'step_name': 'hyperparameter-tuninig', 'path': 'BestTrainingJob.TrainingJobDefinitionName', '_shape_names': ['HyperParameterTrainingJobDefinitionName'], '__str__': 'HyperParameterTrainingJobDefinitionName'}, 'TrainingJobName': {'_step': <sagemaker.workflow.steps.TuningStep object at 0x7f019e5a2140>, 'step_name': 'hyperparameter-tuninig', 'path': 'BestTrainingJob.TrainingJobName', '_shape_names': ['TrainingJobName'], '__str__': 'TrainingJobName'}, 'TrainingJobArn': {'_step': <sagemaker.workflow.steps.TuningStep object at 0x7f019e5a2140>, 'step_name': 'hyperparameter-tuninig', 'path': 'BestTrainingJob.TrainingJobArn', '_shape_names': ['TrainingJobArn'], '__str__': 'TrainingJobArn'}, 'TuningJobName': {'_step': <sagemaker.workflow.steps.TuningStep object at 0x7f019e5a2140>, 'step_name': 'hyperparameter-tuninig', 'path': 'BestTrainingJob.TuningJobName', '_shape_names': ['HyperParameterTuningJobName'], '__str__': 'HyperParameterTuningJobName'}, 'CreationTime': {'_step': <sagemaker.workflow.steps.TuningStep object at 0x7f019e5a2140>, 'step_name': 'hyperparameter-tuninig', 'path': 'BestTrainingJob.CreationTime', '_shape_names': ['Timestamp']}, 'TrainingStartTime': {'_step': <sagemaker.workflow.steps.TuningStep object at 0x7f019e5a2140>, 'step_name': 'hyperparameter-tuninig', 'path': 'BestTrainingJob.TrainingStartTime', '_shape_names': ['Timestamp']}, 'TrainingEndTime': {'_step': <sagemaker.workflow.steps.TuningStep object at 0x7f019e5a2140>, 'step_name': 'hyperparameter-tuninig', 'path': 'BestTrainingJob.TrainingEndTime', '_shape_names': ['Timestamp']}, 'TrainingJobStatus': {'_step': <sagemaker.workflow.steps.TuningStep object at 0x7f019e5a2140>, 'step_name': 'hyperparameter-tuninig', 'path': 'BestTrainingJob.TrainingJobStatus', '_shape_names': ['TrainingJobStatus'], '__str__': 'TrainingJobStatus'}, 'TunedHyperParameters': {'_step': <sagemaker.workflow.steps.TuningStep object at 0x7f019e5a2140>, 'step_name': 'hyperparameter-tuninig', 'path': 'BestTrainingJob.TunedHyperParameters', '_shape_names': ['HyperParameters'], 'shape_name': 'HyperParameters', 'service_name': 'sagemaker', '_items': {}}, 'FailureReason': {'_step': <sagemaker.workflow.steps.TuningStep object at 0x7f019e5a2140>, 'step_name': 'hyperparameter-tuninig', 'path': 'BestTrainingJob.FailureReason', '_shape_names': ['FailureReason'], '__str__': 'FailureReason'}, 'FinalHyperParameterTuningJobObjectiveMetric': {'_step': <sagemaker.workflow.steps.TuningStep object at 0x7f019e5a2140>, 'step_name': 'hyperparameter-tuninig', 'path': 'BestTrainingJob.FinalHyperParameterTuningJobObjectiveMetric', '_shape_names': ['FinalHyperParameterTuningJobObjectiveMetric'], 'Type': {'_step': <sagemaker.workflow.steps.TuningStep object at 0x7f019e5a2140>, 'step_name': 'hyperparameter-tuninig', 'path': 'BestTrainingJob.FinalHyperParameterTuningJobObjectiveMetric.Type', '_shape_names': ['HyperParameterTuningJobObjectiveType'], '__str__': 'HyperParameterTuningJobObjectiveType'}, 'MetricName': {'_step': <sagemaker.workflow.steps.TuningStep object at 0x7f019e5a2140>, 'step_name': 'hyperparameter-tuninig', 'path': 'BestTrainingJob.FinalHyperParameterTuningJobObjectiveMetric.MetricName', '_shape_names': ['MetricName'], '__str__': 'MetricName'}, 'Value': {'_step': <sagemaker.workflow.steps.TuningStep object at 0x7f019e5a2140>, 'step_name': 'hyperparameter-tuninig', 'path': 'BestTrainingJob.FinalHyperParameterTuningJobObjectiveMetric.Value', '_shape_names': ['MetricValue'], '__str__': 'MetricValue'}}, 'ObjectiveStatus': {'_step': <sagemaker.workflow.steps.TuningStep object at 0x7f019e5a2140>, 'step_name': 'hyperparameter-tuninig', 'path': 'BestTrainingJob.ObjectiveStatus', '_shape_names': ['ObjectiveStatus'], '__str__': 'ObjectiveStatus'}},\n",
      " 'ConsumedResources': {'_step': <sagemaker.workflow.steps.TuningStep object at 0x7f019e5a2140>, 'step_name': 'hyperparameter-tuninig', 'path': 'ConsumedResources', '_shape_names': ['HyperParameterTuningJobConsumedResources'], 'RuntimeInSeconds': {'_step': <sagemaker.workflow.steps.TuningStep object at 0x7f019e5a2140>, 'step_name': 'hyperparameter-tuninig', 'path': 'ConsumedResources.RuntimeInSeconds', '_shape_names': ['Integer'], '__str__': 'Integer'}},\n",
      " 'CreationTime': {'_step': <sagemaker.workflow.steps.TuningStep object at 0x7f019e5a2140>, 'step_name': 'hyperparameter-tuninig', 'path': 'CreationTime', '_shape_names': ['Timestamp']},\n",
      " 'FailureReason': {'_step': <sagemaker.workflow.steps.TuningStep object at 0x7f019e5a2140>, 'step_name': 'hyperparameter-tuninig', 'path': 'FailureReason', '_shape_names': ['FailureReason'], '__str__': 'FailureReason'},\n",
      " 'HyperParameterTuningEndTime': {'_step': <sagemaker.workflow.steps.TuningStep object at 0x7f019e5a2140>, 'step_name': 'hyperparameter-tuninig', 'path': 'HyperParameterTuningEndTime', '_shape_names': ['Timestamp']},\n",
      " 'HyperParameterTuningJobArn': {'_step': <sagemaker.workflow.steps.TuningStep object at 0x7f019e5a2140>, 'step_name': 'hyperparameter-tuninig', 'path': 'HyperParameterTuningJobArn', '_shape_names': ['HyperParameterTuningJobArn'], '__str__': 'HyperParameterTuningJobArn'},\n",
      " 'HyperParameterTuningJobConfig': {'_step': <sagemaker.workflow.steps.TuningStep object at 0x7f019e5a2140>, 'step_name': 'hyperparameter-tuninig', 'path': 'HyperParameterTuningJobConfig', '_shape_names': ['HyperParameterTuningJobConfig'], 'Strategy': {'_step': <sagemaker.workflow.steps.TuningStep object at 0x7f019e5a2140>, 'step_name': 'hyperparameter-tuninig', 'path': 'HyperParameterTuningJobConfig.Strategy', '_shape_names': ['HyperParameterTuningJobStrategyType'], '__str__': 'HyperParameterTuningJobStrategyType'}, 'StrategyConfig': {'_step': <sagemaker.workflow.steps.TuningStep object at 0x7f019e5a2140>, 'step_name': 'hyperparameter-tuninig', 'path': 'HyperParameterTuningJobConfig.StrategyConfig', '_shape_names': ['HyperParameterTuningJobStrategyConfig'], 'HyperbandStrategyConfig': {'_step': <sagemaker.workflow.steps.TuningStep object at 0x7f019e5a2140>, 'step_name': 'hyperparameter-tuninig', 'path': 'HyperParameterTuningJobConfig.StrategyConfig.HyperbandStrategyConfig', '_shape_names': ['HyperbandStrategyConfig'], 'MinResource': {'_step': <sagemaker.workflow.steps.TuningStep object at 0x7f019e5a2140>, 'step_name': 'hyperparameter-tuninig', 'path': 'HyperParameterTuningJobConfig.StrategyConfig.HyperbandStrategyConfig.MinResource', '_shape_names': ['HyperbandStrategyMinResource'], '__str__': 'HyperbandStrategyMinResource'}, 'MaxResource': {'_step': <sagemaker.workflow.steps.TuningStep object at 0x7f019e5a2140>, 'step_name': 'hyperparameter-tuninig', 'path': 'HyperParameterTuningJobConfig.StrategyConfig.HyperbandStrategyConfig.MaxResource', '_shape_names': ['HyperbandStrategyMaxResource'], '__str__': 'HyperbandStrategyMaxResource'}}}, 'HyperParameterTuningJobObjective': {'_step': <sagemaker.workflow.steps.TuningStep object at 0x7f019e5a2140>, 'step_name': 'hyperparameter-tuninig', 'path': 'HyperParameterTuningJobConfig.HyperParameterTuningJobObjective', '_shape_names': ['HyperParameterTuningJobObjective'], 'Type': {'_step': <sagemaker.workflow.steps.TuningStep object at 0x7f019e5a2140>, 'step_name': 'hyperparameter-tuninig', 'path': 'HyperParameterTuningJobConfig.HyperParameterTuningJobObjective.Type', '_shape_names': ['HyperParameterTuningJobObjectiveType'], '__str__': 'HyperParameterTuningJobObjectiveType'}, 'MetricName': {'_step': <sagemaker.workflow.steps.TuningStep object at 0x7f019e5a2140>, 'step_name': 'hyperparameter-tuninig', 'path': 'HyperParameterTuningJobConfig.HyperParameterTuningJobObjective.MetricName', '_shape_names': ['MetricName'], '__str__': 'MetricName'}}, 'ResourceLimits': {'_step': <sagemaker.workflow.steps.TuningStep object at 0x7f019e5a2140>, 'step_name': 'hyperparameter-tuninig', 'path': 'HyperParameterTuningJobConfig.ResourceLimits', '_shape_names': ['ResourceLimits'], 'MaxNumberOfTrainingJobs': {'_step': <sagemaker.workflow.steps.TuningStep object at 0x7f019e5a2140>, 'step_name': 'hyperparameter-tuninig', 'path': 'HyperParameterTuningJobConfig.ResourceLimits.MaxNumberOfTrainingJobs', '_shape_names': ['MaxNumberOfTrainingJobs'], '__str__': 'MaxNumberOfTrainingJobs'}, 'MaxParallelTrainingJobs': {'_step': <sagemaker.workflow.steps.TuningStep object at 0x7f019e5a2140>, 'step_name': 'hyperparameter-tuninig', 'path': 'HyperParameterTuningJobConfig.ResourceLimits.MaxParallelTrainingJobs', '_shape_names': ['MaxParallelTrainingJobs'], '__str__': 'MaxParallelTrainingJobs'}, 'MaxRuntimeInSeconds': {'_step': <sagemaker.workflow.steps.TuningStep object at 0x7f019e5a2140>, 'step_name': 'hyperparameter-tuninig', 'path': 'HyperParameterTuningJobConfig.ResourceLimits.MaxRuntimeInSeconds', '_shape_names': ['HyperParameterTuningMaxRuntimeInSeconds'], '__str__': 'HyperParameterTuningMaxRuntimeInSeconds'}}, 'ParameterRanges': {'_step': <sagemaker.workflow.steps.TuningStep object at 0x7f019e5a2140>, 'step_name': 'hyperparameter-tuninig', 'path': 'HyperParameterTuningJobConfig.ParameterRanges', '_shape_names': ['ParameterRanges'], 'IntegerParameterRanges': {'_step': <sagemaker.workflow.steps.TuningStep object at 0x7f019e5a2140>, 'step_name': 'hyperparameter-tuninig', 'path': 'HyperParameterTuningJobConfig.ParameterRanges.IntegerParameterRanges', '_shape_names': ['IntegerParameterRanges'], 'shape_name': 'IntegerParameterRanges', 'service_name': 'sagemaker', '_items': {}}, 'ContinuousParameterRanges': {'_step': <sagemaker.workflow.steps.TuningStep object at 0x7f019e5a2140>, 'step_name': 'hyperparameter-tuninig', 'path': 'HyperParameterTuningJobConfig.ParameterRanges.ContinuousParameterRanges', '_shape_names': ['ContinuousParameterRanges'], 'shape_name': 'ContinuousParameterRanges', 'service_name': 'sagemaker', '_items': {}}, 'CategoricalParameterRanges': {'_step': <sagemaker.workflow.steps.TuningStep object at 0x7f019e5a2140>, 'step_name': 'hyperparameter-tuninig', 'path': 'HyperParameterTuningJobConfig.ParameterRanges.CategoricalParameterRanges', '_shape_names': ['CategoricalParameterRanges'], 'shape_name': 'CategoricalParameterRanges', 'service_name': 'sagemaker', '_items': {}}, 'AutoParameters': {'_step': <sagemaker.workflow.steps.TuningStep object at 0x7f019e5a2140>, 'step_name': 'hyperparameter-tuninig', 'path': 'HyperParameterTuningJobConfig.ParameterRanges.AutoParameters', '_shape_names': ['AutoParameters'], 'shape_name': 'AutoParameters', 'service_name': 'sagemaker', '_items': {}}}, 'TrainingJobEarlyStoppingType': {'_step': <sagemaker.workflow.steps.TuningStep object at 0x7f019e5a2140>, 'step_name': 'hyperparameter-tuninig', 'path': 'HyperParameterTuningJobConfig.TrainingJobEarlyStoppingType', '_shape_names': ['TrainingJobEarlyStoppingType'], '__str__': 'TrainingJobEarlyStoppingType'}, 'TuningJobCompletionCriteria': {'_step': <sagemaker.workflow.steps.TuningStep object at 0x7f019e5a2140>, 'step_name': 'hyperparameter-tuninig', 'path': 'HyperParameterTuningJobConfig.TuningJobCompletionCriteria', '_shape_names': ['TuningJobCompletionCriteria'], 'TargetObjectiveMetricValue': {'_step': <sagemaker.workflow.steps.TuningStep object at 0x7f019e5a2140>, 'step_name': 'hyperparameter-tuninig', 'path': 'HyperParameterTuningJobConfig.TuningJobCompletionCriteria.TargetObjectiveMetricValue', '_shape_names': ['TargetObjectiveMetricValue'], '__str__': 'TargetObjectiveMetricValue'}, 'BestObjectiveNotImproving': {'_step': <sagemaker.workflow.steps.TuningStep object at 0x7f019e5a2140>, 'step_name': 'hyperparameter-tuninig', 'path': 'HyperParameterTuningJobConfig.TuningJobCompletionCriteria.BestObjectiveNotImproving', '_shape_names': ['BestObjectiveNotImproving'], 'MaxNumberOfTrainingJobsNotImproving': {'_step': <sagemaker.workflow.steps.TuningStep object at 0x7f019e5a2140>, 'step_name': 'hyperparameter-tuninig', 'path': 'HyperParameterTuningJobConfig.TuningJobCompletionCriteria.BestObjectiveNotImproving.MaxNumberOfTrainingJobsNotImproving', '_shape_names': ['MaxNumberOfTrainingJobsNotImproving'], '__str__': 'MaxNumberOfTrainingJobsNotImproving'}}, 'ConvergenceDetected': {'_step': <sagemaker.workflow.steps.TuningStep object at 0x7f019e5a2140>, 'step_name': 'hyperparameter-tuninig', 'path': 'HyperParameterTuningJobConfig.TuningJobCompletionCriteria.ConvergenceDetected', '_shape_names': ['ConvergenceDetected'], 'CompleteOnConvergence': {'_step': <sagemaker.workflow.steps.TuningStep object at 0x7f019e5a2140>, 'step_name': 'hyperparameter-tuninig', 'path': 'HyperParameterTuningJobConfig.TuningJobCompletionCriteria.ConvergenceDetected.CompleteOnConvergence', '_shape_names': ['CompleteOnConvergence'], '__str__': 'CompleteOnConvergence'}}}, 'RandomSeed': {'_step': <sagemaker.workflow.steps.TuningStep object at 0x7f019e5a2140>, 'step_name': 'hyperparameter-tuninig', 'path': 'HyperParameterTuningJobConfig.RandomSeed', '_shape_names': ['RandomSeed'], '__str__': 'RandomSeed'}},\n",
      " 'HyperParameterTuningJobName': {'_step': <sagemaker.workflow.steps.TuningStep object at 0x7f019e5a2140>, 'step_name': 'hyperparameter-tuninig', 'path': 'HyperParameterTuningJobName', '_shape_names': ['HyperParameterTuningJobName'], '__str__': 'HyperParameterTuningJobName'},\n",
      " 'HyperParameterTuningJobStatus': {'_step': <sagemaker.workflow.steps.TuningStep object at 0x7f019e5a2140>, 'step_name': 'hyperparameter-tuninig', 'path': 'HyperParameterTuningJobStatus', '_shape_names': ['HyperParameterTuningJobStatus'], '__str__': 'HyperParameterTuningJobStatus'},\n",
      " 'LastModifiedTime': {'_step': <sagemaker.workflow.steps.TuningStep object at 0x7f019e5a2140>, 'step_name': 'hyperparameter-tuninig', 'path': 'LastModifiedTime', '_shape_names': ['Timestamp']},\n",
      " 'NextToken': {'_step': <sagemaker.workflow.steps.TuningStep object at 0x7f019e5a2140>, 'step_name': 'hyperparameter-tuninig', 'path': 'NextToken', '_shape_names': ['NextToken'], '__str__': 'NextToken'},\n",
      " 'ObjectiveStatusCounters': {'_step': <sagemaker.workflow.steps.TuningStep object at 0x7f019e5a2140>, 'step_name': 'hyperparameter-tuninig', 'path': 'ObjectiveStatusCounters', '_shape_names': ['ObjectiveStatusCounters'], 'Succeeded': {'_step': <sagemaker.workflow.steps.TuningStep object at 0x7f019e5a2140>, 'step_name': 'hyperparameter-tuninig', 'path': 'ObjectiveStatusCounters.Succeeded', '_shape_names': ['ObjectiveStatusCounter'], '__str__': 'ObjectiveStatusCounter'}, 'Pending': {'_step': <sagemaker.workflow.steps.TuningStep object at 0x7f019e5a2140>, 'step_name': 'hyperparameter-tuninig', 'path': 'ObjectiveStatusCounters.Pending', '_shape_names': ['ObjectiveStatusCounter'], '__str__': 'ObjectiveStatusCounter'}, 'Failed': {'_step': <sagemaker.workflow.steps.TuningStep object at 0x7f019e5a2140>, 'step_name': 'hyperparameter-tuninig', 'path': 'ObjectiveStatusCounters.Failed', '_shape_names': ['ObjectiveStatusCounter'], '__str__': 'ObjectiveStatusCounter'}},\n",
      " 'OverallBestTrainingJob': {'_step': <sagemaker.workflow.steps.TuningStep object at 0x7f019e5a2140>, 'step_name': 'hyperparameter-tuninig', 'path': 'OverallBestTrainingJob', '_shape_names': ['HyperParameterTrainingJobSummary'], 'TrainingJobDefinitionName': {'_step': <sagemaker.workflow.steps.TuningStep object at 0x7f019e5a2140>, 'step_name': 'hyperparameter-tuninig', 'path': 'OverallBestTrainingJob.TrainingJobDefinitionName', '_shape_names': ['HyperParameterTrainingJobDefinitionName'], '__str__': 'HyperParameterTrainingJobDefinitionName'}, 'TrainingJobName': {'_step': <sagemaker.workflow.steps.TuningStep object at 0x7f019e5a2140>, 'step_name': 'hyperparameter-tuninig', 'path': 'OverallBestTrainingJob.TrainingJobName', '_shape_names': ['TrainingJobName'], '__str__': 'TrainingJobName'}, 'TrainingJobArn': {'_step': <sagemaker.workflow.steps.TuningStep object at 0x7f019e5a2140>, 'step_name': 'hyperparameter-tuninig', 'path': 'OverallBestTrainingJob.TrainingJobArn', '_shape_names': ['TrainingJobArn'], '__str__': 'TrainingJobArn'}, 'TuningJobName': {'_step': <sagemaker.workflow.steps.TuningStep object at 0x7f019e5a2140>, 'step_name': 'hyperparameter-tuninig', 'path': 'OverallBestTrainingJob.TuningJobName', '_shape_names': ['HyperParameterTuningJobName'], '__str__': 'HyperParameterTuningJobName'}, 'CreationTime': {'_step': <sagemaker.workflow.steps.TuningStep object at 0x7f019e5a2140>, 'step_name': 'hyperparameter-tuninig', 'path': 'OverallBestTrainingJob.CreationTime', '_shape_names': ['Timestamp']}, 'TrainingStartTime': {'_step': <sagemaker.workflow.steps.TuningStep object at 0x7f019e5a2140>, 'step_name': 'hyperparameter-tuninig', 'path': 'OverallBestTrainingJob.TrainingStartTime', '_shape_names': ['Timestamp']}, 'TrainingEndTime': {'_step': <sagemaker.workflow.steps.TuningStep object at 0x7f019e5a2140>, 'step_name': 'hyperparameter-tuninig', 'path': 'OverallBestTrainingJob.TrainingEndTime', '_shape_names': ['Timestamp']}, 'TrainingJobStatus': {'_step': <sagemaker.workflow.steps.TuningStep object at 0x7f019e5a2140>, 'step_name': 'hyperparameter-tuninig', 'path': 'OverallBestTrainingJob.TrainingJobStatus', '_shape_names': ['TrainingJobStatus'], '__str__': 'TrainingJobStatus'}, 'TunedHyperParameters': {'_step': <sagemaker.workflow.steps.TuningStep object at 0x7f019e5a2140>, 'step_name': 'hyperparameter-tuninig', 'path': 'OverallBestTrainingJob.TunedHyperParameters', '_shape_names': ['HyperParameters'], 'shape_name': 'HyperParameters', 'service_name': 'sagemaker', '_items': {}}, 'FailureReason': {'_step': <sagemaker.workflow.steps.TuningStep object at 0x7f019e5a2140>, 'step_name': 'hyperparameter-tuninig', 'path': 'OverallBestTrainingJob.FailureReason', '_shape_names': ['FailureReason'], '__str__': 'FailureReason'}, 'FinalHyperParameterTuningJobObjectiveMetric': {'_step': <sagemaker.workflow.steps.TuningStep object at 0x7f019e5a2140>, 'step_name': 'hyperparameter-tuninig', 'path': 'OverallBestTrainingJob.FinalHyperParameterTuningJobObjectiveMetric', '_shape_names': ['FinalHyperParameterTuningJobObjectiveMetric'], 'Type': {'_step': <sagemaker.workflow.steps.TuningStep object at 0x7f019e5a2140>, 'step_name': 'hyperparameter-tuninig', 'path': 'OverallBestTrainingJob.FinalHyperParameterTuningJobObjectiveMetric.Type', '_shape_names': ['HyperParameterTuningJobObjectiveType'], '__str__': 'HyperParameterTuningJobObjectiveType'}, 'MetricName': {'_step': <sagemaker.workflow.steps.TuningStep object at 0x7f019e5a2140>, 'step_name': 'hyperparameter-tuninig', 'path': 'OverallBestTrainingJob.FinalHyperParameterTuningJobObjectiveMetric.MetricName', '_shape_names': ['MetricName'], '__str__': 'MetricName'}, 'Value': {'_step': <sagemaker.workflow.steps.TuningStep object at 0x7f019e5a2140>, 'step_name': 'hyperparameter-tuninig', 'path': 'OverallBestTrainingJob.FinalHyperParameterTuningJobObjectiveMetric.Value', '_shape_names': ['MetricValue'], '__str__': 'MetricValue'}}, 'ObjectiveStatus': {'_step': <sagemaker.workflow.steps.TuningStep object at 0x7f019e5a2140>, 'step_name': 'hyperparameter-tuninig', 'path': 'OverallBestTrainingJob.ObjectiveStatus', '_shape_names': ['ObjectiveStatus'], '__str__': 'ObjectiveStatus'}},\n",
      " 'TrainingJobDefinition': {'_step': <sagemaker.workflow.steps.TuningStep object at 0x7f019e5a2140>, 'step_name': 'hyperparameter-tuninig', 'path': 'TrainingJobDefinition', '_shape_names': ['HyperParameterTrainingJobDefinition'], 'DefinitionName': {'_step': <sagemaker.workflow.steps.TuningStep object at 0x7f019e5a2140>, 'step_name': 'hyperparameter-tuninig', 'path': 'TrainingJobDefinition.DefinitionName', '_shape_names': ['HyperParameterTrainingJobDefinitionName'], '__str__': 'HyperParameterTrainingJobDefinitionName'}, 'TuningObjective': {'_step': <sagemaker.workflow.steps.TuningStep object at 0x7f019e5a2140>, 'step_name': 'hyperparameter-tuninig', 'path': 'TrainingJobDefinition.TuningObjective', '_shape_names': ['HyperParameterTuningJobObjective'], 'Type': {'_step': <sagemaker.workflow.steps.TuningStep object at 0x7f019e5a2140>, 'step_name': 'hyperparameter-tuninig', 'path': 'TrainingJobDefinition.TuningObjective.Type', '_shape_names': ['HyperParameterTuningJobObjectiveType'], '__str__': 'HyperParameterTuningJobObjectiveType'}, 'MetricName': {'_step': <sagemaker.workflow.steps.TuningStep object at 0x7f019e5a2140>, 'step_name': 'hyperparameter-tuninig', 'path': 'TrainingJobDefinition.TuningObjective.MetricName', '_shape_names': ['MetricName'], '__str__': 'MetricName'}}, 'HyperParameterRanges': {'_step': <sagemaker.workflow.steps.TuningStep object at 0x7f019e5a2140>, 'step_name': 'hyperparameter-tuninig', 'path': 'TrainingJobDefinition.HyperParameterRanges', '_shape_names': ['ParameterRanges'], 'IntegerParameterRanges': {'_step': <sagemaker.workflow.steps.TuningStep object at 0x7f019e5a2140>, 'step_name': 'hyperparameter-tuninig', 'path': 'TrainingJobDefinition.HyperParameterRanges.IntegerParameterRanges', '_shape_names': ['IntegerParameterRanges'], 'shape_name': 'IntegerParameterRanges', 'service_name': 'sagemaker', '_items': {}}, 'ContinuousParameterRanges': {'_step': <sagemaker.workflow.steps.TuningStep object at 0x7f019e5a2140>, 'step_name': 'hyperparameter-tuninig', 'path': 'TrainingJobDefinition.HyperParameterRanges.ContinuousParameterRanges', '_shape_names': ['ContinuousParameterRanges'], 'shape_name': 'ContinuousParameterRanges', 'service_name': 'sagemaker', '_items': {}}, 'CategoricalParameterRanges': {'_step': <sagemaker.workflow.steps.TuningStep object at 0x7f019e5a2140>, 'step_name': 'hyperparameter-tuninig', 'path': 'TrainingJobDefinition.HyperParameterRanges.CategoricalParameterRanges', '_shape_names': ['CategoricalParameterRanges'], 'shape_name': 'CategoricalParameterRanges', 'service_name': 'sagemaker', '_items': {}}, 'AutoParameters': {'_step': <sagemaker.workflow.steps.TuningStep object at 0x7f019e5a2140>, 'step_name': 'hyperparameter-tuninig', 'path': 'TrainingJobDefinition.HyperParameterRanges.AutoParameters', '_shape_names': ['AutoParameters'], 'shape_name': 'AutoParameters', 'service_name': 'sagemaker', '_items': {}}}, 'StaticHyperParameters': {'_step': <sagemaker.workflow.steps.TuningStep object at 0x7f019e5a2140>, 'step_name': 'hyperparameter-tuninig', 'path': 'TrainingJobDefinition.StaticHyperParameters', '_shape_names': ['HyperParameters'], 'shape_name': 'HyperParameters', 'service_name': 'sagemaker', '_items': {}}, 'AlgorithmSpecification': {'_step': <sagemaker.workflow.steps.TuningStep object at 0x7f019e5a2140>, 'step_name': 'hyperparameter-tuninig', 'path': 'TrainingJobDefinition.AlgorithmSpecification', '_shape_names': ['HyperParameterAlgorithmSpecification'], 'TrainingImage': {'_step': <sagemaker.workflow.steps.TuningStep object at 0x7f019e5a2140>, 'step_name': 'hyperparameter-tuninig', 'path': 'TrainingJobDefinition.AlgorithmSpecification.TrainingImage', '_shape_names': ['AlgorithmImage'], '__str__': 'AlgorithmImage'}, 'TrainingInputMode': {'_step': <sagemaker.workflow.steps.TuningStep object at 0x7f019e5a2140>, 'step_name': 'hyperparameter-tuninig', 'path': 'TrainingJobDefinition.AlgorithmSpecification.TrainingInputMode', '_shape_names': ['TrainingInputMode'], '__str__': 'TrainingInputMode'}, 'AlgorithmName': {'_step': <sagemaker.workflow.steps.TuningStep object at 0x7f019e5a2140>, 'step_name': 'hyperparameter-tuninig', 'path': 'TrainingJobDefinition.AlgorithmSpecification.AlgorithmName', '_shape_names': ['ArnOrName'], '__str__': 'ArnOrName'}, 'MetricDefinitions': {'_step': <sagemaker.workflow.steps.TuningStep object at 0x7f019e5a2140>, 'step_name': 'hyperparameter-tuninig', 'path': 'TrainingJobDefinition.AlgorithmSpecification.MetricDefinitions', '_shape_names': ['MetricDefinitionList'], 'shape_name': 'MetricDefinitionList', 'service_name': 'sagemaker', '_items': {}}}, 'RoleArn': {'_step': <sagemaker.workflow.steps.TuningStep object at 0x7f019e5a2140>, 'step_name': 'hyperparameter-tuninig', 'path': 'TrainingJobDefinition.RoleArn', '_shape_names': ['RoleArn'], '__str__': 'RoleArn'}, 'InputDataConfig': {'_step': <sagemaker.workflow.steps.TuningStep object at 0x7f019e5a2140>, 'step_name': 'hyperparameter-tuninig', 'path': 'TrainingJobDefinition.InputDataConfig', '_shape_names': ['InputDataConfig'], 'shape_name': 'InputDataConfig', 'service_name': 'sagemaker', '_items': {}}, 'VpcConfig': {'_step': <sagemaker.workflow.steps.TuningStep object at 0x7f019e5a2140>, 'step_name': 'hyperparameter-tuninig', 'path': 'TrainingJobDefinition.VpcConfig', '_shape_names': ['VpcConfig'], 'SecurityGroupIds': {'_step': <sagemaker.workflow.steps.TuningStep object at 0x7f019e5a2140>, 'step_name': 'hyperparameter-tuninig', 'path': 'TrainingJobDefinition.VpcConfig.SecurityGroupIds', '_shape_names': ['VpcSecurityGroupIds'], 'shape_name': 'VpcSecurityGroupIds', 'service_name': 'sagemaker', '_items': {}}, 'Subnets': {'_step': <sagemaker.workflow.steps.TuningStep object at 0x7f019e5a2140>, 'step_name': 'hyperparameter-tuninig', 'path': 'TrainingJobDefinition.VpcConfig.Subnets', '_shape_names': ['Subnets'], 'shape_name': 'Subnets', 'service_name': 'sagemaker', '_items': {}}}, 'OutputDataConfig': {'_step': <sagemaker.workflow.steps.TuningStep object at 0x7f019e5a2140>, 'step_name': 'hyperparameter-tuninig', 'path': 'TrainingJobDefinition.OutputDataConfig', '_shape_names': ['OutputDataConfig'], 'KmsKeyId': {'_step': <sagemaker.workflow.steps.TuningStep object at 0x7f019e5a2140>, 'step_name': 'hyperparameter-tuninig', 'path': 'TrainingJobDefinition.OutputDataConfig.KmsKeyId', '_shape_names': ['KmsKeyId'], '__str__': 'KmsKeyId'}, 'S3OutputPath': {'_step': <sagemaker.workflow.steps.TuningStep object at 0x7f019e5a2140>, 'step_name': 'hyperparameter-tuninig', 'path': 'TrainingJobDefinition.OutputDataConfig.S3OutputPath', '_shape_names': ['S3Uri'], '__str__': 'S3Uri'}, 'CompressionType': {'_step': <sagemaker.workflow.steps.TuningStep object at 0x7f019e5a2140>, 'step_name': 'hyperparameter-tuninig', 'path': 'TrainingJobDefinition.OutputDataConfig.CompressionType', '_shape_names': ['OutputCompressionType'], '__str__': 'OutputCompressionType'}}, 'ResourceConfig': {'_step': <sagemaker.workflow.steps.TuningStep object at 0x7f019e5a2140>, 'step_name': 'hyperparameter-tuninig', 'path': 'TrainingJobDefinition.ResourceConfig', '_shape_names': ['ResourceConfig'], 'InstanceType': {'_step': <sagemaker.workflow.steps.TuningStep object at 0x7f019e5a2140>, 'step_name': 'hyperparameter-tuninig', 'path': 'TrainingJobDefinition.ResourceConfig.InstanceType', '_shape_names': ['TrainingInstanceType'], '__str__': 'TrainingInstanceType'}, 'InstanceCount': {'_step': <sagemaker.workflow.steps.TuningStep object at 0x7f019e5a2140>, 'step_name': 'hyperparameter-tuninig', 'path': 'TrainingJobDefinition.ResourceConfig.InstanceCount', '_shape_names': ['TrainingInstanceCount'], '__str__': 'TrainingInstanceCount'}, 'VolumeSizeInGB': {'_step': <sagemaker.workflow.steps.TuningStep object at 0x7f019e5a2140>, 'step_name': 'hyperparameter-tuninig', 'path': 'TrainingJobDefinition.ResourceConfig.VolumeSizeInGB', '_shape_names': ['VolumeSizeInGB'], '__str__': 'VolumeSizeInGB'}, 'VolumeKmsKeyId': {'_step': <sagemaker.workflow.steps.TuningStep object at 0x7f019e5a2140>, 'step_name': 'hyperparameter-tuninig', 'path': 'TrainingJobDefinition.ResourceConfig.VolumeKmsKeyId', '_shape_names': ['KmsKeyId'], '__str__': 'KmsKeyId'}, 'KeepAlivePeriodInSeconds': {'_step': <sagemaker.workflow.steps.TuningStep object at 0x7f019e5a2140>, 'step_name': 'hyperparameter-tuninig', 'path': 'TrainingJobDefinition.ResourceConfig.KeepAlivePeriodInSeconds', '_shape_names': ['KeepAlivePeriodInSeconds'], '__str__': 'KeepAlivePeriodInSeconds'}, 'InstanceGroups': {'_step': <sagemaker.workflow.steps.TuningStep object at 0x7f019e5a2140>, 'step_name': 'hyperparameter-tuninig', 'path': 'TrainingJobDefinition.ResourceConfig.InstanceGroups', '_shape_names': ['InstanceGroups'], 'shape_name': 'InstanceGroups', 'service_name': 'sagemaker', '_items': {}}}, 'HyperParameterTuningResourceConfig': {'_step': <sagemaker.workflow.steps.TuningStep object at 0x7f019e5a2140>, 'step_name': 'hyperparameter-tuninig', 'path': 'TrainingJobDefinition.HyperParameterTuningResourceConfig', '_shape_names': ['HyperParameterTuningResourceConfig'], 'InstanceType': {'_step': <sagemaker.workflow.steps.TuningStep object at 0x7f019e5a2140>, 'step_name': 'hyperparameter-tuninig', 'path': 'TrainingJobDefinition.HyperParameterTuningResourceConfig.InstanceType', '_shape_names': ['TrainingInstanceType'], '__str__': 'TrainingInstanceType'}, 'InstanceCount': {'_step': <sagemaker.workflow.steps.TuningStep object at 0x7f019e5a2140>, 'step_name': 'hyperparameter-tuninig', 'path': 'TrainingJobDefinition.HyperParameterTuningResourceConfig.InstanceCount', '_shape_names': ['TrainingInstanceCount'], '__str__': 'TrainingInstanceCount'}, 'VolumeSizeInGB': {'_step': <sagemaker.workflow.steps.TuningStep object at 0x7f019e5a2140>, 'step_name': 'hyperparameter-tuninig', 'path': 'TrainingJobDefinition.HyperParameterTuningResourceConfig.VolumeSizeInGB', '_shape_names': ['OptionalVolumeSizeInGB'], '__str__': 'OptionalVolumeSizeInGB'}, 'VolumeKmsKeyId': {'_step': <sagemaker.workflow.steps.TuningStep object at 0x7f019e5a2140>, 'step_name': 'hyperparameter-tuninig', 'path': 'TrainingJobDefinition.HyperParameterTuningResourceConfig.VolumeKmsKeyId', '_shape_names': ['KmsKeyId'], '__str__': 'KmsKeyId'}, 'AllocationStrategy': {'_step': <sagemaker.workflow.steps.TuningStep object at 0x7f019e5a2140>, 'step_name': 'hyperparameter-tuninig', 'path': 'TrainingJobDefinition.HyperParameterTuningResourceConfig.AllocationStrategy', '_shape_names': ['HyperParameterTuningAllocationStrategy'], '__str__': 'HyperParameterTuningAllocationStrategy'}, 'InstanceConfigs': {'_step': <sagemaker.workflow.steps.TuningStep object at 0x7f019e5a2140>, 'step_name': 'hyperparameter-tuninig', 'path': 'TrainingJobDefinition.HyperParameterTuningResourceConfig.InstanceConfigs', '_shape_names': ['HyperParameterTuningInstanceConfigs'], 'shape_name': 'HyperParameterTuningInstanceConfigs', 'service_name': 'sagemaker', '_items': {}}}, 'StoppingCondition': {'_step': <sagemaker.workflow.steps.TuningStep object at 0x7f019e5a2140>, 'step_name': 'hyperparameter-tuninig', 'path': 'TrainingJobDefinition.StoppingCondition', '_shape_names': ['StoppingCondition'], 'MaxRuntimeInSeconds': {'_step': <sagemaker.workflow.steps.TuningStep object at 0x7f019e5a2140>, 'step_name': 'hyperparameter-tuninig', 'path': 'TrainingJobDefinition.StoppingCondition.MaxRuntimeInSeconds', '_shape_names': ['MaxRuntimeInSeconds'], '__str__': 'MaxRuntimeInSeconds'}, 'MaxWaitTimeInSeconds': {'_step': <sagemaker.workflow.steps.TuningStep object at 0x7f019e5a2140>, 'step_name': 'hyperparameter-tuninig', 'path': 'TrainingJobDefinition.StoppingCondition.MaxWaitTimeInSeconds', '_shape_names': ['MaxWaitTimeInSeconds'], '__str__': 'MaxWaitTimeInSeconds'}, 'MaxPendingTimeInSeconds': {'_step': <sagemaker.workflow.steps.TuningStep object at 0x7f019e5a2140>, 'step_name': 'hyperparameter-tuninig', 'path': 'TrainingJobDefinition.StoppingCondition.MaxPendingTimeInSeconds', '_shape_names': ['MaxPendingTimeInSeconds'], '__str__': 'MaxPendingTimeInSeconds'}}, 'EnableNetworkIsolation': {'_step': <sagemaker.workflow.steps.TuningStep object at 0x7f019e5a2140>, 'step_name': 'hyperparameter-tuninig', 'path': 'TrainingJobDefinition.EnableNetworkIsolation', '_shape_names': ['Boolean'], '__str__': 'Boolean'}, 'EnableInterContainerTrafficEncryption': {'_step': <sagemaker.workflow.steps.TuningStep object at 0x7f019e5a2140>, 'step_name': 'hyperparameter-tuninig', 'path': 'TrainingJobDefinition.EnableInterContainerTrafficEncryption', '_shape_names': ['Boolean'], '__str__': 'Boolean'}, 'EnableManagedSpotTraining': {'_step': <sagemaker.workflow.steps.TuningStep object at 0x7f019e5a2140>, 'step_name': 'hyperparameter-tuninig', 'path': 'TrainingJobDefinition.EnableManagedSpotTraining', '_shape_names': ['Boolean'], '__str__': 'Boolean'}, 'CheckpointConfig': {'_step': <sagemaker.workflow.steps.TuningStep object at 0x7f019e5a2140>, 'step_name': 'hyperparameter-tuninig', 'path': 'TrainingJobDefinition.CheckpointConfig', '_shape_names': ['CheckpointConfig'], 'S3Uri': {'_step': <sagemaker.workflow.steps.TuningStep object at 0x7f019e5a2140>, 'step_name': 'hyperparameter-tuninig', 'path': 'TrainingJobDefinition.CheckpointConfig.S3Uri', '_shape_names': ['S3Uri'], '__str__': 'S3Uri'}, 'LocalPath': {'_step': <sagemaker.workflow.steps.TuningStep object at 0x7f019e5a2140>, 'step_name': 'hyperparameter-tuninig', 'path': 'TrainingJobDefinition.CheckpointConfig.LocalPath', '_shape_names': ['DirectoryPath'], '__str__': 'DirectoryPath'}}, 'RetryStrategy': {'_step': <sagemaker.workflow.steps.TuningStep object at 0x7f019e5a2140>, 'step_name': 'hyperparameter-tuninig', 'path': 'TrainingJobDefinition.RetryStrategy', '_shape_names': ['RetryStrategy'], 'MaximumRetryAttempts': {'_step': <sagemaker.workflow.steps.TuningStep object at 0x7f019e5a2140>, 'step_name': 'hyperparameter-tuninig', 'path': 'TrainingJobDefinition.RetryStrategy.MaximumRetryAttempts', '_shape_names': ['MaximumRetryAttempts'], '__str__': 'MaximumRetryAttempts'}}, 'Environment': {'_step': <sagemaker.workflow.steps.TuningStep object at 0x7f019e5a2140>, 'step_name': 'hyperparameter-tuninig', 'path': 'TrainingJobDefinition.Environment', '_shape_names': ['HyperParameterTrainingJobEnvironmentMap'], 'shape_name': 'HyperParameterTrainingJobEnvironmentMap', 'service_name': 'sagemaker', '_items': {}}},\n",
      " 'TrainingJobDefinitions': {'_step': <sagemaker.workflow.steps.TuningStep object at 0x7f019e5a2140>, 'step_name': 'hyperparameter-tuninig', 'path': 'TrainingJobDefinitions', '_shape_names': ['HyperParameterTrainingJobDefinitions'], 'shape_name': 'HyperParameterTrainingJobDefinitions', 'service_name': 'sagemaker', '_items': {}},\n",
      " 'TrainingJobStatusCounters': {'_step': <sagemaker.workflow.steps.TuningStep object at 0x7f019e5a2140>, 'step_name': 'hyperparameter-tuninig', 'path': 'TrainingJobStatusCounters', '_shape_names': ['TrainingJobStatusCounters'], 'Completed': {'_step': <sagemaker.workflow.steps.TuningStep object at 0x7f019e5a2140>, 'step_name': 'hyperparameter-tuninig', 'path': 'TrainingJobStatusCounters.Completed', '_shape_names': ['TrainingJobStatusCounter'], '__str__': 'TrainingJobStatusCounter'}, 'InProgress': {'_step': <sagemaker.workflow.steps.TuningStep object at 0x7f019e5a2140>, 'step_name': 'hyperparameter-tuninig', 'path': 'TrainingJobStatusCounters.InProgress', '_shape_names': ['TrainingJobStatusCounter'], '__str__': 'TrainingJobStatusCounter'}, 'RetryableError': {'_step': <sagemaker.workflow.steps.TuningStep object at 0x7f019e5a2140>, 'step_name': 'hyperparameter-tuninig', 'path': 'TrainingJobStatusCounters.RetryableError', '_shape_names': ['TrainingJobStatusCounter'], '__str__': 'TrainingJobStatusCounter'}, 'NonRetryableError': {'_step': <sagemaker.workflow.steps.TuningStep object at 0x7f019e5a2140>, 'step_name': 'hyperparameter-tuninig', 'path': 'TrainingJobStatusCounters.NonRetryableError', '_shape_names': ['TrainingJobStatusCounter'], '__str__': 'TrainingJobStatusCounter'}, 'Stopped': {'_step': <sagemaker.workflow.steps.TuningStep object at 0x7f019e5a2140>, 'step_name': 'hyperparameter-tuninig', 'path': 'TrainingJobStatusCounters.Stopped', '_shape_names': ['TrainingJobStatusCounter'], '__str__': 'TrainingJobStatusCounter'}},\n",
      " 'TrainingJobSummaries': {'_step': <sagemaker.workflow.steps.TuningStep object at 0x7f019e5a2140>, 'step_name': 'hyperparameter-tuninig', 'path': 'TrainingJobSummaries', '_shape_names': ['HyperParameterTrainingJobSummaries'], 'shape_name': 'HyperParameterTrainingJobSummaries', 'service_name': 'sagemaker', '_items': {}},\n",
      " 'TuningJobCompletionDetails': {'_step': <sagemaker.workflow.steps.TuningStep object at 0x7f019e5a2140>, 'step_name': 'hyperparameter-tuninig', 'path': 'TuningJobCompletionDetails', '_shape_names': ['HyperParameterTuningJobCompletionDetails'], 'NumberOfTrainingJobsObjectiveNotImproving': {'_step': <sagemaker.workflow.steps.TuningStep object at 0x7f019e5a2140>, 'step_name': 'hyperparameter-tuninig', 'path': 'TuningJobCompletionDetails.NumberOfTrainingJobsObjectiveNotImproving', '_shape_names': ['Integer'], '__str__': 'Integer'}, 'ConvergenceDetectedTime': {'_step': <sagemaker.workflow.steps.TuningStep object at 0x7f019e5a2140>, 'step_name': 'hyperparameter-tuninig', 'path': 'TuningJobCompletionDetails.ConvergenceDetectedTime', '_shape_names': ['Timestamp']}},\n",
      " 'WarmStartConfig': {'_step': <sagemaker.workflow.steps.TuningStep object at 0x7f019e5a2140>, 'step_name': 'hyperparameter-tuninig', 'path': 'WarmStartConfig', '_shape_names': ['HyperParameterTuningJobWarmStartConfig'], 'ParentHyperParameterTuningJobs': {'_step': <sagemaker.workflow.steps.TuningStep object at 0x7f019e5a2140>, 'step_name': 'hyperparameter-tuninig', 'path': 'WarmStartConfig.ParentHyperParameterTuningJobs', '_shape_names': ['ParentHyperParameterTuningJobs'], 'shape_name': 'ParentHyperParameterTuningJobs', 'service_name': 'sagemaker', '_items': {}}, 'WarmStartType': {'_step': <sagemaker.workflow.steps.TuningStep object at 0x7f019e5a2140>, 'step_name': 'hyperparameter-tuninig', 'path': 'WarmStartConfig.WarmStartType', '_shape_names': ['HyperParameterTuningJobWarmStartType'], '__str__': 'HyperParameterTuningJobWarmStartType'}},\n",
      " '_shape_names': ['DescribeHyperParameterTuningJobResponse',\n",
      "                  'ListTrainingJobsForHyperParameterTuningJobResponse'],\n",
      " '_step': <sagemaker.workflow.steps.TuningStep object at 0x7f019e5a2140>,\n",
      " 'path': None,\n",
      " 'step_name': 'hyperparameter-tuninig'}\n"
     ]
    }
   ],
   "source": [
    "pprint(tuning_step.properties.__dict__)"
   ]
  },
  {
   "cell_type": "code",
   "execution_count": 70,
   "id": "65c0edd5-85d0-4110-aebc-c665db904d7c",
   "metadata": {
    "tags": []
   },
   "outputs": [
    {
     "data": {
      "text/plain": [
       "dict_keys(['_step', 'step_name', 'path', '_shape_names', 'HyperParameterTuningJobName', 'HyperParameterTuningJobArn', 'HyperParameterTuningJobConfig', 'TrainingJobDefinition', 'TrainingJobDefinitions', 'HyperParameterTuningJobStatus', 'CreationTime', 'HyperParameterTuningEndTime', 'LastModifiedTime', 'TrainingJobStatusCounters', 'ObjectiveStatusCounters', 'BestTrainingJob', 'OverallBestTrainingJob', 'WarmStartConfig', 'Autotune', 'FailureReason', 'TuningJobCompletionDetails', 'ConsumedResources', 'TrainingJobSummaries', 'NextToken'])"
      ]
     },
     "execution_count": 70,
     "metadata": {},
     "output_type": "execute_result"
    }
   ],
   "source": [
    "tuning_step.properties.__dict__.keys()"
   ]
  },
  {
   "cell_type": "code",
   "execution_count": 77,
   "id": "fb92ee67-ac8b-491e-9407-c7a499a055d0",
   "metadata": {
    "tags": []
   },
   "outputs": [
    {
     "data": {
      "text/plain": [
       "dict_keys(['_step', 'step_name', 'path', '_shape_names', 'DefinitionName', 'TuningObjective', 'HyperParameterRanges', 'StaticHyperParameters', 'AlgorithmSpecification', 'RoleArn', 'InputDataConfig', 'VpcConfig', 'OutputDataConfig', 'ResourceConfig', 'HyperParameterTuningResourceConfig', 'StoppingCondition', 'EnableNetworkIsolation', 'EnableInterContainerTrafficEncryption', 'EnableManagedSpotTraining', 'CheckpointConfig', 'RetryStrategy', 'Environment'])"
      ]
     },
     "execution_count": 77,
     "metadata": {},
     "output_type": "execute_result"
    }
   ],
   "source": [
    "tuning_step.properties.TrainingJobDefinition.__dict__.keys()"
   ]
  },
  {
   "cell_type": "code",
   "execution_count": 37,
   "id": "2894c6f8-e5f5-4269-abdb-cb032b56b534",
   "metadata": {
    "tags": []
   },
   "outputs": [],
   "source": [
    "# tuning_step.properties.properties.ModelArtifacts.S3ModelArtifacts"
   ]
  },
  {
   "cell_type": "markdown",
   "id": "9ec52b72-3a29-4299-8c84-0dc6ab79a11d",
   "metadata": {},
   "source": [
    "## 3. Configure model evaluation step"
   ]
  },
  {
   "cell_type": "code",
   "execution_count": 86,
   "id": "200d4b08-efb3-4b5a-847c-1d2489794156",
   "metadata": {
    "tags": []
   },
   "outputs": [],
   "source": [
    "evaluation_processor = SKLearnProcessor(\n",
    "    framework_version=FRAMEWORK_VERSION,\n",
    "    role=role,\n",
    "    instance_type=processing_instance_type,\n",
    "    instance_count = processing_instance_count,\n",
    "    env={'AWS_DEFAULT_REGION': region}  \n",
    ")"
   ]
  },
  {
   "cell_type": "code",
   "execution_count": 87,
   "id": "6dec1b58-6bea-438f-a56b-e5e0d6e33b88",
   "metadata": {
    "tags": []
   },
   "outputs": [],
   "source": [
    "from sagemaker.workflow.properties import PropertyFile\n",
    "\n",
    "\n",
    "evaluation_metrics = PropertyFile(\n",
    "    name='EvaluationReport',\n",
    "    output_name='metrics',\n",
    "    path='evaluation.json'\n",
    ")"
   ]
  },
  {
   "cell_type": "code",
   "execution_count": 89,
   "id": "b434b276-9c1b-4d06-b990-0d2ff72c0674",
   "metadata": {
    "tags": []
   },
   "outputs": [],
   "source": [
    "evaluation_step = ProcessingStep(\n",
    "    name='evaluate-metrics',\n",
    "    code='./src/evaluate_metrics.py',\n",
    "    processor=evaluation_processor,\n",
    "    inputs=[\n",
    "        ProcessingInput(\n",
    "            source=tuning_step.get_top_model_s3_uri(top_k=0, s3_bucket=bucket),\n",
    "            destination='/opt/ml/processing/input/model'\n",
    "        ),\n",
    "        ProcessingInput(\n",
    "            source=processing_step.properties.ProcessingOutputConfig.Outputs[\n",
    "                'bank-churn-mon1-test'\n",
    "            ].S3Output.S3Uri,\n",
    "            destination='/opt/ml/processing/input/data'\n",
    "        )\n",
    "    ],\n",
    "    outputs = [\n",
    "        ProcessingOutput(\n",
    "            output_name='metrics',\n",
    "            s3_upload_mode='EndOfJob',\n",
    "            source='/opt/ml/processing/output/metrics/'\n",
    "        )\n",
    "    ],\n",
    "    property_files=[evaluation_metrics]\n",
    "    # job_arguments=None\n",
    ")"
   ]
  },
  {
   "cell_type": "code",
   "execution_count": null,
   "id": "609d9fe1-6d74-4224-a104-b6a3951fb64f",
   "metadata": {},
   "outputs": [],
   "source": []
  }
 ],
 "metadata": {
  "availableInstances": [
   {
    "_defaultOrder": 0,
    "_isFastLaunch": true,
    "category": "General purpose",
    "gpuNum": 0,
    "hideHardwareSpecs": false,
    "memoryGiB": 4,
    "name": "ml.t3.medium",
    "vcpuNum": 2
   },
   {
    "_defaultOrder": 1,
    "_isFastLaunch": false,
    "category": "General purpose",
    "gpuNum": 0,
    "hideHardwareSpecs": false,
    "memoryGiB": 8,
    "name": "ml.t3.large",
    "vcpuNum": 2
   },
   {
    "_defaultOrder": 2,
    "_isFastLaunch": false,
    "category": "General purpose",
    "gpuNum": 0,
    "hideHardwareSpecs": false,
    "memoryGiB": 16,
    "name": "ml.t3.xlarge",
    "vcpuNum": 4
   },
   {
    "_defaultOrder": 3,
    "_isFastLaunch": false,
    "category": "General purpose",
    "gpuNum": 0,
    "hideHardwareSpecs": false,
    "memoryGiB": 32,
    "name": "ml.t3.2xlarge",
    "vcpuNum": 8
   },
   {
    "_defaultOrder": 4,
    "_isFastLaunch": true,
    "category": "General purpose",
    "gpuNum": 0,
    "hideHardwareSpecs": false,
    "memoryGiB": 8,
    "name": "ml.m5.large",
    "vcpuNum": 2
   },
   {
    "_defaultOrder": 5,
    "_isFastLaunch": false,
    "category": "General purpose",
    "gpuNum": 0,
    "hideHardwareSpecs": false,
    "memoryGiB": 16,
    "name": "ml.m5.xlarge",
    "vcpuNum": 4
   },
   {
    "_defaultOrder": 6,
    "_isFastLaunch": false,
    "category": "General purpose",
    "gpuNum": 0,
    "hideHardwareSpecs": false,
    "memoryGiB": 32,
    "name": "ml.m5.2xlarge",
    "vcpuNum": 8
   },
   {
    "_defaultOrder": 7,
    "_isFastLaunch": false,
    "category": "General purpose",
    "gpuNum": 0,
    "hideHardwareSpecs": false,
    "memoryGiB": 64,
    "name": "ml.m5.4xlarge",
    "vcpuNum": 16
   },
   {
    "_defaultOrder": 8,
    "_isFastLaunch": false,
    "category": "General purpose",
    "gpuNum": 0,
    "hideHardwareSpecs": false,
    "memoryGiB": 128,
    "name": "ml.m5.8xlarge",
    "vcpuNum": 32
   },
   {
    "_defaultOrder": 9,
    "_isFastLaunch": false,
    "category": "General purpose",
    "gpuNum": 0,
    "hideHardwareSpecs": false,
    "memoryGiB": 192,
    "name": "ml.m5.12xlarge",
    "vcpuNum": 48
   },
   {
    "_defaultOrder": 10,
    "_isFastLaunch": false,
    "category": "General purpose",
    "gpuNum": 0,
    "hideHardwareSpecs": false,
    "memoryGiB": 256,
    "name": "ml.m5.16xlarge",
    "vcpuNum": 64
   },
   {
    "_defaultOrder": 11,
    "_isFastLaunch": false,
    "category": "General purpose",
    "gpuNum": 0,
    "hideHardwareSpecs": false,
    "memoryGiB": 384,
    "name": "ml.m5.24xlarge",
    "vcpuNum": 96
   },
   {
    "_defaultOrder": 12,
    "_isFastLaunch": false,
    "category": "General purpose",
    "gpuNum": 0,
    "hideHardwareSpecs": false,
    "memoryGiB": 8,
    "name": "ml.m5d.large",
    "vcpuNum": 2
   },
   {
    "_defaultOrder": 13,
    "_isFastLaunch": false,
    "category": "General purpose",
    "gpuNum": 0,
    "hideHardwareSpecs": false,
    "memoryGiB": 16,
    "name": "ml.m5d.xlarge",
    "vcpuNum": 4
   },
   {
    "_defaultOrder": 14,
    "_isFastLaunch": false,
    "category": "General purpose",
    "gpuNum": 0,
    "hideHardwareSpecs": false,
    "memoryGiB": 32,
    "name": "ml.m5d.2xlarge",
    "vcpuNum": 8
   },
   {
    "_defaultOrder": 15,
    "_isFastLaunch": false,
    "category": "General purpose",
    "gpuNum": 0,
    "hideHardwareSpecs": false,
    "memoryGiB": 64,
    "name": "ml.m5d.4xlarge",
    "vcpuNum": 16
   },
   {
    "_defaultOrder": 16,
    "_isFastLaunch": false,
    "category": "General purpose",
    "gpuNum": 0,
    "hideHardwareSpecs": false,
    "memoryGiB": 128,
    "name": "ml.m5d.8xlarge",
    "vcpuNum": 32
   },
   {
    "_defaultOrder": 17,
    "_isFastLaunch": false,
    "category": "General purpose",
    "gpuNum": 0,
    "hideHardwareSpecs": false,
    "memoryGiB": 192,
    "name": "ml.m5d.12xlarge",
    "vcpuNum": 48
   },
   {
    "_defaultOrder": 18,
    "_isFastLaunch": false,
    "category": "General purpose",
    "gpuNum": 0,
    "hideHardwareSpecs": false,
    "memoryGiB": 256,
    "name": "ml.m5d.16xlarge",
    "vcpuNum": 64
   },
   {
    "_defaultOrder": 19,
    "_isFastLaunch": false,
    "category": "General purpose",
    "gpuNum": 0,
    "hideHardwareSpecs": false,
    "memoryGiB": 384,
    "name": "ml.m5d.24xlarge",
    "vcpuNum": 96
   },
   {
    "_defaultOrder": 20,
    "_isFastLaunch": false,
    "category": "General purpose",
    "gpuNum": 0,
    "hideHardwareSpecs": true,
    "memoryGiB": 0,
    "name": "ml.geospatial.interactive",
    "supportedImageNames": [
     "sagemaker-geospatial-v1-0"
    ],
    "vcpuNum": 0
   },
   {
    "_defaultOrder": 21,
    "_isFastLaunch": true,
    "category": "Compute optimized",
    "gpuNum": 0,
    "hideHardwareSpecs": false,
    "memoryGiB": 4,
    "name": "ml.c5.large",
    "vcpuNum": 2
   },
   {
    "_defaultOrder": 22,
    "_isFastLaunch": false,
    "category": "Compute optimized",
    "gpuNum": 0,
    "hideHardwareSpecs": false,
    "memoryGiB": 8,
    "name": "ml.c5.xlarge",
    "vcpuNum": 4
   },
   {
    "_defaultOrder": 23,
    "_isFastLaunch": false,
    "category": "Compute optimized",
    "gpuNum": 0,
    "hideHardwareSpecs": false,
    "memoryGiB": 16,
    "name": "ml.c5.2xlarge",
    "vcpuNum": 8
   },
   {
    "_defaultOrder": 24,
    "_isFastLaunch": false,
    "category": "Compute optimized",
    "gpuNum": 0,
    "hideHardwareSpecs": false,
    "memoryGiB": 32,
    "name": "ml.c5.4xlarge",
    "vcpuNum": 16
   },
   {
    "_defaultOrder": 25,
    "_isFastLaunch": false,
    "category": "Compute optimized",
    "gpuNum": 0,
    "hideHardwareSpecs": false,
    "memoryGiB": 72,
    "name": "ml.c5.9xlarge",
    "vcpuNum": 36
   },
   {
    "_defaultOrder": 26,
    "_isFastLaunch": false,
    "category": "Compute optimized",
    "gpuNum": 0,
    "hideHardwareSpecs": false,
    "memoryGiB": 96,
    "name": "ml.c5.12xlarge",
    "vcpuNum": 48
   },
   {
    "_defaultOrder": 27,
    "_isFastLaunch": false,
    "category": "Compute optimized",
    "gpuNum": 0,
    "hideHardwareSpecs": false,
    "memoryGiB": 144,
    "name": "ml.c5.18xlarge",
    "vcpuNum": 72
   },
   {
    "_defaultOrder": 28,
    "_isFastLaunch": false,
    "category": "Compute optimized",
    "gpuNum": 0,
    "hideHardwareSpecs": false,
    "memoryGiB": 192,
    "name": "ml.c5.24xlarge",
    "vcpuNum": 96
   },
   {
    "_defaultOrder": 29,
    "_isFastLaunch": true,
    "category": "Accelerated computing",
    "gpuNum": 1,
    "hideHardwareSpecs": false,
    "memoryGiB": 16,
    "name": "ml.g4dn.xlarge",
    "vcpuNum": 4
   },
   {
    "_defaultOrder": 30,
    "_isFastLaunch": false,
    "category": "Accelerated computing",
    "gpuNum": 1,
    "hideHardwareSpecs": false,
    "memoryGiB": 32,
    "name": "ml.g4dn.2xlarge",
    "vcpuNum": 8
   },
   {
    "_defaultOrder": 31,
    "_isFastLaunch": false,
    "category": "Accelerated computing",
    "gpuNum": 1,
    "hideHardwareSpecs": false,
    "memoryGiB": 64,
    "name": "ml.g4dn.4xlarge",
    "vcpuNum": 16
   },
   {
    "_defaultOrder": 32,
    "_isFastLaunch": false,
    "category": "Accelerated computing",
    "gpuNum": 1,
    "hideHardwareSpecs": false,
    "memoryGiB": 128,
    "name": "ml.g4dn.8xlarge",
    "vcpuNum": 32
   },
   {
    "_defaultOrder": 33,
    "_isFastLaunch": false,
    "category": "Accelerated computing",
    "gpuNum": 4,
    "hideHardwareSpecs": false,
    "memoryGiB": 192,
    "name": "ml.g4dn.12xlarge",
    "vcpuNum": 48
   },
   {
    "_defaultOrder": 34,
    "_isFastLaunch": false,
    "category": "Accelerated computing",
    "gpuNum": 1,
    "hideHardwareSpecs": false,
    "memoryGiB": 256,
    "name": "ml.g4dn.16xlarge",
    "vcpuNum": 64
   },
   {
    "_defaultOrder": 35,
    "_isFastLaunch": false,
    "category": "Accelerated computing",
    "gpuNum": 1,
    "hideHardwareSpecs": false,
    "memoryGiB": 61,
    "name": "ml.p3.2xlarge",
    "vcpuNum": 8
   },
   {
    "_defaultOrder": 36,
    "_isFastLaunch": false,
    "category": "Accelerated computing",
    "gpuNum": 4,
    "hideHardwareSpecs": false,
    "memoryGiB": 244,
    "name": "ml.p3.8xlarge",
    "vcpuNum": 32
   },
   {
    "_defaultOrder": 37,
    "_isFastLaunch": false,
    "category": "Accelerated computing",
    "gpuNum": 8,
    "hideHardwareSpecs": false,
    "memoryGiB": 488,
    "name": "ml.p3.16xlarge",
    "vcpuNum": 64
   },
   {
    "_defaultOrder": 38,
    "_isFastLaunch": false,
    "category": "Accelerated computing",
    "gpuNum": 8,
    "hideHardwareSpecs": false,
    "memoryGiB": 768,
    "name": "ml.p3dn.24xlarge",
    "vcpuNum": 96
   },
   {
    "_defaultOrder": 39,
    "_isFastLaunch": false,
    "category": "Memory Optimized",
    "gpuNum": 0,
    "hideHardwareSpecs": false,
    "memoryGiB": 16,
    "name": "ml.r5.large",
    "vcpuNum": 2
   },
   {
    "_defaultOrder": 40,
    "_isFastLaunch": false,
    "category": "Memory Optimized",
    "gpuNum": 0,
    "hideHardwareSpecs": false,
    "memoryGiB": 32,
    "name": "ml.r5.xlarge",
    "vcpuNum": 4
   },
   {
    "_defaultOrder": 41,
    "_isFastLaunch": false,
    "category": "Memory Optimized",
    "gpuNum": 0,
    "hideHardwareSpecs": false,
    "memoryGiB": 64,
    "name": "ml.r5.2xlarge",
    "vcpuNum": 8
   },
   {
    "_defaultOrder": 42,
    "_isFastLaunch": false,
    "category": "Memory Optimized",
    "gpuNum": 0,
    "hideHardwareSpecs": false,
    "memoryGiB": 128,
    "name": "ml.r5.4xlarge",
    "vcpuNum": 16
   },
   {
    "_defaultOrder": 43,
    "_isFastLaunch": false,
    "category": "Memory Optimized",
    "gpuNum": 0,
    "hideHardwareSpecs": false,
    "memoryGiB": 256,
    "name": "ml.r5.8xlarge",
    "vcpuNum": 32
   },
   {
    "_defaultOrder": 44,
    "_isFastLaunch": false,
    "category": "Memory Optimized",
    "gpuNum": 0,
    "hideHardwareSpecs": false,
    "memoryGiB": 384,
    "name": "ml.r5.12xlarge",
    "vcpuNum": 48
   },
   {
    "_defaultOrder": 45,
    "_isFastLaunch": false,
    "category": "Memory Optimized",
    "gpuNum": 0,
    "hideHardwareSpecs": false,
    "memoryGiB": 512,
    "name": "ml.r5.16xlarge",
    "vcpuNum": 64
   },
   {
    "_defaultOrder": 46,
    "_isFastLaunch": false,
    "category": "Memory Optimized",
    "gpuNum": 0,
    "hideHardwareSpecs": false,
    "memoryGiB": 768,
    "name": "ml.r5.24xlarge",
    "vcpuNum": 96
   },
   {
    "_defaultOrder": 47,
    "_isFastLaunch": false,
    "category": "Accelerated computing",
    "gpuNum": 1,
    "hideHardwareSpecs": false,
    "memoryGiB": 16,
    "name": "ml.g5.xlarge",
    "vcpuNum": 4
   },
   {
    "_defaultOrder": 48,
    "_isFastLaunch": false,
    "category": "Accelerated computing",
    "gpuNum": 1,
    "hideHardwareSpecs": false,
    "memoryGiB": 32,
    "name": "ml.g5.2xlarge",
    "vcpuNum": 8
   },
   {
    "_defaultOrder": 49,
    "_isFastLaunch": false,
    "category": "Accelerated computing",
    "gpuNum": 1,
    "hideHardwareSpecs": false,
    "memoryGiB": 64,
    "name": "ml.g5.4xlarge",
    "vcpuNum": 16
   },
   {
    "_defaultOrder": 50,
    "_isFastLaunch": false,
    "category": "Accelerated computing",
    "gpuNum": 1,
    "hideHardwareSpecs": false,
    "memoryGiB": 128,
    "name": "ml.g5.8xlarge",
    "vcpuNum": 32
   },
   {
    "_defaultOrder": 51,
    "_isFastLaunch": false,
    "category": "Accelerated computing",
    "gpuNum": 1,
    "hideHardwareSpecs": false,
    "memoryGiB": 256,
    "name": "ml.g5.16xlarge",
    "vcpuNum": 64
   },
   {
    "_defaultOrder": 52,
    "_isFastLaunch": false,
    "category": "Accelerated computing",
    "gpuNum": 4,
    "hideHardwareSpecs": false,
    "memoryGiB": 192,
    "name": "ml.g5.12xlarge",
    "vcpuNum": 48
   },
   {
    "_defaultOrder": 53,
    "_isFastLaunch": false,
    "category": "Accelerated computing",
    "gpuNum": 4,
    "hideHardwareSpecs": false,
    "memoryGiB": 384,
    "name": "ml.g5.24xlarge",
    "vcpuNum": 96
   },
   {
    "_defaultOrder": 54,
    "_isFastLaunch": false,
    "category": "Accelerated computing",
    "gpuNum": 8,
    "hideHardwareSpecs": false,
    "memoryGiB": 768,
    "name": "ml.g5.48xlarge",
    "vcpuNum": 192
   },
   {
    "_defaultOrder": 55,
    "_isFastLaunch": false,
    "category": "Accelerated computing",
    "gpuNum": 8,
    "hideHardwareSpecs": false,
    "memoryGiB": 1152,
    "name": "ml.p4d.24xlarge",
    "vcpuNum": 96
   },
   {
    "_defaultOrder": 56,
    "_isFastLaunch": false,
    "category": "Accelerated computing",
    "gpuNum": 8,
    "hideHardwareSpecs": false,
    "memoryGiB": 1152,
    "name": "ml.p4de.24xlarge",
    "vcpuNum": 96
   },
   {
    "_defaultOrder": 57,
    "_isFastLaunch": false,
    "category": "Accelerated computing",
    "gpuNum": 0,
    "hideHardwareSpecs": false,
    "memoryGiB": 32,
    "name": "ml.trn1.2xlarge",
    "vcpuNum": 8
   },
   {
    "_defaultOrder": 58,
    "_isFastLaunch": false,
    "category": "Accelerated computing",
    "gpuNum": 0,
    "hideHardwareSpecs": false,
    "memoryGiB": 512,
    "name": "ml.trn1.32xlarge",
    "vcpuNum": 128
   },
   {
    "_defaultOrder": 59,
    "_isFastLaunch": false,
    "category": "Accelerated computing",
    "gpuNum": 0,
    "hideHardwareSpecs": false,
    "memoryGiB": 512,
    "name": "ml.trn1n.32xlarge",
    "vcpuNum": 128
   }
  ],
  "instance_type": "ml.t3.medium",
  "kernelspec": {
   "display_name": "Python 3 (Data Science 3.0)",
   "language": "python",
   "name": "python3__SAGEMAKER_INTERNAL__arn:aws:sagemaker:eu-west-3:615547856133:image/sagemaker-data-science-310-v1"
  },
  "language_info": {
   "codemirror_mode": {
    "name": "ipython",
    "version": 3
   },
   "file_extension": ".py",
   "mimetype": "text/x-python",
   "name": "python",
   "nbconvert_exporter": "python",
   "pygments_lexer": "ipython3",
   "version": "3.10.6"
  }
 },
 "nbformat": 4,
 "nbformat_minor": 5
}
