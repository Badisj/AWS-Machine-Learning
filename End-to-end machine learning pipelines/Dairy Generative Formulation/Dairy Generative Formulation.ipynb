{
 "cells": [
  {
   "cell_type": "markdown",
   "metadata": {},
   "source": [
    "# Dairy Generative Formulation\n",
    "### Model training and deployment using SageMaker Pipelines"
   ]
  },
  {
   "cell_type": "code",
   "execution_count": 1,
   "metadata": {},
   "outputs": [
    {
     "name": "stdout",
     "output_type": "stream",
     "text": [
      "sagemaker.config INFO - Not applying SDK defaults from location: /etc/xdg/sagemaker/config.yaml\n",
      "sagemaker.config INFO - Not applying SDK defaults from location: /home/sagemaker-user/.config/sagemaker/config.yaml\n"
     ]
    }
   ],
   "source": [
    "import os\n",
    "import sagemaker\n",
    "import logging\n",
    "import boto3\n",
    "import time\n",
    "import pandas as pd\n",
    "import json\n",
    "import botocore\n",
    "from botocore.exceptions import ClientError\n",
    "\n",
    "\n",
    "# ========================== low-level service client of the boto3 session ==========================\n",
    "config = botocore.config.Config(user_agent_extra='bedissj-1699438736259')\n",
    "\n",
    "bucket =  \"dairy-generative-formulation\"\n",
    "\n",
    "sm = boto3.client(service_name='sagemaker', \n",
    "                  config=config)\n",
    "\n",
    "sm_runtime = boto3.client('sagemaker-runtime',\n",
    "                          config=config)\n",
    "\n",
    "sess = sagemaker.Session(sagemaker_client=sm,\n",
    "                         sagemaker_runtime_client=sm_runtime,\n",
    "                         default_bucket = bucket)\n",
    "\n",
    "role = sagemaker.get_execution_role()\n",
    "region = sess.boto_region_name"
   ]
  },
  {
   "cell_type": "code",
   "execution_count": 4,
   "metadata": {},
   "outputs": [
    {
     "name": "stdout",
     "output_type": "stream",
     "text": [
      "s3://dairy-generative-formulation/data/raw/\n"
     ]
    }
   ],
   "source": [
    "raw_data_s3_uri = \"s3://{}/data/raw/\".format(bucket)\n",
    "print(raw_data_s3_uri)"
   ]
  },
  {
   "cell_type": "markdown",
   "metadata": {},
   "source": [
    "### 1. Processing step"
   ]
  },
  {
   "cell_type": "code",
   "execution_count": 5,
   "metadata": {},
   "outputs": [],
   "source": [
    "from sagemaker.workflow.parameters import ParameterString, ParameterFloat, ParameterInteger\n",
    "\n",
    "\n",
    "input_data = ParameterString(\n",
    "    name='input-data',\n",
    "    default_value='/opt/ml/processing/input/data'\n",
    ")\n",
    "\n",
    "output_data = ParameterString(\n",
    "    name='output-data',\n",
    "    default_value='/opt/ml/processing/output'\n",
    ")\n",
    "\n",
    "validation_split_percentage = ParameterFloat(\n",
    "    name='validation-split-percentage',\n",
    "    default_value=0.1\n",
    ")\n",
    "\n",
    "\n",
    "test_split_percentage = ParameterFloat(\n",
    "    name='test-split-percentage',\n",
    "    default_value=0.2\n",
    ")\n",
    "\n",
    "feature_group_name = ParameterString(\n",
    "    name='feature-group-name',\n",
    "    default_value='dairy-generative-formulation-feature-group'\n",
    ")\n",
    "\n",
    "\n",
    "feature_store_offline_prefix = ParameterString(\n",
    "    name='feature-store-offline-prefix',\n",
    "    default_value=None\n",
    ")"
   ]
  },
  {
   "cell_type": "code",
   "execution_count": 6,
   "metadata": {},
   "outputs": [],
   "source": [
    "from sagemaker.processing import ProcessingInput, ProcessingOutput\n",
    "\n",
    "\n",
    "# ========================== Processing Inputs ==========================\n",
    "processing_inputs = [\n",
    "    ProcessingInput(\n",
    "        input_name='dairy-generative-formulation-raw-data',\n",
    "        source=raw_data_s3_uri,\n",
    "        destination=input_data.default_value,\n",
    "        s3_data_distribution_type='ShardedByS3Key'\n",
    "    )\n",
    "]\n",
    "\n",
    "\n",
    "# ========================== Processing Outputs ==========================\n",
    "output_data_train = output_data.default_value + '/train'\n",
    "output_data_validation = output_data.default_value + '/validation'\n",
    "output_data_test = output_data.default_value + '/test'\n",
    "output_encoder = output_data.default_value + '/encoder'\n",
    "\n",
    "\n",
    "processing_outputs = [\n",
    "    ProcessingOutput(source=output_data_train,\n",
    "                    output_name='dairy-generative-formulation-train',\n",
    "                     s3_upload_mode='EndOfJob'),\n",
    "    \n",
    "    ProcessingOutput(source=output_data_validation,\n",
    "                    output_name='dairy-generative-formulation-validation',\n",
    "                    s3_upload_mode='EndOfJob'),\n",
    "    \n",
    "    ProcessingOutput(source=output_data_test,\n",
    "                    output_name='dairy-generative-formulation-test',\n",
    "                    s3_upload_mode='EndOfJob'),\n",
    "    \n",
    "    ProcessingOutput(source=output_encoder,\n",
    "                    output_name='dairy-generative-formulation-encoder',\n",
    "                    s3_upload_mode='EndOfJob')\n",
    "]"
   ]
  },
  {
   "cell_type": "code",
   "execution_count": 7,
   "metadata": {},
   "outputs": [],
   "source": [
    "from sagemaker.sklearn import SKLearnProcessor\n",
    "\n",
    "\n",
    "# ========================== Processing Parameters ==========================\n",
    "FRAMEWORK_VERSION = '1.0-1'\n",
    "processing_instance_type = 'ml.t3.medium'\n",
    "processing_instance_count = 1\n",
    "\n",
    "\n",
    "# ========================== Instanciate SKLearn Processor ==========================\n",
    "sklearn_processor = SKLearnProcessor(\n",
    "    framework_version=FRAMEWORK_VERSION,\n",
    "    role=role,\n",
    "    instance_type=processing_instance_type,\n",
    "    instance_count=processing_instance_count,\n",
    "    sagemaker_session=sess,\n",
    "    env={\n",
    "        'AWS_DEFAULT_REGION': region\n",
    "    }\n",
    ")"
   ]
  },
  {
   "cell_type": "code",
   "execution_count": 110,
   "metadata": {},
   "outputs": [
    {
     "name": "stderr",
     "output_type": "stream",
     "text": [
      "INFO:sagemaker:Creating processing-job with name sagemaker-scikit-learn-2024-12-02-14-43-07-811\n"
     ]
    }
   ],
   "source": [
    "sklearn_processor.run(\n",
    "    code='./src/processing.py',\n",
    "    inputs=processing_inputs,\n",
    "    outputs=processing_outputs,\n",
    "    arguments=[\n",
    "        '--input-data', str(input_data.default_value),\n",
    "        '--output-data', str(output_data.default_value),\n",
    "        '--validation-split-percentage', str(validation_split_percentage.default_value),\n",
    "        '--test-split-percentage', str(test_split_percentage.default_value),\n",
    "        '--feature-store-offline-prefix', str(feature_store_offline_prefix.default_value),\n",
    "        '--feature-group-name', str(feature_group_name.default_value)\n",
    "    ],\n",
    "    wait=True,\n",
    "    logs=True,\n",
    ")"
   ]
  },
  {
   "cell_type": "code",
   "execution_count": 134,
   "metadata": {},
   "outputs": [
    {
     "name": "stdout",
     "output_type": "stream",
     "text": [
      "'s3://dairy-generative-formulation/sagemaker-scikit-learn-2024-12-02-14-43-07-811/output/dairy-generative-formulation-train'\n"
     ]
    }
   ],
   "source": [
    "from pprint import pprint\n",
    "\n",
    "pprint(sklearn_processor.latest_job.describe()['ProcessingOutputConfig']['Outputs'][0]['S3Output']['S3Uri'])"
   ]
  },
  {
   "cell_type": "code",
   "execution_count": 76,
   "metadata": {},
   "outputs": [],
   "source": [
    "# from sagemaker.workflow.steps import ProcessingStep\n",
    "\n",
    "\n",
    "# # ========================== Instanciate Processing Step ==========================\n",
    "# processing_step = ProcessingStep(\n",
    "#     name='DataProcessing',\n",
    "#     code='./src/processing.py',\n",
    "#     processor=sklearn_processor,\n",
    "#     inputs=processing_inputs,\n",
    "#     outputs=processing_outputs,\n",
    "#     job_arguments=[\n",
    "#         '--input-data', str(input_data.default_value),\n",
    "#         '--output-data', str(output_data.default_value),\n",
    "#         '--validation-split-percentage', str(validation_split_percentage.default_value),\n",
    "#         '--test-split-percentage', str(test_split_percentage.default_value),\n",
    "#         '--feature-store-offline-prefix', str(feature_store_offline_prefix.default_value),\n",
    "#         '--feature-group-name', str(feature_group_name.default_value)\n",
    "#     ]\n",
    "# )"
   ]
  },
  {
   "cell_type": "code",
   "execution_count": null,
   "metadata": {},
   "outputs": [],
   "source": [
    "# from pprint import pprint\n",
    "\n",
    "# pprint(processing_step.arguments['ProcessingOutputConfig'])"
   ]
  },
  {
   "cell_type": "markdown",
   "metadata": {},
   "source": [
    "### 2. Hyperparameter tuning step"
   ]
  },
  {
   "cell_type": "code",
   "execution_count": 8,
   "metadata": {},
   "outputs": [],
   "source": [
    "# ========================= Training resources =========================\n",
    "training_instance_type = 'ml.m5.large'\n",
    "training_instance_count = 1\n",
    "\n",
    "\n",
    "# ========================== training inputs ==========================\n",
    "objective = 'validation:rmse'\n",
    "metric_definitions = [\n",
    "    {'Name': 'validation:rmse', 'Regex': 'val_rmse: ([0-9.]+)'},\n",
    "    {'Name': 'validation:mse', 'Regex': 'val_mse: ([0-9.]+)'},\n",
    "    {'Name': 'validation:mae', 'Regex': 'val_mae: ([0-9.]+)'},\n",
    "    {'Name': 'validation:r2', 'Regex': 'val_r2: ([0-9.]+)'},\n",
    "]"
   ]
  },
  {
   "cell_type": "code",
   "execution_count": 21,
   "metadata": {},
   "outputs": [],
   "source": [
    "# =========================  Sensory attributes to loop on  =========================\n",
    "\n",
    "ModelTrainingPrefix = 'ModelTraining'\n",
    "\n",
    "sensory_attributes = [\n",
    "    'Flavor_intensity ',\n",
    "    'sweetness',\n",
    "    'Fruit_intensity',\n",
    "    'Chalkiness',\n",
    "    'Color_intensity',\n",
    "    'thickness',\n",
    "    'Coating',\n",
    "    'Global Appreciation'\n",
    "]"
   ]
  },
  {
   "cell_type": "code",
   "execution_count": null,
   "metadata": {},
   "outputs": [],
   "source": [
    "from sagemaker.parameter import IntegerParameter, CategoricalParameter, ContinuousParameter\n",
    "from sagemaker.sklearn.estimator import SKLearn\n",
    "from sagemaker.tuner import HyperparameterTuner\n",
    "from sagemaker.inputs import TrainingInput\n",
    "from sagemaker.workflow.steps import CacheConfig\n",
    "from sagemaker.workflow.steps import TuningStep, TrainingStep\n",
    "\n",
    "\n",
    "for attribute in sensory_attributes:\n",
    "    # =========================  Static hyperparameters =========================\n",
    "    static_hyperparameters = {\n",
    "        'random_state': 2024,\n",
    "        'sensory_output': attribute\n",
    "    }\n",
    "\n",
    "\n",
    "    # ==========================  Hyperparameter ranges ==========================\n",
    "\n",
    "    hyperparameter_ranges = {\n",
    "        'n_estimators': IntegerParameter(min_value=10, \n",
    "                                         max_value=200, \n",
    "                                         scaling_type='Logarithmic'),\n",
    "        \n",
    "        'max_depth': IntegerParameter(min_value=3, \n",
    "                                      max_value=10, \n",
    "                                      scaling_type='Linear'),\n",
    "        \n",
    "        'criterion': CategoricalParameter(values=['squared_error', 'friedman_mse'])\n",
    "    }\n",
    "\n",
    "\n",
    "    # =========================  Instanciate estimator  =========================\n",
    "    sklearn_estimator = SKLearn(\n",
    "        entry_point='./src/training.py',\n",
    "        framework_version=FRAMEWORK_VERSION,\n",
    "        instance_type=training_instance_type,\n",
    "        instance_count=training_instance_count,\n",
    "        role=role,\n",
    "        hyperparameters=static_hyperparameters,\n",
    "        #metric_definitions=metric_definitions\n",
    "    )\n",
    "\n",
    "\n",
    "    # =========================  Instanciate hyperparameter tuner  =========================\n",
    "    tuner = HyperparameterTuner(\n",
    "            estimator=sklearn_estimator,\n",
    "            hyperparameter_ranges=hyperparameter_ranges,\n",
    "            objective_metric_name=objective,\n",
    "            metric_definitions=metric_definitions,\n",
    "            strategy='Bayesian',\n",
    "            objective_type='Minimize',\n",
    "            max_jobs=15,\n",
    "            max_parallel_jobs=5,\n",
    "            autotune=True\n",
    "            OutputDataConfig={ \n",
    "             \"S3OutputPath\": os.path.join(bucket, ModelTrainingPrefix)\n",
    "        }\n",
    "    )\n",
    "\n",
    "\n",
    "    # ====================== Configure training/tuning inputs ======================\n",
    "    tuning_inputs = {\n",
    "        'train': TrainingInput(\n",
    "            s3_data='s3://dairy-generative-formulation/sagemaker-scikit-learn-2024-12-02-14-43-07-811/output/dairy-generative-formulation-train',\n",
    "            # s3_data=sklearn_processor.latest_job.describe()['ProcessingOutputConfig']['Outputs'][0]['S3Output']['S3Uri'],\n",
    "            content_type='text/csv',\n",
    "            input_mode='File'\n",
    "        ),\n",
    "        'validation': TrainingInput(\n",
    "            s3_data='s3://dairy-generative-formulation/sagemaker-scikit-learn-2024-12-02-14-43-07-811/output/dairy-generative-formulation-validation',\n",
    "            # s3_data=sklearn_processor.latest_job.describe()['ProcessingOutputConfig']['Outputs'][1]['S3Output']['S3Uri'],\n",
    "            content_type='text/csv',\n",
    "            input_mode='File'\n",
    "        )\n",
    "    }\n",
    "\n",
    "    print(\"Training model for output: {}\".format(attribute))\n",
    "    tuner.fit(\n",
    "        inputs=tuning_inputs, \n",
    "        wait=True, \n",
    "        logs=True\n",
    "    )\n",
    "    \n",
    "\n",
    "\n",
    "    # # ====================== Cache configuration  ======================\n",
    "    # cache_config = CacheConfig(enable_caching=True, expire_after=\"PT1H\") # PT1H represents `one hour`\n",
    "\n",
    "\n",
    "    # # ====================== Configure hyperparameter tuning step ======================\n",
    "    # tuning_step =TuningStep(\n",
    "    #     name='ModelTraining-{}'.format(attribute),\n",
    "    #     tuner=tuner,\n",
    "    #     inputs=tuning_inputs,\n",
    "    #     cache_config=cache_config\n",
    "    # )"
   ]
  },
  {
   "cell_type": "code",
   "execution_count": 23,
   "metadata": {},
   "outputs": [],
   "source": [
    "# tuner.stop_tuning_job()"
   ]
  }
 ],
 "metadata": {
  "kernelspec": {
   "display_name": "base",
   "language": "python",
   "name": "python3"
  },
  "language_info": {
   "codemirror_mode": {
    "name": "ipython",
    "version": 3
   },
   "file_extension": ".py",
   "mimetype": "text/x-python",
   "name": "python",
   "nbconvert_exporter": "python",
   "pygments_lexer": "ipython3",
   "version": "3.11.9"
  }
 },
 "nbformat": 4,
 "nbformat_minor": 2
}
