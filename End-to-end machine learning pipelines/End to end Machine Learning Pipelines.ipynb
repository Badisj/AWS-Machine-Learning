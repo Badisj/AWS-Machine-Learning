{
 "cells": [
  {
   "cell_type": "markdown",
   "id": "739a6640-13e3-4fe1-b36c-835aa0ec83b7",
   "metadata": {},
   "source": [
    "# Machine Learning Pipelines\n",
    "\n",
    "## Machine Learning Orchestration with Amazon SageMaker Pipelines"
   ]
  },
  {
   "cell_type": "code",
   "execution_count": 1,
   "id": "16a88d5d-3e87-42e0-bac9-f534a07b685a",
   "metadata": {},
   "outputs": [
    {
     "name": "stdout",
     "output_type": "stream",
     "text": [
      "sagemaker.config INFO - Not applying SDK defaults from location: /etc/xdg/sagemaker/config.yaml\n",
      "sagemaker.config INFO - Not applying SDK defaults from location: /home/sagemaker-user/.config/sagemaker/config.yaml\n"
     ]
    }
   ],
   "source": [
    "import os\n",
    "import sagemaker\n",
    "import logging\n",
    "import boto3\n",
    "import time\n",
    "import pandas as pd\n",
    "import json\n",
    "import botocore\n",
    "from botocore.exceptions import ClientError\n",
    "\n",
    "\n",
    "# ========================== low-level service client of the boto3 session ==========================\n",
    "config = botocore.config.Config(user_agent_extra='bedissj-1699438736259')\n",
    "\n",
    "\n",
    "sm = boto3.client(service_name='sagemaker', \n",
    "                  config=config)\n",
    "\n",
    "sm_runtime = boto3.client('sagemaker-runtime',\n",
    "                          config=config)\n",
    "\n",
    "sess = sagemaker.Session(sagemaker_client=sm,\n",
    "                         sagemaker_runtime_client=sm_runtime)\n",
    "\n",
    "bucket = sess.default_bucket()\n",
    "role = sagemaker.get_execution_role()\n",
    "region = sess.boto_region_name\n"
   ]
  },
  {
   "cell_type": "markdown",
   "id": "eaf262ef-319f-4368-906c-e306f4939f6d",
   "metadata": {},
   "source": [
    "## 1. Configure Data Processing Step"
   ]
  },
  {
   "cell_type": "code",
   "execution_count": 3,
   "id": "5143530c-1fa3-47e0-9e1f-8c4091707e68",
   "metadata": {},
   "outputs": [],
   "source": [
    "raw_data_s3_uri = f's3://{bucket}/data/transformed_querying/month1'\n"
   ]
  },
  {
   "cell_type": "code",
   "execution_count": 4,
   "id": "3c138c6d-b318-4fef-8184-25aaccb45686",
   "metadata": {
    "tags": []
   },
   "outputs": [],
   "source": [
    "from sagemaker.workflow.parameters import ParameterFloat, ParameterInteger, ParameterString\n",
    "\n",
    "\n",
    "# ========================== Processing parameters ==========================\n",
    "input_data = ParameterString(\n",
    "    name='input-data',\n",
    "    default_value='/opt/ml/processing/input/data'\n",
    ")\n",
    "\n",
    "\n",
    "output_data = ParameterString(\n",
    "    name='output-data',\n",
    "    default_value='/opt/ml/processing/output'\n",
    ")\n",
    "\n",
    "\n",
    "validation_split_percentage = ParameterFloat(\n",
    "    name='validation-split-percentage',\n",
    "    default_value=0.1\n",
    ")\n",
    "\n",
    "\n",
    "test_split_percentage = ParameterFloat(\n",
    "    name='test-split-percentage',\n",
    "    default_value=0.2\n",
    ")\n",
    "\n",
    "\n",
    "feature_group_name = ParameterString(\n",
    "    name='feature-group-name',\n",
    "    default_value='bank-churn-mon1-feature-group-{}'\n",
    ")\n",
    "\n",
    "\n",
    "feature_store_offline_prefix = ParameterString(\n",
    "    name='feature-store-offline-prefix',\n",
    "    default_value=None\n",
    ")\n"
   ]
  },
  {
   "cell_type": "code",
   "execution_count": 5,
   "id": "92f32c64-d3d8-4932-a3fa-a818298bea65",
   "metadata": {},
   "outputs": [],
   "source": [
    "from sagemaker.processing import ProcessingInput, ProcessingOutput\n",
    "\n",
    "\n",
    "# ========================== Processing Inputs ==========================\n",
    "processing_inputs = [ProcessingInput(input_name='bank-churn-mon1-raw-data',\n",
    "                                     source=raw_data_s3_uri, \n",
    "                                     destination=input_data.default_value,\n",
    "                                     s3_data_distribution_type='ShardedByS3Key')]\n",
    "\n",
    "\n",
    "\n",
    "# ========================== Processing Outputs ==========================\n",
    "output_data_train = output_data.default_value + '/train'\n",
    "output_data_validation = output_data.default_value + '/validation'\n",
    "output_data_test = output_data.default_value + '/test'\n",
    "output_encoder = output_data.default_value + '/encoders'\n",
    "\n",
    "\n",
    "\n",
    "processing_outputs = [\n",
    "    ProcessingOutput(output_name='bank-churn-mon1-train',\n",
    "                     source=output_data_train,\n",
    "                     s3_upload_mode='EndOfJob'),\n",
    "    \n",
    "    ProcessingOutput(source=output_data_validation,\n",
    "                    output_name='bank-churn-mon1-validation',\n",
    "                    s3_upload_mode='EndOfJob'),\n",
    "    \n",
    "    ProcessingOutput(source=output_data_test,\n",
    "                    output_name='bank-churn-mon1-test',\n",
    "                    s3_upload_mode='EndOfJob'),\n",
    "    \n",
    "    ProcessingOutput(source=output_encoder,\n",
    "                    output_name='bank-churn-mon1-encoder',\n",
    "                    s3_upload_mode='EndOfJob')\n",
    "]"
   ]
  },
  {
   "cell_type": "code",
   "execution_count": 6,
   "id": "b8723bdd-f417-428a-8c7c-8f3c1976a94c",
   "metadata": {},
   "outputs": [],
   "source": [
    "from sagemaker.sklearn.processing import SKLearnProcessor\n",
    "\n",
    "\n",
    "# ========================== Processing Parameters ==========================\n",
    "FRAMEWORK_VERSION = '1.0-1'\n",
    "processing_instance_type = 'ml.t3.medium'\n",
    "processing_instance_count = 1\n",
    "\n",
    "\n",
    "\n",
    "# ========================== Instanciate SKLearn Processor ==========================\n",
    "\n",
    "sklearn_processor = SKLearnProcessor(\n",
    "    framework_version=FRAMEWORK_VERSION,\n",
    "    role=role,\n",
    "    instance_type=processing_instance_type,\n",
    "    instance_count = processing_instance_count,\n",
    "    env={'AWS_DEFAULT_REGION': region}\n",
    ")\n"
   ]
  },
  {
   "cell_type": "code",
   "execution_count": 7,
   "id": "d4ebee8c-538f-4b67-b2fc-a6285bbcc8b8",
   "metadata": {
    "tags": []
   },
   "outputs": [],
   "source": [
    "from sagemaker.workflow.steps import ProcessingStep\n",
    "\n",
    "\n",
    "processing_step = ProcessingStep(\n",
    "    name='DataProcessing',\n",
    "    code='./src/processing.py',\n",
    "    processor=sklearn_processor,\n",
    "    inputs=processing_inputs,\n",
    "    outputs=processing_outputs,\n",
    "    job_arguments=[\n",
    "        '--input-data', str(input_data.default_value),\n",
    "        '--output-data', str(output_data.default_value),\n",
    "        '--validation-split-percentage', str(validation_split_percentage.default_value),\n",
    "        '--test-split-percentage', str(test_split_percentage.default_value),\n",
    "        '--feature-store-offline-prefix', str(feature_store_offline_prefix.default_value),\n",
    "        '--feature-group-name', str(feature_group_name.default_value)\n",
    "    ]\n",
    ")\n"
   ]
  },
  {
   "cell_type": "code",
   "execution_count": 8,
   "id": "3b434261-fddf-4b75-a821-bd4f6fde6d4b",
   "metadata": {
    "tags": []
   },
   "outputs": [
    {
     "name": "stderr",
     "output_type": "stream",
     "text": [
      "Popping out 'ProcessingJobName' from the pipeline definition by default since it will be overridden at pipeline execution time. Please utilize the PipelineDefinitionConfig to persist this field in the pipeline definition if desired.\n"
     ]
    },
    {
     "name": "stdout",
     "output_type": "stream",
     "text": [
      "['ProcessingResources',\n",
      " 'AppSpecification',\n",
      " 'RoleArn',\n",
      " 'ProcessingInputs',\n",
      " 'ProcessingOutputConfig',\n",
      " 'Environment']\n"
     ]
    }
   ],
   "source": [
    "from pprint import pprint\n",
    "\n",
    "pprint(list(processing_step.arguments.keys()))"
   ]
  },
  {
   "cell_type": "code",
   "execution_count": 9,
   "id": "904d2095-b79b-4a0c-8658-5baa6ef6b5c6",
   "metadata": {
    "tags": []
   },
   "outputs": [
    {
     "name": "stderr",
     "output_type": "stream",
     "text": [
      "Popping out 'ProcessingJobName' from the pipeline definition by default since it will be overridden at pipeline execution time. Please utilize the PipelineDefinitionConfig to persist this field in the pipeline definition if desired.\n"
     ]
    },
    {
     "name": "stdout",
     "output_type": "stream",
     "text": [
      "[{'AppManaged': False,\n",
      "  'InputName': 'bank-churn-mon1-raw-data',\n",
      "  'S3Input': {'LocalPath': '/opt/ml/processing/input/data',\n",
      "              'S3CompressionType': 'None',\n",
      "              'S3DataDistributionType': 'ShardedByS3Key',\n",
      "              'S3DataType': 'S3Prefix',\n",
      "              'S3InputMode': 'File',\n",
      "              'S3Uri': 's3://sagemaker-eu-west-3-668303144976/data/transformed_querying/month1'}},\n",
      " {'AppManaged': False,\n",
      "  'InputName': 'code',\n",
      "  'S3Input': {'LocalPath': '/opt/ml/processing/input/code',\n",
      "              'S3CompressionType': 'None',\n",
      "              'S3DataDistributionType': 'FullyReplicated',\n",
      "              'S3DataType': 'S3Prefix',\n",
      "              'S3InputMode': 'File',\n",
      "              'S3Uri': 's3://sagemaker-eu-west-3-668303144976/DataProcessing-87817bb2d85a0748c95fba8dae5719b4/input/code/processing.py'}}]\n"
     ]
    }
   ],
   "source": [
    "pprint(processing_step.arguments['ProcessingInputs'])"
   ]
  },
  {
   "cell_type": "code",
   "execution_count": 10,
   "id": "f2cd153c-5eaf-4098-9e62-316d71331a3e",
   "metadata": {
    "tags": []
   },
   "outputs": [
    {
     "name": "stderr",
     "output_type": "stream",
     "text": [
      "Popping out 'ProcessingJobName' from the pipeline definition by default since it will be overridden at pipeline execution time. Please utilize the PipelineDefinitionConfig to persist this field in the pipeline definition if desired.\n"
     ]
    },
    {
     "name": "stdout",
     "output_type": "stream",
     "text": [
      "{'Outputs': [{'AppManaged': False,\n",
      "              'OutputName': 'bank-churn-mon1-train',\n",
      "              'S3Output': {'LocalPath': '/opt/ml/processing/output/train',\n",
      "                           'S3UploadMode': 'EndOfJob',\n",
      "                           'S3Uri': 's3://sagemaker-eu-west-3-668303144976/DataProcessing-87817bb2d85a0748c95fba8dae5719b4/output/bank-churn-mon1-train'}},\n",
      "             {'AppManaged': False,\n",
      "              'OutputName': 'bank-churn-mon1-validation',\n",
      "              'S3Output': {'LocalPath': '/opt/ml/processing/output/validation',\n",
      "                           'S3UploadMode': 'EndOfJob',\n",
      "                           'S3Uri': 's3://sagemaker-eu-west-3-668303144976/DataProcessing-87817bb2d85a0748c95fba8dae5719b4/output/bank-churn-mon1-validation'}},\n",
      "             {'AppManaged': False,\n",
      "              'OutputName': 'bank-churn-mon1-test',\n",
      "              'S3Output': {'LocalPath': '/opt/ml/processing/output/test',\n",
      "                           'S3UploadMode': 'EndOfJob',\n",
      "                           'S3Uri': 's3://sagemaker-eu-west-3-668303144976/DataProcessing-87817bb2d85a0748c95fba8dae5719b4/output/bank-churn-mon1-test'}},\n",
      "             {'AppManaged': False,\n",
      "              'OutputName': 'bank-churn-mon1-encoder',\n",
      "              'S3Output': {'LocalPath': '/opt/ml/processing/output/encoders',\n",
      "                           'S3UploadMode': 'EndOfJob',\n",
      "                           'S3Uri': 's3://sagemaker-eu-west-3-668303144976/DataProcessing-87817bb2d85a0748c95fba8dae5719b4/output/bank-churn-mon1-encoder'}}]}\n"
     ]
    }
   ],
   "source": [
    "pprint(processing_step.arguments['ProcessingOutputConfig'])"
   ]
  },
  {
   "cell_type": "code",
   "execution_count": 11,
   "id": "dcb94018-8ca0-42e4-be3a-9976620dcf6d",
   "metadata": {
    "tags": []
   },
   "outputs": [
    {
     "name": "stderr",
     "output_type": "stream",
     "text": [
      "Popping out 'ProcessingJobName' from the pipeline definition by default since it will be overridden at pipeline execution time. Please utilize the PipelineDefinitionConfig to persist this field in the pipeline definition if desired.\n"
     ]
    },
    {
     "name": "stdout",
     "output_type": "stream",
     "text": [
      "{'ClusterConfig': {'InstanceCount': 1,\n",
      "                   'InstanceType': 'ml.t3.medium',\n",
      "                   'VolumeSizeInGB': 30}}\n"
     ]
    }
   ],
   "source": [
    "pprint(processing_step.arguments['ProcessingResources'])"
   ]
  },
  {
   "cell_type": "markdown",
   "id": "7f4fb005-bb9a-4108-bb8b-b94f09f61591",
   "metadata": {},
   "source": [
    "## 2. Configure Training Step"
   ]
  },
  {
   "cell_type": "code",
   "execution_count": 12,
   "id": "45701a7a-ec10-4931-bc67-66c258197471",
   "metadata": {
    "tags": []
   },
   "outputs": [],
   "source": [
    "# ========================= Training resources =========================\n",
    "training_instance_type = 'ml.m5.large'\n",
    "training_instance_count = 1\n",
    "\n",
    "\n",
    "# ========================== training inputs ==========================\n",
    "objective = 'validation:accuracy'\n",
    "metric_definitions = [\n",
    "    {'Name': 'validation:precision', 'Regex': 'val_precision: ([0-9.]+)'},\n",
    "    {'Name': 'validation:recall', 'Regex': 'val_recall: ([0-9.]+)'},\n",
    "    {'Name': 'validation:f1Score', 'Regex': 'val_f1score: ([0-9.]+)'},\n",
    "    {'Name': 'validation:ROCAUC', 'Regex': 'val_roc_auc: ([0-9.]+)'},\n",
    "    {'Name': 'validation:accuracy', 'Regex': 'val_accuracy: ([0-9.]+)'}\n",
    "]\n"
   ]
  },
  {
   "cell_type": "code",
   "execution_count": 13,
   "id": "aa2d4a55-e2f0-4179-ae39-d50f145b5575",
   "metadata": {
    "tags": []
   },
   "outputs": [],
   "source": [
    "from sagemaker.parameter import IntegerParameter, CategoricalParameter, ContinuousParameter\n",
    "\n",
    "\n",
    "# =========================  Static hyperparameters =========================\n",
    "random_state = ParameterInteger(\n",
    "    name='random-state',\n",
    "    default_value=2024\n",
    ")\n",
    "\n",
    "static_hyperparameters = {\n",
    "    'random_state': random_state\n",
    "}\n",
    "\n",
    "# ==========================  Hyperparameter ranges ==========================\n",
    "\n",
    "hyperparameter_ranges = {\n",
    "    'n_estimators': IntegerParameter(min_value=10, \n",
    "                                     max_value=200, \n",
    "                                     scaling_type='Logarithmic'),\n",
    "    \n",
    "    'max_depth': IntegerParameter(min_value=3, \n",
    "                                  max_value=10, \n",
    "                                  scaling_type='Linear'),\n",
    "    \n",
    "    'criterion': CategoricalParameter(values=['gini', 'entropy'])\n",
    "}\n"
   ]
  },
  {
   "cell_type": "code",
   "execution_count": 14,
   "id": "a34f31f9-f2c5-4776-8eda-48424a72be2e",
   "metadata": {
    "tags": []
   },
   "outputs": [],
   "source": [
    "from sagemaker.sklearn.estimator import SKLearn\n",
    "\n",
    "\n",
    "# =========================  Instanciate estimator  =========================\n",
    "sklearn_estimator = SKLearn(\n",
    "    entry_point='./src/training.py',\n",
    "    framework_version=FRAMEWORK_VERSION,\n",
    "    instance_type=training_instance_type,\n",
    "    instance_count=training_instance_count,\n",
    "    role=role,\n",
    "    hyperparameters=static_hyperparameters,\n",
    "    metric_definitions=metric_definitions\n",
    ")\n"
   ]
  },
  {
   "cell_type": "code",
   "execution_count": 15,
   "id": "c9bdc5e9-a300-4dfa-8c0e-b1a3bedf6587",
   "metadata": {
    "tags": []
   },
   "outputs": [],
   "source": [
    "from sagemaker.tuner import HyperparameterTuner\n",
    "\n",
    "\n",
    "# =========================  Instanciate hyperparameter tuner  =========================\n",
    "tuner = HyperparameterTuner(\n",
    "        estimator=sklearn_estimator,\n",
    "        hyperparameter_ranges=hyperparameter_ranges,\n",
    "        objective_metric_name=objective,\n",
    "        metric_definitions=metric_definitions,\n",
    "        strategy='Bayesian',\n",
    "        objective_type='Maximize',\n",
    "        max_jobs=10,\n",
    "        max_parallel_jobs=2,\n",
    "        # autotune=True\n",
    ")\n"
   ]
  },
  {
   "cell_type": "code",
   "execution_count": 16,
   "id": "d011f51d-fd96-4763-890d-47887fd21099",
   "metadata": {
    "tags": []
   },
   "outputs": [],
   "source": [
    "from sagemaker.inputs import TrainingInput\n",
    "\n",
    "\n",
    "# ====================== Configure training/tuning inputs ======================\n",
    "tuning_inputs = {\n",
    "    'train': TrainingInput(\n",
    "        s3_data=processing_step.properties.ProcessingOutputConfig.Outputs[\n",
    "            'bank-churn-mon1-train'\n",
    "        ].S3Output.S3Uri,\n",
    "        content_type='text/csv'),\n",
    "    \n",
    "    \n",
    "    'validation': TrainingInput(\n",
    "        s3_data=processing_step.properties.ProcessingOutputConfig.Outputs[\n",
    "            'bank-churn-mon1-validation'\n",
    "        ].S3Output.S3Uri,\n",
    "        content_type='text/csv'\n",
    "    )\n",
    "}"
   ]
  },
  {
   "cell_type": "code",
   "execution_count": 17,
   "id": "f2ee747a-31c6-4109-a115-2ab8383414ca",
   "metadata": {
    "tags": []
   },
   "outputs": [],
   "source": [
    "from sagemaker.workflow.steps import CacheConfig\n",
    "\n",
    "cache_config = CacheConfig(enable_caching=True, expire_after=\"PT1H\") # PT1H represents `one hour`"
   ]
  },
  {
   "cell_type": "code",
   "execution_count": 18,
   "id": "144ad7eb-4675-4029-a147-0d8c0d6c4842",
   "metadata": {},
   "outputs": [],
   "source": [
    "from sagemaker.workflow.steps import TuningStep, TrainingStep\n",
    "\n",
    "# Hyperparameter tuning\n",
    "tuning_step =TuningStep(\n",
    "    name='ModelTraining',\n",
    "    tuner=tuner,\n",
    "    inputs=tuning_inputs,\n",
    "    cache_config=cache_config\n",
    ")\n",
    "\n",
    "\n",
    "# # Simple training\n",
    "# tuning_step =TrainingStep(\n",
    "#     name='SimpleTraining',\n",
    "#     estimator=sklearn_estimator,\n",
    "#     inputs=tuning_inputs,\n",
    "#     cache_config=cache_config\n",
    "# )\n"
   ]
  },
  {
   "cell_type": "code",
   "execution_count": 19,
   "id": "65c0edd5-85d0-4110-aebc-c665db904d7c",
   "metadata": {
    "tags": []
   },
   "outputs": [
    {
     "data": {
      "text/plain": [
       "dict_keys(['_step', 'step_name', 'path', '_shape_names', 'HyperParameterTuningJobName', 'HyperParameterTuningJobArn', 'HyperParameterTuningJobConfig', 'TrainingJobDefinition', 'TrainingJobDefinitions', 'HyperParameterTuningJobStatus', 'CreationTime', 'HyperParameterTuningEndTime', 'LastModifiedTime', 'TrainingJobStatusCounters', 'ObjectiveStatusCounters', 'BestTrainingJob', 'OverallBestTrainingJob', 'WarmStartConfig', 'Autotune', 'FailureReason', 'TuningJobCompletionDetails', 'ConsumedResources', 'TrainingJobSummaries', 'NextToken'])"
      ]
     },
     "execution_count": 19,
     "metadata": {},
     "output_type": "execute_result"
    }
   ],
   "source": [
    "tuning_step.properties.__dict__.keys()"
   ]
  },
  {
   "cell_type": "code",
   "execution_count": 20,
   "id": "fb92ee67-ac8b-491e-9407-c7a499a055d0",
   "metadata": {
    "tags": []
   },
   "outputs": [
    {
     "data": {
      "text/plain": [
       "dict_keys(['_step', 'step_name', 'path', '_shape_names', 'DefinitionName', 'TuningObjective', 'HyperParameterRanges', 'StaticHyperParameters', 'AlgorithmSpecification', 'RoleArn', 'InputDataConfig', 'VpcConfig', 'OutputDataConfig', 'ResourceConfig', 'HyperParameterTuningResourceConfig', 'StoppingCondition', 'EnableNetworkIsolation', 'EnableInterContainerTrafficEncryption', 'EnableManagedSpotTraining', 'CheckpointConfig', 'RetryStrategy', 'Environment'])"
      ]
     },
     "execution_count": 20,
     "metadata": {},
     "output_type": "execute_result"
    }
   ],
   "source": [
    "tuning_step.properties.TrainingJobDefinition.__dict__.keys()"
   ]
  },
  {
   "cell_type": "code",
   "execution_count": 21,
   "id": "2894c6f8-e5f5-4269-abdb-cb032b56b534",
   "metadata": {
    "tags": []
   },
   "outputs": [],
   "source": [
    "# tuning_step.properties.properties.ModelArtifacts.S3ModelArtifacts"
   ]
  },
  {
   "cell_type": "markdown",
   "id": "9ec52b72-3a29-4299-8c84-0dc6ab79a11d",
   "metadata": {},
   "source": [
    "## 3. Configure model evaluation step"
   ]
  },
  {
   "cell_type": "code",
   "execution_count": 22,
   "id": "200d4b08-efb3-4b5a-847c-1d2489794156",
   "metadata": {
    "tags": []
   },
   "outputs": [],
   "source": [
    "evaluation_processor = SKLearnProcessor(\n",
    "    framework_version=FRAMEWORK_VERSION,\n",
    "    role=role,\n",
    "    instance_type=processing_instance_type,\n",
    "    instance_count = processing_instance_count,\n",
    "    env={'AWS_DEFAULT_REGION': region}  \n",
    ")\n"
   ]
  },
  {
   "cell_type": "code",
   "execution_count": 23,
   "id": "6dec1b58-6bea-438f-a56b-e5e0d6e33b88",
   "metadata": {
    "tags": []
   },
   "outputs": [],
   "source": [
    "from sagemaker.workflow.properties import PropertyFile\n",
    "\n",
    "\n",
    "evaluation_metrics = PropertyFile(\n",
    "    name='EvaluationReport',\n",
    "    output_name='metrics',\n",
    "    path='evaluation.json'\n",
    ")\n"
   ]
  },
  {
   "cell_type": "code",
   "execution_count": 24,
   "id": "b434b276-9c1b-4d06-b990-0d2ff72c0674",
   "metadata": {
    "tags": []
   },
   "outputs": [],
   "source": [
    "evaluation_step = ProcessingStep(\n",
    "    name='EvaluateMetrics',\n",
    "    code='./src/evaluate_metrics.py',\n",
    "    processor=evaluation_processor,\n",
    "    inputs=[\n",
    "        ProcessingInput(\n",
    "            source=tuning_step.get_top_model_s3_uri(top_k=0, s3_bucket=bucket),\n",
    "            # source=tuning_step.properties.ModelArtifacts.S3ModelArtifacts,\n",
    "            destination='/opt/ml/processing/input/model'\n",
    "        ),\n",
    "        ProcessingInput(\n",
    "            source=processing_step.properties.ProcessingOutputConfig.Outputs[\n",
    "                'bank-churn-mon1-test'\n",
    "            ].S3Output.S3Uri,\n",
    "            destination='/opt/ml/processing/input/data'\n",
    "        )\n",
    "    ],\n",
    "    outputs = [\n",
    "        ProcessingOutput(\n",
    "            output_name='metrics',\n",
    "            s3_upload_mode='EndOfJob',\n",
    "            source='/opt/ml/processing/output/metrics/'\n",
    "        )\n",
    "    ],\n",
    "    property_files=[evaluation_metrics]\n",
    "    # job_arguments=None\n",
    ")\n"
   ]
  },
  {
   "cell_type": "code",
   "execution_count": 25,
   "id": "d12eb2cf-6415-4435-951d-359aaf1868af",
   "metadata": {
    "tags": []
   },
   "outputs": [
    {
     "name": "stderr",
     "output_type": "stream",
     "text": [
      "Popping out 'ProcessingJobName' from the pipeline definition by default since it will be overridden at pipeline execution time. Please utilize the PipelineDefinitionConfig to persist this field in the pipeline definition if desired.\n"
     ]
    },
    {
     "data": {
      "text/plain": [
       "'s3://sagemaker-eu-west-3-668303144976/EvaluateMetrics-558cc2049391644b997c852ef17938f9/output/metrics'"
      ]
     },
     "execution_count": 25,
     "metadata": {},
     "output_type": "execute_result"
    }
   ],
   "source": [
    "evaluation_step.arguments['ProcessingOutputConfig']['Outputs'][0]['S3Output']['S3Uri']"
   ]
  },
  {
   "cell_type": "markdown",
   "id": "f02e052c-a535-41aa-aeab-4502e7cdb936",
   "metadata": {},
   "source": [
    "## 4. Configure model registry step"
   ]
  },
  {
   "attachments": {
    "67f6ffe3-29b7-477b-b5e8-db51911c36a2.png": {
     "image/png": "[encoded data removed]"
    }
   },
   "cell_type": "markdown",
   "id": "d01331cc-79a6-43fd-97f0-24b474c88b29",
   "metadata": {},
   "source": [
    "![model_registry.png](attachment:67f6ffe3-29b7-477b-b5e8-db51911c36a2.png)"
   ]
  },
  {
   "cell_type": "code",
   "execution_count": 26,
   "id": "ba4615e0-4d7f-4076-932e-69a3f73774ec",
   "metadata": {
    "tags": []
   },
   "outputs": [],
   "source": [
    "model_package_group_name = 'churn-month1-pipeline'\n",
    "\n",
    "\n",
    "model_approval_status = ParameterString(\n",
    "    name=\"ModelApprovalStatus\",\n",
    "    default_value=\"PendingManualApproval\"\n",
    ")\n",
    "\n",
    "\n",
    "deploy_instance_type = ParameterString(\n",
    "    name=\"DeployInstanceType\",\n",
    "    default_value=\"ml.m5.large\"\n",
    ")\n",
    "\n",
    "\n",
    "deploy_instance_count = ParameterInteger(\n",
    "    name=\"DeployInstanceCount\",\n",
    "    default_value=1\n",
    ")"
   ]
  },
  {
   "cell_type": "code",
   "execution_count": 27,
   "id": "4ea078ef-303c-4790-9ffe-3d7ca634bc96",
   "metadata": {
    "tags": []
   },
   "outputs": [
    {
     "name": "stderr",
     "output_type": "stream",
     "text": [
      "The input argument instance_type of function (sagemaker.image_uris.retrieve) is a pipeline variable (<class 'sagemaker.workflow.parameters.ParameterString'>), which is interpreted in pipeline execution time only. As the function needs to evaluate the argument value in SDK compile time, the default_value of this Parameter object will be used to override it. Please make sure the default_value is valid.\n"
     ]
    }
   ],
   "source": [
    "churn_inference_image_uri = sagemaker.image_uris.retrieve(\n",
    "    framework='sklearn',\n",
    "    version=FRAMEWORK_VERSION,\n",
    "    instance_type=deploy_instance_type,\n",
    "    image_scope=\"inference\",\n",
    "    region=region\n",
    ")"
   ]
  },
  {
   "cell_type": "code",
   "execution_count": 28,
   "id": "237ba905-f231-45fb-9076-9f869e8749a4",
   "metadata": {},
   "outputs": [
    {
     "name": "stderr",
     "output_type": "stream",
     "text": [
      "Popping out 'ProcessingJobName' from the pipeline definition by default since it will be overridden at pipeline execution time. Please utilize the PipelineDefinitionConfig to persist this field in the pipeline definition if desired.\n"
     ]
    },
    {
     "data": {
      "text/plain": [
       "<sagemaker.model_metrics.MetricsSource at 0x7f08c178edd0>"
      ]
     },
     "execution_count": 28,
     "metadata": {},
     "output_type": "execute_result"
    }
   ],
   "source": [
    "from sagemaker.model_metrics import MetricsSource, ModelMetrics\n",
    "\n",
    "\n",
    "model_metrics = ModelMetrics(\n",
    "    model_statistics=MetricsSource(\n",
    "        s3_uri='{}/evaluation.json'.format(\n",
    "            evaluation_step.arguments['ProcessingOutputConfig']['Outputs'][0]['S3Output']['S3Uri']\n",
    "        ),\n",
    "        content_type='application/json'\n",
    "    )\n",
    ")\n",
    "\n",
    "model_metrics.model_statistics"
   ]
  },
  {
   "cell_type": "code",
   "execution_count": 29,
   "id": "609d9fe1-6d74-4224-a104-b6a3951fb64f",
   "metadata": {},
   "outputs": [],
   "source": [
    "from sagemaker.workflow.step_collections import RegisterModel\n",
    "\n",
    "\n",
    "register_step = RegisterModel(\n",
    "    name='RegisterModel',\n",
    "    estimator=sklearn_estimator,\n",
    "    image_uri=churn_inference_image_uri,\n",
    "    inference_instances=[deploy_instance_type],\n",
    "    transform_instances=[deploy_instance_type],\n",
    "    model_data=tuning_step.get_top_model_s3_uri(top_k=0, s3_bucket=bucket),\n",
    "    # model_data=tuning_step.properties.ModelArtifacts.S3ModelArtifacts,\n",
    "    model_package_group_name=model_package_group_name,\n",
    "    model_metrics=model_metrics,\n",
    "    approval_status=model_approval_status,\n",
    "    content_types=['text/csv'],\n",
    "    response_types=['text/csv'],\n",
    ")"
   ]
  },
  {
   "cell_type": "markdown",
   "id": "31740932-5567-4f29-8681-cc09bdeb4fd8",
   "metadata": {},
   "source": [
    "## 5. Create model for model deployment step"
   ]
  },
  {
   "cell_type": "code",
   "execution_count": 31,
   "id": "2d16e91d-ea20-4e79-ab94-095a68407dcc",
   "metadata": {
    "tags": []
   },
   "outputs": [],
   "source": [
    "import time\n",
    "from sagemaker.model import Model\n",
    "\n",
    "\n",
    "timestamp = int(time.time())\n",
    "model_name = 'churn-month1-{}'.format(timestamp)\n",
    "\n",
    "\n",
    "model = Model(\n",
    "    name=model_name,\n",
    "    entry_point='./src/inference.py',\n",
    "    image_uri=churn_inference_image_uri,\n",
    "    model_data=tuning_step.get_top_model_s3_uri(top_k=0, s3_bucket=bucket),\n",
    "    # model_data=tuning_step.properties.ModelArtifacts.S3ModelArtifacts,\n",
    "    sagemaker_session=sess,\n",
    "    role=role,\n",
    ")"
   ]
  },
  {
   "cell_type": "code",
   "execution_count": 32,
   "id": "04026c25-c97c-4d84-8098-9223a010370e",
   "metadata": {
    "tags": []
   },
   "outputs": [],
   "source": [
    "from sagemaker.inputs import CreateModelInput\n",
    "\n",
    "model_inputs = CreateModelInput(\n",
    "    instance_type=deploy_instance_type\n",
    ")"
   ]
  },
  {
   "cell_type": "code",
   "execution_count": 33,
   "id": "e6e8c25b-3c55-44d4-b9d9-ce8fde9f0337",
   "metadata": {
    "tags": []
   },
   "outputs": [],
   "source": [
    "from sagemaker.workflow.steps import CreateModelStep\n",
    "\n",
    "\n",
    "create_model_step = CreateModelStep(\n",
    "    name='CreateModel',\n",
    "    model=model,\n",
    "    inputs=model_inputs\n",
    ")"
   ]
  },
  {
   "cell_type": "markdown",
   "id": "8728d46a-9fa0-49ae-90c4-322e5d91e28f",
   "metadata": {},
   "source": [
    "## 6. Check model accuracy condition step"
   ]
  },
  {
   "attachments": {
    "2c1995e4-8da0-43ae-a01c-ca35321aecc7.png": {
     "image/png": "[encoded data removed]"
    }
   },
   "cell_type": "markdown",
   "id": "4180c539-d1e2-44c1-8ae3-bca8ee000ec9",
   "metadata": {},
   "source": [
    "![pipeline_definition.png](attachment:2c1995e4-8da0-43ae-a01c-ca35321aecc7.png)"
   ]
  },
  {
   "cell_type": "code",
   "execution_count": 34,
   "id": "8d0c0906-cbae-439b-a294-cda707f334ae",
   "metadata": {
    "tags": []
   },
   "outputs": [],
   "source": [
    "from sagemaker.workflow.conditions import ConditionGreaterThanOrEqualTo\n",
    "from sagemaker.workflow.functions import JsonGet\n",
    "\n",
    "\n",
    "minimum_accuracy_value = ParameterFloat(\n",
    "    name='MinimumAccuracy',\n",
    "    default_value=0.70\n",
    ")\n",
    "\n",
    "\n",
    "minimum_accuracy_condition = ConditionGreaterThanOrEqualTo(\n",
    "    left=JsonGet(\n",
    "        step_name=evaluation_step.name,\n",
    "        step=evaluation_step,\n",
    "        property_file=evaluation_metrics,\n",
    "        json_path=\"metrics.accuracy.value\"\n",
    "    ),\n",
    "    \n",
    "    right=minimum_accuracy_value\n",
    ")"
   ]
  },
  {
   "cell_type": "code",
   "execution_count": 35,
   "id": "84c97654-0d2b-46ca-ad33-636873ea5b71",
   "metadata": {
    "tags": []
   },
   "outputs": [],
   "source": [
    "from sagemaker.workflow.condition_step import ConditionStep\n",
    "\n",
    "\n",
    "condition_step = ConditionStep(\n",
    "    name='MinimumAccuracyCondition',\n",
    "    conditions=[minimum_accuracy_condition],\n",
    "    if_steps=[register_step, create_model_step],\n",
    "    else_steps = []\n",
    ")\n"
   ]
  },
  {
   "cell_type": "markdown",
   "id": "c6c578cd-7a90-490c-a4a9-03f01ad62d9c",
   "metadata": {},
   "source": [
    "## 7. Create pipeline\n",
    "### 7.1 Define pipeline parameters, steps and conditions"
   ]
  },
  {
   "cell_type": "code",
   "execution_count": 36,
   "id": "110c8052-ee90-44c7-9aac-d5ad9a28bcc4",
   "metadata": {
    "tags": []
   },
   "outputs": [],
   "source": [
    "timestamp = int(time.time())\n",
    "pipeline_name = 'churn-month1-pipeline-{}'.format(timestamp)\n",
    "\n",
    "pipeline_parameters = [\n",
    "    input_data,\n",
    "    output_data,\n",
    "    random_state,\n",
    "    processing_instance_type,\n",
    "    processing_instance_count,\n",
    "    training_instance_type,\n",
    "    training_instance_count,\n",
    "    validation_split_percentage,\n",
    "    test_split_percentage,\n",
    "    feature_group_name,\n",
    "    model_approval_status,\n",
    "    deploy_instance_count,\n",
    "    deploy_instance_type,\n",
    "    minimum_accuracy_value\n",
    "]"
   ]
  },
  {
   "cell_type": "code",
   "execution_count": 37,
   "id": "0c33d19b-c030-42d5-8380-86472209f8ca",
   "metadata": {
    "tags": []
   },
   "outputs": [],
   "source": [
    "from sagemaker.workflow.pipeline import Pipeline \n",
    "\n",
    "pipeline = Pipeline(\n",
    "    name=pipeline_name,\n",
    "    sagemaker_session=sess,\n",
    "    parameters=pipeline_parameters,\n",
    "    steps=[\n",
    "        processing_step, \n",
    "        tuning_step, \n",
    "        evaluation_step,\n",
    "        condition_step\n",
    "    ]\n",
    ")"
   ]
  },
  {
   "cell_type": "code",
   "execution_count": 38,
   "id": "0b1acee1-0ad3-4a5a-8784-aa41054409bf",
   "metadata": {
    "tags": []
   },
   "outputs": [
    {
     "name": "stderr",
     "output_type": "stream",
     "text": [
      "WARNING:sagemaker.workflow.utilities:Popping out 'ProcessingJobName' from the pipeline definition by default since it will be overridden at pipeline execution time. Please utilize the PipelineDefinitionConfig to persist this field in the pipeline definition if desired.\n",
      "WARNING:sagemaker.estimator:No finished training job found associated with this estimator. Please make sure this estimator is only used for building workflow config\n",
      "WARNING:sagemaker.estimator:No finished training job found associated with this estimator. Please make sure this estimator is only used for building workflow config\n",
      "WARNING:sagemaker.workflow.utilities:Popping out 'HyperParameterTuningJobName' from the pipeline definition by default since it will be overridden at pipeline execution time. Please utilize the PipelineDefinitionConfig to persist this field in the pipeline definition if desired.\n",
      "WARNING:sagemaker.workflow.utilities:Popping out 'ProcessingJobName' from the pipeline definition by default since it will be overridden at pipeline execution time. Please utilize the PipelineDefinitionConfig to persist this field in the pipeline definition if desired.\n",
      "WARNING:sagemaker.estimator:No finished training job found associated with this estimator. Please make sure this estimator is only used for building workflow config\n",
      "WARNING:sagemaker.workflow._utils:Popping out 'CertifyForMarketplace' from the pipeline definition since it will be overridden in pipeline execution time.\n",
      "WARNING:sagemaker.workflow.utilities:Popping out 'ModelPackageName' from the pipeline definition by default since it will be overridden at pipeline execution time. Please utilize the PipelineDefinitionConfig to persist this field in the pipeline definition if desired.\n",
      "WARNING:sagemaker.workflow.utilities:Popping out 'ModelName' from the pipeline definition by default since it will be overridden at pipeline execution time. Please utilize the PipelineDefinitionConfig to persist this field in the pipeline definition if desired.\n"
     ]
    },
    {
     "name": "stdout",
     "output_type": "stream",
     "text": [
      "{'PipelineArn': 'arn:aws:sagemaker:eu-west-3:668303144976:pipeline/churn-month1-pipeline-1727875969', 'ResponseMetadata': {'RequestId': 'dcfac1d8-a448-4cd0-a9e4-15c9aae4459a', 'HTTPStatusCode': 200, 'HTTPHeaders': {'x-amzn-requestid': 'dcfac1d8-a448-4cd0-a9e4-15c9aae4459a', 'content-type': 'application/x-amz-json-1.1', 'content-length': '100', 'date': 'Wed, 02 Oct 2024 13:32:50 GMT'}, 'RetryAttempts': 0}}\n"
     ]
    }
   ],
   "source": [
    "response = pipeline.create(role_arn=role)\n",
    "pipeline_arn = response.get(\"PipelineArn\")\n",
    "\n",
    "print(response)"
   ]
  },
  {
   "cell_type": "code",
   "execution_count": 39,
   "id": "69e8cb7f-8825-4464-bdcf-7867e7e8ce5e",
   "metadata": {
    "tags": []
   },
   "outputs": [
    {
     "name": "stderr",
     "output_type": "stream",
     "text": [
      "WARNING:sagemaker.workflow.utilities:Popping out 'ProcessingJobName' from the pipeline definition by default since it will be overridden at pipeline execution time. Please utilize the PipelineDefinitionConfig to persist this field in the pipeline definition if desired.\n",
      "WARNING:sagemaker.estimator:No finished training job found associated with this estimator. Please make sure this estimator is only used for building workflow config\n",
      "WARNING:sagemaker.estimator:No finished training job found associated with this estimator. Please make sure this estimator is only used for building workflow config\n",
      "WARNING:sagemaker.workflow.utilities:Popping out 'HyperParameterTuningJobName' from the pipeline definition by default since it will be overridden at pipeline execution time. Please utilize the PipelineDefinitionConfig to persist this field in the pipeline definition if desired.\n",
      "WARNING:sagemaker.workflow.utilities:Popping out 'ProcessingJobName' from the pipeline definition by default since it will be overridden at pipeline execution time. Please utilize the PipelineDefinitionConfig to persist this field in the pipeline definition if desired.\n",
      "WARNING:sagemaker.estimator:No finished training job found associated with this estimator. Please make sure this estimator is only used for building workflow config\n",
      "WARNING:sagemaker.workflow._utils:Popping out 'CertifyForMarketplace' from the pipeline definition since it will be overridden in pipeline execution time.\n",
      "WARNING:sagemaker.workflow.utilities:Popping out 'ModelPackageName' from the pipeline definition by default since it will be overridden at pipeline execution time. Please utilize the PipelineDefinitionConfig to persist this field in the pipeline definition if desired.\n",
      "WARNING:sagemaker.workflow.utilities:Popping out 'ModelName' from the pipeline definition by default since it will be overridden at pipeline execution time. Please utilize the PipelineDefinitionConfig to persist this field in the pipeline definition if desired.\n"
     ]
    },
    {
     "name": "stdout",
     "output_type": "stream",
     "text": [
      "{'Metadata': {},\n",
      " 'Parameters': [{'DefaultValue': '/opt/ml/processing/input/data',\n",
      "                 'Name': 'input-data',\n",
      "                 'Type': 'String'},\n",
      "                {'DefaultValue': '/opt/ml/processing/output',\n",
      "                 'Name': 'output-data',\n",
      "                 'Type': 'String'},\n",
      "                {'DefaultValue': 2024,\n",
      "                 'Name': 'random-state',\n",
      "                 'Type': 'Integer'},\n",
      "                {'DefaultValue': 0.1,\n",
      "                 'Name': 'validation-split-percentage',\n",
      "                 'Type': 'Float'},\n",
      "                {'DefaultValue': 0.2,\n",
      "                 'Name': 'test-split-percentage',\n",
      "                 'Type': 'Float'},\n",
      "                {'DefaultValue': 'bank-churn-mon1-feature-group-{}',\n",
      "                 'Name': 'feature-group-name',\n",
      "                 'Type': 'String'},\n",
      "                {'DefaultValue': 'PendingManualApproval',\n",
      "                 'Name': 'ModelApprovalStatus',\n",
      "                 'Type': 'String'},\n",
      "                {'DefaultValue': 1,\n",
      "                 'Name': 'DeployInstanceCount',\n",
      "                 'Type': 'Integer'},\n",
      "                {'DefaultValue': 'ml.m5.large',\n",
      "                 'Name': 'DeployInstanceType',\n",
      "                 'Type': 'String'},\n",
      "                {'DefaultValue': 0.7,\n",
      "                 'Name': 'MinimumAccuracy',\n",
      "                 'Type': 'Float'}],\n",
      " 'PipelineExperimentConfig': {'ExperimentName': {'Get': 'Execution.PipelineName'},\n",
      "                              'TrialName': {'Get': 'Execution.PipelineExecutionId'}},\n",
      " 'Steps': [{'Arguments': {'AppSpecification': {'ContainerArguments': ['--input-data',\n",
      "                                                                      '/opt/ml/processing/input/data',\n",
      "                                                                      '--output-data',\n",
      "                                                                      '/opt/ml/processing/output',\n",
      "                                                                      '--validation-split-percentage',\n",
      "                                                                      '0.1',\n",
      "                                                                      '--test-split-percentage',\n",
      "                                                                      '0.2',\n",
      "                                                                      '--feature-store-offline-prefix',\n",
      "                                                                      'None',\n",
      "                                                                      '--feature-group-name',\n",
      "                                                                      'bank-churn-mon1-feature-group-{}'],\n",
      "                                               'ContainerEntrypoint': ['python3',\n",
      "                                                                       '/opt/ml/processing/input/code/processing.py'],\n",
      "                                               'ImageUri': '659782779980.dkr.ecr.eu-west-3.amazonaws.com/sagemaker-scikit-learn:1.0-1-cpu-py3'},\n",
      "                          'Environment': {'AWS_DEFAULT_REGION': 'eu-west-3'},\n",
      "                          'ProcessingInputs': [{'AppManaged': False,\n",
      "                                                'InputName': 'bank-churn-mon1-raw-data',\n",
      "                                                'S3Input': {'LocalPath': '/opt/ml/processing/input/data',\n",
      "                                                            'S3CompressionType': 'None',\n",
      "                                                            'S3DataDistributionType': 'ShardedByS3Key',\n",
      "                                                            'S3DataType': 'S3Prefix',\n",
      "                                                            'S3InputMode': 'File',\n",
      "                                                            'S3Uri': 's3://sagemaker-eu-west-3-668303144976/data/transformed_querying/month1'}},\n",
      "                                               {'AppManaged': False,\n",
      "                                                'InputName': 'code',\n",
      "                                                'S3Input': {'LocalPath': '/opt/ml/processing/input/code',\n",
      "                                                            'S3CompressionType': 'None',\n",
      "                                                            'S3DataDistributionType': 'FullyReplicated',\n",
      "                                                            'S3DataType': 'S3Prefix',\n",
      "                                                            'S3InputMode': 'File',\n",
      "                                                            'S3Uri': 's3://sagemaker-eu-west-3-668303144976/DataProcessing-87817bb2d85a0748c95fba8dae5719b4/input/code/processing.py'}}],\n",
      "                          'ProcessingOutputConfig': {'Outputs': [{'AppManaged': False,\n",
      "                                                                  'OutputName': 'bank-churn-mon1-train',\n",
      "                                                                  'S3Output': {'LocalPath': '/opt/ml/processing/output/train',\n",
      "                                                                               'S3UploadMode': 'EndOfJob',\n",
      "                                                                               'S3Uri': 's3://sagemaker-eu-west-3-668303144976/DataProcessing-87817bb2d85a0748c95fba8dae5719b4/output/bank-churn-mon1-train'}},\n",
      "                                                                 {'AppManaged': False,\n",
      "                                                                  'OutputName': 'bank-churn-mon1-validation',\n",
      "                                                                  'S3Output': {'LocalPath': '/opt/ml/processing/output/validation',\n",
      "                                                                               'S3UploadMode': 'EndOfJob',\n",
      "                                                                               'S3Uri': 's3://sagemaker-eu-west-3-668303144976/DataProcessing-87817bb2d85a0748c95fba8dae5719b4/output/bank-churn-mon1-validation'}},\n",
      "                                                                 {'AppManaged': False,\n",
      "                                                                  'OutputName': 'bank-churn-mon1-test',\n",
      "                                                                  'S3Output': {'LocalPath': '/opt/ml/processing/output/test',\n",
      "                                                                               'S3UploadMode': 'EndOfJob',\n",
      "                                                                               'S3Uri': 's3://sagemaker-eu-west-3-668303144976/DataProcessing-87817bb2d85a0748c95fba8dae5719b4/output/bank-churn-mon1-test'}},\n",
      "                                                                 {'AppManaged': False,\n",
      "                                                                  'OutputName': 'bank-churn-mon1-encoder',\n",
      "                                                                  'S3Output': {'LocalPath': '/opt/ml/processing/output/encoders',\n",
      "                                                                               'S3UploadMode': 'EndOfJob',\n",
      "                                                                               'S3Uri': 's3://sagemaker-eu-west-3-668303144976/DataProcessing-87817bb2d85a0748c95fba8dae5719b4/output/bank-churn-mon1-encoder'}}]},\n",
      "                          'ProcessingResources': {'ClusterConfig': {'InstanceCount': 1,\n",
      "                                                                    'InstanceType': 'ml.t3.medium',\n",
      "                                                                    'VolumeSizeInGB': 30}},\n",
      "                          'RoleArn': 'arn:aws:iam::668303144976:role/service-role/AmazonSageMaker-ExecutionRole-20231108T110667'},\n",
      "            'Name': 'DataProcessing',\n",
      "            'Type': 'Processing'},\n",
      "           {'Arguments': {'HyperParameterTuningJobConfig': {'HyperParameterTuningJobObjective': {'MetricName': 'validation:accuracy',\n",
      "                                                                                                 'Type': 'Maximize'},\n",
      "                                                            'ParameterRanges': {'CategoricalParameterRanges': [{'Name': 'criterion',\n",
      "                                                                                                                'Values': ['\"gini\"',\n",
      "                                                                                                                           '\"entropy\"']}],\n",
      "                                                                                'ContinuousParameterRanges': [],\n",
      "                                                                                'IntegerParameterRanges': [{'MaxValue': '200',\n",
      "                                                                                                            'MinValue': '10',\n",
      "                                                                                                            'Name': 'n_estimators',\n",
      "                                                                                                            'ScalingType': 'Logarithmic'},\n",
      "                                                                                                           {'MaxValue': '10',\n",
      "                                                                                                            'MinValue': '3',\n",
      "                                                                                                            'Name': 'max_depth',\n",
      "                                                                                                            'ScalingType': 'Linear'}]},\n",
      "                                                            'ResourceLimits': {'MaxNumberOfTrainingJobs': 10,\n",
      "                                                                               'MaxParallelTrainingJobs': 2},\n",
      "                                                            'Strategy': 'Bayesian',\n",
      "                                                            'TrainingJobEarlyStoppingType': 'Off'},\n",
      "                          'TrainingJobDefinition': {'AlgorithmSpecification': {'MetricDefinitions': [{'Name': 'validation:precision',\n",
      "                                                                                                      'Regex': 'val_precision: '\n",
      "                                                                                                               '([0-9.]+)'},\n",
      "                                                                                                     {'Name': 'validation:recall',\n",
      "                                                                                                      'Regex': 'val_recall: '\n",
      "                                                                                                               '([0-9.]+)'},\n",
      "                                                                                                     {'Name': 'validation:f1Score',\n",
      "                                                                                                      'Regex': 'val_f1score: '\n",
      "                                                                                                               '([0-9.]+)'},\n",
      "                                                                                                     {'Name': 'validation:ROCAUC',\n",
      "                                                                                                      'Regex': 'val_roc_auc: '\n",
      "                                                                                                               '([0-9.]+)'},\n",
      "                                                                                                     {'Name': 'validation:accuracy',\n",
      "                                                                                                      'Regex': 'val_accuracy: '\n",
      "                                                                                                               '([0-9.]+)'}],\n",
      "                                                                               'TrainingImage': '659782779980.dkr.ecr.eu-west-3.amazonaws.com/sagemaker-scikit-learn:1.0-1-cpu-py3',\n",
      "                                                                               'TrainingInputMode': 'File'},\n",
      "                                                    'HyperParameterTuningResourceConfig': {'InstanceCount': 1,\n",
      "                                                                                           'InstanceType': 'ml.m5.large',\n",
      "                                                                                           'VolumeSizeInGB': 30},\n",
      "                                                    'InputDataConfig': [{'ChannelName': 'train',\n",
      "                                                                         'ContentType': 'text/csv',\n",
      "                                                                         'DataSource': {'S3DataSource': {'S3DataDistributionType': 'FullyReplicated',\n",
      "                                                                                                         'S3DataType': 'S3Prefix',\n",
      "                                                                                                         'S3Uri': {'Get': \"Steps.DataProcessing.ProcessingOutputConfig.Outputs['bank-churn-mon1-train'].S3Output.S3Uri\"}}}},\n",
      "                                                                        {'ChannelName': 'validation',\n",
      "                                                                         'ContentType': 'text/csv',\n",
      "                                                                         'DataSource': {'S3DataSource': {'S3DataDistributionType': 'FullyReplicated',\n",
      "                                                                                                         'S3DataType': 'S3Prefix',\n",
      "                                                                                                         'S3Uri': {'Get': \"Steps.DataProcessing.ProcessingOutputConfig.Outputs['bank-churn-mon1-validation'].S3Output.S3Uri\"}}}}],\n",
      "                                                    'OutputDataConfig': {'S3OutputPath': 's3://sagemaker-eu-west-3-668303144976/'},\n",
      "                                                    'RoleArn': 'arn:aws:iam::668303144976:role/service-role/AmazonSageMaker-ExecutionRole-20231108T110667',\n",
      "                                                    'StaticHyperParameters': {'random_state': {'Std:Join': {'On': '',\n",
      "                                                                                                            'Values': [{'Get': 'Parameters.random-state'}]}},\n",
      "                                                                              'sagemaker_container_log_level': '20',\n",
      "                                                                              'sagemaker_estimator_class_name': '\"SKLearn\"',\n",
      "                                                                              'sagemaker_estimator_module': '\"sagemaker.sklearn.estimator\"',\n",
      "                                                                              'sagemaker_job_name': '\"sagemaker-scikit-learn-2024-10-02-13-32-50-565\"',\n",
      "                                                                              'sagemaker_program': '\"training.py\"',\n",
      "                                                                              'sagemaker_region': '\"eu-west-3\"',\n",
      "                                                                              'sagemaker_submit_directory': '\"s3://sagemaker-eu-west-3-668303144976/sagemaker-scikit-learn-2024-10-02-13-32-50-565/source/sourcedir.tar.gz\"'},\n",
      "                                                    'StoppingCondition': {'MaxRuntimeInSeconds': 86400}}},\n",
      "            'CacheConfig': {'Enabled': True, 'ExpireAfter': 'PT1H'},\n",
      "            'Name': 'ModelTraining',\n",
      "            'Type': 'Tuning'},\n",
      "           {'Arguments': {'AppSpecification': {'ContainerEntrypoint': ['python3',\n",
      "                                                                       '/opt/ml/processing/input/code/evaluate_metrics.py'],\n",
      "                                               'ImageUri': '659782779980.dkr.ecr.eu-west-3.amazonaws.com/sagemaker-scikit-learn:1.0-1-cpu-py3'},\n",
      "                          'Environment': {'AWS_DEFAULT_REGION': 'eu-west-3'},\n",
      "                          'ProcessingInputs': [{'AppManaged': False,\n",
      "                                                'InputName': 'input-1',\n",
      "                                                'S3Input': {'LocalPath': '/opt/ml/processing/input/model',\n",
      "                                                            'S3CompressionType': 'None',\n",
      "                                                            'S3DataDistributionType': 'FullyReplicated',\n",
      "                                                            'S3DataType': 'S3Prefix',\n",
      "                                                            'S3InputMode': 'File',\n",
      "                                                            'S3Uri': {'Std:Join': {'On': '/',\n",
      "                                                                                   'Values': ['s3:/',\n",
      "                                                                                              'sagemaker-eu-west-3-668303144976',\n",
      "                                                                                              {'Get': 'Steps.ModelTraining.TrainingJobSummaries[0].TrainingJobName'},\n",
      "                                                                                              'output/model.tar.gz']}}}},\n",
      "                                               {'AppManaged': False,\n",
      "                                                'InputName': 'input-2',\n",
      "                                                'S3Input': {'LocalPath': '/opt/ml/processing/input/data',\n",
      "                                                            'S3CompressionType': 'None',\n",
      "                                                            'S3DataDistributionType': 'FullyReplicated',\n",
      "                                                            'S3DataType': 'S3Prefix',\n",
      "                                                            'S3InputMode': 'File',\n",
      "                                                            'S3Uri': {'Get': \"Steps.DataProcessing.ProcessingOutputConfig.Outputs['bank-churn-mon1-test'].S3Output.S3Uri\"}}},\n",
      "                                               {'AppManaged': False,\n",
      "                                                'InputName': 'code',\n",
      "                                                'S3Input': {'LocalPath': '/opt/ml/processing/input/code',\n",
      "                                                            'S3CompressionType': 'None',\n",
      "                                                            'S3DataDistributionType': 'FullyReplicated',\n",
      "                                                            'S3DataType': 'S3Prefix',\n",
      "                                                            'S3InputMode': 'File',\n",
      "                                                            'S3Uri': 's3://sagemaker-eu-west-3-668303144976/EvaluateMetrics-558cc2049391644b997c852ef17938f9/input/code/evaluate_metrics.py'}}],\n",
      "                          'ProcessingOutputConfig': {'Outputs': [{'AppManaged': False,\n",
      "                                                                  'OutputName': 'metrics',\n",
      "                                                                  'S3Output': {'LocalPath': '/opt/ml/processing/output/metrics/',\n",
      "                                                                               'S3UploadMode': 'EndOfJob',\n",
      "                                                                               'S3Uri': 's3://sagemaker-eu-west-3-668303144976/EvaluateMetrics-558cc2049391644b997c852ef17938f9/output/metrics'}}]},\n",
      "                          'ProcessingResources': {'ClusterConfig': {'InstanceCount': 1,\n",
      "                                                                    'InstanceType': 'ml.t3.medium',\n",
      "                                                                    'VolumeSizeInGB': 30}},\n",
      "                          'RoleArn': 'arn:aws:iam::668303144976:role/service-role/AmazonSageMaker-ExecutionRole-20231108T110667'},\n",
      "            'Name': 'EvaluateMetrics',\n",
      "            'PropertyFiles': [{'FilePath': 'evaluation.json',\n",
      "                               'OutputName': 'metrics',\n",
      "                               'PropertyFileName': 'EvaluationReport'}],\n",
      "            'Type': 'Processing'},\n",
      "           {'Arguments': {'Conditions': [{'LeftValue': {'Std:JsonGet': {'Path': 'metrics.accuracy.value',\n",
      "                                                                        'PropertyFile': {'Get': 'Steps.EvaluateMetrics.PropertyFiles.EvaluationReport'}}},\n",
      "                                          'RightValue': {'Get': 'Parameters.MinimumAccuracy'},\n",
      "                                          'Type': 'GreaterThanOrEqualTo'}],\n",
      "                          'ElseSteps': [],\n",
      "                          'IfSteps': [{'Arguments': {'InferenceSpecification': {'Containers': [{'Image': '659782779980.dkr.ecr.eu-west-3.amazonaws.com/sagemaker-scikit-learn:1.0-1-cpu-py3',\n",
      "                                                                                                'ModelDataUrl': {'Std:Join': {'On': '/',\n",
      "                                                                                                                              'Values': ['s3:/',\n",
      "                                                                                                                                         'sagemaker-eu-west-3-668303144976',\n",
      "                                                                                                                                         {'Get': 'Steps.ModelTraining.TrainingJobSummaries[0].TrainingJobName'},\n",
      "                                                                                                                                         'output/model.tar.gz']}}}],\n",
      "                                                                                'SupportedContentTypes': ['text/csv'],\n",
      "                                                                                'SupportedRealtimeInferenceInstanceTypes': [{'Get': 'Parameters.DeployInstanceType'}],\n",
      "                                                                                'SupportedResponseMIMETypes': ['text/csv'],\n",
      "                                                                                'SupportedTransformInstanceTypes': [{'Get': 'Parameters.DeployInstanceType'}]},\n",
      "                                                     'ModelApprovalStatus': {'Get': 'Parameters.ModelApprovalStatus'},\n",
      "                                                     'ModelMetrics': {'Bias': {},\n",
      "                                                                      'Explainability': {},\n",
      "                                                                      'ModelQuality': {'Statistics': {'ContentType': 'application/json',\n",
      "                                                                                                      'S3Uri': 's3://sagemaker-eu-west-3-668303144976/EvaluateMetrics-558cc2049391644b997c852ef17938f9/output/metrics/evaluation.json'}}},\n",
      "                                                     'ModelPackageGroupName': 'churn-month1-pipeline',\n",
      "                                                     'SkipModelValidation': 'None'},\n",
      "                                       'Name': 'RegisterModel-RegisterModel',\n",
      "                                       'Type': 'RegisterModel'},\n",
      "                                      {'Arguments': {'ExecutionRoleArn': 'arn:aws:iam::668303144976:role/service-role/AmazonSageMaker-ExecutionRole-20231108T110667',\n",
      "                                                     'PrimaryContainer': {'Environment': {'SAGEMAKER_CONTAINER_LOG_LEVEL': '20',\n",
      "                                                                                          'SAGEMAKER_PROGRAM': 'inference.py',\n",
      "                                                                                          'SAGEMAKER_REGION': 'eu-west-3',\n",
      "                                                                                          'SAGEMAKER_SUBMIT_DIRECTORY': 's3://sagemaker-eu-west-3-668303144976/churn-month1-1727875968/sourcedir.tar.gz'},\n",
      "                                                                          'Image': '659782779980.dkr.ecr.eu-west-3.amazonaws.com/sagemaker-scikit-learn:1.0-1-cpu-py3',\n",
      "                                                                          'ModelDataUrl': {'Std:Join': {'On': '/',\n",
      "                                                                                                        'Values': ['s3:/',\n",
      "                                                                                                                   'sagemaker-eu-west-3-668303144976',\n",
      "                                                                                                                   {'Get': 'Steps.ModelTraining.TrainingJobSummaries[0].TrainingJobName'},\n",
      "                                                                                                                   'output/model.tar.gz']}}}},\n",
      "                                       'Name': 'CreateModel',\n",
      "                                       'Type': 'Model'}]},\n",
      "            'Name': 'MinimumAccuracyCondition',\n",
      "            'Type': 'Condition'}],\n",
      " 'Version': '2020-12-01'}\n"
     ]
    }
   ],
   "source": [
    "definition = json.loads(pipeline.definition())\n",
    "\n",
    "pprint(definition)"
   ]
  },
  {
   "cell_type": "markdown",
   "id": "5da49b25-d561-40f5-a985-b8942da3d987",
   "metadata": {},
   "source": [
    "### 7.2 Start pipeline"
   ]
  },
  {
   "cell_type": "code",
   "execution_count": 41,
   "id": "2c2a4d85-e8ae-435b-b8cf-98d91b7a9b48",
   "metadata": {
    "tags": []
   },
   "outputs": [],
   "source": [
    "execution = pipeline.start()"
   ]
  },
  {
   "cell_type": "markdown",
   "id": "e1fd0f7b-f7bf-4f66-b990-2465b6b42ed8",
   "metadata": {},
   "source": [
    "### 7.3 Describe pipeline execution"
   ]
  },
  {
   "cell_type": "code",
   "execution_count": 61,
   "id": "f2437e86-0442-4bfd-8bf0-0035dbec83b9",
   "metadata": {
    "tags": []
   },
   "outputs": [
    {
     "name": "stdout",
     "output_type": "stream",
     "text": [
      "arn:aws:sagemaker:eu-west-3:668303144976:pipeline/churn-month1-pipeline-1727875969/execution/y8a6c91lumhh\n"
     ]
    }
   ],
   "source": [
    "execution_description = execution.describe()\n",
    "pipeline_execution_arn = execution_description[\"PipelineExecutionArn\"]\n",
    "\n",
    "print(pipeline_execution_arn)"
   ]
  },
  {
   "cell_type": "code",
   "execution_count": 62,
   "id": "8df97c6f-4ec9-4479-ab16-4253ba68e543",
   "metadata": {
    "tags": []
   },
   "outputs": [
    {
     "name": "stdout",
     "output_type": "stream",
     "text": [
      "{'CreatedBy': {'DomainId': 'd-mqesdqdqrfmi',\n",
      "               'IamIdentity': {'Arn': 'arn:aws:sts::668303144976:assumed-role/AmazonSageMaker-ExecutionRole-20231108T110667/SageMaker',\n",
      "                               'PrincipalId': 'AROAZXGPYXAIBBIRXJB33:SageMaker'},\n",
      "               'UserProfileArn': 'arn:aws:sagemaker:eu-west-3:668303144976:user-profile/d-mqesdqdqrfmi/bedissj-1699438736259',\n",
      "               'UserProfileName': 'bedissj-1699438736259'},\n",
      " 'CreationTime': datetime.datetime(2024, 10, 2, 13, 32, 51, 137000, tzinfo=tzlocal()),\n",
      " 'LastModifiedBy': {'DomainId': 'd-mqesdqdqrfmi',\n",
      "                    'IamIdentity': {'Arn': 'arn:aws:sts::668303144976:assumed-role/AmazonSageMaker-ExecutionRole-20231108T110667/SageMaker',\n",
      "                                    'PrincipalId': 'AROAZXGPYXAIBBIRXJB33:SageMaker'},\n",
      "                    'UserProfileArn': 'arn:aws:sagemaker:eu-west-3:668303144976:user-profile/d-mqesdqdqrfmi/bedissj-1699438736259',\n",
      "                    'UserProfileName': 'bedissj-1699438736259'},\n",
      " 'LastModifiedTime': datetime.datetime(2024, 10, 2, 13, 51, 5, 687000, tzinfo=tzlocal()),\n",
      " 'PipelineArn': 'arn:aws:sagemaker:eu-west-3:668303144976:pipeline/churn-month1-pipeline-1727875969',\n",
      " 'PipelineExecutionArn': 'arn:aws:sagemaker:eu-west-3:668303144976:pipeline/churn-month1-pipeline-1727875969/execution/y8a6c91lumhh',\n",
      " 'PipelineExecutionDisplayName': 'execution-1727875971225',\n",
      " 'PipelineExecutionStatus': 'Succeeded',\n",
      " 'PipelineExperimentConfig': {'ExperimentName': 'churn-month1-pipeline-1727875969',\n",
      "                              'TrialName': 'y8a6c91lumhh'},\n",
      " 'ResponseMetadata': {'HTTPHeaders': {'content-length': '1229',\n",
      "                                      'content-type': 'application/x-amz-json-1.1',\n",
      "                                      'date': 'Wed, 02 Oct 2024 14:01:01 GMT',\n",
      "                                      'x-amzn-requestid': '7a22247f-d716-4354-be0a-8b29c497bb96'},\n",
      "                      'HTTPStatusCode': 200,\n",
      "                      'RequestId': '7a22247f-d716-4354-be0a-8b29c497bb96',\n",
      "                      'RetryAttempts': 0}}\n"
     ]
    }
   ],
   "source": [
    "from pprint import pprint\n",
    "\n",
    "execution_run =  sm.describe_pipeline_execution(PipelineExecutionArn=pipeline_execution_arn)\n",
    "pprint(execution_run)"
   ]
  },
  {
   "cell_type": "markdown",
   "id": "90995438-3cef-4a6c-acdd-c2c76e2bdd06",
   "metadata": {},
   "source": [
    "### 7.4 Describe completed pipeline\n",
    "#### 7.4.1 Execution arn and status"
   ]
  },
  {
   "cell_type": "code",
   "execution_count": 63,
   "id": "beb443cb-23f1-4494-88d4-c03f22f8263f",
   "metadata": {
    "tags": []
   },
   "outputs": [
    {
     "name": "stdout",
     "output_type": "stream",
     "text": [
      "[{'PipelineExecutionArn': 'arn:aws:sagemaker:eu-west-3:668303144976:pipeline/churn-month1-pipeline-1727875969/execution/y8a6c91lumhh',\n",
      "  'PipelineExecutionDisplayName': 'execution-1727875971225',\n",
      "  'PipelineExecutionStatus': 'Succeeded',\n",
      "  'StartTime': datetime.datetime(2024, 10, 2, 13, 32, 51, 137000, tzinfo=tzlocal())}]\n"
     ]
    }
   ],
   "source": [
    "pipeline_execution = sm.list_pipeline_executions(PipelineName=pipeline_name)['PipelineExecutionSummaries']\n",
    "pipeline_execution_status = pipeline_execution[0][\"PipelineExecutionStatus\"]\n",
    "\n",
    "while pipeline_execution_status == \"Executing\":\n",
    "    pipeline_execution = sm.list_pipeline_executions(PipelineName=pipeline_name)['PipelineExecutionSummaries']\n",
    "    pipeline_execution_status = pipeline_execution[0][\"PipelineExecutionStatus\"]\n",
    "\n",
    "pprint(pipeline_execution)"
   ]
  },
  {
   "cell_type": "code",
   "execution_count": 64,
   "id": "62e29ae9-e78b-423e-922e-285b416cda4f",
   "metadata": {
    "tags": []
   },
   "outputs": [
    {
     "name": "stdout",
     "output_type": "stream",
     "text": [
      "arn:aws:sagemaker:eu-west-3:668303144976:pipeline/churn-month1-pipeline-1727875969/execution/y8a6c91lumhh\n"
     ]
    }
   ],
   "source": [
    "pipeline_execution_arn = pipeline_execution[0][\"PipelineExecutionArn\"]\n",
    "print(pipeline_execution_arn)"
   ]
  },
  {
   "cell_type": "code",
   "execution_count": 65,
   "id": "0ffba6d2-5ef4-4389-940c-c92aa13730d1",
   "metadata": {
    "tags": []
   },
   "outputs": [
    {
     "name": "stdout",
     "output_type": "stream",
     "text": [
      "Succeeded\n"
     ]
    }
   ],
   "source": [
    "pipeline_execution_status = pipeline_execution[0][\"PipelineExecutionStatus\"]\n",
    "print(pipeline_execution_status)\n"
   ]
  },
  {
   "cell_type": "markdown",
   "id": "b6d49577-e97a-4e1e-9b80-1efdece6a315",
   "metadata": {},
   "source": [
    "#### 7.4.2 Execution steps"
   ]
  },
  {
   "cell_type": "code",
   "execution_count": 66,
   "id": "4349ce98-14de-44d9-b1e0-4ab7bbe178ee",
   "metadata": {
    "tags": []
   },
   "outputs": [
    {
     "name": "stdout",
     "output_type": "stream",
     "text": [
      "[{'AttemptCount': 1,\n",
      "  'EndTime': datetime.datetime(2024, 10, 2, 13, 51, 5, 327000, tzinfo=tzlocal()),\n",
      "  'Metadata': {'Model': {'Arn': 'arn:aws:sagemaker:eu-west-3:668303144976:model/pipelines-y8a6c91lumhh-CreateModel-eJO6K98Cgh'}},\n",
      "  'StartTime': datetime.datetime(2024, 10, 2, 13, 51, 3, 756000, tzinfo=tzlocal()),\n",
      "  'StepName': 'CreateModel',\n",
      "  'StepStatus': 'Succeeded'},\n",
      " {'AttemptCount': 1,\n",
      "  'EndTime': datetime.datetime(2024, 10, 2, 13, 51, 5, 626000, tzinfo=tzlocal()),\n",
      "  'Metadata': {'RegisterModel': {'Arn': 'arn:aws:sagemaker:eu-west-3:668303144976:model-package/churn-month1-pipeline/2'}},\n",
      "  'StartTime': datetime.datetime(2024, 10, 2, 13, 51, 3, 756000, tzinfo=tzlocal()),\n",
      "  'StepName': 'RegisterModel-RegisterModel',\n",
      "  'StepStatus': 'Succeeded'},\n",
      " {'AttemptCount': 1,\n",
      "  'EndTime': datetime.datetime(2024, 10, 2, 13, 51, 3, 284000, tzinfo=tzlocal()),\n",
      "  'Metadata': {'Condition': {'Outcome': 'True'}},\n",
      "  'StartTime': datetime.datetime(2024, 10, 2, 13, 51, 2, 784000, tzinfo=tzlocal()),\n",
      "  'StepName': 'MinimumAccuracyCondition',\n",
      "  'StepStatus': 'Succeeded'},\n",
      " {'AttemptCount': 1,\n",
      "  'EndTime': datetime.datetime(2024, 10, 2, 13, 51, 1, 717000, tzinfo=tzlocal()),\n",
      "  'Metadata': {'ProcessingJob': {'Arn': 'arn:aws:sagemaker:eu-west-3:668303144976:processing-job/pipelines-y8a6c91lumhh-EvaluateMetrics-YQTHrwwOOr'}},\n",
      "  'StartTime': datetime.datetime(2024, 10, 2, 13, 45, 51, 225000, tzinfo=tzlocal()),\n",
      "  'StepName': 'EvaluateMetrics',\n",
      "  'StepStatus': 'Succeeded'},\n",
      " {'AttemptCount': 1,\n",
      "  'EndTime': datetime.datetime(2024, 10, 2, 13, 45, 50, 776000, tzinfo=tzlocal()),\n",
      "  'Metadata': {'TuningJob': {'Arn': 'arn:aws:sagemaker:eu-west-3:668303144976:hyper-parameter-tuning-job/y8a6c91lumhh-ModelTra-GTH766MIe3'}},\n",
      "  'StartTime': datetime.datetime(2024, 10, 2, 13, 38, 25, 914000, tzinfo=tzlocal()),\n",
      "  'StepName': 'ModelTraining',\n",
      "  'StepStatus': 'Succeeded'},\n",
      " {'AttemptCount': 1,\n",
      "  'EndTime': datetime.datetime(2024, 10, 2, 13, 38, 25, 242000, tzinfo=tzlocal()),\n",
      "  'Metadata': {'ProcessingJob': {'Arn': 'arn:aws:sagemaker:eu-west-3:668303144976:processing-job/pipelines-y8a6c91lumhh-DataProcessing-OFEKODXsCL'}},\n",
      "  'StartTime': datetime.datetime(2024, 10, 2, 13, 32, 52, 16000, tzinfo=tzlocal()),\n",
      "  'StepName': 'DataProcessing',\n",
      "  'StepStatus': 'Succeeded'}]\n"
     ]
    }
   ],
   "source": [
    "execution_steps = sm.list_pipeline_execution_steps(PipelineExecutionArn=pipeline_execution_arn)[\"PipelineExecutionSteps\"]\n",
    "pprint(execution_steps)"
   ]
  },
  {
   "cell_type": "markdown",
   "id": "02599af8-57b5-47f9-bdd5-b9198d0ca9e2",
   "metadata": {},
   "source": [
    "#### 7.4.3 Execution parameters"
   ]
  },
  {
   "cell_type": "code",
   "execution_count": 67,
   "id": "9dfc03a3-5eb3-4052-b261-1caa7f8b3687",
   "metadata": {
    "tags": []
   },
   "outputs": [
    {
     "name": "stdout",
     "output_type": "stream",
     "text": [
      "{'PipelineParameters': [{'Name': 'input-data',\n",
      "                         'Value': '/opt/ml/processing/input/data'},\n",
      "                        {'Name': 'output-data',\n",
      "                         'Value': '/opt/ml/processing/output'},\n",
      "                        {'Name': 'feature-group-name',\n",
      "                         'Value': 'bank-churn-mon1-feature-group-{}'},\n",
      "                        {'Name': 'validation-split-percentage', 'Value': '0.1'},\n",
      "                        {'Name': 'DeployInstanceType', 'Value': 'ml.m5.large'},\n",
      "                        {'Name': 'test-split-percentage', 'Value': '0.2'},\n",
      "                        {'Name': 'MinimumAccuracy', 'Value': '0.7'},\n",
      "                        {'Name': 'ModelApprovalStatus',\n",
      "                         'Value': 'PendingManualApproval'},\n",
      "                        {'Name': 'random-state', 'Value': '2024'},\n",
      "                        {'Name': 'DeployInstanceCount', 'Value': '1'}],\n",
      " 'ResponseMetadata': {'HTTPHeaders': {'content-length': '556',\n",
      "                                      'content-type': 'application/x-amz-json-1.1',\n",
      "                                      'date': 'Wed, 02 Oct 2024 14:06:10 GMT',\n",
      "                                      'x-amzn-requestid': 'fb86557f-c158-4ddc-8183-88799d20884d'},\n",
      "                      'HTTPStatusCode': 200,\n",
      "                      'RequestId': 'fb86557f-c158-4ddc-8183-88799d20884d',\n",
      "                      'RetryAttempts': 0}}\n"
     ]
    }
   ],
   "source": [
    "execution_parameters = sm.list_pipeline_parameters_for_execution(PipelineExecutionArn=pipeline_execution_arn)\n",
    "pprint(execution_parameters)"
   ]
  },
  {
   "cell_type": "markdown",
   "id": "745a6238-619c-4e91-aca1-59bfbefa3cea",
   "metadata": {},
   "source": [
    "## 8. Model evaluation\n",
    "\n",
    "Pull the evaluation report S3 Uri from the evaluation step."
   ]
  },
  {
   "cell_type": "code",
   "execution_count": 68,
   "id": "1b876a79-b051-4270-a269-9213b1f4c477",
   "metadata": {
    "tags": []
   },
   "outputs": [
    {
     "name": "stdout",
     "output_type": "stream",
     "text": [
      "Evaluation output: s3://sagemaker-eu-west-3-668303144976/EvaluateMetrics-558cc2049391644b997c852ef17938f9/output/metrics\n"
     ]
    }
   ],
   "source": [
    "processing_job_name = None\n",
    "\n",
    "for execution_step in reversed(execution_steps):\n",
    "    ### BEGIN SOLUTION - DO NOT delete this comment for grading purposes\n",
    "    if execution_step[\"StepName\"] == \"EvaluateMetrics\": # Replace all None\n",
    "    ### END SOLUTION - DO NOT delete this comment for grading purposes\n",
    "        processing_job_name=execution_step['Metadata']['ProcessingJob']['Arn'].split('/')[-1]\n",
    "\n",
    "describe_evaluation_processing_job_response = sm.describe_processing_job(ProcessingJobName=processing_job_name)\n",
    "\n",
    "evaluation_metrics_s3_uri = describe_evaluation_processing_job_response['ProcessingOutputConfig']['Outputs'][0]['S3Output']['S3Uri']\n",
    "print('Evaluation output: {}'.format(evaluation_metrics_s3_uri))"
   ]
  },
  {
   "cell_type": "markdown",
   "id": "cededc80-2f18-41fb-a988-965e111ea0d4",
   "metadata": {},
   "source": [
    "Download the evaluation report and display the metrics."
   ]
  },
  {
   "cell_type": "code",
   "execution_count": 69,
   "id": "58cd3ead-2f69-4eb5-a20f-e17e752cf0d9",
   "metadata": {
    "tags": []
   },
   "outputs": [
    {
     "name": "stdout",
     "output_type": "stream",
     "text": [
      "{'metrics': {'accuracy': {'value': 0.9481481481481482},\n",
      "             'f1_score': {'value': 0.8223350253807107}}}\n"
     ]
    }
   ],
   "source": [
    "evaluation_json = sagemaker.s3.S3Downloader.read_file(\"{}/evaluation.json\".format(\n",
    "    evaluation_metrics_s3_uri\n",
    "))\n",
    "\n",
    "pprint(json.loads(evaluation_json))"
   ]
  },
  {
   "cell_type": "markdown",
   "id": "29c0307b-0121-4137-b1c7-865131c5ef76",
   "metadata": {},
   "source": [
    "Similar approach to pull the processing step artifacts"
   ]
  },
  {
   "cell_type": "code",
   "execution_count": 70,
   "id": "d2a7021f-f9de-4656-ac86-98a4b2ccc9f2",
   "metadata": {
    "tags": []
   },
   "outputs": [
    {
     "name": "stdout",
     "output_type": "stream",
     "text": [
      "[{'AppManaged': False,\n",
      "  'OutputName': 'bank-churn-mon1-train',\n",
      "  'S3Output': {'LocalPath': '/opt/ml/processing/output/train',\n",
      "               'S3UploadMode': 'EndOfJob',\n",
      "               'S3Uri': 's3://sagemaker-eu-west-3-668303144976/DataProcessing-87817bb2d85a0748c95fba8dae5719b4/output/bank-churn-mon1-train'}},\n",
      " {'AppManaged': False,\n",
      "  'OutputName': 'bank-churn-mon1-validation',\n",
      "  'S3Output': {'LocalPath': '/opt/ml/processing/output/validation',\n",
      "               'S3UploadMode': 'EndOfJob',\n",
      "               'S3Uri': 's3://sagemaker-eu-west-3-668303144976/DataProcessing-87817bb2d85a0748c95fba8dae5719b4/output/bank-churn-mon1-validation'}},\n",
      " {'AppManaged': False,\n",
      "  'OutputName': 'bank-churn-mon1-test',\n",
      "  'S3Output': {'LocalPath': '/opt/ml/processing/output/test',\n",
      "               'S3UploadMode': 'EndOfJob',\n",
      "               'S3Uri': 's3://sagemaker-eu-west-3-668303144976/DataProcessing-87817bb2d85a0748c95fba8dae5719b4/output/bank-churn-mon1-test'}},\n",
      " {'AppManaged': False,\n",
      "  'OutputName': 'bank-churn-mon1-encoder',\n",
      "  'S3Output': {'LocalPath': '/opt/ml/processing/output/encoders',\n",
      "               'S3UploadMode': 'EndOfJob',\n",
      "               'S3Uri': 's3://sagemaker-eu-west-3-668303144976/DataProcessing-87817bb2d85a0748c95fba8dae5719b4/output/bank-churn-mon1-encoder'}}]\n"
     ]
    }
   ],
   "source": [
    "processing_job_name = None\n",
    "\n",
    "# pull the processing step name\n",
    "for execution_step in reversed(execution_steps):\n",
    "    if execution_step['StepName'] == 'DataProcessing':\n",
    "        processing_job_name=execution_step['Metadata']['ProcessingJob']['Arn'].split('/')[-1]\n",
    "\n",
    "# get the description of the processing job\n",
    "describe_transform_processing_job_response = sm.describe_processing_job(ProcessingJobName=processing_job_name)\n",
    "\n",
    "# get the output S3 path\n",
    "transform_output_s3_uri = describe_transform_processing_job_response['ProcessingOutputConfig']['Outputs']\n",
    "pprint(transform_output_s3_uri)"
   ]
  },
  {
   "cell_type": "markdown",
   "id": "9beb3211-101d-43d2-a32e-771698e889ba",
   "metadata": {},
   "source": [
    "Similar approach can be applied to retrieve training step artifacts"
   ]
  },
  {
   "cell_type": "code",
   "execution_count": 71,
   "id": "d8ddd030-1e58-45ad-b63e-55476c6f6876",
   "metadata": {
    "tags": []
   },
   "outputs": [
    {
     "name": "stdout",
     "output_type": "stream",
     "text": [
      "{'AttemptCount': 1,\n",
      " 'EndTime': datetime.datetime(2024, 10, 2, 13, 45, 50, 776000, tzinfo=tzlocal()),\n",
      " 'Metadata': {'TuningJob': {'Arn': 'arn:aws:sagemaker:eu-west-3:668303144976:hyper-parameter-tuning-job/y8a6c91lumhh-ModelTra-GTH766MIe3'}},\n",
      " 'StartTime': datetime.datetime(2024, 10, 2, 13, 38, 25, 914000, tzinfo=tzlocal()),\n",
      " 'StepName': 'ModelTraining',\n",
      " 'StepStatus': 'Succeeded'}\n",
      "Tuning job ARN: arn:aws:sagemaker:eu-west-3:668303144976:hyper-parameter-tuning-job/y8a6c91lumhh-ModelTra-GTH766MIe3\n",
      "Tuning job Name: y8a6c91lumhh-ModelTra-GTH766MIe3\n"
     ]
    }
   ],
   "source": [
    "training_job_arn=None\n",
    "\n",
    "for execution_step in execution_steps:\n",
    "    ### BEGIN SOLUTION - DO NOT delete this comment for grading purposes\n",
    "    if execution_step[\"StepName\"] == \"ModelTraining\": # Replace all None\n",
    "    ### END SOLUTION - DO NOT delete this comment for grading purposes\n",
    "        training_job_arn = execution_step['Metadata']['TuningJob']['Arn']      \n",
    "        pprint(execution_step)\n",
    "        break\n",
    "print('Tuning job ARN: {}'.format(training_job_arn))\n",
    "        \n",
    "training_job_name = training_job_arn.split('/')[-1]\n",
    "print('Tuning job Name: {}'.format(training_job_name))"
   ]
  },
  {
   "cell_type": "markdown",
   "id": "c711cb66-bb48-463d-9091-d5f6be107ee8",
   "metadata": {},
   "source": [
    "Visualize pipeline artifacts"
   ]
  },
  {
   "cell_type": "code",
   "execution_count": 72,
   "id": "8d1e5126-7164-4a6f-a688-cb8c089e5095",
   "metadata": {
    "tags": []
   },
   "outputs": [
    {
     "name": "stdout",
     "output_type": "stream",
     "text": [
      "{'AttemptCount': 1,\n",
      " 'EndTime': datetime.datetime(2024, 10, 2, 13, 38, 25, 242000, tzinfo=tzlocal()),\n",
      " 'Metadata': {'ProcessingJob': {'Arn': 'arn:aws:sagemaker:eu-west-3:668303144976:processing-job/pipelines-y8a6c91lumhh-DataProcessing-OFEKODXsCL'}},\n",
      " 'StartTime': datetime.datetime(2024, 10, 2, 13, 32, 52, 16000, tzinfo=tzlocal()),\n",
      " 'StepName': 'DataProcessing',\n",
      " 'StepStatus': 'Succeeded'}\n",
      "Processing job name: pipelines-y8a6c91lumhh-DataProcessing-OFEKODXsCL\n"
     ]
    },
    {
     "data": {
      "text/html": [
       "<div>\n",
       "<style scoped>\n",
       "    .dataframe tbody tr th:only-of-type {\n",
       "        vertical-align: middle;\n",
       "    }\n",
       "\n",
       "    .dataframe tbody tr th {\n",
       "        vertical-align: top;\n",
       "    }\n",
       "\n",
       "    .dataframe thead th {\n",
       "        text-align: right;\n",
       "    }\n",
       "</style>\n",
       "<table border=\"1\" class=\"dataframe\">\n",
       "  <thead>\n",
       "    <tr style=\"text-align: right;\">\n",
       "      <th></th>\n",
       "      <th>Name/Source</th>\n",
       "      <th>Direction</th>\n",
       "      <th>Type</th>\n",
       "      <th>Association Type</th>\n",
       "      <th>Lineage Type</th>\n",
       "    </tr>\n",
       "  </thead>\n",
       "  <tbody>\n",
       "    <tr>\n",
       "      <th>0</th>\n",
       "      <td>s3://...95fba8dae5719b4/input/code/processing.py</td>\n",
       "      <td>Input</td>\n",
       "      <td>DataSet</td>\n",
       "      <td>ContributedTo</td>\n",
       "      <td>artifact</td>\n",
       "    </tr>\n",
       "    <tr>\n",
       "      <th>1</th>\n",
       "      <td>s3://...3144976/data/transformed_querying/month1</td>\n",
       "      <td>Input</td>\n",
       "      <td>DataSet</td>\n",
       "      <td>ContributedTo</td>\n",
       "      <td>artifact</td>\n",
       "    </tr>\n",
       "    <tr>\n",
       "      <th>2</th>\n",
       "      <td>65978...com/sagemaker-scikit-learn:1.0-1-cpu-py3</td>\n",
       "      <td>Input</td>\n",
       "      <td>Image</td>\n",
       "      <td>ContributedTo</td>\n",
       "      <td>artifact</td>\n",
       "    </tr>\n",
       "    <tr>\n",
       "      <th>3</th>\n",
       "      <td>s3://...dae5719b4/output/bank-churn-mon1-encoder</td>\n",
       "      <td>Output</td>\n",
       "      <td>DataSet</td>\n",
       "      <td>Produced</td>\n",
       "      <td>artifact</td>\n",
       "    </tr>\n",
       "    <tr>\n",
       "      <th>4</th>\n",
       "      <td>s3://...ba8dae5719b4/output/bank-churn-mon1-test</td>\n",
       "      <td>Output</td>\n",
       "      <td>DataSet</td>\n",
       "      <td>Produced</td>\n",
       "      <td>artifact</td>\n",
       "    </tr>\n",
       "    <tr>\n",
       "      <th>5</th>\n",
       "      <td>s3://...5719b4/output/bank-churn-mon1-validation</td>\n",
       "      <td>Output</td>\n",
       "      <td>DataSet</td>\n",
       "      <td>Produced</td>\n",
       "      <td>artifact</td>\n",
       "    </tr>\n",
       "    <tr>\n",
       "      <th>6</th>\n",
       "      <td>s3://...a8dae5719b4/output/bank-churn-mon1-train</td>\n",
       "      <td>Output</td>\n",
       "      <td>DataSet</td>\n",
       "      <td>Produced</td>\n",
       "      <td>artifact</td>\n",
       "    </tr>\n",
       "  </tbody>\n",
       "</table>\n",
       "</div>"
      ],
      "text/plain": [
       "                                        Name/Source Direction     Type  \\\n",
       "0  s3://...95fba8dae5719b4/input/code/processing.py     Input  DataSet   \n",
       "1  s3://...3144976/data/transformed_querying/month1     Input  DataSet   \n",
       "2  65978...com/sagemaker-scikit-learn:1.0-1-cpu-py3     Input    Image   \n",
       "3  s3://...dae5719b4/output/bank-churn-mon1-encoder    Output  DataSet   \n",
       "4  s3://...ba8dae5719b4/output/bank-churn-mon1-test    Output  DataSet   \n",
       "5  s3://...5719b4/output/bank-churn-mon1-validation    Output  DataSet   \n",
       "6  s3://...a8dae5719b4/output/bank-churn-mon1-train    Output  DataSet   \n",
       "\n",
       "  Association Type Lineage Type  \n",
       "0    ContributedTo     artifact  \n",
       "1    ContributedTo     artifact  \n",
       "2    ContributedTo     artifact  \n",
       "3         Produced     artifact  \n",
       "4         Produced     artifact  \n",
       "5         Produced     artifact  \n",
       "6         Produced     artifact  "
      ]
     },
     "metadata": {},
     "output_type": "display_data"
    },
    {
     "name": "stdout",
     "output_type": "stream",
     "text": [
      "{'AttemptCount': 1,\n",
      " 'EndTime': datetime.datetime(2024, 10, 2, 13, 45, 50, 776000, tzinfo=tzlocal()),\n",
      " 'Metadata': {'TuningJob': {'Arn': 'arn:aws:sagemaker:eu-west-3:668303144976:hyper-parameter-tuning-job/y8a6c91lumhh-ModelTra-GTH766MIe3'}},\n",
      " 'StartTime': datetime.datetime(2024, 10, 2, 13, 38, 25, 914000, tzinfo=tzlocal()),\n",
      " 'StepName': 'ModelTraining',\n",
      " 'StepStatus': 'Succeeded'}\n"
     ]
    },
    {
     "data": {
      "text/plain": [
       "None"
      ]
     },
     "metadata": {},
     "output_type": "display_data"
    },
    {
     "name": "stdout",
     "output_type": "stream",
     "text": [
      "{'AttemptCount': 1,\n",
      " 'EndTime': datetime.datetime(2024, 10, 2, 13, 51, 1, 717000, tzinfo=tzlocal()),\n",
      " 'Metadata': {'ProcessingJob': {'Arn': 'arn:aws:sagemaker:eu-west-3:668303144976:processing-job/pipelines-y8a6c91lumhh-EvaluateMetrics-YQTHrwwOOr'}},\n",
      " 'StartTime': datetime.datetime(2024, 10, 2, 13, 45, 51, 225000, tzinfo=tzlocal()),\n",
      " 'StepName': 'EvaluateMetrics',\n",
      " 'StepStatus': 'Succeeded'}\n"
     ]
    },
    {
     "data": {
      "text/html": [
       "<div>\n",
       "<style scoped>\n",
       "    .dataframe tbody tr th:only-of-type {\n",
       "        vertical-align: middle;\n",
       "    }\n",
       "\n",
       "    .dataframe tbody tr th {\n",
       "        vertical-align: top;\n",
       "    }\n",
       "\n",
       "    .dataframe thead th {\n",
       "        text-align: right;\n",
       "    }\n",
       "</style>\n",
       "<table border=\"1\" class=\"dataframe\">\n",
       "  <thead>\n",
       "    <tr style=\"text-align: right;\">\n",
       "      <th></th>\n",
       "      <th>Name/Source</th>\n",
       "      <th>Direction</th>\n",
       "      <th>Type</th>\n",
       "      <th>Association Type</th>\n",
       "      <th>Lineage Type</th>\n",
       "    </tr>\n",
       "  </thead>\n",
       "  <tbody>\n",
       "    <tr>\n",
       "      <th>0</th>\n",
       "      <td>s3://...ef17938f9/input/code/evaluate_metrics.py</td>\n",
       "      <td>Input</td>\n",
       "      <td>DataSet</td>\n",
       "      <td>ContributedTo</td>\n",
       "      <td>artifact</td>\n",
       "    </tr>\n",
       "    <tr>\n",
       "      <th>1</th>\n",
       "      <td>s3://...ba8dae5719b4/output/bank-churn-mon1-test</td>\n",
       "      <td>Input</td>\n",
       "      <td>DataSet</td>\n",
       "      <td>ContributedTo</td>\n",
       "      <td>artifact</td>\n",
       "    </tr>\n",
       "    <tr>\n",
       "      <th>2</th>\n",
       "      <td>s3://...766MIe3-009-d26a0a08/output/model.tar.gz</td>\n",
       "      <td>Input</td>\n",
       "      <td>Model</td>\n",
       "      <td>ContributedTo</td>\n",
       "      <td>artifact</td>\n",
       "    </tr>\n",
       "    <tr>\n",
       "      <th>3</th>\n",
       "      <td>65978...com/sagemaker-scikit-learn:1.0-1-cpu-py3</td>\n",
       "      <td>Input</td>\n",
       "      <td>Image</td>\n",
       "      <td>ContributedTo</td>\n",
       "      <td>artifact</td>\n",
       "    </tr>\n",
       "    <tr>\n",
       "      <th>4</th>\n",
       "      <td>s3://...49391644b997c852ef17938f9/output/metrics</td>\n",
       "      <td>Output</td>\n",
       "      <td>DataSet</td>\n",
       "      <td>Produced</td>\n",
       "      <td>artifact</td>\n",
       "    </tr>\n",
       "  </tbody>\n",
       "</table>\n",
       "</div>"
      ],
      "text/plain": [
       "                                        Name/Source Direction     Type  \\\n",
       "0  s3://...ef17938f9/input/code/evaluate_metrics.py     Input  DataSet   \n",
       "1  s3://...ba8dae5719b4/output/bank-churn-mon1-test     Input  DataSet   \n",
       "2  s3://...766MIe3-009-d26a0a08/output/model.tar.gz     Input    Model   \n",
       "3  65978...com/sagemaker-scikit-learn:1.0-1-cpu-py3     Input    Image   \n",
       "4  s3://...49391644b997c852ef17938f9/output/metrics    Output  DataSet   \n",
       "\n",
       "  Association Type Lineage Type  \n",
       "0    ContributedTo     artifact  \n",
       "1    ContributedTo     artifact  \n",
       "2    ContributedTo     artifact  \n",
       "3    ContributedTo     artifact  \n",
       "4         Produced     artifact  "
      ]
     },
     "metadata": {},
     "output_type": "display_data"
    },
    {
     "name": "stdout",
     "output_type": "stream",
     "text": [
      "{'AttemptCount': 1,\n",
      " 'EndTime': datetime.datetime(2024, 10, 2, 13, 51, 3, 284000, tzinfo=tzlocal()),\n",
      " 'Metadata': {'Condition': {'Outcome': 'True'}},\n",
      " 'StartTime': datetime.datetime(2024, 10, 2, 13, 51, 2, 784000, tzinfo=tzlocal()),\n",
      " 'StepName': 'MinimumAccuracyCondition',\n",
      " 'StepStatus': 'Succeeded'}\n"
     ]
    },
    {
     "data": {
      "text/plain": [
       "None"
      ]
     },
     "metadata": {},
     "output_type": "display_data"
    },
    {
     "name": "stdout",
     "output_type": "stream",
     "text": [
      "{'AttemptCount': 1,\n",
      " 'EndTime': datetime.datetime(2024, 10, 2, 13, 51, 5, 626000, tzinfo=tzlocal()),\n",
      " 'Metadata': {'RegisterModel': {'Arn': 'arn:aws:sagemaker:eu-west-3:668303144976:model-package/churn-month1-pipeline/2'}},\n",
      " 'StartTime': datetime.datetime(2024, 10, 2, 13, 51, 3, 756000, tzinfo=tzlocal()),\n",
      " 'StepName': 'RegisterModel-RegisterModel',\n",
      " 'StepStatus': 'Succeeded'}\n"
     ]
    },
    {
     "data": {
      "text/html": [
       "<div>\n",
       "<style scoped>\n",
       "    .dataframe tbody tr th:only-of-type {\n",
       "        vertical-align: middle;\n",
       "    }\n",
       "\n",
       "    .dataframe tbody tr th {\n",
       "        vertical-align: top;\n",
       "    }\n",
       "\n",
       "    .dataframe thead th {\n",
       "        text-align: right;\n",
       "    }\n",
       "</style>\n",
       "<table border=\"1\" class=\"dataframe\">\n",
       "  <thead>\n",
       "    <tr style=\"text-align: right;\">\n",
       "      <th></th>\n",
       "      <th>Name/Source</th>\n",
       "      <th>Direction</th>\n",
       "      <th>Type</th>\n",
       "      <th>Association Type</th>\n",
       "      <th>Lineage Type</th>\n",
       "    </tr>\n",
       "  </thead>\n",
       "  <tbody>\n",
       "    <tr>\n",
       "      <th>0</th>\n",
       "      <td>s3://...766MIe3-009-d26a0a08/output/model.tar.gz</td>\n",
       "      <td>Input</td>\n",
       "      <td>Model</td>\n",
       "      <td>ContributedTo</td>\n",
       "      <td>artifact</td>\n",
       "    </tr>\n",
       "    <tr>\n",
       "      <th>1</th>\n",
       "      <td>65978...com/sagemaker-scikit-learn:1.0-1-cpu-py3</td>\n",
       "      <td>Input</td>\n",
       "      <td>Image</td>\n",
       "      <td>ContributedTo</td>\n",
       "      <td>artifact</td>\n",
       "    </tr>\n",
       "    <tr>\n",
       "      <th>2</th>\n",
       "      <td>churn-month1-pipeline-2-PendingManualApproval-...</td>\n",
       "      <td>Input</td>\n",
       "      <td>Approval</td>\n",
       "      <td>ContributedTo</td>\n",
       "      <td>action</td>\n",
       "    </tr>\n",
       "    <tr>\n",
       "      <th>3</th>\n",
       "      <td>churn-month1-pipeline-1727453981-aws-model-pac...</td>\n",
       "      <td>Output</td>\n",
       "      <td>ModelGroup</td>\n",
       "      <td>AssociatedWith</td>\n",
       "      <td>context</td>\n",
       "    </tr>\n",
       "  </tbody>\n",
       "</table>\n",
       "</div>"
      ],
      "text/plain": [
       "                                         Name/Source Direction        Type  \\\n",
       "0   s3://...766MIe3-009-d26a0a08/output/model.tar.gz     Input       Model   \n",
       "1   65978...com/sagemaker-scikit-learn:1.0-1-cpu-py3     Input       Image   \n",
       "2  churn-month1-pipeline-2-PendingManualApproval-...     Input    Approval   \n",
       "3  churn-month1-pipeline-1727453981-aws-model-pac...    Output  ModelGroup   \n",
       "\n",
       "  Association Type Lineage Type  \n",
       "0    ContributedTo     artifact  \n",
       "1    ContributedTo     artifact  \n",
       "2    ContributedTo       action  \n",
       "3   AssociatedWith      context  "
      ]
     },
     "metadata": {},
     "output_type": "display_data"
    },
    {
     "name": "stdout",
     "output_type": "stream",
     "text": [
      "{'AttemptCount': 1,\n",
      " 'EndTime': datetime.datetime(2024, 10, 2, 13, 51, 5, 327000, tzinfo=tzlocal()),\n",
      " 'Metadata': {'Model': {'Arn': 'arn:aws:sagemaker:eu-west-3:668303144976:model/pipelines-y8a6c91lumhh-CreateModel-eJO6K98Cgh'}},\n",
      " 'StartTime': datetime.datetime(2024, 10, 2, 13, 51, 3, 756000, tzinfo=tzlocal()),\n",
      " 'StepName': 'CreateModel',\n",
      " 'StepStatus': 'Succeeded'}\n"
     ]
    },
    {
     "data": {
      "text/plain": [
       "None"
      ]
     },
     "metadata": {},
     "output_type": "display_data"
    }
   ],
   "source": [
    "import time\n",
    "from sagemaker.lineage.visualizer import LineageTableVisualizer\n",
    "\n",
    "viz = LineageTableVisualizer(sagemaker.session.Session())\n",
    "\n",
    "for execution_step in reversed(execution_steps):\n",
    "    pprint(execution_step)\n",
    "    if execution_step['StepName'] == 'DataProcessing':\n",
    "        processing_job_name=execution_step['Metadata']['ProcessingJob']['Arn'].split('/')[-1]\n",
    "        print('Processing job name: {}'.format(processing_job_name))\n",
    "        display(viz.show(processing_job_name=processing_job_name))\n",
    "    # elif execution_step['StepName'] == 'ModelTraining':\n",
    "    #     training_job_name=execution_step['Metadata']['TuningJob']['Arn'].split('/')[-1]\n",
    "    #     print('Training job name: {}'.format(training_job_name))\n",
    "    #     display(viz.show(training_job_name=training_job_name))\n",
    "    else:\n",
    "        display(viz.show(pipeline_execution_step=execution_step))\n",
    "        time.sleep(5)"
   ]
  },
  {
   "cell_type": "markdown",
   "id": "1913be35-bdea-4860-90e4-e9f3cd98f3e4",
   "metadata": {},
   "source": [
    "## 9. Model deployment and testing"
   ]
  },
  {
   "cell_type": "markdown",
   "id": "2e6197ec-93e1-4489-8aae-b0b18e374870",
   "metadata": {},
   "source": [
    "### 9.1 Approve trained model"
   ]
  },
  {
   "cell_type": "code",
   "execution_count": 73,
   "id": "b0ce210b-c052-47b4-b3c9-c0b53d16089a",
   "metadata": {
    "tags": []
   },
   "outputs": [
    {
     "name": "stdout",
     "output_type": "stream",
     "text": [
      "Model package arn: arn:aws:sagemaker:eu-west-3:668303144976:model-package/churn-month1-pipeline/2\n"
     ]
    }
   ],
   "source": [
    "for execution_step in reversed(execution_steps):\n",
    "    if execution_step[\"StepName\"] == \"RegisterModel-RegisterModel\":\n",
    "        model_package_arn = execution_step[\"Metadata\"][\"RegisterModel\"][\"Arn\"]\n",
    "        break\n",
    "        \n",
    "print(\"Model package arn: {}\".format(model_package_arn))"
   ]
  },
  {
   "cell_type": "markdown",
   "id": "93d92837-7ac0-4c48-9be9-d8aeaa739a17",
   "metadata": {},
   "source": [
    "Update model package to `Approved` status before deployment."
   ]
  },
  {
   "cell_type": "code",
   "execution_count": 74,
   "id": "321ffa31-21d7-440f-a269-80aa889af0ee",
   "metadata": {
    "tags": []
   },
   "outputs": [
    {
     "name": "stdout",
     "output_type": "stream",
     "text": [
      "{'ModelPackageArn': 'arn:aws:sagemaker:eu-west-3:668303144976:model-package/churn-month1-pipeline/2',\n",
      " 'ResponseMetadata': {'HTTPHeaders': {'content-length': '100',\n",
      "                                      'content-type': 'application/x-amz-json-1.1',\n",
      "                                      'date': 'Wed, 02 Oct 2024 14:07:28 GMT',\n",
      "                                      'x-amzn-requestid': '3f52e10d-7a8a-4214-9a38-cc769e7485a4'},\n",
      "                      'HTTPStatusCode': 200,\n",
      "                      'RequestId': '3f52e10d-7a8a-4214-9a38-cc769e7485a4',\n",
      "                      'RetryAttempts': 0}}\n"
     ]
    }
   ],
   "source": [
    "model_package_response = sm.update_model_package(\n",
    "    ModelPackageArn=model_package_arn,\n",
    "    ModelApprovalStatus=\"Approved\",\n",
    "    ApprovalDescription=\"Accuracy is good, Ok for depoyment.\"\n",
    ")\n",
    "\n",
    "pprint(model_package_response)"
   ]
  },
  {
   "cell_type": "markdown",
   "id": "a8e38e41-6561-4581-a1a6-95fc2dd0d0b7",
   "metadata": {},
   "source": [
    "### 9.3 Create endpoint from model registry"
   ]
  },
  {
   "cell_type": "markdown",
   "id": "cafadd41-1876-415a-80b8-4c2e39bbedcd",
   "metadata": {},
   "source": [
    "#### 9.3.1 Retrieve model name\n",
    "Model arn and name need to be pulled from the pipeline execution steps."
   ]
  },
  {
   "cell_type": "code",
   "execution_count": 75,
   "id": "81213c5a-aa89-4f8c-9c25-ab746cadd724",
   "metadata": {
    "tags": []
   },
   "outputs": [
    {
     "name": "stdout",
     "output_type": "stream",
     "text": [
      "Model arn: arn:aws:sagemaker:eu-west-3:668303144976:model/pipelines-y8a6c91lumhh-CreateModel-eJO6K98Cgh\n",
      "Model name: pipelines-y8a6c91lumhh-CreateModel-eJO6K98Cgh\n"
     ]
    }
   ],
   "source": [
    "for execution_step in reversed(execution_steps):\n",
    "    if execution_step[\"StepName\"] == \"CreateModel\":\n",
    "        model_arn = execution_step[\"Metadata\"][\"Model\"][\"Arn\"]\n",
    "        break\n",
    "\n",
    "model_name = model_arn.split('/')[-1]\n",
    "print(\"Model arn: {}\".format(model_arn))\n",
    "print(\"Model name: {}\".format(model_name))"
   ]
  },
  {
   "cell_type": "markdown",
   "id": "e9925011-3be6-4036-b0b6-1da5f1fded23",
   "metadata": {},
   "source": [
    "#### 9.3.2 Configure and create the endpoint\n",
    "\n",
    "Create the endpoint configuration.\n"
   ]
  },
  {
   "cell_type": "code",
   "execution_count": 76,
   "id": "5ff9b9eb-fc81-472b-8418-b646766df7ce",
   "metadata": {
    "tags": []
   },
   "outputs": [],
   "source": [
    "import time\n",
    "\n",
    "timestamp = int(time.time())"
   ]
  },
  {
   "cell_type": "code",
   "execution_count": 77,
   "id": "8d99d209-75c6-4b6b-b2ac-2070f40f50b1",
   "metadata": {
    "tags": []
   },
   "outputs": [],
   "source": [
    "endpoint_config_name = 'churn-prediction-epc-{}'.format(timestamp)\n",
    "\n",
    "create_endpoint_config_response = sm.create_endpoint_config(\n",
    "    EndpointConfigName=endpoint_config_name,\n",
    "    ProductionVariants=[\n",
    "        {\n",
    "            'InstanceType':'ml.m5.xlarge',\n",
    "            'InitialVariantWeight':1,\n",
    "            'InitialInstanceCount':1,\n",
    "            'ModelName': model_name,\n",
    "            'VariantName':'AllTraffic'\n",
    "        }\n",
    "    ]\n",
    ")"
   ]
  },
  {
   "cell_type": "markdown",
   "id": "41028ef4-26b0-4392-af04-e2914e4b459c",
   "metadata": {},
   "source": [
    "Create the endpoint"
   ]
  },
  {
   "cell_type": "code",
   "execution_count": 78,
   "id": "24d2d74d-e232-4fba-8c56-fb971417dc52",
   "metadata": {
    "tags": []
   },
   "outputs": [
    {
     "name": "stdout",
     "output_type": "stream",
     "text": [
      "arn:aws:sagemaker:eu-west-3:668303144976:endpoint/churn-prediction-ep-1727878061\n"
     ]
    }
   ],
   "source": [
    "endpoint_name = 'churn-prediction-ep-{}'.format(timestamp)\n",
    "\n",
    "create_endpoint_response = sm.create_endpoint(\n",
    "    EndpointName=endpoint_name,\n",
    "    EndpointConfigName=endpoint_config_name,\n",
    ")\n",
    "\n",
    "print(create_endpoint_response['EndpointArn'])"
   ]
  },
  {
   "cell_type": "markdown",
   "id": "c8c494b1-c0b8-4761-9681-981b1505f73e",
   "metadata": {},
   "source": [
    "Wait until endpoint is deployed."
   ]
  },
  {
   "cell_type": "code",
   "execution_count": 79,
   "id": "b9542e2b-91d9-4dea-9e8a-a2a3e232d7d0",
   "metadata": {
    "tags": []
   },
   "outputs": [
    {
     "name": "stdout",
     "output_type": "stream",
     "text": [
      "Waiting for endpoint to be in `InService`...\n",
      "Endpoint deployed.\n",
      "CPU times: user 34.5 ms, sys: 20.8 ms, total: 55.3 ms\n",
      "Wall time: 3min 30s\n"
     ]
    }
   ],
   "source": [
    "%%time\n",
    "\n",
    "while True:\n",
    "    try: \n",
    "        waiter = sm.get_waiter('endpoint_in_service')\n",
    "        print('Waiting for endpoint to be in `InService`...')\n",
    "        waiter.wait(EndpointName=endpoint_name)\n",
    "        break;\n",
    "    except:\n",
    "        print('Waiting for endpoint...')\n",
    "        endpoint_status = sm.describe_endpoint(EndpointName=endpoint_name)['EndpointStatus']\n",
    "        print('Endpoint status: {}'.format(endpoint_status))\n",
    "        if endpoint_status == 'Failed':\n",
    "            break\n",
    "        time.sleep(30)\n",
    "        \n",
    "print('Endpoint deployed.')"
   ]
  },
  {
   "cell_type": "markdown",
   "id": "ee9d1fca-d88e-40cf-8bb6-48204fd18378",
   "metadata": {},
   "source": [
    "### 9.4 Inference testing"
   ]
  },
  {
   "cell_type": "code",
   "execution_count": null,
   "id": "507fb93a-4d15-4439-976e-26f23c1267ad",
   "metadata": {
    "tags": []
   },
   "outputs": [],
   "source": [
    "from sagemaker.predictor import Predictor\n",
    "from sagemaker.base_serializers import CSVSerializer\n",
    "from sagemaker.base_deserializers import CSVDeserializer\n",
    "\n",
    "\n",
    "csv_serializer = CSVSerializer()\n",
    "csv_deserializer = CSVDeserializer()\n",
    "\n",
    "inputs =pd.read_csv('./inference/BankChurners_mon1 (3).csv')\n",
    "\n",
    "predictor = Predictor(\n",
    "    endpoint_name=endpoint_name,\n",
    "    serializer=csv_serializer,\n",
    "    deserializer=csv_deserializer,\n",
    "    sagemaker_session=sess\n",
    ")\n",
    "\n",
    "predicted_classes = predictor.predict(inputs)\n",
    "\n",
    "for predicted_class in predicted_classes:\n",
    "    print(\"Predicted class {} with probability {}\".format(predicted_class['predicted_label'], predicted_class['probability']))"
   ]
  },
  {
   "cell_type": "markdown",
   "id": "943bf52b-b05b-4bdc-9642-58ae0b1bcb42",
   "metadata": {},
   "source": [
    "### 9.5 Cleanup resources"
   ]
  },
  {
   "cell_type": "code",
   "execution_count": 95,
   "id": "20ebfdba-cc62-42a7-90b3-998cddb1dc85",
   "metadata": {
    "tags": []
   },
   "outputs": [
    {
     "data": {
      "text/plain": [
       "{'ResponseMetadata': {'RequestId': 'df53d029-a106-4de5-92c6-f3d9ad8ee491',\n",
       "  'HTTPStatusCode': 200,\n",
       "  'HTTPHeaders': {'x-amzn-requestid': 'df53d029-a106-4de5-92c6-f3d9ad8ee491',\n",
       "   'content-type': 'application/x-amz-json-1.1',\n",
       "   'date': 'Wed, 02 Oct 2024 16:10:32 GMT',\n",
       "   'content-length': '0'},\n",
       "  'RetryAttempts': 0}}"
      ]
     },
     "execution_count": 95,
     "metadata": {},
     "output_type": "execute_result"
    }
   ],
   "source": [
    "sm.delete_model(ModelName=model_name)\n",
    "sm.delete_endpoint_config(EndpointConfigName=endpoint_config_name)\n",
    "sm.delete_endpoint(EndpointName=endpoint_name)"
   ]
  }
 ],
 "metadata": {
  "availableInstances": [
   {
    "_defaultOrder": 0,
    "_isFastLaunch": true,
    "category": "General purpose",
    "gpuNum": 0,
    "hideHardwareSpecs": false,
    "memoryGiB": 4,
    "name": "ml.t3.medium",
    "vcpuNum": 2
   },
   {
    "_defaultOrder": 1,
    "_isFastLaunch": false,
    "category": "General purpose",
    "gpuNum": 0,
    "hideHardwareSpecs": false,
    "memoryGiB": 8,
    "name": "ml.t3.large",
    "vcpuNum": 2
   },
   {
    "_defaultOrder": 2,
    "_isFastLaunch": false,
    "category": "General purpose",
    "gpuNum": 0,
    "hideHardwareSpecs": false,
    "memoryGiB": 16,
    "name": "ml.t3.xlarge",
    "vcpuNum": 4
   },
   {
    "_defaultOrder": 3,
    "_isFastLaunch": false,
    "category": "General purpose",
    "gpuNum": 0,
    "hideHardwareSpecs": false,
    "memoryGiB": 32,
    "name": "ml.t3.2xlarge",
    "vcpuNum": 8
   },
   {
    "_defaultOrder": 4,
    "_isFastLaunch": true,
    "category": "General purpose",
    "gpuNum": 0,
    "hideHardwareSpecs": false,
    "memoryGiB": 8,
    "name": "ml.m5.large",
    "vcpuNum": 2
   },
   {
    "_defaultOrder": 5,
    "_isFastLaunch": false,
    "category": "General purpose",
    "gpuNum": 0,
    "hideHardwareSpecs": false,
    "memoryGiB": 16,
    "name": "ml.m5.xlarge",
    "vcpuNum": 4
   },
   {
    "_defaultOrder": 6,
    "_isFastLaunch": false,
    "category": "General purpose",
    "gpuNum": 0,
    "hideHardwareSpecs": false,
    "memoryGiB": 32,
    "name": "ml.m5.2xlarge",
    "vcpuNum": 8
   },
   {
    "_defaultOrder": 7,
    "_isFastLaunch": false,
    "category": "General purpose",
    "gpuNum": 0,
    "hideHardwareSpecs": false,
    "memoryGiB": 64,
    "name": "ml.m5.4xlarge",
    "vcpuNum": 16
   },
   {
    "_defaultOrder": 8,
    "_isFastLaunch": false,
    "category": "General purpose",
    "gpuNum": 0,
    "hideHardwareSpecs": false,
    "memoryGiB": 128,
    "name": "ml.m5.8xlarge",
    "vcpuNum": 32
   },
   {
    "_defaultOrder": 9,
    "_isFastLaunch": false,
    "category": "General purpose",
    "gpuNum": 0,
    "hideHardwareSpecs": false,
    "memoryGiB": 192,
    "name": "ml.m5.12xlarge",
    "vcpuNum": 48
   },
   {
    "_defaultOrder": 10,
    "_isFastLaunch": false,
    "category": "General purpose",
    "gpuNum": 0,
    "hideHardwareSpecs": false,
    "memoryGiB": 256,
    "name": "ml.m5.16xlarge",
    "vcpuNum": 64
   },
   {
    "_defaultOrder": 11,
    "_isFastLaunch": false,
    "category": "General purpose",
    "gpuNum": 0,
    "hideHardwareSpecs": false,
    "memoryGiB": 384,
    "name": "ml.m5.24xlarge",
    "vcpuNum": 96
   },
   {
    "_defaultOrder": 12,
    "_isFastLaunch": false,
    "category": "General purpose",
    "gpuNum": 0,
    "hideHardwareSpecs": false,
    "memoryGiB": 8,
    "name": "ml.m5d.large",
    "vcpuNum": 2
   },
   {
    "_defaultOrder": 13,
    "_isFastLaunch": false,
    "category": "General purpose",
    "gpuNum": 0,
    "hideHardwareSpecs": false,
    "memoryGiB": 16,
    "name": "ml.m5d.xlarge",
    "vcpuNum": 4
   },
   {
    "_defaultOrder": 14,
    "_isFastLaunch": false,
    "category": "General purpose",
    "gpuNum": 0,
    "hideHardwareSpecs": false,
    "memoryGiB": 32,
    "name": "ml.m5d.2xlarge",
    "vcpuNum": 8
   },
   {
    "_defaultOrder": 15,
    "_isFastLaunch": false,
    "category": "General purpose",
    "gpuNum": 0,
    "hideHardwareSpecs": false,
    "memoryGiB": 64,
    "name": "ml.m5d.4xlarge",
    "vcpuNum": 16
   },
   {
    "_defaultOrder": 16,
    "_isFastLaunch": false,
    "category": "General purpose",
    "gpuNum": 0,
    "hideHardwareSpecs": false,
    "memoryGiB": 128,
    "name": "ml.m5d.8xlarge",
    "vcpuNum": 32
   },
   {
    "_defaultOrder": 17,
    "_isFastLaunch": false,
    "category": "General purpose",
    "gpuNum": 0,
    "hideHardwareSpecs": false,
    "memoryGiB": 192,
    "name": "ml.m5d.12xlarge",
    "vcpuNum": 48
   },
   {
    "_defaultOrder": 18,
    "_isFastLaunch": false,
    "category": "General purpose",
    "gpuNum": 0,
    "hideHardwareSpecs": false,
    "memoryGiB": 256,
    "name": "ml.m5d.16xlarge",
    "vcpuNum": 64
   },
   {
    "_defaultOrder": 19,
    "_isFastLaunch": false,
    "category": "General purpose",
    "gpuNum": 0,
    "hideHardwareSpecs": false,
    "memoryGiB": 384,
    "name": "ml.m5d.24xlarge",
    "vcpuNum": 96
   },
   {
    "_defaultOrder": 20,
    "_isFastLaunch": false,
    "category": "General purpose",
    "gpuNum": 0,
    "hideHardwareSpecs": true,
    "memoryGiB": 0,
    "name": "ml.geospatial.interactive",
    "supportedImageNames": [
     "sagemaker-geospatial-v1-0"
    ],
    "vcpuNum": 0
   },
   {
    "_defaultOrder": 21,
    "_isFastLaunch": true,
    "category": "Compute optimized",
    "gpuNum": 0,
    "hideHardwareSpecs": false,
    "memoryGiB": 4,
    "name": "ml.c5.large",
    "vcpuNum": 2
   },
   {
    "_defaultOrder": 22,
    "_isFastLaunch": false,
    "category": "Compute optimized",
    "gpuNum": 0,
    "hideHardwareSpecs": false,
    "memoryGiB": 8,
    "name": "ml.c5.xlarge",
    "vcpuNum": 4
   },
   {
    "_defaultOrder": 23,
    "_isFastLaunch": false,
    "category": "Compute optimized",
    "gpuNum": 0,
    "hideHardwareSpecs": false,
    "memoryGiB": 16,
    "name": "ml.c5.2xlarge",
    "vcpuNum": 8
   },
   {
    "_defaultOrder": 24,
    "_isFastLaunch": false,
    "category": "Compute optimized",
    "gpuNum": 0,
    "hideHardwareSpecs": false,
    "memoryGiB": 32,
    "name": "ml.c5.4xlarge",
    "vcpuNum": 16
   },
   {
    "_defaultOrder": 25,
    "_isFastLaunch": false,
    "category": "Compute optimized",
    "gpuNum": 0,
    "hideHardwareSpecs": false,
    "memoryGiB": 72,
    "name": "ml.c5.9xlarge",
    "vcpuNum": 36
   },
   {
    "_defaultOrder": 26,
    "_isFastLaunch": false,
    "category": "Compute optimized",
    "gpuNum": 0,
    "hideHardwareSpecs": false,
    "memoryGiB": 96,
    "name": "ml.c5.12xlarge",
    "vcpuNum": 48
   },
   {
    "_defaultOrder": 27,
    "_isFastLaunch": false,
    "category": "Compute optimized",
    "gpuNum": 0,
    "hideHardwareSpecs": false,
    "memoryGiB": 144,
    "name": "ml.c5.18xlarge",
    "vcpuNum": 72
   },
   {
    "_defaultOrder": 28,
    "_isFastLaunch": false,
    "category": "Compute optimized",
    "gpuNum": 0,
    "hideHardwareSpecs": false,
    "memoryGiB": 192,
    "name": "ml.c5.24xlarge",
    "vcpuNum": 96
   },
   {
    "_defaultOrder": 29,
    "_isFastLaunch": true,
    "category": "Accelerated computing",
    "gpuNum": 1,
    "hideHardwareSpecs": false,
    "memoryGiB": 16,
    "name": "ml.g4dn.xlarge",
    "vcpuNum": 4
   },
   {
    "_defaultOrder": 30,
    "_isFastLaunch": false,
    "category": "Accelerated computing",
    "gpuNum": 1,
    "hideHardwareSpecs": false,
    "memoryGiB": 32,
    "name": "ml.g4dn.2xlarge",
    "vcpuNum": 8
   },
   {
    "_defaultOrder": 31,
    "_isFastLaunch": false,
    "category": "Accelerated computing",
    "gpuNum": 1,
    "hideHardwareSpecs": false,
    "memoryGiB": 64,
    "name": "ml.g4dn.4xlarge",
    "vcpuNum": 16
   },
   {
    "_defaultOrder": 32,
    "_isFastLaunch": false,
    "category": "Accelerated computing",
    "gpuNum": 1,
    "hideHardwareSpecs": false,
    "memoryGiB": 128,
    "name": "ml.g4dn.8xlarge",
    "vcpuNum": 32
   },
   {
    "_defaultOrder": 33,
    "_isFastLaunch": false,
    "category": "Accelerated computing",
    "gpuNum": 4,
    "hideHardwareSpecs": false,
    "memoryGiB": 192,
    "name": "ml.g4dn.12xlarge",
    "vcpuNum": 48
   },
   {
    "_defaultOrder": 34,
    "_isFastLaunch": false,
    "category": "Accelerated computing",
    "gpuNum": 1,
    "hideHardwareSpecs": false,
    "memoryGiB": 256,
    "name": "ml.g4dn.16xlarge",
    "vcpuNum": 64
   },
   {
    "_defaultOrder": 35,
    "_isFastLaunch": false,
    "category": "Accelerated computing",
    "gpuNum": 1,
    "hideHardwareSpecs": false,
    "memoryGiB": 61,
    "name": "ml.p3.2xlarge",
    "vcpuNum": 8
   },
   {
    "_defaultOrder": 36,
    "_isFastLaunch": false,
    "category": "Accelerated computing",
    "gpuNum": 4,
    "hideHardwareSpecs": false,
    "memoryGiB": 244,
    "name": "ml.p3.8xlarge",
    "vcpuNum": 32
   },
   {
    "_defaultOrder": 37,
    "_isFastLaunch": false,
    "category": "Accelerated computing",
    "gpuNum": 8,
    "hideHardwareSpecs": false,
    "memoryGiB": 488,
    "name": "ml.p3.16xlarge",
    "vcpuNum": 64
   },
   {
    "_defaultOrder": 38,
    "_isFastLaunch": false,
    "category": "Accelerated computing",
    "gpuNum": 8,
    "hideHardwareSpecs": false,
    "memoryGiB": 768,
    "name": "ml.p3dn.24xlarge",
    "vcpuNum": 96
   },
   {
    "_defaultOrder": 39,
    "_isFastLaunch": false,
    "category": "Memory Optimized",
    "gpuNum": 0,
    "hideHardwareSpecs": false,
    "memoryGiB": 16,
    "name": "ml.r5.large",
    "vcpuNum": 2
   },
   {
    "_defaultOrder": 40,
    "_isFastLaunch": false,
    "category": "Memory Optimized",
    "gpuNum": 0,
    "hideHardwareSpecs": false,
    "memoryGiB": 32,
    "name": "ml.r5.xlarge",
    "vcpuNum": 4
   },
   {
    "_defaultOrder": 41,
    "_isFastLaunch": false,
    "category": "Memory Optimized",
    "gpuNum": 0,
    "hideHardwareSpecs": false,
    "memoryGiB": 64,
    "name": "ml.r5.2xlarge",
    "vcpuNum": 8
   },
   {
    "_defaultOrder": 42,
    "_isFastLaunch": false,
    "category": "Memory Optimized",
    "gpuNum": 0,
    "hideHardwareSpecs": false,
    "memoryGiB": 128,
    "name": "ml.r5.4xlarge",
    "vcpuNum": 16
   },
   {
    "_defaultOrder": 43,
    "_isFastLaunch": false,
    "category": "Memory Optimized",
    "gpuNum": 0,
    "hideHardwareSpecs": false,
    "memoryGiB": 256,
    "name": "ml.r5.8xlarge",
    "vcpuNum": 32
   },
   {
    "_defaultOrder": 44,
    "_isFastLaunch": false,
    "category": "Memory Optimized",
    "gpuNum": 0,
    "hideHardwareSpecs": false,
    "memoryGiB": 384,
    "name": "ml.r5.12xlarge",
    "vcpuNum": 48
   },
   {
    "_defaultOrder": 45,
    "_isFastLaunch": false,
    "category": "Memory Optimized",
    "gpuNum": 0,
    "hideHardwareSpecs": false,
    "memoryGiB": 512,
    "name": "ml.r5.16xlarge",
    "vcpuNum": 64
   },
   {
    "_defaultOrder": 46,
    "_isFastLaunch": false,
    "category": "Memory Optimized",
    "gpuNum": 0,
    "hideHardwareSpecs": false,
    "memoryGiB": 768,
    "name": "ml.r5.24xlarge",
    "vcpuNum": 96
   },
   {
    "_defaultOrder": 47,
    "_isFastLaunch": false,
    "category": "Accelerated computing",
    "gpuNum": 1,
    "hideHardwareSpecs": false,
    "memoryGiB": 16,
    "name": "ml.g5.xlarge",
    "vcpuNum": 4
   },
   {
    "_defaultOrder": 48,
    "_isFastLaunch": false,
    "category": "Accelerated computing",
    "gpuNum": 1,
    "hideHardwareSpecs": false,
    "memoryGiB": 32,
    "name": "ml.g5.2xlarge",
    "vcpuNum": 8
   },
   {
    "_defaultOrder": 49,
    "_isFastLaunch": false,
    "category": "Accelerated computing",
    "gpuNum": 1,
    "hideHardwareSpecs": false,
    "memoryGiB": 64,
    "name": "ml.g5.4xlarge",
    "vcpuNum": 16
   },
   {
    "_defaultOrder": 50,
    "_isFastLaunch": false,
    "category": "Accelerated computing",
    "gpuNum": 1,
    "hideHardwareSpecs": false,
    "memoryGiB": 128,
    "name": "ml.g5.8xlarge",
    "vcpuNum": 32
   },
   {
    "_defaultOrder": 51,
    "_isFastLaunch": false,
    "category": "Accelerated computing",
    "gpuNum": 1,
    "hideHardwareSpecs": false,
    "memoryGiB": 256,
    "name": "ml.g5.16xlarge",
    "vcpuNum": 64
   },
   {
    "_defaultOrder": 52,
    "_isFastLaunch": false,
    "category": "Accelerated computing",
    "gpuNum": 4,
    "hideHardwareSpecs": false,
    "memoryGiB": 192,
    "name": "ml.g5.12xlarge",
    "vcpuNum": 48
   },
   {
    "_defaultOrder": 53,
    "_isFastLaunch": false,
    "category": "Accelerated computing",
    "gpuNum": 4,
    "hideHardwareSpecs": false,
    "memoryGiB": 384,
    "name": "ml.g5.24xlarge",
    "vcpuNum": 96
   },
   {
    "_defaultOrder": 54,
    "_isFastLaunch": false,
    "category": "Accelerated computing",
    "gpuNum": 8,
    "hideHardwareSpecs": false,
    "memoryGiB": 768,
    "name": "ml.g5.48xlarge",
    "vcpuNum": 192
   },
   {
    "_defaultOrder": 55,
    "_isFastLaunch": false,
    "category": "Accelerated computing",
    "gpuNum": 8,
    "hideHardwareSpecs": false,
    "memoryGiB": 1152,
    "name": "ml.p4d.24xlarge",
    "vcpuNum": 96
   },
   {
    "_defaultOrder": 56,
    "_isFastLaunch": false,
    "category": "Accelerated computing",
    "gpuNum": 8,
    "hideHardwareSpecs": false,
    "memoryGiB": 1152,
    "name": "ml.p4de.24xlarge",
    "vcpuNum": 96
   },
   {
    "_defaultOrder": 57,
    "_isFastLaunch": false,
    "category": "Accelerated computing",
    "gpuNum": 0,
    "hideHardwareSpecs": false,
    "memoryGiB": 32,
    "name": "ml.trn1.2xlarge",
    "vcpuNum": 8
   },
   {
    "_defaultOrder": 58,
    "_isFastLaunch": false,
    "category": "Accelerated computing",
    "gpuNum": 0,
    "hideHardwareSpecs": false,
    "memoryGiB": 512,
    "name": "ml.trn1.32xlarge",
    "vcpuNum": 128
   },
   {
    "_defaultOrder": 59,
    "_isFastLaunch": false,
    "category": "Accelerated computing",
    "gpuNum": 0,
    "hideHardwareSpecs": false,
    "memoryGiB": 512,
    "name": "ml.trn1n.32xlarge",
    "vcpuNum": 128
   }
  ],
  "instance_type": "ml.t3.medium",
  "kernelspec": {
   "display_name": "base",
   "language": "python",
   "name": "python3"
  },
  "language_info": {
   "codemirror_mode": {
    "name": "ipython",
    "version": 3
   },
   "file_extension": ".py",
   "mimetype": "text/x-python",
   "name": "python",
   "nbconvert_exporter": "python",
   "pygments_lexer": "ipython3",
   "version": "3.11.9"
  }
 },
 "nbformat": 4,
 "nbformat_minor": 5
}
