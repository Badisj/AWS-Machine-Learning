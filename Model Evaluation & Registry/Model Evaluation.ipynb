{
 "cells": [
  {
   "cell_type": "markdown",
   "id": "e1626bb3-fe7a-44f0-8aeb-a8f50e933ee0",
   "metadata": {},
   "source": [
    "# Model Evaluation & Registry\n",
    "## Evaluate model metrics & Manage artiacts for trained models  "
   ]
  },
  {
   "cell_type": "code",
   "execution_count": 38,
   "id": "79c0fb21-5385-4d32-a133-8016ed134648",
   "metadata": {
    "tags": []
   },
   "outputs": [],
   "source": [
    "import os\n",
    "import sagemaker\n",
    "import logging\n",
    "import boto3\n",
    "import time\n",
    "import pandas as pd\n",
    "import json\n",
    "import botocore\n",
    "from botocore.exceptions import ClientError\n",
    "\n",
    "\n",
    "# ========================== low-level service client of the boto3 session ==========================\n",
    "config = botocore.config.Config(user_agent_extra='bedissj-1699438736259')\n",
    "\n",
    "\n",
    "sm = boto3.client(service_name='sagemaker', \n",
    "                  config=config)\n",
    "\n",
    "sm_runtime = boto3.client('sagemaker-runtime',\n",
    "                          config=config)\n",
    "\n",
    "sess = sagemaker.Session(sagemaker_client=sm,\n",
    "                         sagemaker_runtime_client=sm_runtime)\n",
    "\n",
    "bucket = sess.default_bucket()\n",
    "role = sagemaker.get_execution_role()\n",
    "region = sess.boto_region_name\n"
   ]
  },
  {
   "cell_type": "markdown",
   "id": "92983a35-f956-49cc-9167-9a5b6596fc7d",
   "metadata": {},
   "source": [
    "## 1. Evaluate Model Metrics for Built-in AWS SageMaker Algorithms"
   ]
  },
  {
   "cell_type": "code",
   "execution_count": 48,
   "id": "19adb1a1-ff5a-4e32-ae5a-1995be7e2c53",
   "metadata": {
    "tags": []
   },
   "outputs": [],
   "source": [
    "# ========================== Processing parameters ==========================\n",
    "FRAMEWORK_VERSION = '1.2-1'\n",
    "instance_type = 'ml.t3.medium'\n",
    "instance_count = 1\n",
    "\n",
    "model_s3_uri = 's3://{}/sagemaker-scikit-lea-240604-1642-002-59cbda6b/output/'.format(bucket)\n",
    "test_data_s3_uri = 's3://{}/sagemaker-scikit-learn-2024-03-06-21-05-51-569/output/bank-churn-test/'.format(bucket)\n"
   ]
  },
  {
   "cell_type": "code",
   "execution_count": 49,
   "id": "588166fc-4e3d-42d2-a8d1-17aa15bff9d1",
   "metadata": {
    "tags": []
   },
   "outputs": [],
   "source": [
    "from sagemaker.processing import ProcessingInput, ProcessingOutput\n",
    "\n",
    "\n",
    "input_model = '/opt/ml/processing/input/model'\n",
    "input_data = '/opt/ml/processing/input/data'\n",
    "output_data = '/opt/ml/processing/output'\n",
    "\n",
    "\n",
    "# ========================== Processing inputs ==========================\n",
    "processing_inputs = [\n",
    "    #### Trained model ####\n",
    "    ProcessingInput(input_name= 'model',\n",
    "                    source=model_s3_uri,\n",
    "                    destination=input_model),\n",
    "    \n",
    "    #### Test subset ####\n",
    "    ProcessingInput(input_name='testSubset',\n",
    "                    source=test_data_s3_uri,\n",
    "                    destination=input_data)\n",
    "]\n",
    "\n",
    "\n",
    "# ========================== Processing outputs ==========================\n",
    "processing_outputs = [\n",
    "    ProcessingOutput(output_name='metrics',\n",
    "                     source=output_metrics,\n",
    "                     s3_upload_mode='EndOfJob')\n",
    "\n",
    "]\n",
    "\n",
    "\n",
    "# ========================== Processing arguments ==========================\n",
    "processing_args=[\n",
    "    '--input-model', str(input_model),\n",
    "    '--input-data', str(input_data),\n",
    "    '--output-data', str(output_data)\n",
    "]\n"
   ]
  },
  {
   "cell_type": "code",
   "execution_count": 62,
   "id": "e3894e52-15a5-4110-8950-8cfd19f048d0",
   "metadata": {
    "tags": []
   },
   "outputs": [
    {
     "name": "stderr",
     "output_type": "stream",
     "text": [
      "INFO:sagemaker.image_uris:Defaulting to only available Python version: py3\n"
     ]
    }
   ],
   "source": [
    "from sagemaker.sklearn.processing import SKLearnProcessor\n",
    "\n",
    "\n",
    "evaluation_processor = SKLearnProcessor(\n",
    "    framework_version=FRAMEWORK_VERSION,\n",
    "    instance_type=instance_type,\n",
    "    instance_count=instance_count,\n",
    "    env={'AWS_DEFAULT_REGION': region},\n",
    "    role=role,\n",
    ")\n"
   ]
  },
  {
   "cell_type": "code",
   "execution_count": 63,
   "id": "4e84345b-d13e-473c-af62-408e79312812",
   "metadata": {},
   "outputs": [
    {
     "name": "stderr",
     "output_type": "stream",
     "text": [
      "INFO:sagemaker:Creating processing-job with name sagemaker-scikit-learn-2024-06-13-14-51-43-046\n"
     ]
    }
   ],
   "source": [
    "evaluation_processor.run(\n",
    "    code='src/evaluate_metrics.py',\n",
    "    inputs=processing_inputs,\n",
    "    outputs=processing_outputs,\n",
    "    arguments=processing_args,\n",
    "    wait=False\n",
    ")\n"
   ]
  },
  {
   "cell_type": "code",
   "execution_count": 64,
   "id": "4207947f-25b0-4b52-911b-b4b8cec7f361",
   "metadata": {
    "tags": []
   },
   "outputs": [
    {
     "name": "stdout",
     "output_type": "stream",
     "text": [
      "....................................................................................................\u001b[34mCollecting matplotlib==3.2.1\n",
      "  Downloading matplotlib-3.2.1-cp38-cp38-manylinux1_x86_64.whl.metadata (5.2 kB)\u001b[0m\n",
      "\u001b[34mCollecting cycler>=0.10 (from matplotlib==3.2.1)\n",
      "  Downloading cycler-0.12.1-py3-none-any.whl.metadata (3.8 kB)\u001b[0m\n",
      "\u001b[34mCollecting kiwisolver>=1.0.1 (from matplotlib==3.2.1)\n",
      "  Downloading kiwisolver-1.4.5-cp38-cp38-manylinux_2_5_x86_64.manylinux1_x86_64.whl.metadata (6.4 kB)\u001b[0m\n",
      "\u001b[34mRequirement already satisfied: numpy>=1.11 in /miniconda3/lib/python3.8/site-packages (from matplotlib==3.2.1) (1.24.1)\u001b[0m\n",
      "\u001b[34mCollecting pyparsing!=2.0.4,!=2.1.2,!=2.1.6,>=2.0.1 (from matplotlib==3.2.1)\n",
      "  Downloading pyparsing-3.1.2-py3-none-any.whl.metadata (5.1 kB)\u001b[0m\n",
      "\u001b[34mRequirement already satisfied: python-dateutil>=2.1 in /miniconda3/lib/python3.8/site-packages (from matplotlib==3.2.1) (2.8.1)\u001b[0m\n",
      "\u001b[34mRequirement already satisfied: six>=1.5 in /miniconda3/lib/python3.8/site-packages (from python-dateutil>=2.1->matplotlib==3.2.1) (1.15.0)\u001b[0m\n",
      "\u001b[34mDownloading matplotlib-3.2.1-cp38-cp38-manylinux1_x86_64.whl (12.4 MB)\n",
      "   ━━━━━━━━━━━━━━━━━━━━━━━━━━━━━━━━━━━━━━━━ 12.4/12.4 MB 29.1 MB/s eta 0:00:00\u001b[0m\n",
      "\u001b[34mDownloading cycler-0.12.1-py3-none-any.whl (8.3 kB)\u001b[0m\n",
      "\u001b[34mDownloading kiwisolver-1.4.5-cp38-cp38-manylinux_2_5_x86_64.manylinux1_x86_64.whl (1.2 MB)\n",
      "   ━━━━━━━━━━━━━━━━━━━━━━━━━━━━━━━━━━━━━━━━ 1.2/1.2 MB 14.8 MB/s eta 0:00:00\u001b[0m\n",
      "\u001b[34mDownloading pyparsing-3.1.2-py3-none-any.whl (103 kB)\n",
      "   ━━━━━━━━━━━━━━━━━━━━━━━━━━━━━━━━━━━━━━━━ 103.2/103.2 kB 10.4 MB/s eta 0:00:00\u001b[0m\n",
      "\u001b[34mInstalling collected packages: pyparsing, kiwisolver, cycler, matplotlib\u001b[0m\n",
      "\u001b[34mSuccessfully installed cycler-0.12.1 kiwisolver-1.4.5 matplotlib-3.2.1 pyparsing-3.1.2\u001b[0m\n",
      "\u001b[34mCollecting seaborn\n",
      "  Downloading seaborn-0.13.2-py3-none-any.whl.metadata (5.4 kB)\u001b[0m\n",
      "\u001b[34mRequirement already satisfied: numpy!=1.24.0,>=1.20 in /miniconda3/lib/python3.8/site-packages (from seaborn) (1.24.1)\u001b[0m\n",
      "\u001b[34mCollecting pandas>=1.2 (from seaborn)\n",
      "  Downloading pandas-2.0.3-cp38-cp38-manylinux_2_17_x86_64.manylinux2014_x86_64.whl.metadata (18 kB)\u001b[0m\n",
      "\u001b[34mCollecting matplotlib!=3.6.1,>=3.4 (from seaborn)\n",
      "  Downloading matplotlib-3.7.5-cp38-cp38-manylinux_2_12_x86_64.manylinux2010_x86_64.whl.metadata (5.7 kB)\u001b[0m\n",
      "\u001b[34mCollecting contourpy>=1.0.1 (from matplotlib!=3.6.1,>=3.4->seaborn)\n",
      "  Downloading contourpy-1.1.1-cp38-cp38-manylinux_2_17_x86_64.manylinux2014_x86_64.whl.metadata (5.9 kB)\u001b[0m\n",
      "\u001b[34mRequirement already satisfied: cycler>=0.10 in /miniconda3/lib/python3.8/site-packages (from matplotlib!=3.6.1,>=3.4->seaborn) (0.12.1)\u001b[0m\n",
      "\u001b[34mCollecting fonttools>=4.22.0 (from matplotlib!=3.6.1,>=3.4->seaborn)\n",
      "  Downloading fonttools-4.53.0-cp38-cp38-manylinux_2_17_x86_64.manylinux2014_x86_64.whl.metadata (162 kB)\n",
      "     ━━━━━━━━━━━━━━━━━━━━━━━━━━━━━━━━━━━━━━━ 162.2/162.2 kB 2.7 MB/s eta 0:00:00\u001b[0m\n",
      "\u001b[34mRequirement already satisfied: kiwisolver>=1.0.1 in /miniconda3/lib/python3.8/site-packages (from matplotlib!=3.6.1,>=3.4->seaborn) (1.4.5)\u001b[0m\n",
      "\u001b[34mCollecting packaging>=20.0 (from matplotlib!=3.6.1,>=3.4->seaborn)\n",
      "  Downloading packaging-24.1-py3-none-any.whl.metadata (3.2 kB)\u001b[0m\n",
      "\u001b[34mRequirement already satisfied: pillow>=6.2.0 in /miniconda3/lib/python3.8/site-packages (from matplotlib!=3.6.1,>=3.4->seaborn) (10.3.0)\u001b[0m\n",
      "\u001b[34mRequirement already satisfied: pyparsing>=2.3.1 in /miniconda3/lib/python3.8/site-packages (from matplotlib!=3.6.1,>=3.4->seaborn) (3.1.2)\u001b[0m\n",
      "\u001b[34mRequirement already satisfied: python-dateutil>=2.7 in /miniconda3/lib/python3.8/site-packages (from matplotlib!=3.6.1,>=3.4->seaborn) (2.8.1)\u001b[0m\n",
      "\u001b[34mCollecting importlib-resources>=3.2.0 (from matplotlib!=3.6.1,>=3.4->seaborn)\n",
      "  Downloading importlib_resources-6.4.0-py3-none-any.whl.metadata (3.9 kB)\u001b[0m\n",
      "\u001b[34mCollecting python-dateutil>=2.7 (from matplotlib!=3.6.1,>=3.4->seaborn)\n",
      "  Downloading python_dateutil-2.9.0.post0-py2.py3-none-any.whl.metadata (8.4 kB)\u001b[0m\n",
      "\u001b[34mRequirement already satisfied: pytz>=2020.1 in /miniconda3/lib/python3.8/site-packages (from pandas>=1.2->seaborn) (2024.1)\u001b[0m\n",
      "\u001b[34mCollecting tzdata>=2022.1 (from pandas>=1.2->seaborn)\n",
      "  Downloading tzdata-2024.1-py2.py3-none-any.whl.metadata (1.4 kB)\u001b[0m\n",
      "\u001b[34mCollecting zipp>=3.1.0 (from importlib-resources>=3.2.0->matplotlib!=3.6.1,>=3.4->seaborn)\n",
      "  Downloading zipp-3.19.2-py3-none-any.whl.metadata (3.6 kB)\u001b[0m\n",
      "\u001b[34mRequirement already satisfied: six>=1.5 in /miniconda3/lib/python3.8/site-packages (from python-dateutil>=2.7->matplotlib!=3.6.1,>=3.4->seaborn) (1.15.0)\u001b[0m\n",
      "\u001b[34mDownloading seaborn-0.13.2-py3-none-any.whl (294 kB)\n",
      "   ━━━━━━━━━━━━━━━━━━━━━━━━━━━━━━━━━━━━━━━━ 294.9/294.9 kB 20.2 MB/s eta 0:00:00\u001b[0m\n",
      "\u001b[34mDownloading matplotlib-3.7.5-cp38-cp38-manylinux_2_12_x86_64.manylinux2010_x86_64.whl (9.2 MB)\u001b[0m\n",
      "\u001b[34m   ━━━━━━━━━━━━━━━━━━━━━━━━━━━━━━━━━━━━━━━━ 9.2/9.2 MB 39.7 MB/s eta 0:00:00\u001b[0m\n",
      "\u001b[34mDownloading pandas-2.0.3-cp38-cp38-manylinux_2_17_x86_64.manylinux2014_x86_64.whl (12.4 MB)\n",
      "   ━━━━━━━━━━━━━━━━━━━━━━━━━━━━━━━━━━━━━━━━ 12.4/12.4 MB 39.5 MB/s eta 0:00:00\u001b[0m\n",
      "\u001b[34mDownloading contourpy-1.1.1-cp38-cp38-manylinux_2_17_x86_64.manylinux2014_x86_64.whl (301 kB)\n",
      "   ━━━━━━━━━━━━━━━━━━━━━━━━━━━━━━━━━━━━━━━━ 301.1/301.1 kB 6.2 MB/s eta 0:00:00\u001b[0m\n",
      "\u001b[34mDownloading fonttools-4.53.0-cp38-cp38-manylinux_2_17_x86_64.manylinux2014_x86_64.whl (4.7 MB)\n",
      "   ━━━━━━━━━━━━━━━━━━━━━━━━━━━━━━━━━━━━━━━━ 4.7/4.7 MB 55.6 MB/s eta 0:00:00\u001b[0m\n",
      "\u001b[34mDownloading importlib_resources-6.4.0-py3-none-any.whl (38 kB)\u001b[0m\n",
      "\u001b[34mDownloading packaging-24.1-py3-none-any.whl (53 kB)\n",
      "   ━━━━━━━━━━━━━━━━━━━━━━━━━━━━━━━━━━━━━━━━ 54.0/54.0 kB 6.1 MB/s eta 0:00:00\u001b[0m\n",
      "\u001b[34mDownloading python_dateutil-2.9.0.post0-py2.py3-none-any.whl (229 kB)\n",
      "   ━━━━━━━━━━━━━━━━━━━━━━━━━━━━━━━━━━━━━━━━ 229.9/229.9 kB 20.0 MB/s eta 0:00:00\u001b[0m\n",
      "\u001b[34mDownloading tzdata-2024.1-py2.py3-none-any.whl (345 kB)\n",
      "   ━━━━━━━━━━━━━━━━━━━━━━━━━━━━━━━━━━━━━━━━ 345.4/345.4 kB 26.9 MB/s eta 0:00:00\u001b[0m\n",
      "\u001b[34mDownloading zipp-3.19.2-py3-none-any.whl (9.0 kB)\u001b[0m\n",
      "\u001b[34mInstalling collected packages: zipp, tzdata, python-dateutil, packaging, fonttools, contourpy, pandas, importlib-resources, matplotlib, seaborn\u001b[0m\n",
      "\u001b[34m  Attempting uninstall: python-dateutil\n",
      "    Found existing installation: python-dateutil 2.8.1\n",
      "    Uninstalling python-dateutil-2.8.1:\n",
      "      Successfully uninstalled python-dateutil-2.8.1\u001b[0m\n",
      "\u001b[34m  Attempting uninstall: pandas\n",
      "    Found existing installation: pandas 1.1.3\n",
      "    Uninstalling pandas-1.1.3:\u001b[0m\n",
      "\u001b[34m      Successfully uninstalled pandas-1.1.3\u001b[0m\n",
      "\u001b[34m  Attempting uninstall: matplotlib\n",
      "    Found existing installation: matplotlib 3.2.1\n",
      "    Uninstalling matplotlib-3.2.1:\n",
      "      Successfully uninstalled matplotlib-3.2.1\u001b[0m\n",
      "\u001b[34mERROR: pip's dependency resolver does not currently take into account all the packages that are installed. This behaviour is the source of the following dependency conflicts.\u001b[0m\n",
      "\u001b[34msagemaker-sklearn-container 2.0 requires pandas==1.1.3, but you have pandas 2.0.3 which is incompatible.\u001b[0m\n",
      "\u001b[34msagemaker-sklearn-container 2.0 requires python-dateutil==2.8.1, but you have python-dateutil 2.9.0.post0 which is incompatible.\u001b[0m\n",
      "\u001b[34mSuccessfully installed contourpy-1.1.1 fonttools-4.53.0 importlib-resources-6.4.0 matplotlib-3.7.5 packaging-24.1 pandas-2.0.3 python-dateutil-2.9.0.post0 seaborn-0.13.2 tzdata-2024.1 zipp-3.19.2\u001b[0m\n",
      "\u001b[34mLoaded arguments:\u001b[0m\n",
      "\u001b[34mNamespace(current_host='algo-1', hosts=['algo-1'], input_data='/opt/ml/processing/input/data', input_model='/opt/ml/processing/input/model', output_data='/opt/ml/processing/output')\u001b[0m\n",
      "\u001b[34mEnvironment variables:\u001b[0m\n",
      "\u001b[34menviron({'PATH': '/miniconda3/bin:/usr/local/sbin:/usr/local/bin:/usr/sbin:/usr/bin:/sbin:/bin', 'HOSTNAME': 'ip-10-0-124-183.eu-west-3.compute.internal', 'AWS_DEFAULT_REGION': 'eu-west-3', 'AWS_REGION': 'eu-west-3', 'AWS_CONTAINER_CREDENTIALS_RELATIVE_URI': '/v2/credentials/NE1SdV6qAGEdadGPiJaiXpLqdIf0HxOZTW8sytyRuaA', 'DEBIAN_FRONTEND': 'noninteractive', 'PIP_ROOT_USER_ACTION': 'ignore', 'PYTHONDONTWRITEBYTECODE': '1', 'PYTHONUNBUFFERED': '1', 'PYTHONIOENCODING': 'UTF-8', 'LANG': 'C.UTF-8', 'LC_ALL': 'C.UTF-8', 'SAGEMAKER_SKLEARN_VERSION': '1.2-1', 'SAGEMAKER_TRAINING_MODULE': 'sagemaker_sklearn_container.training:main', 'SAGEMAKER_SERVING_MODULE': 'sagemaker_sklearn_container.serving:main', 'SKLEARN_MMS_CONFIG': '/home/model-server/config.properties', 'SM_INPUT': '/opt/ml/input', 'SM_INPUT_TRAINING_CONFIG_FILE': '/opt/ml/input/config/hyperparameters.json', 'SM_INPUT_DATA_CONFIG_FILE': '/opt/ml/input/config/inputdataconfig.json', 'SM_CHECKPOINT_CONFIG_FILE': '/opt/ml/input/config/checkpointconfig.json', 'SM_MODEL_DIR': '/opt/ml/model', 'TEMP': '/home/model-server/tmp', 'HOME': '/root', 'KMP_INIT_AT_FORK': 'FALSE', 'KMP_DUPLICATE_LIB_OK': 'True'})\u001b[0m\n",
      "\u001b[34mCurrent host: algo-1\u001b[0m\n",
      "\u001b[34mInput data: /opt/ml/processing/input/data\u001b[0m\n",
      "\u001b[34mInput model: /opt/ml/processing/input/model\u001b[0m\n",
      "\u001b[34mStart model import\u001b[0m\n",
      "\u001b[34mExtracting model.tar.gz\u001b[0m\n",
      "\u001b[34mListing content of model dir: /opt/ml/processing/input/model\u001b[0m\n",
      "\u001b[34mcode\u001b[0m\n",
      "\u001b[34mchurn_random_forest.joblib\u001b[0m\n",
      "\u001b[34mmodel.tar.gz\u001b[0m\n",
      "\n",
      "\u001b[34m/miniconda3/lib/python3.8/site-packages/sklearn/base.py:299: UserWarning: Trying to unpickle estimator DecisionTreeClassifier from version 1.0.2 when using version 1.2.1. This might lead to breaking code or invalid results. Use at your own risk. For more info please refer to:\u001b[0m\n",
      "\u001b[34mhttps://scikit-learn.org/stable/model_persistence.html#security-maintainability-limitations\n",
      "  warnings.warn(\u001b[0m\n",
      "\u001b[34m/miniconda3/lib/python3.8/site-packages/sklearn/base.py:299: UserWarning: Trying to unpickle estimator RandomForestClassifier from version 1.0.2 when using version 1.2.1. This might lead to breaking code or invalid results. Use at your own risk. For more info please refer to:\u001b[0m\n",
      "\u001b[34mhttps://scikit-learn.org/stable/model_persistence.html#security-maintainability-limitations\n",
      "  warnings.warn(\u001b[0m\n",
      "\u001b[34mListing contents of input data dir: /opt/ml/processing/input/data\u001b[0m\n",
      "\u001b[34mInput files: ['/opt/ml/processing/input/data/BankChurners_mon1.csv']\u001b[0m\n",
      "\u001b[34mImport input files: ['/opt/ml/processing/input/data/BankChurners_mon1.csv'] complete.\u001b[0m\n",
      "\u001b[34mGenerating predictions\u001b[0m\n",
      "\u001b[34mTraceback (most recent call last):\n",
      "  File \"/opt/ml/processing/input/code/evaluate_metrics.py\", line 225, in <module>\n",
      "    process(args)\n",
      "  File \"/opt/ml/processing/input/code/evaluate_metrics.py\", line 150, in process\n",
      "    Y_pred = predict_fn(X_test, model)\n",
      "  File \"/opt/ml/processing/input/code/evaluate_metrics.py\", line 98, in predict_fn\n",
      "    preds = model.predict(input_data)\n",
      "  File \"/miniconda3/lib/python3.8/site-packages/sklearn/ensemble/_forest.py\", line 820, in predict\n",
      "    proba = self.predict_proba(X)\n",
      "  File \"/miniconda3/lib/python3.8/site-packages/sklearn/ensemble/_forest.py\", line 862, in predict_proba\n",
      "    X = self._validate_X_predict(X)\n",
      "  File \"/miniconda3/lib/python3.8/site-packages/sklearn/ensemble/_forest.py\", line 602, in _validate_X_predict\n",
      "    X = self._validate_data(X, dtype=DTYPE, accept_sparse=\"csr\", reset=False)\n",
      "  File \"/miniconda3/lib/python3.8/site-packages/sklearn/base.py\", line 529, in _validate_data\n",
      "    self._check_feature_names(X, reset=reset)\n",
      "  File \"/miniconda3/lib/python3.8/site-packages/sklearn/base.py\", line 462, in _check_feature_names\n",
      "    raise ValueError(message)\u001b[0m\n",
      "\u001b[34mValueError: The feature names should match those that were passed during fit.\u001b[0m\n",
      "\u001b[34mFeature names unseen at fit time:\u001b[0m\n",
      "\u001b[34m- 0.073\u001b[0m\n",
      "\u001b[34m- 0.674\u001b[0m\n",
      "\u001b[34m- 0.856\u001b[0m\n",
      "\u001b[34m- 1\u001b[0m\n",
      "\u001b[34m- 1.2\u001b[0m\n",
      "\u001b[34m- ...\u001b[0m\n",
      "\u001b[34mFeature names seen at fit time, yet now missing:\u001b[0m\n",
      "\u001b[34m- 0\u001b[0m\n",
      "\u001b[34m- 0.0\u001b[0m\n",
      "\u001b[34m- 0.3\u001b[0m\n",
      "\u001b[34m- 0.562\u001b[0m\n",
      "\u001b[34m- 0.701\u001b[0m\n",
      "\u001b[34m- ...\u001b[0m\n"
     ]
    },
    {
     "ename": "UnexpectedStatusException",
     "evalue": "Error for Processing job sagemaker-scikit-learn-2024-06-13-14-51-43-046: Failed. Reason: AlgorithmError: See job logs for more information",
     "output_type": "error",
     "traceback": [
      "\u001b[0;31m---------------------------------------------------------------------------\u001b[0m",
      "\u001b[0;31mUnexpectedStatusException\u001b[0m                 Traceback (most recent call last)",
      "Cell \u001b[0;32mIn[64], line 1\u001b[0m\n\u001b[0;32m----> 1\u001b[0m \u001b[43mevaluation_processor\u001b[49m\u001b[38;5;241;43m.\u001b[39;49m\u001b[43mlatest_job\u001b[49m\u001b[38;5;241;43m.\u001b[39;49m\u001b[43mwait\u001b[49m\u001b[43m(\u001b[49m\u001b[43mlogs\u001b[49m\u001b[38;5;241;43m=\u001b[39;49m\u001b[38;5;28;43;01mTrue\u001b[39;49;00m\u001b[43m)\u001b[49m\n",
      "File \u001b[0;32m/opt/conda/lib/python3.10/site-packages/sagemaker/processing.py:1113\u001b[0m, in \u001b[0;36mProcessingJob.wait\u001b[0;34m(self, logs)\u001b[0m\n\u001b[1;32m   1106\u001b[0m \u001b[38;5;250m\u001b[39m\u001b[38;5;124;03m\"\"\"Waits for the processing job to complete.\u001b[39;00m\n\u001b[1;32m   1107\u001b[0m \n\u001b[1;32m   1108\u001b[0m \u001b[38;5;124;03mArgs:\u001b[39;00m\n\u001b[1;32m   1109\u001b[0m \u001b[38;5;124;03m    logs (bool): Whether to show the logs produced by the job (default: True).\u001b[39;00m\n\u001b[1;32m   1110\u001b[0m \n\u001b[1;32m   1111\u001b[0m \u001b[38;5;124;03m\"\"\"\u001b[39;00m\n\u001b[1;32m   1112\u001b[0m \u001b[38;5;28;01mif\u001b[39;00m logs:\n\u001b[0;32m-> 1113\u001b[0m     \u001b[38;5;28;43mself\u001b[39;49m\u001b[38;5;241;43m.\u001b[39;49m\u001b[43msagemaker_session\u001b[49m\u001b[38;5;241;43m.\u001b[39;49m\u001b[43mlogs_for_processing_job\u001b[49m\u001b[43m(\u001b[49m\u001b[38;5;28;43mself\u001b[39;49m\u001b[38;5;241;43m.\u001b[39;49m\u001b[43mjob_name\u001b[49m\u001b[43m,\u001b[49m\u001b[43m \u001b[49m\u001b[43mwait\u001b[49m\u001b[38;5;241;43m=\u001b[39;49m\u001b[38;5;28;43;01mTrue\u001b[39;49;00m\u001b[43m)\u001b[49m\n\u001b[1;32m   1114\u001b[0m \u001b[38;5;28;01melse\u001b[39;00m:\n\u001b[1;32m   1115\u001b[0m     \u001b[38;5;28mself\u001b[39m\u001b[38;5;241m.\u001b[39msagemaker_session\u001b[38;5;241m.\u001b[39mwait_for_processing_job(\u001b[38;5;28mself\u001b[39m\u001b[38;5;241m.\u001b[39mjob_name)\n",
      "File \u001b[0;32m/opt/conda/lib/python3.10/site-packages/sagemaker/session.py:5836\u001b[0m, in \u001b[0;36mSession.logs_for_processing_job\u001b[0;34m(self, job_name, wait, poll)\u001b[0m\n\u001b[1;32m   5833\u001b[0m             state \u001b[38;5;241m=\u001b[39m LogState\u001b[38;5;241m.\u001b[39mJOB_COMPLETE\n\u001b[1;32m   5835\u001b[0m \u001b[38;5;28;01mif\u001b[39;00m wait:\n\u001b[0;32m-> 5836\u001b[0m     \u001b[43m_check_job_status\u001b[49m\u001b[43m(\u001b[49m\u001b[43mjob_name\u001b[49m\u001b[43m,\u001b[49m\u001b[43m \u001b[49m\u001b[43mdescription\u001b[49m\u001b[43m,\u001b[49m\u001b[43m \u001b[49m\u001b[38;5;124;43m\"\u001b[39;49m\u001b[38;5;124;43mProcessingJobStatus\u001b[39;49m\u001b[38;5;124;43m\"\u001b[39;49m\u001b[43m)\u001b[49m\n\u001b[1;32m   5837\u001b[0m     \u001b[38;5;28;01mif\u001b[39;00m dot:\n\u001b[1;32m   5838\u001b[0m         \u001b[38;5;28mprint\u001b[39m()\n",
      "File \u001b[0;32m/opt/conda/lib/python3.10/site-packages/sagemaker/session.py:8042\u001b[0m, in \u001b[0;36m_check_job_status\u001b[0;34m(job, desc, status_key_name)\u001b[0m\n\u001b[1;32m   8036\u001b[0m \u001b[38;5;28;01mif\u001b[39;00m \u001b[38;5;124m\"\u001b[39m\u001b[38;5;124mCapacityError\u001b[39m\u001b[38;5;124m\"\u001b[39m \u001b[38;5;129;01min\u001b[39;00m \u001b[38;5;28mstr\u001b[39m(reason):\n\u001b[1;32m   8037\u001b[0m     \u001b[38;5;28;01mraise\u001b[39;00m exceptions\u001b[38;5;241m.\u001b[39mCapacityError(\n\u001b[1;32m   8038\u001b[0m         message\u001b[38;5;241m=\u001b[39mmessage,\n\u001b[1;32m   8039\u001b[0m         allowed_statuses\u001b[38;5;241m=\u001b[39m[\u001b[38;5;124m\"\u001b[39m\u001b[38;5;124mCompleted\u001b[39m\u001b[38;5;124m\"\u001b[39m, \u001b[38;5;124m\"\u001b[39m\u001b[38;5;124mStopped\u001b[39m\u001b[38;5;124m\"\u001b[39m],\n\u001b[1;32m   8040\u001b[0m         actual_status\u001b[38;5;241m=\u001b[39mstatus,\n\u001b[1;32m   8041\u001b[0m     )\n\u001b[0;32m-> 8042\u001b[0m \u001b[38;5;28;01mraise\u001b[39;00m exceptions\u001b[38;5;241m.\u001b[39mUnexpectedStatusException(\n\u001b[1;32m   8043\u001b[0m     message\u001b[38;5;241m=\u001b[39mmessage,\n\u001b[1;32m   8044\u001b[0m     allowed_statuses\u001b[38;5;241m=\u001b[39m[\u001b[38;5;124m\"\u001b[39m\u001b[38;5;124mCompleted\u001b[39m\u001b[38;5;124m\"\u001b[39m, \u001b[38;5;124m\"\u001b[39m\u001b[38;5;124mStopped\u001b[39m\u001b[38;5;124m\"\u001b[39m],\n\u001b[1;32m   8045\u001b[0m     actual_status\u001b[38;5;241m=\u001b[39mstatus,\n\u001b[1;32m   8046\u001b[0m )\n",
      "\u001b[0;31mUnexpectedStatusException\u001b[0m: Error for Processing job sagemaker-scikit-learn-2024-06-13-14-51-43-046: Failed. Reason: AlgorithmError: See job logs for more information"
     ]
    }
   ],
   "source": [
    "evaluation_processor.latest_job.wait(logs=True)\n"
   ]
  },
  {
   "cell_type": "code",
   "execution_count": 44,
   "id": "98eda857-ff9d-401b-a3d1-9d3d6a52c3b6",
   "metadata": {
    "tags": []
   },
   "outputs": [
    {
     "name": "stdout",
     "output_type": "stream",
     "text": [
      "{'AppSpecification': {'ContainerArguments': ['--input-model',\n",
      "                                             '/opt/ml/processing/input/model',\n",
      "                                             '--input-data',\n",
      "                                             '/opt/ml/processing/input/data',\n",
      "                                             '--output-data',\n",
      "                                             '/opt/ml/processing/output'],\n",
      "                      'ContainerEntrypoint': ['python3',\n",
      "                                              '/opt/ml/processing/input/code/evaluate_metrics.py'],\n",
      "                      'ImageUri': '659782779980.dkr.ecr.eu-west-3.amazonaws.com/sagemaker-scikit-learn:1.2-1-cpu-py3'},\n",
      " 'CreationTime': datetime.datetime(2024, 6, 13, 11, 6, 7, 165000, tzinfo=tzlocal()),\n",
      " 'Environment': {'AWS_DEFAULT_REGION': 'eu-west-3'},\n",
      " 'FailureReason': 'AlgorithmError: See job logs for more information',\n",
      " 'LastModifiedTime': datetime.datetime(2024, 6, 13, 11, 22, 44, 740000, tzinfo=tzlocal()),\n",
      " 'ProcessingEndTime': datetime.datetime(2024, 6, 13, 11, 22, 44, 164000, tzinfo=tzlocal()),\n",
      " 'ProcessingInputs': [{'AppManaged': False,\n",
      "                       'InputName': 'model',\n",
      "                       'S3Input': {'LocalPath': '/opt/ml/processing/input/model',\n",
      "                                   'S3CompressionType': 'None',\n",
      "                                   'S3DataDistributionType': 'FullyReplicated',\n",
      "                                   'S3DataType': 'S3Prefix',\n",
      "                                   'S3InputMode': 'File',\n",
      "                                   'S3Uri': 's3://sagemaker-eu-west-3-668303144976/sagemaker-scikit-lea-240604-1642-002-59cbda6b/output/'}},\n",
      "                      {'AppManaged': False,\n",
      "                       'InputName': 'testSubset',\n",
      "                       'S3Input': {'LocalPath': '/opt/ml/processing/input/data',\n",
      "                                   'S3CompressionType': 'None',\n",
      "                                   'S3DataDistributionType': 'FullyReplicated',\n",
      "                                   'S3DataType': 'S3Prefix',\n",
      "                                   'S3InputMode': 'File',\n",
      "                                   'S3Uri': 's3://sagemaker-eu-west-3-668303144976/sagemaker-scikit-learn-2024-03-06-21-05-51-569/output/bank-churn-test/'}},\n",
      "                      {'AppManaged': False,\n",
      "                       'InputName': 'code',\n",
      "                       'S3Input': {'LocalPath': '/opt/ml/processing/input/code',\n",
      "                                   'S3CompressionType': 'None',\n",
      "                                   'S3DataDistributionType': 'FullyReplicated',\n",
      "                                   'S3DataType': 'S3Prefix',\n",
      "                                   'S3InputMode': 'File',\n",
      "                                   'S3Uri': 's3://sagemaker-eu-west-3-668303144976/sagemaker-scikit-learn-2024-06-13-11-06-06-000/input/code/evaluate_metrics.py'}}],\n",
      " 'ProcessingJobArn': 'arn:aws:sagemaker:eu-west-3:668303144976:processing-job/sagemaker-scikit-learn-2024-06-13-11-06-06-000',\n",
      " 'ProcessingJobName': 'sagemaker-scikit-learn-2024-06-13-11-06-06-000',\n",
      " 'ProcessingJobStatus': 'Failed',\n",
      " 'ProcessingOutputConfig': {'Outputs': [{'AppManaged': False,\n",
      "                                         'OutputName': 'metrics',\n",
      "                                         'S3Output': {'LocalPath': '/opt/ml/processing/output/metrics',\n",
      "                                                      'S3UploadMode': 'EndOfJob',\n",
      "                                                      'S3Uri': 's3://sagemaker-eu-west-3-668303144976/sagemaker-scikit-learn-2024-06-13-11-06-06-000/output/metrics'}}]},\n",
      " 'ProcessingResources': {'ClusterConfig': {'InstanceCount': 1,\n",
      "                                           'InstanceType': 'ml.t3.medium',\n",
      "                                           'VolumeSizeInGB': 30}},\n",
      " 'ProcessingStartTime': datetime.datetime(2024, 6, 13, 11, 17, 36, 790000, tzinfo=tzlocal()),\n",
      " 'ResponseMetadata': {'HTTPHeaders': {'content-length': '2594',\n",
      "                                      'content-type': 'application/x-amz-json-1.1',\n",
      "                                      'date': 'Thu, 13 Jun 2024 11:25:43 GMT',\n",
      "                                      'x-amzn-requestid': 'e3cef7b5-945e-4a59-90b0-dfb03b551da7'},\n",
      "                      'HTTPStatusCode': 200,\n",
      "                      'RequestId': 'e3cef7b5-945e-4a59-90b0-dfb03b551da7',\n",
      "                      'RetryAttempts': 0},\n",
      " 'RoleArn': 'arn:aws:iam::668303144976:role/service-role/AmazonSageMaker-ExecutionRole-20231108T110667',\n",
      " 'StoppingCondition': {'MaxRuntimeInSeconds': 86400}}\n"
     ]
    }
   ],
   "source": [
    "from pprint import pprint\n",
    "\n",
    "\n",
    "pprint(evaluation_processor.latest_job.describe(), compact=True)"
   ]
  },
  {
   "cell_type": "code",
   "execution_count": null,
   "id": "4b81a86d-feb5-49f4-aa6f-c1777921c877",
   "metadata": {},
   "outputs": [],
   "source": []
  },
  {
   "cell_type": "markdown",
   "id": "aa65c815-6360-4c1b-972e-4c2837e5f8c8",
   "metadata": {},
   "source": [
    "## 2. Evaluate Model Metrics for models trained with custom script"
   ]
  },
  {
   "cell_type": "code",
   "execution_count": null,
   "id": "1f486e28-5534-4a3f-b963-b71a8f96f693",
   "metadata": {},
   "outputs": [],
   "source": []
  }
 ],
 "metadata": {
  "availableInstances": [
   {
    "_defaultOrder": 0,
    "_isFastLaunch": true,
    "category": "General purpose",
    "gpuNum": 0,
    "hideHardwareSpecs": false,
    "memoryGiB": 4,
    "name": "ml.t3.medium",
    "vcpuNum": 2
   },
   {
    "_defaultOrder": 1,
    "_isFastLaunch": false,
    "category": "General purpose",
    "gpuNum": 0,
    "hideHardwareSpecs": false,
    "memoryGiB": 8,
    "name": "ml.t3.large",
    "vcpuNum": 2
   },
   {
    "_defaultOrder": 2,
    "_isFastLaunch": false,
    "category": "General purpose",
    "gpuNum": 0,
    "hideHardwareSpecs": false,
    "memoryGiB": 16,
    "name": "ml.t3.xlarge",
    "vcpuNum": 4
   },
   {
    "_defaultOrder": 3,
    "_isFastLaunch": false,
    "category": "General purpose",
    "gpuNum": 0,
    "hideHardwareSpecs": false,
    "memoryGiB": 32,
    "name": "ml.t3.2xlarge",
    "vcpuNum": 8
   },
   {
    "_defaultOrder": 4,
    "_isFastLaunch": true,
    "category": "General purpose",
    "gpuNum": 0,
    "hideHardwareSpecs": false,
    "memoryGiB": 8,
    "name": "ml.m5.large",
    "vcpuNum": 2
   },
   {
    "_defaultOrder": 5,
    "_isFastLaunch": false,
    "category": "General purpose",
    "gpuNum": 0,
    "hideHardwareSpecs": false,
    "memoryGiB": 16,
    "name": "ml.m5.xlarge",
    "vcpuNum": 4
   },
   {
    "_defaultOrder": 6,
    "_isFastLaunch": false,
    "category": "General purpose",
    "gpuNum": 0,
    "hideHardwareSpecs": false,
    "memoryGiB": 32,
    "name": "ml.m5.2xlarge",
    "vcpuNum": 8
   },
   {
    "_defaultOrder": 7,
    "_isFastLaunch": false,
    "category": "General purpose",
    "gpuNum": 0,
    "hideHardwareSpecs": false,
    "memoryGiB": 64,
    "name": "ml.m5.4xlarge",
    "vcpuNum": 16
   },
   {
    "_defaultOrder": 8,
    "_isFastLaunch": false,
    "category": "General purpose",
    "gpuNum": 0,
    "hideHardwareSpecs": false,
    "memoryGiB": 128,
    "name": "ml.m5.8xlarge",
    "vcpuNum": 32
   },
   {
    "_defaultOrder": 9,
    "_isFastLaunch": false,
    "category": "General purpose",
    "gpuNum": 0,
    "hideHardwareSpecs": false,
    "memoryGiB": 192,
    "name": "ml.m5.12xlarge",
    "vcpuNum": 48
   },
   {
    "_defaultOrder": 10,
    "_isFastLaunch": false,
    "category": "General purpose",
    "gpuNum": 0,
    "hideHardwareSpecs": false,
    "memoryGiB": 256,
    "name": "ml.m5.16xlarge",
    "vcpuNum": 64
   },
   {
    "_defaultOrder": 11,
    "_isFastLaunch": false,
    "category": "General purpose",
    "gpuNum": 0,
    "hideHardwareSpecs": false,
    "memoryGiB": 384,
    "name": "ml.m5.24xlarge",
    "vcpuNum": 96
   },
   {
    "_defaultOrder": 12,
    "_isFastLaunch": false,
    "category": "General purpose",
    "gpuNum": 0,
    "hideHardwareSpecs": false,
    "memoryGiB": 8,
    "name": "ml.m5d.large",
    "vcpuNum": 2
   },
   {
    "_defaultOrder": 13,
    "_isFastLaunch": false,
    "category": "General purpose",
    "gpuNum": 0,
    "hideHardwareSpecs": false,
    "memoryGiB": 16,
    "name": "ml.m5d.xlarge",
    "vcpuNum": 4
   },
   {
    "_defaultOrder": 14,
    "_isFastLaunch": false,
    "category": "General purpose",
    "gpuNum": 0,
    "hideHardwareSpecs": false,
    "memoryGiB": 32,
    "name": "ml.m5d.2xlarge",
    "vcpuNum": 8
   },
   {
    "_defaultOrder": 15,
    "_isFastLaunch": false,
    "category": "General purpose",
    "gpuNum": 0,
    "hideHardwareSpecs": false,
    "memoryGiB": 64,
    "name": "ml.m5d.4xlarge",
    "vcpuNum": 16
   },
   {
    "_defaultOrder": 16,
    "_isFastLaunch": false,
    "category": "General purpose",
    "gpuNum": 0,
    "hideHardwareSpecs": false,
    "memoryGiB": 128,
    "name": "ml.m5d.8xlarge",
    "vcpuNum": 32
   },
   {
    "_defaultOrder": 17,
    "_isFastLaunch": false,
    "category": "General purpose",
    "gpuNum": 0,
    "hideHardwareSpecs": false,
    "memoryGiB": 192,
    "name": "ml.m5d.12xlarge",
    "vcpuNum": 48
   },
   {
    "_defaultOrder": 18,
    "_isFastLaunch": false,
    "category": "General purpose",
    "gpuNum": 0,
    "hideHardwareSpecs": false,
    "memoryGiB": 256,
    "name": "ml.m5d.16xlarge",
    "vcpuNum": 64
   },
   {
    "_defaultOrder": 19,
    "_isFastLaunch": false,
    "category": "General purpose",
    "gpuNum": 0,
    "hideHardwareSpecs": false,
    "memoryGiB": 384,
    "name": "ml.m5d.24xlarge",
    "vcpuNum": 96
   },
   {
    "_defaultOrder": 20,
    "_isFastLaunch": false,
    "category": "General purpose",
    "gpuNum": 0,
    "hideHardwareSpecs": true,
    "memoryGiB": 0,
    "name": "ml.geospatial.interactive",
    "supportedImageNames": [
     "sagemaker-geospatial-v1-0"
    ],
    "vcpuNum": 0
   },
   {
    "_defaultOrder": 21,
    "_isFastLaunch": true,
    "category": "Compute optimized",
    "gpuNum": 0,
    "hideHardwareSpecs": false,
    "memoryGiB": 4,
    "name": "ml.c5.large",
    "vcpuNum": 2
   },
   {
    "_defaultOrder": 22,
    "_isFastLaunch": false,
    "category": "Compute optimized",
    "gpuNum": 0,
    "hideHardwareSpecs": false,
    "memoryGiB": 8,
    "name": "ml.c5.xlarge",
    "vcpuNum": 4
   },
   {
    "_defaultOrder": 23,
    "_isFastLaunch": false,
    "category": "Compute optimized",
    "gpuNum": 0,
    "hideHardwareSpecs": false,
    "memoryGiB": 16,
    "name": "ml.c5.2xlarge",
    "vcpuNum": 8
   },
   {
    "_defaultOrder": 24,
    "_isFastLaunch": false,
    "category": "Compute optimized",
    "gpuNum": 0,
    "hideHardwareSpecs": false,
    "memoryGiB": 32,
    "name": "ml.c5.4xlarge",
    "vcpuNum": 16
   },
   {
    "_defaultOrder": 25,
    "_isFastLaunch": false,
    "category": "Compute optimized",
    "gpuNum": 0,
    "hideHardwareSpecs": false,
    "memoryGiB": 72,
    "name": "ml.c5.9xlarge",
    "vcpuNum": 36
   },
   {
    "_defaultOrder": 26,
    "_isFastLaunch": false,
    "category": "Compute optimized",
    "gpuNum": 0,
    "hideHardwareSpecs": false,
    "memoryGiB": 96,
    "name": "ml.c5.12xlarge",
    "vcpuNum": 48
   },
   {
    "_defaultOrder": 27,
    "_isFastLaunch": false,
    "category": "Compute optimized",
    "gpuNum": 0,
    "hideHardwareSpecs": false,
    "memoryGiB": 144,
    "name": "ml.c5.18xlarge",
    "vcpuNum": 72
   },
   {
    "_defaultOrder": 28,
    "_isFastLaunch": false,
    "category": "Compute optimized",
    "gpuNum": 0,
    "hideHardwareSpecs": false,
    "memoryGiB": 192,
    "name": "ml.c5.24xlarge",
    "vcpuNum": 96
   },
   {
    "_defaultOrder": 29,
    "_isFastLaunch": true,
    "category": "Accelerated computing",
    "gpuNum": 1,
    "hideHardwareSpecs": false,
    "memoryGiB": 16,
    "name": "ml.g4dn.xlarge",
    "vcpuNum": 4
   },
   {
    "_defaultOrder": 30,
    "_isFastLaunch": false,
    "category": "Accelerated computing",
    "gpuNum": 1,
    "hideHardwareSpecs": false,
    "memoryGiB": 32,
    "name": "ml.g4dn.2xlarge",
    "vcpuNum": 8
   },
   {
    "_defaultOrder": 31,
    "_isFastLaunch": false,
    "category": "Accelerated computing",
    "gpuNum": 1,
    "hideHardwareSpecs": false,
    "memoryGiB": 64,
    "name": "ml.g4dn.4xlarge",
    "vcpuNum": 16
   },
   {
    "_defaultOrder": 32,
    "_isFastLaunch": false,
    "category": "Accelerated computing",
    "gpuNum": 1,
    "hideHardwareSpecs": false,
    "memoryGiB": 128,
    "name": "ml.g4dn.8xlarge",
    "vcpuNum": 32
   },
   {
    "_defaultOrder": 33,
    "_isFastLaunch": false,
    "category": "Accelerated computing",
    "gpuNum": 4,
    "hideHardwareSpecs": false,
    "memoryGiB": 192,
    "name": "ml.g4dn.12xlarge",
    "vcpuNum": 48
   },
   {
    "_defaultOrder": 34,
    "_isFastLaunch": false,
    "category": "Accelerated computing",
    "gpuNum": 1,
    "hideHardwareSpecs": false,
    "memoryGiB": 256,
    "name": "ml.g4dn.16xlarge",
    "vcpuNum": 64
   },
   {
    "_defaultOrder": 35,
    "_isFastLaunch": false,
    "category": "Accelerated computing",
    "gpuNum": 1,
    "hideHardwareSpecs": false,
    "memoryGiB": 61,
    "name": "ml.p3.2xlarge",
    "vcpuNum": 8
   },
   {
    "_defaultOrder": 36,
    "_isFastLaunch": false,
    "category": "Accelerated computing",
    "gpuNum": 4,
    "hideHardwareSpecs": false,
    "memoryGiB": 244,
    "name": "ml.p3.8xlarge",
    "vcpuNum": 32
   },
   {
    "_defaultOrder": 37,
    "_isFastLaunch": false,
    "category": "Accelerated computing",
    "gpuNum": 8,
    "hideHardwareSpecs": false,
    "memoryGiB": 488,
    "name": "ml.p3.16xlarge",
    "vcpuNum": 64
   },
   {
    "_defaultOrder": 38,
    "_isFastLaunch": false,
    "category": "Accelerated computing",
    "gpuNum": 8,
    "hideHardwareSpecs": false,
    "memoryGiB": 768,
    "name": "ml.p3dn.24xlarge",
    "vcpuNum": 96
   },
   {
    "_defaultOrder": 39,
    "_isFastLaunch": false,
    "category": "Memory Optimized",
    "gpuNum": 0,
    "hideHardwareSpecs": false,
    "memoryGiB": 16,
    "name": "ml.r5.large",
    "vcpuNum": 2
   },
   {
    "_defaultOrder": 40,
    "_isFastLaunch": false,
    "category": "Memory Optimized",
    "gpuNum": 0,
    "hideHardwareSpecs": false,
    "memoryGiB": 32,
    "name": "ml.r5.xlarge",
    "vcpuNum": 4
   },
   {
    "_defaultOrder": 41,
    "_isFastLaunch": false,
    "category": "Memory Optimized",
    "gpuNum": 0,
    "hideHardwareSpecs": false,
    "memoryGiB": 64,
    "name": "ml.r5.2xlarge",
    "vcpuNum": 8
   },
   {
    "_defaultOrder": 42,
    "_isFastLaunch": false,
    "category": "Memory Optimized",
    "gpuNum": 0,
    "hideHardwareSpecs": false,
    "memoryGiB": 128,
    "name": "ml.r5.4xlarge",
    "vcpuNum": 16
   },
   {
    "_defaultOrder": 43,
    "_isFastLaunch": false,
    "category": "Memory Optimized",
    "gpuNum": 0,
    "hideHardwareSpecs": false,
    "memoryGiB": 256,
    "name": "ml.r5.8xlarge",
    "vcpuNum": 32
   },
   {
    "_defaultOrder": 44,
    "_isFastLaunch": false,
    "category": "Memory Optimized",
    "gpuNum": 0,
    "hideHardwareSpecs": false,
    "memoryGiB": 384,
    "name": "ml.r5.12xlarge",
    "vcpuNum": 48
   },
   {
    "_defaultOrder": 45,
    "_isFastLaunch": false,
    "category": "Memory Optimized",
    "gpuNum": 0,
    "hideHardwareSpecs": false,
    "memoryGiB": 512,
    "name": "ml.r5.16xlarge",
    "vcpuNum": 64
   },
   {
    "_defaultOrder": 46,
    "_isFastLaunch": false,
    "category": "Memory Optimized",
    "gpuNum": 0,
    "hideHardwareSpecs": false,
    "memoryGiB": 768,
    "name": "ml.r5.24xlarge",
    "vcpuNum": 96
   },
   {
    "_defaultOrder": 47,
    "_isFastLaunch": false,
    "category": "Accelerated computing",
    "gpuNum": 1,
    "hideHardwareSpecs": false,
    "memoryGiB": 16,
    "name": "ml.g5.xlarge",
    "vcpuNum": 4
   },
   {
    "_defaultOrder": 48,
    "_isFastLaunch": false,
    "category": "Accelerated computing",
    "gpuNum": 1,
    "hideHardwareSpecs": false,
    "memoryGiB": 32,
    "name": "ml.g5.2xlarge",
    "vcpuNum": 8
   },
   {
    "_defaultOrder": 49,
    "_isFastLaunch": false,
    "category": "Accelerated computing",
    "gpuNum": 1,
    "hideHardwareSpecs": false,
    "memoryGiB": 64,
    "name": "ml.g5.4xlarge",
    "vcpuNum": 16
   },
   {
    "_defaultOrder": 50,
    "_isFastLaunch": false,
    "category": "Accelerated computing",
    "gpuNum": 1,
    "hideHardwareSpecs": false,
    "memoryGiB": 128,
    "name": "ml.g5.8xlarge",
    "vcpuNum": 32
   },
   {
    "_defaultOrder": 51,
    "_isFastLaunch": false,
    "category": "Accelerated computing",
    "gpuNum": 1,
    "hideHardwareSpecs": false,
    "memoryGiB": 256,
    "name": "ml.g5.16xlarge",
    "vcpuNum": 64
   },
   {
    "_defaultOrder": 52,
    "_isFastLaunch": false,
    "category": "Accelerated computing",
    "gpuNum": 4,
    "hideHardwareSpecs": false,
    "memoryGiB": 192,
    "name": "ml.g5.12xlarge",
    "vcpuNum": 48
   },
   {
    "_defaultOrder": 53,
    "_isFastLaunch": false,
    "category": "Accelerated computing",
    "gpuNum": 4,
    "hideHardwareSpecs": false,
    "memoryGiB": 384,
    "name": "ml.g5.24xlarge",
    "vcpuNum": 96
   },
   {
    "_defaultOrder": 54,
    "_isFastLaunch": false,
    "category": "Accelerated computing",
    "gpuNum": 8,
    "hideHardwareSpecs": false,
    "memoryGiB": 768,
    "name": "ml.g5.48xlarge",
    "vcpuNum": 192
   },
   {
    "_defaultOrder": 55,
    "_isFastLaunch": false,
    "category": "Accelerated computing",
    "gpuNum": 8,
    "hideHardwareSpecs": false,
    "memoryGiB": 1152,
    "name": "ml.p4d.24xlarge",
    "vcpuNum": 96
   },
   {
    "_defaultOrder": 56,
    "_isFastLaunch": false,
    "category": "Accelerated computing",
    "gpuNum": 8,
    "hideHardwareSpecs": false,
    "memoryGiB": 1152,
    "name": "ml.p4de.24xlarge",
    "vcpuNum": 96
   },
   {
    "_defaultOrder": 57,
    "_isFastLaunch": false,
    "category": "Accelerated computing",
    "gpuNum": 0,
    "hideHardwareSpecs": false,
    "memoryGiB": 32,
    "name": "ml.trn1.2xlarge",
    "vcpuNum": 8
   },
   {
    "_defaultOrder": 58,
    "_isFastLaunch": false,
    "category": "Accelerated computing",
    "gpuNum": 0,
    "hideHardwareSpecs": false,
    "memoryGiB": 512,
    "name": "ml.trn1.32xlarge",
    "vcpuNum": 128
   },
   {
    "_defaultOrder": 59,
    "_isFastLaunch": false,
    "category": "Accelerated computing",
    "gpuNum": 0,
    "hideHardwareSpecs": false,
    "memoryGiB": 512,
    "name": "ml.trn1n.32xlarge",
    "vcpuNum": 128
   }
  ],
  "instance_type": "ml.t3.medium",
  "kernelspec": {
   "display_name": "Python 3 (Data Science 3.0)",
   "language": "python",
   "name": "python3__SAGEMAKER_INTERNAL__arn:aws:sagemaker:eu-west-3:615547856133:image/sagemaker-data-science-310-v1"
  },
  "language_info": {
   "codemirror_mode": {
    "name": "ipython",
    "version": 3
   },
   "file_extension": ".py",
   "mimetype": "text/x-python",
   "name": "python",
   "nbconvert_exporter": "python",
   "pygments_lexer": "ipython3",
   "version": "3.10.6"
  }
 },
 "nbformat": 4,
 "nbformat_minor": 5
}
