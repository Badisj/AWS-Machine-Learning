{
 "cells": [
  {
   "cell_type": "markdown",
   "id": "e1626bb3-fe7a-44f0-8aeb-a8f50e933ee0",
   "metadata": {},
   "source": [
    "# Model Evaluation & Artifacts Generation\n",
    "## Evaluate model metrics & Create artiacts for trained models  "
   ]
  },
  {
   "cell_type": "code",
   "execution_count": 2,
   "id": "79c0fb21-5385-4d32-a133-8016ed134648",
   "metadata": {
    "tags": []
   },
   "outputs": [
    {
     "name": "stdout",
     "output_type": "stream",
     "text": [
      "sagemaker.config INFO - Not applying SDK defaults from location: /etc/xdg/sagemaker/config.yaml\n",
      "sagemaker.config INFO - Not applying SDK defaults from location: /root/.config/sagemaker/config.yaml\n"
     ]
    }
   ],
   "source": [
    "import os\n",
    "import sagemaker\n",
    "import logging\n",
    "import boto3\n",
    "import time\n",
    "import pandas as pd\n",
    "import json\n",
    "import botocore\n",
    "from botocore.exceptions import ClientError\n",
    "\n",
    "\n",
    "# ========================== low-level service client of the boto3 session ==========================\n",
    "config = botocore.config.Config(user_agent_extra='bedissj-1699438736259')\n",
    "\n",
    "\n",
    "sm = boto3.client(service_name='sagemaker', \n",
    "                  config=config)\n",
    "\n",
    "sm_runtime = boto3.client('sagemaker-runtime',\n",
    "                          config=config)\n",
    "\n",
    "sess = sagemaker.Session(sagemaker_client=sm,\n",
    "                         sagemaker_runtime_client=sm_runtime)\n",
    "\n",
    "bucket = sess.default_bucket()\n",
    "role = sagemaker.get_execution_role()\n",
    "region = sess.boto_region_name\n"
   ]
  },
  {
   "cell_type": "markdown",
   "id": "ddde4099-dbc4-449d-b592-436810968ef4",
   "metadata": {},
   "source": [
    "## 1. Evaluate & Register custom `SKLearn` Models\n",
    "\n",
    "![Model_evaluation](./img/aws_model_evaluation.png)\n",
    "\n",
    "\n",
    "### 1.1 Configure model evaluation as a SageMaker Processing Job"
   ]
  },
  {
   "cell_type": "markdown",
   "id": "acd40b2c-6fdb-4f80-88ae-d7af494c17bd",
   "metadata": {},
   "source": [
    "#### 1.1.1 Configure Processing Parameters"
   ]
  },
  {
   "cell_type": "code",
   "execution_count": 3,
   "id": "19adb1a1-ff5a-4e32-ae5a-1995be7e2c53",
   "metadata": {
    "tags": []
   },
   "outputs": [],
   "source": [
    "# ========================== Processing parameters ==========================\n",
    "FRAMEWORK_VERSION = '1.2-1'\n",
    "instance_type = 'ml.t3.medium'\n",
    "instance_count = 1\n",
    "\n",
    "model_s3_uri = 's3://{}/sagemaker-scikit-lea-240604-1642-002-59cbda6b/output/'.format(bucket)\n",
    "test_data_s3_uri = 's3://{}/sagemaker-scikit-learn-2024-03-06-21-05-51-569/output/bank-churn-test/'.format(bucket)\n"
   ]
  },
  {
   "cell_type": "markdown",
   "id": "97f25357-ae5d-40d1-845b-aa09ea02afba",
   "metadata": {},
   "source": [
    "#### 1.1.2 Configure Pocessing Inputs & Outputs"
   ]
  },
  {
   "cell_type": "code",
   "execution_count": 4,
   "id": "588166fc-4e3d-42d2-a8d1-17aa15bff9d1",
   "metadata": {
    "tags": []
   },
   "outputs": [],
   "source": [
    "from sagemaker.processing import ProcessingInput, ProcessingOutput\n",
    "\n",
    "\n",
    "input_model = '/opt/ml/processing/input/model'\n",
    "input_data = '/opt/ml/processing/input/data'\n",
    "output_data = '/opt/ml/processing/output'\n",
    "\n",
    "\n",
    "# ========================== Processing inputs ==========================\n",
    "processing_inputs = [\n",
    "    #### Trained model ####\n",
    "    ProcessingInput(input_name= 'model',\n",
    "                    source=model_s3_uri,\n",
    "                    destination=input_model),\n",
    "    \n",
    "    #### Test subset ####\n",
    "    ProcessingInput(input_name='testSubset',\n",
    "                    source=test_data_s3_uri,\n",
    "                    destination=input_data)\n",
    "]\n",
    "\n",
    "\n",
    "# ========================== Processing outputs ==========================\n",
    "processing_outputs = [\n",
    "    ProcessingOutput(output_name='metrics',\n",
    "                     source=output_data,\n",
    "                     s3_upload_mode='EndOfJob')\n",
    "\n",
    "]\n",
    "\n",
    "\n",
    "# ========================== Processing arguments ==========================\n",
    "processing_args=[\n",
    "    '--input-model', str(input_model),\n",
    "    '--input-data', str(input_data),\n",
    "    '--output-data', str(output_data)\n",
    "]\n"
   ]
  },
  {
   "cell_type": "markdown",
   "id": "ecfd47b3-33d8-4877-b22d-8e3bea253c57",
   "metadata": {},
   "source": [
    "#### 1.1.3 Instanciate `SKLearn` Processor"
   ]
  },
  {
   "cell_type": "code",
   "execution_count": 5,
   "id": "e3894e52-15a5-4110-8950-8cfd19f048d0",
   "metadata": {
    "tags": []
   },
   "outputs": [],
   "source": [
    "from sagemaker.sklearn.processing import SKLearnProcessor\n",
    "\n",
    "\n",
    "evaluation_processor = SKLearnProcessor(\n",
    "    framework_version=FRAMEWORK_VERSION,\n",
    "    instance_type=instance_type,\n",
    "    instance_count=instance_count,\n",
    "    env={'AWS_DEFAULT_REGION': region},\n",
    "    role=role,\n",
    ")\n"
   ]
  },
  {
   "cell_type": "markdown",
   "id": "5c47aa1b-4962-494a-a000-0ae9b860d21c",
   "metadata": {},
   "source": [
    "#### 1.1.4 Run processor to perform model evaluation"
   ]
  },
  {
   "cell_type": "code",
   "execution_count": 6,
   "id": "4e84345b-d13e-473c-af62-408e79312812",
   "metadata": {},
   "outputs": [
    {
     "name": "stderr",
     "output_type": "stream",
     "text": [
      "INFO:sagemaker:Creating processing-job with name sagemaker-scikit-learn-2024-06-20-08-01-15-372\n"
     ]
    }
   ],
   "source": [
    "evaluation_processor.run(\n",
    "    code='src/evaluate_metrics.py',\n",
    "    inputs=processing_inputs,\n",
    "    outputs=processing_outputs,\n",
    "    arguments=processing_args,\n",
    "    wait=False\n",
    ")\n"
   ]
  },
  {
   "cell_type": "markdown",
   "id": "d8fa7087-ec37-4eef-a1ca-d80b4d427993",
   "metadata": {},
   "source": [
    "#### 1.1.5 Review Processing Job"
   ]
  },
  {
   "cell_type": "code",
   "execution_count": 15,
   "id": "98eda857-ff9d-401b-a3d1-9d3d6a52c3b6",
   "metadata": {
    "tags": []
   },
   "outputs": [
    {
     "name": "stdout",
     "output_type": "stream",
     "text": [
      "{'AppSpecification': {'ContainerArguments': ['--input-model',\n",
      "                                             '/opt/ml/processing/input/model',\n",
      "                                             '--input-data',\n",
      "                                             '/opt/ml/processing/input/data',\n",
      "                                             '--output-data',\n",
      "                                             '/opt/ml/processing/output'],\n",
      "                      'ContainerEntrypoint': ['python3',\n",
      "                                              '/opt/ml/processing/input/code/evaluate_metrics.py'],\n",
      "                      'ImageUri': '659782779980.dkr.ecr.eu-west-3.amazonaws.com/sagemaker-scikit-learn:1.2-1-cpu-py3'},\n",
      " 'CreationTime': datetime.datetime(2024, 6, 20, 8, 1, 15, 805000, tzinfo=tzlocal()),\n",
      " 'Environment': {'AWS_DEFAULT_REGION': 'eu-west-3'},\n",
      " 'LastModifiedTime': datetime.datetime(2024, 6, 20, 8, 17, 30, 820000, tzinfo=tzlocal()),\n",
      " 'ProcessingEndTime': datetime.datetime(2024, 6, 20, 8, 17, 30, 437000, tzinfo=tzlocal()),\n",
      " 'ProcessingInputs': [{'AppManaged': False,\n",
      "                       'InputName': 'model',\n",
      "                       'S3Input': {'LocalPath': '/opt/ml/processing/input/model',\n",
      "                                   'S3CompressionType': 'None',\n",
      "                                   'S3DataDistributionType': 'FullyReplicated',\n",
      "                                   'S3DataType': 'S3Prefix',\n",
      "                                   'S3InputMode': 'File',\n",
      "                                   'S3Uri': 's3://sagemaker-eu-west-3-668303144976/sagemaker-scikit-lea-240604-1642-002-59cbda6b/output/'}},\n",
      "                      {'AppManaged': False,\n",
      "                       'InputName': 'testSubset',\n",
      "                       'S3Input': {'LocalPath': '/opt/ml/processing/input/data',\n",
      "                                   'S3CompressionType': 'None',\n",
      "                                   'S3DataDistributionType': 'FullyReplicated',\n",
      "                                   'S3DataType': 'S3Prefix',\n",
      "                                   'S3InputMode': 'File',\n",
      "                                   'S3Uri': 's3://sagemaker-eu-west-3-668303144976/sagemaker-scikit-learn-2024-03-06-21-05-51-569/output/bank-churn-test/'}},\n",
      "                      {'AppManaged': False,\n",
      "                       'InputName': 'code',\n",
      "                       'S3Input': {'LocalPath': '/opt/ml/processing/input/code',\n",
      "                                   'S3CompressionType': 'None',\n",
      "                                   'S3DataDistributionType': 'FullyReplicated',\n",
      "                                   'S3DataType': 'S3Prefix',\n",
      "                                   'S3InputMode': 'File',\n",
      "                                   'S3Uri': 's3://sagemaker-eu-west-3-668303144976/sagemaker-scikit-learn-2024-06-20-08-01-15-372/input/code/evaluate_metrics.py'}}],\n",
      " 'ProcessingJobArn': 'arn:aws:sagemaker:eu-west-3:668303144976:processing-job/sagemaker-scikit-learn-2024-06-20-08-01-15-372',\n",
      " 'ProcessingJobName': 'sagemaker-scikit-learn-2024-06-20-08-01-15-372',\n",
      " 'ProcessingJobStatus': 'Completed',\n",
      " 'ProcessingOutputConfig': {'Outputs': [{'AppManaged': False,\n",
      "                                         'OutputName': 'metrics',\n",
      "                                         'S3Output': {'LocalPath': '/opt/ml/processing/output',\n",
      "                                                      'S3UploadMode': 'EndOfJob',\n",
      "                                                      'S3Uri': 's3://sagemaker-eu-west-3-668303144976/sagemaker-scikit-learn-2024-06-20-08-01-15-372/output/metrics'}}]},\n",
      " 'ProcessingResources': {'ClusterConfig': {'InstanceCount': 1,\n",
      "                                           'InstanceType': 'ml.t3.medium',\n",
      "                                           'VolumeSizeInGB': 30}},\n",
      " 'ProcessingStartTime': datetime.datetime(2024, 6, 20, 8, 12, 7, 412000, tzinfo=tzlocal()),\n",
      " 'ResponseMetadata': {'HTTPHeaders': {'content-length': '2522',\n",
      "                                      'content-type': 'application/x-amz-json-1.1',\n",
      "                                      'date': 'Thu, 20 Jun 2024 08:19:02 GMT',\n",
      "                                      'x-amzn-requestid': '5270da2a-02e9-4713-ad9f-e9e56a0fa136'},\n",
      "                      'HTTPStatusCode': 200,\n",
      "                      'RequestId': '5270da2a-02e9-4713-ad9f-e9e56a0fa136',\n",
      "                      'RetryAttempts': 0},\n",
      " 'RoleArn': 'arn:aws:iam::668303144976:role/service-role/AmazonSageMaker-ExecutionRole-20231108T110667',\n",
      " 'StoppingCondition': {'MaxRuntimeInSeconds': 86400}}\n"
     ]
    }
   ],
   "source": [
    "from pprint import pprint\n",
    "\n",
    "\n",
    "pprint(evaluation_processor.latest_job.describe(), compact=True)"
   ]
  },
  {
   "cell_type": "markdown",
   "id": "3617f99d-b501-44a0-a83d-87ce77d14950",
   "metadata": {},
   "source": [
    "#### 1.1.6 Review model metrics"
   ]
  },
  {
   "cell_type": "code",
   "execution_count": 16,
   "id": "457ee3d6-fae3-4b95-91c3-5f5213c2b18a",
   "metadata": {
    "tags": []
   },
   "outputs": [
    {
     "name": "stdout",
     "output_type": "stream",
     "text": [
      "s3://sagemaker-eu-west-3-668303144976/sagemaker-scikit-learn-2024-06-20-08-01-15-372/output/metrics/confusion_roc_auc.png\n",
      "s3://sagemaker-eu-west-3-668303144976/sagemaker-scikit-learn-2024-06-20-08-01-15-372/output/metrics/evaluation.json\n"
     ]
    }
   ],
   "source": [
    "fig_name = 'confusion_roc_auc.png'\n",
    "dic_name = 'evaluation.json'\n",
    "\n",
    "\n",
    "metrics_s3_uri = evaluation_processor.latest_job.outputs[0].destination\n",
    "metrics_jpg_s3_uri = os.path.join(metrics_s3_uri, fig_name)\n",
    "metrics_dic_s3_uri = os.path.join(metrics_s3_uri, dic_name)\n",
    "\n",
    "\n",
    "print(metrics_jpg_s3_uri)\n",
    "print(metrics_dic_s3_uri)"
   ]
  },
  {
   "cell_type": "code",
   "execution_count": 20,
   "id": "643580aa-662e-43f3-a912-99b1595a7da2",
   "metadata": {
    "tags": []
   },
   "outputs": [
    {
     "name": "stdout",
     "output_type": "stream",
     "text": [
      "download: s3://sagemaker-eu-west-3-668303144976/sagemaker-scikit-learn-2024-06-20-08-01-15-372/output/metrics/metrics/confusion_roc_auc.png to metrics/confusion.jpg\n"
     ]
    }
   ],
   "source": [
    "!aws s3 cp 's3://sagemaker-eu-west-3-668303144976/sagemaker-scikit-learn-2024-06-20-08-01-15-372/output/metrics/metrics/confusion_roc_auc.png' './metrics/confusion.jpg'"
   ]
  },
  {
   "cell_type": "code",
   "execution_count": 21,
   "id": "ea8d39fb-0f5e-4a0f-b9dd-20ab5760a82c",
   "metadata": {
    "tags": []
   },
   "outputs": [
    {
     "name": "stdout",
     "output_type": "stream",
     "text": [
      "download: s3://sagemaker-eu-west-3-668303144976/sagemaker-scikit-learn-2024-06-20-08-01-15-372/output/metrics/metrics/confusion_roc_auc.png to metrics/eval.json\n"
     ]
    }
   ],
   "source": [
    "!aws s3 cp 's3://sagemaker-eu-west-3-668303144976/sagemaker-scikit-learn-2024-06-20-08-01-15-372/output/metrics/metrics/confusion_roc_auc.png' './metrics/eval.json'"
   ]
  },
  {
   "cell_type": "markdown",
   "id": "ddbf15d9-3e3c-4013-9faf-5d43a0894095",
   "metadata": {
    "tags": []
   },
   "source": [
    "![Model_evaluation](./metrics/confusion.jpg)\n"
   ]
  },
  {
   "cell_type": "code",
   "execution_count": null,
   "id": "ee81d2e9-d5d2-493f-90a8-293ee00bc508",
   "metadata": {},
   "outputs": [
    {
     "name": "stdout",
     "output_type": "stream",
     "text": [
      "{'metrics': {'accuracy': {'value': 1.0}, 'f1_score': {'value': 1.0}}}\n"
     ]
    }
   ],
   "source": [
    "from pprint import pprint\n",
    "\n",
    "dic_corrected_s3_uri = \"s3://sagemaker-eu-west-3-668303144976/sagemaker-scikit-learn-2024-06-20-08-01-15-372/output/metrics/metrics/evaluation.json\"\n",
    "evaluation_json = sagemaker.s3.S3Downloader.read_file(dic_corrected_s3_uri)\n",
    "\n",
    "\n",
    "pprint(json.loads(evaluation_json))"
   ]
  },
  {
   "cell_type": "markdown",
   "id": "fb0d2a1e-851d-47f3-9089-e5ec854a3ea9",
   "metadata": {},
   "source": [
    "### 1.2 Register model to prepare for inference"
   ]
  },
  {
   "cell_type": "markdown",
   "id": "f9b79da9-b9a4-4a4e-93ca-b31d880e197e",
   "metadata": {},
   "source": [
    "![Model_evaluation](./img/aws_model_hosting.png)\n"
   ]
  },
  {
   "cell_type": "code",
   "execution_count": 112,
   "id": "d4ea8303-989f-4da5-bc53-e70b4f2f7d5e",
   "metadata": {
    "tags": []
   },
   "outputs": [],
   "source": [
    "from sagemaker.workflow.parameters import ParameterString, ParameterInteger\n",
    "\n",
    "\n",
    "model_approval_status = ParameterString(\n",
    "    name='ApprovalStatus',\n",
    "    default_value='PendingManualApproval'\n",
    ")\n",
    "\n",
    "\n",
    "deploy_instance_type = ParameterString(\n",
    "    name='DeployInstanceType',\n",
    "    default_value='ml.m5.large'\n",
    ")\n",
    "\n",
    "\n",
    "deploy_instance_count = ParameterInteger(\n",
    "    name='DeployInstanceCount',\n",
    "    default_value=1\n",
    ")\n"
   ]
  },
  {
   "cell_type": "code",
   "execution_count": 113,
   "id": "487b81a5-f894-46da-b62b-3e90321b4d18",
   "metadata": {
    "tags": []
   },
   "outputs": [
    {
     "name": "stdout",
     "output_type": "stream",
     "text": [
      "Bank-Churn-prediction-1718877096\n"
     ]
    }
   ],
   "source": [
    "import time\n",
    " \n",
    "    \n",
    "model_package_group_name = f'Bank-Churn-prediction-{int(time.time())}'\n",
    "print(model_package_group_name)\n"
   ]
  },
  {
   "cell_type": "code",
   "execution_count": 114,
   "id": "2dd68780-7101-4c36-b57b-b32be65aac9a",
   "metadata": {
    "tags": []
   },
   "outputs": [
    {
     "name": "stdout",
     "output_type": "stream",
     "text": [
      "<sagemaker.model_metrics.MetricsSource object at 0x7f44c1fcfd90>\n"
     ]
    }
   ],
   "source": [
    "from sagemaker.model_metrics import ModelMetrics, MetricsSource\n",
    "\n",
    "\n",
    "model_metrics = ModelMetrics(\n",
    "    model_statistics=MetricsSource(\n",
    "        s3_uri=\"s3://sagemaker-eu-west-3-668303144976/sagemaker-scikit-learn-2024-06-20-08-01-15-372/output/metrics/metrics/evaluation.json\",\n",
    "        content_type=\"text/csv\"\n",
    "    )\n",
    ")\n",
    "\n",
    "\n",
    "print(model_metrics.model_statistics)"
   ]
  },
  {
   "cell_type": "code",
   "execution_count": 115,
   "id": "4b81a86d-feb5-49f4-aa6f-c1777921c877",
   "metadata": {},
   "outputs": [],
   "source": [
    "from sagemaker.sklearn.model import SKLearnModel\n",
    "\n",
    "\n",
    "PY_VERSION= 'py3'\n",
    "\n",
    "sklearn_model = SKLearnModel(\n",
    "    entry_point='src/inference.py',\n",
    "    model_data=model_s3_uri+'model.tar.gz',\n",
    "    framework_version=FRAMEWORK_VERSION,\n",
    "    py_version=PY_VERSION,\n",
    "    role=role,  \n",
    ") "
   ]
  },
  {
   "cell_type": "code",
   "execution_count": 116,
   "id": "3e6ceaa5-2bfd-4378-a096-629595126509",
   "metadata": {},
   "outputs": [
    {
     "name": "stderr",
     "output_type": "stream",
     "text": [
      "INFO:sagemaker.image_uris:Defaulting to only supported image scope: cpu.\n"
     ]
    },
    {
     "data": {
      "text/plain": [
       "<sagemaker.model.ModelPackage at 0x7f44c1fcfd60>"
      ]
     },
     "execution_count": 116,
     "metadata": {},
     "output_type": "execute_result"
    }
   ],
   "source": [
    "sklearn_model.register(\n",
    "    content_types=[\"text/csv\"],\n",
    "    response_types=[\"text/csv\"],\n",
    "    #inference_instances=[deploy_instance_type],\n",
    "    #transform_instances=[deploy_instance_type],\n",
    "    model_package_group_name=model_package_group_name,\n",
    "    model_metrics=model_metrics,\n",
    "    #approval_status=model_approval_status\n",
    ")"
   ]
  },
  {
   "cell_type": "markdown",
   "id": "43c5b939-edc9-4cba-a79b-e460624957dc",
   "metadata": {},
   "source": [
    "### 1.3 Create endpoint to perform inference"
   ]
  },
  {
   "cell_type": "code",
   "execution_count": 117,
   "id": "c02dc7cc-7694-444d-9264-3f2ef21cf4ed",
   "metadata": {},
   "outputs": [
    {
     "name": "stderr",
     "output_type": "stream",
     "text": [
      "INFO:sagemaker:Creating model with name: sagemaker-scikit-learn-2024-06-20-09-53-00-399\n"
     ]
    }
   ],
   "source": [
    "sklearn_model.create(\n",
    "    instance_type=instance_type\n",
    ")\n"
   ]
  },
  {
   "cell_type": "code",
   "execution_count": null,
   "id": "3bc27100-f9fe-4c60-a41f-969a8c519fa6",
   "metadata": {
    "tags": []
   },
   "outputs": [
    {
     "name": "stderr",
     "output_type": "stream",
     "text": [
      "INFO:sagemaker:Creating model with name: sagemaker-scikit-learn-2024-06-20-10-13-02-301\n",
      "INFO:sagemaker:Creating endpoint-config with name sagemaker-scikit-learn-2024-06-20-10-13-03-362\n",
      "INFO:sagemaker:Creating endpoint with name sagemaker-scikit-learn-2024-06-20-10-13-03-362\n"
     ]
    },
    {
     "name": "stdout",
     "output_type": "stream",
     "text": [
      "--------------------"
     ]
    }
   ],
   "source": [
    "sklearn_model.deploy(\n",
    "    initial_instance_count=instance_count,\n",
    "    instance_type='ml.m5.large'\n",
    ")\n"
   ]
  },
  {
   "cell_type": "markdown",
   "id": "d64cbb39-50ab-4df4-815f-611ff276db8b",
   "metadata": {},
   "source": [
    "### Cleanup resources\n",
    "___"
   ]
  },
  {
   "cell_type": "code",
   "execution_count": null,
   "id": "e8a32b49-1c37-4369-8450-d1ca0dcfbeb8",
   "metadata": {},
   "outputs": [],
   "source": []
  }
 ],
 "metadata": {
  "availableInstances": [
   {
    "_defaultOrder": 0,
    "_isFastLaunch": true,
    "category": "General purpose",
    "gpuNum": 0,
    "hideHardwareSpecs": false,
    "memoryGiB": 4,
    "name": "ml.t3.medium",
    "vcpuNum": 2
   },
   {
    "_defaultOrder": 1,
    "_isFastLaunch": false,
    "category": "General purpose",
    "gpuNum": 0,
    "hideHardwareSpecs": false,
    "memoryGiB": 8,
    "name": "ml.t3.large",
    "vcpuNum": 2
   },
   {
    "_defaultOrder": 2,
    "_isFastLaunch": false,
    "category": "General purpose",
    "gpuNum": 0,
    "hideHardwareSpecs": false,
    "memoryGiB": 16,
    "name": "ml.t3.xlarge",
    "vcpuNum": 4
   },
   {
    "_defaultOrder": 3,
    "_isFastLaunch": false,
    "category": "General purpose",
    "gpuNum": 0,
    "hideHardwareSpecs": false,
    "memoryGiB": 32,
    "name": "ml.t3.2xlarge",
    "vcpuNum": 8
   },
   {
    "_defaultOrder": 4,
    "_isFastLaunch": true,
    "category": "General purpose",
    "gpuNum": 0,
    "hideHardwareSpecs": false,
    "memoryGiB": 8,
    "name": "ml.m5.large",
    "vcpuNum": 2
   },
   {
    "_defaultOrder": 5,
    "_isFastLaunch": false,
    "category": "General purpose",
    "gpuNum": 0,
    "hideHardwareSpecs": false,
    "memoryGiB": 16,
    "name": "ml.m5.xlarge",
    "vcpuNum": 4
   },
   {
    "_defaultOrder": 6,
    "_isFastLaunch": false,
    "category": "General purpose",
    "gpuNum": 0,
    "hideHardwareSpecs": false,
    "memoryGiB": 32,
    "name": "ml.m5.2xlarge",
    "vcpuNum": 8
   },
   {
    "_defaultOrder": 7,
    "_isFastLaunch": false,
    "category": "General purpose",
    "gpuNum": 0,
    "hideHardwareSpecs": false,
    "memoryGiB": 64,
    "name": "ml.m5.4xlarge",
    "vcpuNum": 16
   },
   {
    "_defaultOrder": 8,
    "_isFastLaunch": false,
    "category": "General purpose",
    "gpuNum": 0,
    "hideHardwareSpecs": false,
    "memoryGiB": 128,
    "name": "ml.m5.8xlarge",
    "vcpuNum": 32
   },
   {
    "_defaultOrder": 9,
    "_isFastLaunch": false,
    "category": "General purpose",
    "gpuNum": 0,
    "hideHardwareSpecs": false,
    "memoryGiB": 192,
    "name": "ml.m5.12xlarge",
    "vcpuNum": 48
   },
   {
    "_defaultOrder": 10,
    "_isFastLaunch": false,
    "category": "General purpose",
    "gpuNum": 0,
    "hideHardwareSpecs": false,
    "memoryGiB": 256,
    "name": "ml.m5.16xlarge",
    "vcpuNum": 64
   },
   {
    "_defaultOrder": 11,
    "_isFastLaunch": false,
    "category": "General purpose",
    "gpuNum": 0,
    "hideHardwareSpecs": false,
    "memoryGiB": 384,
    "name": "ml.m5.24xlarge",
    "vcpuNum": 96
   },
   {
    "_defaultOrder": 12,
    "_isFastLaunch": false,
    "category": "General purpose",
    "gpuNum": 0,
    "hideHardwareSpecs": false,
    "memoryGiB": 8,
    "name": "ml.m5d.large",
    "vcpuNum": 2
   },
   {
    "_defaultOrder": 13,
    "_isFastLaunch": false,
    "category": "General purpose",
    "gpuNum": 0,
    "hideHardwareSpecs": false,
    "memoryGiB": 16,
    "name": "ml.m5d.xlarge",
    "vcpuNum": 4
   },
   {
    "_defaultOrder": 14,
    "_isFastLaunch": false,
    "category": "General purpose",
    "gpuNum": 0,
    "hideHardwareSpecs": false,
    "memoryGiB": 32,
    "name": "ml.m5d.2xlarge",
    "vcpuNum": 8
   },
   {
    "_defaultOrder": 15,
    "_isFastLaunch": false,
    "category": "General purpose",
    "gpuNum": 0,
    "hideHardwareSpecs": false,
    "memoryGiB": 64,
    "name": "ml.m5d.4xlarge",
    "vcpuNum": 16
   },
   {
    "_defaultOrder": 16,
    "_isFastLaunch": false,
    "category": "General purpose",
    "gpuNum": 0,
    "hideHardwareSpecs": false,
    "memoryGiB": 128,
    "name": "ml.m5d.8xlarge",
    "vcpuNum": 32
   },
   {
    "_defaultOrder": 17,
    "_isFastLaunch": false,
    "category": "General purpose",
    "gpuNum": 0,
    "hideHardwareSpecs": false,
    "memoryGiB": 192,
    "name": "ml.m5d.12xlarge",
    "vcpuNum": 48
   },
   {
    "_defaultOrder": 18,
    "_isFastLaunch": false,
    "category": "General purpose",
    "gpuNum": 0,
    "hideHardwareSpecs": false,
    "memoryGiB": 256,
    "name": "ml.m5d.16xlarge",
    "vcpuNum": 64
   },
   {
    "_defaultOrder": 19,
    "_isFastLaunch": false,
    "category": "General purpose",
    "gpuNum": 0,
    "hideHardwareSpecs": false,
    "memoryGiB": 384,
    "name": "ml.m5d.24xlarge",
    "vcpuNum": 96
   },
   {
    "_defaultOrder": 20,
    "_isFastLaunch": false,
    "category": "General purpose",
    "gpuNum": 0,
    "hideHardwareSpecs": true,
    "memoryGiB": 0,
    "name": "ml.geospatial.interactive",
    "supportedImageNames": [
     "sagemaker-geospatial-v1-0"
    ],
    "vcpuNum": 0
   },
   {
    "_defaultOrder": 21,
    "_isFastLaunch": true,
    "category": "Compute optimized",
    "gpuNum": 0,
    "hideHardwareSpecs": false,
    "memoryGiB": 4,
    "name": "ml.c5.large",
    "vcpuNum": 2
   },
   {
    "_defaultOrder": 22,
    "_isFastLaunch": false,
    "category": "Compute optimized",
    "gpuNum": 0,
    "hideHardwareSpecs": false,
    "memoryGiB": 8,
    "name": "ml.c5.xlarge",
    "vcpuNum": 4
   },
   {
    "_defaultOrder": 23,
    "_isFastLaunch": false,
    "category": "Compute optimized",
    "gpuNum": 0,
    "hideHardwareSpecs": false,
    "memoryGiB": 16,
    "name": "ml.c5.2xlarge",
    "vcpuNum": 8
   },
   {
    "_defaultOrder": 24,
    "_isFastLaunch": false,
    "category": "Compute optimized",
    "gpuNum": 0,
    "hideHardwareSpecs": false,
    "memoryGiB": 32,
    "name": "ml.c5.4xlarge",
    "vcpuNum": 16
   },
   {
    "_defaultOrder": 25,
    "_isFastLaunch": false,
    "category": "Compute optimized",
    "gpuNum": 0,
    "hideHardwareSpecs": false,
    "memoryGiB": 72,
    "name": "ml.c5.9xlarge",
    "vcpuNum": 36
   },
   {
    "_defaultOrder": 26,
    "_isFastLaunch": false,
    "category": "Compute optimized",
    "gpuNum": 0,
    "hideHardwareSpecs": false,
    "memoryGiB": 96,
    "name": "ml.c5.12xlarge",
    "vcpuNum": 48
   },
   {
    "_defaultOrder": 27,
    "_isFastLaunch": false,
    "category": "Compute optimized",
    "gpuNum": 0,
    "hideHardwareSpecs": false,
    "memoryGiB": 144,
    "name": "ml.c5.18xlarge",
    "vcpuNum": 72
   },
   {
    "_defaultOrder": 28,
    "_isFastLaunch": false,
    "category": "Compute optimized",
    "gpuNum": 0,
    "hideHardwareSpecs": false,
    "memoryGiB": 192,
    "name": "ml.c5.24xlarge",
    "vcpuNum": 96
   },
   {
    "_defaultOrder": 29,
    "_isFastLaunch": true,
    "category": "Accelerated computing",
    "gpuNum": 1,
    "hideHardwareSpecs": false,
    "memoryGiB": 16,
    "name": "ml.g4dn.xlarge",
    "vcpuNum": 4
   },
   {
    "_defaultOrder": 30,
    "_isFastLaunch": false,
    "category": "Accelerated computing",
    "gpuNum": 1,
    "hideHardwareSpecs": false,
    "memoryGiB": 32,
    "name": "ml.g4dn.2xlarge",
    "vcpuNum": 8
   },
   {
    "_defaultOrder": 31,
    "_isFastLaunch": false,
    "category": "Accelerated computing",
    "gpuNum": 1,
    "hideHardwareSpecs": false,
    "memoryGiB": 64,
    "name": "ml.g4dn.4xlarge",
    "vcpuNum": 16
   },
   {
    "_defaultOrder": 32,
    "_isFastLaunch": false,
    "category": "Accelerated computing",
    "gpuNum": 1,
    "hideHardwareSpecs": false,
    "memoryGiB": 128,
    "name": "ml.g4dn.8xlarge",
    "vcpuNum": 32
   },
   {
    "_defaultOrder": 33,
    "_isFastLaunch": false,
    "category": "Accelerated computing",
    "gpuNum": 4,
    "hideHardwareSpecs": false,
    "memoryGiB": 192,
    "name": "ml.g4dn.12xlarge",
    "vcpuNum": 48
   },
   {
    "_defaultOrder": 34,
    "_isFastLaunch": false,
    "category": "Accelerated computing",
    "gpuNum": 1,
    "hideHardwareSpecs": false,
    "memoryGiB": 256,
    "name": "ml.g4dn.16xlarge",
    "vcpuNum": 64
   },
   {
    "_defaultOrder": 35,
    "_isFastLaunch": false,
    "category": "Accelerated computing",
    "gpuNum": 1,
    "hideHardwareSpecs": false,
    "memoryGiB": 61,
    "name": "ml.p3.2xlarge",
    "vcpuNum": 8
   },
   {
    "_defaultOrder": 36,
    "_isFastLaunch": false,
    "category": "Accelerated computing",
    "gpuNum": 4,
    "hideHardwareSpecs": false,
    "memoryGiB": 244,
    "name": "ml.p3.8xlarge",
    "vcpuNum": 32
   },
   {
    "_defaultOrder": 37,
    "_isFastLaunch": false,
    "category": "Accelerated computing",
    "gpuNum": 8,
    "hideHardwareSpecs": false,
    "memoryGiB": 488,
    "name": "ml.p3.16xlarge",
    "vcpuNum": 64
   },
   {
    "_defaultOrder": 38,
    "_isFastLaunch": false,
    "category": "Accelerated computing",
    "gpuNum": 8,
    "hideHardwareSpecs": false,
    "memoryGiB": 768,
    "name": "ml.p3dn.24xlarge",
    "vcpuNum": 96
   },
   {
    "_defaultOrder": 39,
    "_isFastLaunch": false,
    "category": "Memory Optimized",
    "gpuNum": 0,
    "hideHardwareSpecs": false,
    "memoryGiB": 16,
    "name": "ml.r5.large",
    "vcpuNum": 2
   },
   {
    "_defaultOrder": 40,
    "_isFastLaunch": false,
    "category": "Memory Optimized",
    "gpuNum": 0,
    "hideHardwareSpecs": false,
    "memoryGiB": 32,
    "name": "ml.r5.xlarge",
    "vcpuNum": 4
   },
   {
    "_defaultOrder": 41,
    "_isFastLaunch": false,
    "category": "Memory Optimized",
    "gpuNum": 0,
    "hideHardwareSpecs": false,
    "memoryGiB": 64,
    "name": "ml.r5.2xlarge",
    "vcpuNum": 8
   },
   {
    "_defaultOrder": 42,
    "_isFastLaunch": false,
    "category": "Memory Optimized",
    "gpuNum": 0,
    "hideHardwareSpecs": false,
    "memoryGiB": 128,
    "name": "ml.r5.4xlarge",
    "vcpuNum": 16
   },
   {
    "_defaultOrder": 43,
    "_isFastLaunch": false,
    "category": "Memory Optimized",
    "gpuNum": 0,
    "hideHardwareSpecs": false,
    "memoryGiB": 256,
    "name": "ml.r5.8xlarge",
    "vcpuNum": 32
   },
   {
    "_defaultOrder": 44,
    "_isFastLaunch": false,
    "category": "Memory Optimized",
    "gpuNum": 0,
    "hideHardwareSpecs": false,
    "memoryGiB": 384,
    "name": "ml.r5.12xlarge",
    "vcpuNum": 48
   },
   {
    "_defaultOrder": 45,
    "_isFastLaunch": false,
    "category": "Memory Optimized",
    "gpuNum": 0,
    "hideHardwareSpecs": false,
    "memoryGiB": 512,
    "name": "ml.r5.16xlarge",
    "vcpuNum": 64
   },
   {
    "_defaultOrder": 46,
    "_isFastLaunch": false,
    "category": "Memory Optimized",
    "gpuNum": 0,
    "hideHardwareSpecs": false,
    "memoryGiB": 768,
    "name": "ml.r5.24xlarge",
    "vcpuNum": 96
   },
   {
    "_defaultOrder": 47,
    "_isFastLaunch": false,
    "category": "Accelerated computing",
    "gpuNum": 1,
    "hideHardwareSpecs": false,
    "memoryGiB": 16,
    "name": "ml.g5.xlarge",
    "vcpuNum": 4
   },
   {
    "_defaultOrder": 48,
    "_isFastLaunch": false,
    "category": "Accelerated computing",
    "gpuNum": 1,
    "hideHardwareSpecs": false,
    "memoryGiB": 32,
    "name": "ml.g5.2xlarge",
    "vcpuNum": 8
   },
   {
    "_defaultOrder": 49,
    "_isFastLaunch": false,
    "category": "Accelerated computing",
    "gpuNum": 1,
    "hideHardwareSpecs": false,
    "memoryGiB": 64,
    "name": "ml.g5.4xlarge",
    "vcpuNum": 16
   },
   {
    "_defaultOrder": 50,
    "_isFastLaunch": false,
    "category": "Accelerated computing",
    "gpuNum": 1,
    "hideHardwareSpecs": false,
    "memoryGiB": 128,
    "name": "ml.g5.8xlarge",
    "vcpuNum": 32
   },
   {
    "_defaultOrder": 51,
    "_isFastLaunch": false,
    "category": "Accelerated computing",
    "gpuNum": 1,
    "hideHardwareSpecs": false,
    "memoryGiB": 256,
    "name": "ml.g5.16xlarge",
    "vcpuNum": 64
   },
   {
    "_defaultOrder": 52,
    "_isFastLaunch": false,
    "category": "Accelerated computing",
    "gpuNum": 4,
    "hideHardwareSpecs": false,
    "memoryGiB": 192,
    "name": "ml.g5.12xlarge",
    "vcpuNum": 48
   },
   {
    "_defaultOrder": 53,
    "_isFastLaunch": false,
    "category": "Accelerated computing",
    "gpuNum": 4,
    "hideHardwareSpecs": false,
    "memoryGiB": 384,
    "name": "ml.g5.24xlarge",
    "vcpuNum": 96
   },
   {
    "_defaultOrder": 54,
    "_isFastLaunch": false,
    "category": "Accelerated computing",
    "gpuNum": 8,
    "hideHardwareSpecs": false,
    "memoryGiB": 768,
    "name": "ml.g5.48xlarge",
    "vcpuNum": 192
   },
   {
    "_defaultOrder": 55,
    "_isFastLaunch": false,
    "category": "Accelerated computing",
    "gpuNum": 8,
    "hideHardwareSpecs": false,
    "memoryGiB": 1152,
    "name": "ml.p4d.24xlarge",
    "vcpuNum": 96
   },
   {
    "_defaultOrder": 56,
    "_isFastLaunch": false,
    "category": "Accelerated computing",
    "gpuNum": 8,
    "hideHardwareSpecs": false,
    "memoryGiB": 1152,
    "name": "ml.p4de.24xlarge",
    "vcpuNum": 96
   },
   {
    "_defaultOrder": 57,
    "_isFastLaunch": false,
    "category": "Accelerated computing",
    "gpuNum": 0,
    "hideHardwareSpecs": false,
    "memoryGiB": 32,
    "name": "ml.trn1.2xlarge",
    "vcpuNum": 8
   },
   {
    "_defaultOrder": 58,
    "_isFastLaunch": false,
    "category": "Accelerated computing",
    "gpuNum": 0,
    "hideHardwareSpecs": false,
    "memoryGiB": 512,
    "name": "ml.trn1.32xlarge",
    "vcpuNum": 128
   },
   {
    "_defaultOrder": 59,
    "_isFastLaunch": false,
    "category": "Accelerated computing",
    "gpuNum": 0,
    "hideHardwareSpecs": false,
    "memoryGiB": 512,
    "name": "ml.trn1n.32xlarge",
    "vcpuNum": 128
   }
  ],
  "instance_type": "ml.t3.medium",
  "kernelspec": {
   "display_name": "Python 3 (Data Science 3.0)",
   "language": "python",
   "name": "python3__SAGEMAKER_INTERNAL__arn:aws:sagemaker:eu-west-3:615547856133:image/sagemaker-data-science-310-v1"
  },
  "language_info": {
   "codemirror_mode": {
    "name": "ipython",
    "version": 3
   },
   "file_extension": ".py",
   "mimetype": "text/x-python",
   "name": "python",
   "nbconvert_exporter": "python",
   "pygments_lexer": "ipython3",
   "version": "3.10.6"
  }
 },
 "nbformat": 4,
 "nbformat_minor": 5
}
